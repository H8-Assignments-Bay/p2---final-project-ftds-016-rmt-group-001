{
 "cells": [
  {
   "cell_type": "markdown",
   "metadata": {},
   "source": [
    "# Import Libraries"
   ]
  },
  {
   "cell_type": "code",
   "execution_count": 1,
   "metadata": {},
   "outputs": [],
   "source": [
    "import pandas as pd \n",
    "import numpy as np"
   ]
  },
  {
   "cell_type": "markdown",
   "metadata": {},
   "source": [
    "# Import Dataset"
   ]
  },
  {
   "cell_type": "code",
   "execution_count": 2,
   "metadata": {},
   "outputs": [
    {
     "data": {
      "text/html": [
       "<div>\n",
       "<style scoped>\n",
       "    .dataframe tbody tr th:only-of-type {\n",
       "        vertical-align: middle;\n",
       "    }\n",
       "\n",
       "    .dataframe tbody tr th {\n",
       "        vertical-align: top;\n",
       "    }\n",
       "\n",
       "    .dataframe thead th {\n",
       "        text-align: right;\n",
       "    }\n",
       "</style>\n",
       "<table border=\"1\" class=\"dataframe\">\n",
       "  <thead>\n",
       "    <tr style=\"text-align: right;\">\n",
       "      <th></th>\n",
       "      <th>date</th>\n",
       "      <th>comment</th>\n",
       "      <th>symbol</th>\n",
       "    </tr>\n",
       "  </thead>\n",
       "  <tbody>\n",
       "    <tr>\n",
       "      <th>0</th>\n",
       "      <td>16 Dec 22, 11:10</td>\n",
       "      <td>Penyampaian Bukti Iklan Hasil RUPS [FISH]</td>\n",
       "      <td>FISH</td>\n",
       "    </tr>\n",
       "    <tr>\n",
       "      <th>1</th>\n",
       "      <td>16 Dec 22, 09:40</td>\n",
       "      <td>Perubahan Pengurus [FISH]</td>\n",
       "      <td>FISH</td>\n",
       "    </tr>\n",
       "    <tr>\n",
       "      <th>2</th>\n",
       "      <td>16 Dec 22, 09:20</td>\n",
       "      <td>Ringkasan Risalah Rapat Umum Para Pemegang Sah...</td>\n",
       "      <td>FISH</td>\n",
       "    </tr>\n",
       "    <tr>\n",
       "      <th>3</th>\n",
       "      <td>16 Dec 22, 08:26</td>\n",
       "      <td>FKS Multi Agro (FISH) Raih Pinjaman Rp250 Mili...</td>\n",
       "      <td>FISH</td>\n",
       "    </tr>\n",
       "    <tr>\n",
       "      <th>4</th>\n",
       "      <td>16 Dec 22, 08:25</td>\n",
       "      <td>PT FKS Multi Agro Tbk (FISH) Raih Pinjaman Rp2...</td>\n",
       "      <td>FISH</td>\n",
       "    </tr>\n",
       "    <tr>\n",
       "      <th>...</th>\n",
       "      <td>...</td>\n",
       "      <td>...</td>\n",
       "      <td>...</td>\n",
       "    </tr>\n",
       "    <tr>\n",
       "      <th>1115</th>\n",
       "      <td>11 Aug 22, 18:12 · Edited on 11 Aug 22, 18:25</td>\n",
       "      <td>Belajar melihat ROE secara mendalam\\n\\n\\nKetik...</td>\n",
       "      <td>KEJU</td>\n",
       "    </tr>\n",
       "    <tr>\n",
       "      <th>1116</th>\n",
       "      <td>9 Aug 22, 23:12</td>\n",
       "      <td>$MYOR $AMRT $UNVR $HMSP $KEJU\\n\\nhttps://cutt....</td>\n",
       "      <td>KEJU</td>\n",
       "    </tr>\n",
       "    <tr>\n",
       "      <th>1117</th>\n",
       "      <td>4 Aug 22, 12:00</td>\n",
       "      <td>Laporan Bulanan Registrasi Pemegang Efek [KEJU]</td>\n",
       "      <td>KEJU</td>\n",
       "    </tr>\n",
       "    <tr>\n",
       "      <th>1118</th>\n",
       "      <td>1 Aug 22, 12:56</td>\n",
       "      <td>Gerak Cepat! Emiten Produsen Prochiz (KEJU) Se...</td>\n",
       "      <td>KEJU</td>\n",
       "    </tr>\n",
       "    <tr>\n",
       "      <th>1119</th>\n",
       "      <td>29 Jul 22, 16:55</td>\n",
       "      <td>$KEJU pada Q2 2022 membukukan Laba Bersih Rp 4...</td>\n",
       "      <td>KEJU</td>\n",
       "    </tr>\n",
       "  </tbody>\n",
       "</table>\n",
       "<p>1120 rows × 3 columns</p>\n",
       "</div>"
      ],
      "text/plain": [
       "                                               date  \\\n",
       "0                                  16 Dec 22, 11:10   \n",
       "1                                  16 Dec 22, 09:40   \n",
       "2                                  16 Dec 22, 09:20   \n",
       "3                                  16 Dec 22, 08:26   \n",
       "4                                  16 Dec 22, 08:25   \n",
       "...                                             ...   \n",
       "1115  11 Aug 22, 18:12 · Edited on 11 Aug 22, 18:25   \n",
       "1116                                9 Aug 22, 23:12   \n",
       "1117                                4 Aug 22, 12:00   \n",
       "1118                                1 Aug 22, 12:56   \n",
       "1119                               29 Jul 22, 16:55   \n",
       "\n",
       "                                                comment symbol  \n",
       "0             Penyampaian Bukti Iklan Hasil RUPS [FISH]   FISH  \n",
       "1                             Perubahan Pengurus [FISH]   FISH  \n",
       "2     Ringkasan Risalah Rapat Umum Para Pemegang Sah...   FISH  \n",
       "3     FKS Multi Agro (FISH) Raih Pinjaman Rp250 Mili...   FISH  \n",
       "4     PT FKS Multi Agro Tbk (FISH) Raih Pinjaman Rp2...   FISH  \n",
       "...                                                 ...    ...  \n",
       "1115  Belajar melihat ROE secara mendalam\\n\\n\\nKetik...   KEJU  \n",
       "1116  $MYOR $AMRT $UNVR $HMSP $KEJU\\n\\nhttps://cutt....   KEJU  \n",
       "1117    Laporan Bulanan Registrasi Pemegang Efek [KEJU]   KEJU  \n",
       "1118  Gerak Cepat! Emiten Produsen Prochiz (KEJU) Se...   KEJU  \n",
       "1119  $KEJU pada Q2 2022 membukukan Laba Bersih Rp 4...   KEJU  \n",
       "\n",
       "[1120 rows x 3 columns]"
      ]
     },
     "execution_count": 2,
     "metadata": {},
     "output_type": "execute_result"
    }
   ],
   "source": [
    "# import dataset\n",
    "df = pd.read_csv('/Users/husaintsabit/Downloads/Labelling_husain/scrapping-husain-revisi.csv')\n",
    "df"
   ]
  },
  {
   "cell_type": "markdown",
   "metadata": {},
   "source": [
    "# Membuat kolom baru"
   ]
  },
  {
   "cell_type": "code",
   "execution_count": 11,
   "metadata": {},
   "outputs": [],
   "source": [
    "df['label_1'] = 'NaN'\n",
    "df['label_2'] = 'NaN'"
   ]
  },
  {
   "cell_type": "markdown",
   "metadata": {},
   "source": [
    "# Membuat fungsi untuk mencari komen dan mengganti label pada index tertentu"
   ]
  },
  {
   "cell_type": "code",
   "execution_count": 40,
   "metadata": {},
   "outputs": [],
   "source": [
    "# fungsi untuk melihat komen dan symbol tertentu\n",
    "def get_comment(index):\n",
    "    print(df['symbol'][index])\n",
    "    print(df['comment'][index])"
   ]
  },
  {
   "cell_type": "code",
   "execution_count": 41,
   "metadata": {},
   "outputs": [],
   "source": [
    "# membuat fungsi untuk mengganti nilai label_1 dan label_2 berdasarkan index tertentu\n",
    "def set_label(index : int, label_1 : int, label_2: int):\n",
    "    df['label_1'][index] = label_1\n",
    "    df['label_2'][index] = label_2"
   ]
  },
  {
   "cell_type": "markdown",
   "metadata": {},
   "source": [
    "# melihat isi komen pada index tertentu"
   ]
  },
  {
   "cell_type": "markdown",
   "metadata": {},
   "source": [
    "yang menjadi pemisah komen yang satu dengan komen yang lain yaitu symbol, pada kasus ini symbol terdiri dari (FISH, PSGO, JARR, DLTA, MGRO, ANJT, BWPT, KEJU)"
   ]
  },
  {
   "cell_type": "code",
   "execution_count": 76,
   "metadata": {},
   "outputs": [
    {
     "name": "stdout",
     "output_type": "stream",
     "text": [
      "JARR\n",
      "Proud of you my bro @juliusFang !\n",
      "Member of VOLABILITY family !\n",
      "\n",
      "Keep it up !\n",
      "Terus lah mengedukasi para investor retail di Indonesia !\n",
      "\n",
      "Buat yg berdomisili di Sumatera Utara yuk join !\n",
      "\n",
      "Random tag :\n",
      "JARR\n",
      "$JARR toloooong hooo hooo\n",
      "JARR\n",
      "$JARR compounding loss 😎\n",
      "JARR\n",
      "$JARR\n",
      "JARR\n",
      "@natan88 kurang $JARR yang belum cuan, bantu bosku ☺️😊\n"
     ]
    }
   ],
   "source": [
    "get_comment(96)\n",
    "get_comment(97)\n",
    "get_comment(98)\n",
    "get_comment(99)\n",
    "get_comment(100)"
   ]
  },
  {
   "cell_type": "markdown",
   "metadata": {},
   "source": [
    "# Mengisi label sesuai dengan index tertentu"
   ]
  },
  {
   "cell_type": "markdown",
   "metadata": {},
   "source": [
    "Panduan pengisian value pada label.\n",
    "\n",
    "label_1 : 0 = netral, 1 = negatif, 2 = positif\n",
    "\n",
    "label_2 : 0 = not spam, 1 = spam"
   ]
  },
  {
   "cell_type": "code",
   "execution_count": 77,
   "metadata": {},
   "outputs": [],
   "source": [
    "set_label(96, 2, 0)\n",
    "set_label(97, 0, 1)\n",
    "set_label(98, 1, 0)\n",
    "set_label(99, 0, 1)\n",
    "set_label(100, 0, 0)"
   ]
  },
  {
   "cell_type": "code",
   "execution_count": 81,
   "metadata": {},
   "outputs": [
    {
     "data": {
      "text/html": [
       "<div>\n",
       "<style scoped>\n",
       "    .dataframe tbody tr th:only-of-type {\n",
       "        vertical-align: middle;\n",
       "    }\n",
       "\n",
       "    .dataframe tbody tr th {\n",
       "        vertical-align: top;\n",
       "    }\n",
       "\n",
       "    .dataframe thead th {\n",
       "        text-align: right;\n",
       "    }\n",
       "</style>\n",
       "<table border=\"1\" class=\"dataframe\">\n",
       "  <thead>\n",
       "    <tr style=\"text-align: right;\">\n",
       "      <th></th>\n",
       "      <th>date</th>\n",
       "      <th>comment</th>\n",
       "      <th>symbol</th>\n",
       "      <th>label_1</th>\n",
       "      <th>label_2</th>\n",
       "    </tr>\n",
       "  </thead>\n",
       "  <tbody>\n",
       "    <tr>\n",
       "      <th>0</th>\n",
       "      <td>16 Dec 22, 11:10</td>\n",
       "      <td>Penyampaian Bukti Iklan Hasil RUPS [FISH]</td>\n",
       "      <td>FISH</td>\n",
       "      <td>0</td>\n",
       "      <td>0</td>\n",
       "    </tr>\n",
       "    <tr>\n",
       "      <th>1</th>\n",
       "      <td>16 Dec 22, 09:40</td>\n",
       "      <td>Perubahan Pengurus [FISH]</td>\n",
       "      <td>FISH</td>\n",
       "      <td>0</td>\n",
       "      <td>0</td>\n",
       "    </tr>\n",
       "    <tr>\n",
       "      <th>2</th>\n",
       "      <td>16 Dec 22, 09:20</td>\n",
       "      <td>Ringkasan Risalah Rapat Umum Para Pemegang Sah...</td>\n",
       "      <td>FISH</td>\n",
       "      <td>0</td>\n",
       "      <td>0</td>\n",
       "    </tr>\n",
       "    <tr>\n",
       "      <th>3</th>\n",
       "      <td>16 Dec 22, 08:26</td>\n",
       "      <td>FKS Multi Agro (FISH) Raih Pinjaman Rp250 Mili...</td>\n",
       "      <td>FISH</td>\n",
       "      <td>2</td>\n",
       "      <td>0</td>\n",
       "    </tr>\n",
       "    <tr>\n",
       "      <th>4</th>\n",
       "      <td>16 Dec 22, 08:25</td>\n",
       "      <td>PT FKS Multi Agro Tbk (FISH) Raih Pinjaman Rp2...</td>\n",
       "      <td>FISH</td>\n",
       "      <td>2</td>\n",
       "      <td>0</td>\n",
       "    </tr>\n",
       "    <tr>\n",
       "      <th>...</th>\n",
       "      <td>...</td>\n",
       "      <td>...</td>\n",
       "      <td>...</td>\n",
       "      <td>...</td>\n",
       "      <td>...</td>\n",
       "    </tr>\n",
       "    <tr>\n",
       "      <th>95</th>\n",
       "      <td>12 Dec 22, 08:22</td>\n",
       "      <td>$JARR\\nPlan lengkap ada di channel telegram, K...</td>\n",
       "      <td>JARR</td>\n",
       "      <td>0</td>\n",
       "      <td>1</td>\n",
       "    </tr>\n",
       "    <tr>\n",
       "      <th>96</th>\n",
       "      <td>10 Dec 22, 10:11</td>\n",
       "      <td>Proud of you my bro @juliusFang !\\nMember of V...</td>\n",
       "      <td>JARR</td>\n",
       "      <td>2</td>\n",
       "      <td>0</td>\n",
       "    </tr>\n",
       "    <tr>\n",
       "      <th>97</th>\n",
       "      <td>9 Dec 22, 14:22</td>\n",
       "      <td>$JARR toloooong hooo hooo</td>\n",
       "      <td>JARR</td>\n",
       "      <td>0</td>\n",
       "      <td>1</td>\n",
       "    </tr>\n",
       "    <tr>\n",
       "      <th>98</th>\n",
       "      <td>8 Dec 22, 09:34</td>\n",
       "      <td>$JARR compounding loss 😎</td>\n",
       "      <td>JARR</td>\n",
       "      <td>1</td>\n",
       "      <td>0</td>\n",
       "    </tr>\n",
       "    <tr>\n",
       "      <th>99</th>\n",
       "      <td>7 Dec 22, 14:40</td>\n",
       "      <td>$JARR</td>\n",
       "      <td>JARR</td>\n",
       "      <td>0</td>\n",
       "      <td>1</td>\n",
       "    </tr>\n",
       "  </tbody>\n",
       "</table>\n",
       "<p>100 rows × 5 columns</p>\n",
       "</div>"
      ],
      "text/plain": [
       "                date                                            comment  \\\n",
       "0   16 Dec 22, 11:10          Penyampaian Bukti Iklan Hasil RUPS [FISH]   \n",
       "1   16 Dec 22, 09:40                          Perubahan Pengurus [FISH]   \n",
       "2   16 Dec 22, 09:20  Ringkasan Risalah Rapat Umum Para Pemegang Sah...   \n",
       "3   16 Dec 22, 08:26  FKS Multi Agro (FISH) Raih Pinjaman Rp250 Mili...   \n",
       "4   16 Dec 22, 08:25  PT FKS Multi Agro Tbk (FISH) Raih Pinjaman Rp2...   \n",
       "..               ...                                                ...   \n",
       "95  12 Dec 22, 08:22  $JARR\\nPlan lengkap ada di channel telegram, K...   \n",
       "96  10 Dec 22, 10:11  Proud of you my bro @juliusFang !\\nMember of V...   \n",
       "97   9 Dec 22, 14:22                          $JARR toloooong hooo hooo   \n",
       "98   8 Dec 22, 09:34                           $JARR compounding loss 😎   \n",
       "99   7 Dec 22, 14:40                                              $JARR   \n",
       "\n",
       "   symbol label_1 label_2  \n",
       "0    FISH       0       0  \n",
       "1    FISH       0       0  \n",
       "2    FISH       0       0  \n",
       "3    FISH       2       0  \n",
       "4    FISH       2       0  \n",
       "..    ...     ...     ...  \n",
       "95   JARR       0       1  \n",
       "96   JARR       2       0  \n",
       "97   JARR       0       1  \n",
       "98   JARR       1       0  \n",
       "99   JARR       0       1  \n",
       "\n",
       "[100 rows x 5 columns]"
      ]
     },
     "execution_count": 81,
     "metadata": {},
     "output_type": "execute_result"
    }
   ],
   "source": [
    "# melihat 100 data pertama\n",
    "df.head(100)\n"
   ]
  },
  {
   "cell_type": "code",
   "execution_count": 88,
   "metadata": {},
   "outputs": [],
   "source": [
    "# menyimpan file ke csv\n",
    "df.to_csv('labelling_husain.csv', index=False)"
   ]
  }
 ],
 "metadata": {
  "kernelspec": {
   "display_name": "Python 3.9.12 ('base')",
   "language": "python",
   "name": "python3"
  },
  "language_info": {
   "codemirror_mode": {
    "name": "ipython",
    "version": 3
   },
   "file_extension": ".py",
   "mimetype": "text/x-python",
   "name": "python",
   "nbconvert_exporter": "python",
   "pygments_lexer": "ipython3",
   "version": "3.9.12"
  },
  "orig_nbformat": 4,
  "vscode": {
   "interpreter": {
    "hash": "e733dfd83c943d3553de3aabf23e4a47006afbfee4707785878c890690392882"
   }
  }
 },
 "nbformat": 4,
 "nbformat_minor": 2
}
