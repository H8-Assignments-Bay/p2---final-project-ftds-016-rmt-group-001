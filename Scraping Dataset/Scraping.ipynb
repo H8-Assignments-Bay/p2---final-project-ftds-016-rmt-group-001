{
 "cells": [
  {
   "cell_type": "code",
   "execution_count": 1,
   "metadata": {},
   "outputs": [],
   "source": [
    "import pandas as pd\n",
    "from random import randint"
   ]
  },
  {
   "cell_type": "code",
   "execution_count": 2,
   "metadata": {},
   "outputs": [
    {
     "name": "stderr",
     "output_type": "stream",
     "text": [
      "C:\\Users\\Intel\\AppData\\Local\\Temp\\ipykernel_19244\\3871533204.py:3: DeprecationWarning: executable_path has been deprecated, please pass in a Service object\n",
      "  driver = webdriver.Chrome(ChromeDriverManager().install())\n"
     ]
    }
   ],
   "source": [
    "from selenium import webdriver\n",
    "from webdriver_manager.chrome import ChromeDriverManager\n",
    "driver = webdriver.Chrome(ChromeDriverManager().install())"
   ]
  },
  {
   "cell_type": "code",
   "execution_count": 5,
   "metadata": {},
   "outputs": [
    {
     "name": "stdout",
     "output_type": "stream",
     "text": [
      "symbol PANI date_elements 1161 dates 1160 comment_elements 1181 comments 1160 \n",
      "symbol JPFA date_elements 341 dates 340 comment_elements 341 comments 340 \n",
      "symbol AALI date_elements 401 dates 400 comment_elements 401 comments 400 \n",
      "symbol ULTJ date_elements 501 dates 500 comment_elements 521 comments 500 \n",
      "symbol FAPA date_elements 21 dates 20 comment_elements 21 comments 20 \n",
      "symbol SMAR date_elements 81 dates 80 comment_elements 81 comments 80 \n",
      "symbol SSMS date_elements 221 dates 220 comment_elements 241 comments 220 \n"
     ]
    }
   ],
   "source": [
    "from selenium.webdriver.common.by import By\n",
    "from dateutil import parser\n",
    "\n",
    "symbols = ['PANI', 'JPFA', 'AALI', 'ULTJ', 'FAPA', 'SMAR', 'SSMS']\n",
    "\n",
    "from time import sleep\n",
    "\n",
    "df = pd.DataFrame()\n",
    "\n",
    "for symbol in symbols:\n",
    "    driver.get(f\"https://stockbit.com/symbol/{symbol}\")\n",
    "    \n",
    "    # Handdle: IndexError: list index out of range\n",
    "    while True:\n",
    "        date_elements = driver.find_elements(by=By.XPATH, value=\"//div[@class='stream-date']\")\n",
    "        \n",
    "        # Handle: IndexError: list index out of range\n",
    "        if len(date_elements) != 0:\n",
    "            break\n",
    "\n",
    "    while True:\n",
    "        # date_elements[-2] Handle: StaleElementReferenceException or ''\n",
    "        # .text[:16] Handle: ParserError: Unknown string format: 14 Dec 22, 19:42 · Edited on 14 Dec 22, 21:29\n",
    "        if parser.parse(date_elements[-2].text[:16]) >= parser.parse(\"1 Oct 22\"):\n",
    "            driver.execute_script(\"window.scrollBy(0,document.body.scrollHeight)\", \"\")\n",
    "            date_elements = driver.find_elements(by=By.XPATH, value=\"//div[@class='stream-date']\")\n",
    "        else:\n",
    "            break\n",
    "    \n",
    "    # value='stream-text-single' Handle: prevent Repost to be included in the comment_elements    \n",
    "    comment_elements = driver.find_elements(by=By.CLASS_NAME, value=\"stream-text-single\")\n",
    "    \n",
    "    dates = list()\n",
    "    comments = list()\n",
    "    \n",
    "    for index, (date_element, comment_element) in enumerate(zip(date_elements, comment_elements)):\n",
    "        # print(date_element.text, comment_element.text, \"\\n\")\n",
    "        \n",
    "        # Handle: StaleElementReferenceException or ''\n",
    "        if index == len(date_elements) - 1:\n",
    "            break\n",
    "        \n",
    "        dates.append(date_element.text)\n",
    "        comments.append(comment_element.text)\n",
    "        \n",
    "    print(f'symbol {symbol} '\n",
    "          f'date_elements {len(date_elements)} dates {len(dates)} '\n",
    "          f'comment_elements {len(comment_elements)} comments {len(comments)} ')\n",
    "    \n",
    "    df_c = pd.DataFrame()\n",
    "    df_c['date'] = dates\n",
    "    df_c['comment'] = comments\n",
    "    df_c['symbol'] = symbol\n",
    "    \n",
    "    df = pd.concat([df, df_c])\n",
    "    \n",
    "    sleep(randint(5,10))"
   ]
  },
  {
   "cell_type": "code",
   "execution_count": 6,
   "metadata": {},
   "outputs": [
    {
     "data": {
      "text/html": [
       "<div>\n",
       "<style scoped>\n",
       "    .dataframe tbody tr th:only-of-type {\n",
       "        vertical-align: middle;\n",
       "    }\n",
       "\n",
       "    .dataframe tbody tr th {\n",
       "        vertical-align: top;\n",
       "    }\n",
       "\n",
       "    .dataframe thead th {\n",
       "        text-align: right;\n",
       "    }\n",
       "</style>\n",
       "<table border=\"1\" class=\"dataframe\">\n",
       "  <thead>\n",
       "    <tr style=\"text-align: right;\">\n",
       "      <th></th>\n",
       "      <th>date</th>\n",
       "      <th>comment</th>\n",
       "      <th>symbol</th>\n",
       "    </tr>\n",
       "  </thead>\n",
       "  <tbody>\n",
       "    <tr>\n",
       "      <th>0</th>\n",
       "      <td>19 Dec 22, 09:46</td>\n",
       "      <td>Owner $PANI</td>\n",
       "      <td>PANI</td>\n",
       "    </tr>\n",
       "    <tr>\n",
       "      <th>1</th>\n",
       "      <td>18 Dec 22, 20:55 · Edited on 18 Dec 22, 21:05</td>\n",
       "      <td>$SLIS $PANI $BEBS $BUMI\\n\\nKenapa CBUT bisa BA...</td>\n",
       "      <td>PANI</td>\n",
       "    </tr>\n",
       "    <tr>\n",
       "      <th>2</th>\n",
       "      <td>18 Dec 22, 20:55</td>\n",
       "      <td>$PANI</td>\n",
       "      <td>PANI</td>\n",
       "    </tr>\n",
       "    <tr>\n",
       "      <th>3</th>\n",
       "      <td>18 Dec 22, 20:54 · Edited on 19 Dec 22, 07:15</td>\n",
       "      <td>$PANI holdernya kasihan masih harap balik ke 2...</td>\n",
       "      <td>PANI</td>\n",
       "    </tr>\n",
       "    <tr>\n",
       "      <th>4</th>\n",
       "      <td>18 Dec 22, 15:12</td>\n",
       "      <td>$PANI kalau PANI mau lebih banyak di minati .....</td>\n",
       "      <td>PANI</td>\n",
       "    </tr>\n",
       "    <tr>\n",
       "      <th>...</th>\n",
       "      <td>...</td>\n",
       "      <td>...</td>\n",
       "      <td>...</td>\n",
       "    </tr>\n",
       "    <tr>\n",
       "      <th>215</th>\n",
       "      <td>30 Sep 22, 16:41</td>\n",
       "      <td>Sawit Sumbermas (SSMS) Yakin Bisa Teruskan Kin...</td>\n",
       "      <td>SSMS</td>\n",
       "    </tr>\n",
       "    <tr>\n",
       "      <th>216</th>\n",
       "      <td>30 Sep 22, 13:10</td>\n",
       "      <td>$SSMS</td>\n",
       "      <td>SSMS</td>\n",
       "    </tr>\n",
       "    <tr>\n",
       "      <th>217</th>\n",
       "      <td>29 Sep 22, 14:02</td>\n",
       "      <td>$SSMS 27 Sep 22\\nShareholder : Putra Borneo Ag...</td>\n",
       "      <td>SSMS</td>\n",
       "    </tr>\n",
       "    <tr>\n",
       "      <th>218</th>\n",
       "      <td>29 Sep 22, 11:33</td>\n",
       "      <td>$SSMS ... kok sepiiiiii amat.... mencurigakan</td>\n",
       "      <td>SSMS</td>\n",
       "    </tr>\n",
       "    <tr>\n",
       "      <th>219</th>\n",
       "      <td>28 Sep 22, 09:42</td>\n",
       "      <td>$SSMS 26 Sep 22\\nShareholder : Putra Borneo Ag...</td>\n",
       "      <td>SSMS</td>\n",
       "    </tr>\n",
       "  </tbody>\n",
       "</table>\n",
       "<p>2720 rows × 3 columns</p>\n",
       "</div>"
      ],
      "text/plain": [
       "                                              date  \\\n",
       "0                                 19 Dec 22, 09:46   \n",
       "1    18 Dec 22, 20:55 · Edited on 18 Dec 22, 21:05   \n",
       "2                                 18 Dec 22, 20:55   \n",
       "3    18 Dec 22, 20:54 · Edited on 19 Dec 22, 07:15   \n",
       "4                                 18 Dec 22, 15:12   \n",
       "..                                             ...   \n",
       "215                               30 Sep 22, 16:41   \n",
       "216                               30 Sep 22, 13:10   \n",
       "217                               29 Sep 22, 14:02   \n",
       "218                               29 Sep 22, 11:33   \n",
       "219                               28 Sep 22, 09:42   \n",
       "\n",
       "                                               comment symbol  \n",
       "0                                          Owner $PANI   PANI  \n",
       "1    $SLIS $PANI $BEBS $BUMI\\n\\nKenapa CBUT bisa BA...   PANI  \n",
       "2                                                $PANI   PANI  \n",
       "3    $PANI holdernya kasihan masih harap balik ke 2...   PANI  \n",
       "4    $PANI kalau PANI mau lebih banyak di minati .....   PANI  \n",
       "..                                                 ...    ...  \n",
       "215  Sawit Sumbermas (SSMS) Yakin Bisa Teruskan Kin...   SSMS  \n",
       "216                                              $SSMS   SSMS  \n",
       "217  $SSMS 27 Sep 22\\nShareholder : Putra Borneo Ag...   SSMS  \n",
       "218      $SSMS ... kok sepiiiiii amat.... mencurigakan   SSMS  \n",
       "219  $SSMS 26 Sep 22\\nShareholder : Putra Borneo Ag...   SSMS  \n",
       "\n",
       "[2720 rows x 3 columns]"
      ]
     },
     "execution_count": 6,
     "metadata": {},
     "output_type": "execute_result"
    }
   ],
   "source": [
    "df"
   ]
  },
  {
   "cell_type": "code",
   "execution_count": 7,
   "metadata": {},
   "outputs": [],
   "source": [
    "df.to_csv(\"PANI_SSMS.csv\", index=False)"
   ]
  }
 ],
 "metadata": {
  "kernelspec": {
   "display_name": "Febrian",
   "language": "python",
   "name": "python3"
  },
  "language_info": {
   "codemirror_mode": {
    "name": "ipython",
    "version": 3
   },
   "file_extension": ".py",
   "mimetype": "text/x-python",
   "name": "python",
   "nbconvert_exporter": "python",
   "pygments_lexer": "ipython3",
   "version": "3.9.15"
  },
  "orig_nbformat": 4,
  "vscode": {
   "interpreter": {
    "hash": "16757533f268d6d5637748b8bb2976fa890df09dfd4dd56d21570776938599f1"
   }
  }
 },
 "nbformat": 4,
 "nbformat_minor": 2
}
