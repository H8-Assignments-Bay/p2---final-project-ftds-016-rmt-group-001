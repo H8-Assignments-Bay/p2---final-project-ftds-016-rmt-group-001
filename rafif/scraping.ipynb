{
 "cells": [
  {
   "cell_type": "code",
   "execution_count": 1,
   "metadata": {},
   "outputs": [
    {
     "data": {
      "text/plain": [
       "<Response [200]>"
      ]
     },
     "execution_count": 1,
     "metadata": {},
     "output_type": "execute_result"
    }
   ],
   "source": [
    "import requests\n",
    "page = requests.get(\"https://stockbit.com/#/symbol/ICBP\")\n",
    "page"
   ]
  },
  {
   "cell_type": "code",
   "execution_count": 2,
   "metadata": {},
   "outputs": [],
   "source": [
    "from selenium import webdriver\n",
    "from selenium.webdriver.chrome.service import Service as ChromeService\n",
    "from webdriver_manager.chrome import ChromeDriverManager\n",
    "driver = webdriver.Chrome(service=ChromeService(ChromeDriverManager().install()))"
   ]
  },
  {
   "cell_type": "code",
   "execution_count": 3,
   "metadata": {},
   "outputs": [],
   "source": [
    "from selenium.webdriver.common.by import By\n",
    "\n",
    "driver.get(\"https://stockbit.com/symbol/CLEO\")\n",
    "\n",
    "comment_elements = driver.find_elements(by=By.CLASS_NAME, value=\"stream-text\")\n",
    "\n",
    "comments = list()\n",
    "\n",
    "for index, element in enumerate(comment_elements):\n",
    "    print(index, element.text, \"\\n\")\n",
    "    comments.append(element.text)"
   ]
  },
  {
   "cell_type": "code",
   "execution_count": 5,
   "metadata": {},
   "outputs": [],
   "source": [
    "date_elements = driver.find_elements(by=By.XPATH, value=\"//div[@class='stream-date']\")\n",
    "\n",
    "date = list()\n",
    "\n",
    "for index, element in enumerate(date_elements):\n",
    "    print(index, element.text, \"\\n\")\n",
    "    date.append(element.text)"
   ]
  },
  {
   "cell_type": "code",
   "execution_count": 6,
   "metadata": {},
   "outputs": [
    {
     "name": "stdout",
     "output_type": "stream",
     "text": [
      "1 3\n",
      "2 4\n"
     ]
    }
   ],
   "source": [
    "for a, b in zip([1,2], [3,4]):\n",
    "    print(a,b)"
   ]
  },
  {
   "cell_type": "code",
   "execution_count": 7,
   "metadata": {},
   "outputs": [
    {
     "data": {
      "text/plain": [
       "True"
      ]
     },
     "execution_count": 7,
     "metadata": {},
     "output_type": "execute_result"
    }
   ],
   "source": [
    "from dateutil import parser\n",
    "parser.parse(\"1 Oct 22, 15:00\") >= parser.parse(\"1 Oct 22\")"
   ]
  },
  {
   "cell_type": "code",
   "execution_count": 8,
   "metadata": {},
   "outputs": [
    {
     "data": {
      "text/plain": [
       "datetime.datetime(2022, 12, 4, 19, 42)"
      ]
     },
     "execution_count": 8,
     "metadata": {},
     "output_type": "execute_result"
    }
   ],
   "source": [
    "parser.parse(\"4 Dec 22, 19:42 · Edited on 14 Dec 22, 21:29\"[:16])"
   ]
  },
  {
   "cell_type": "code",
   "execution_count": 10,
   "metadata": {},
   "outputs": [],
   "source": [
    "date_elements = driver.find_elements(by=By.XPATH, value=\"//div[@class='stream-date']\")\n",
    "\n",
    "while True:\n",
    "    # Handle: ParserError: Unknown string format: 14 Dec 22, 19:42 · Edited on 14 Dec 22, 21:29\n",
    "    if parser.parse(date_elements[-2].text[:16]) >= parser.parse(\"1 Oct 22\"):\n",
    "        driver.execute_script(\"window.scrollBy(0,document.body.scrollHeight)\", \"\")\n",
    "        date_elements = driver.find_elements(by=By.XPATH, value=\"//div[@class='stream-date']\")\n",
    "    else:\n",
    "        break\n",
    "    "
   ]
  },
  {
   "cell_type": "code",
   "execution_count": 11,
   "metadata": {},
   "outputs": [
    {
     "data": {
      "text/plain": [
       "9"
      ]
     },
     "execution_count": 11,
     "metadata": {},
     "output_type": "execute_result"
    }
   ],
   "source": [
    "from random import randint\n",
    "\n",
    "randint(5,10)"
   ]
  },
  {
   "cell_type": "code",
   "execution_count": 12,
   "metadata": {},
   "outputs": [
    {
     "name": "stdout",
     "output_type": "stream",
     "text": [
      "https://stockbit.com/symbol/CLEO\n",
      "https://stockbit.com/symbol/DSNG\n",
      "https://stockbit.com/symbol/ADES\n",
      "https://stockbit.com/symbol/WMPP\n",
      "https://stockbit.com/symbol/TBLA\n",
      "https://stockbit.com/symbol/CPRO\n",
      "https://stockbit.com/symbol/SGRO\n",
      "https://stockbit.com/symbol/BISI\n"
     ]
    }
   ],
   "source": [
    "symbols = ['CLEO','DSNG','ADES','WMPP','TBLA','CPRO','SGRO','BISI']\n",
    "\n",
    "for symbol in symbols:\n",
    "    print(f\"https://stockbit.com/symbol/{symbol}\")"
   ]
  },
  {
   "cell_type": "code",
   "execution_count": 13,
   "metadata": {},
   "outputs": [
    {
     "name": "stdout",
     "output_type": "stream",
     "text": [
      "symbol CLEO date_elements 461 dates 460 comment_elements 461 comments 460 \n",
      "symbol DSNG date_elements 281 dates 280 comment_elements 301 comments 280 \n",
      "symbol ADES date_elements 321 dates 320 comment_elements 321 comments 320 \n",
      "symbol WMPP date_elements 201 dates 200 comment_elements 201 comments 200 \n",
      "symbol TBLA date_elements 121 dates 120 comment_elements 121 comments 120 \n",
      "symbol CPRO date_elements 381 dates 380 comment_elements 381 comments 380 \n",
      "symbol SGRO date_elements 81 dates 80 comment_elements 81 comments 80 \n",
      "symbol BISI date_elements 141 dates 140 comment_elements 141 comments 140 \n"
     ]
    }
   ],
   "source": [
    "import pandas as pd\n",
    "\n",
    "symbols = ['CLEO','DSNG','ADES','WMPP','TBLA','CPRO','SGRO','BISI']\n",
    "\n",
    "from time import sleep\n",
    "\n",
    "df = pd.DataFrame()\n",
    "\n",
    "for symbol in symbols:\n",
    "    driver.get(f\"https://stockbit.com/symbol/{symbol}\")\n",
    "    \n",
    "    # Handdle: IndexError: list index out of range\n",
    "    while True:\n",
    "        date_elements = driver.find_elements(by=By.XPATH, value=\"//div[@class='stream-date']\")\n",
    "        \n",
    "        # Handle: IndexError: list index out of range\n",
    "        if len(date_elements) != 0:\n",
    "            break\n",
    "\n",
    "    while True:\n",
    "        # date_elements[-2] Handle: StaleElementReferenceException or ''\n",
    "        # .text[:16] Handle: ParserError: Unknown string format: 14 Dec 22, 19:42 · Edited on 14 Dec 22, 21:29\n",
    "        if parser.parse(date_elements[-2].text[:16]) >= parser.parse(\"1 Oct 22\"):\n",
    "            driver.execute_script(\"window.scrollBy(0,document.body.scrollHeight)\", \"\")\n",
    "            date_elements = driver.find_elements(by=By.XPATH, value=\"//div[@class='stream-date']\")\n",
    "        else:\n",
    "            break\n",
    "    \n",
    "    # value='stream-text-single' Handle: prevent Repost to be included in the comment_elements    \n",
    "    comment_elements = driver.find_elements(by=By.CLASS_NAME, value=\"stream-text-single\")\n",
    "    \n",
    "    dates = list()\n",
    "    comments = list()\n",
    "    \n",
    "    for index, (date_element, comment_element) in enumerate(zip(date_elements, comment_elements)):\n",
    "        # print(date_element.text, comment_element.text, \"\\n\")\n",
    "        \n",
    "        # Handle: StaleElementReferenceException or ''\n",
    "        if index == len(date_elements) - 1:\n",
    "            break\n",
    "        \n",
    "        dates.append(date_element.text)\n",
    "        comments.append(comment_element.text)\n",
    "        \n",
    "    print(f'symbol {symbol} '\n",
    "          f'date_elements {len(date_elements)} dates {len(dates)} '\n",
    "          f'comment_elements {len(comment_elements)} comments {len(comments)} ')\n",
    "    \n",
    "    df_c = pd.DataFrame()\n",
    "    df_c['date'] = dates\n",
    "    df_c['comment'] = comments\n",
    "    df_c['symbol'] = symbol\n",
    "    \n",
    "    df = pd.concat([df, df_c])\n",
    "    \n",
    "    sleep(randint(5,10))"
   ]
  },
  {
   "cell_type": "code",
   "execution_count": 17,
   "metadata": {},
   "outputs": [
    {
     "data": {
      "text/html": [
       "<div>\n",
       "<style scoped>\n",
       "    .dataframe tbody tr th:only-of-type {\n",
       "        vertical-align: middle;\n",
       "    }\n",
       "\n",
       "    .dataframe tbody tr th {\n",
       "        vertical-align: top;\n",
       "    }\n",
       "\n",
       "    .dataframe thead th {\n",
       "        text-align: right;\n",
       "    }\n",
       "</style>\n",
       "<table border=\"1\" class=\"dataframe\">\n",
       "  <thead>\n",
       "    <tr style=\"text-align: right;\">\n",
       "      <th></th>\n",
       "      <th>date</th>\n",
       "      <th>comment</th>\n",
       "      <th>symbol</th>\n",
       "    </tr>\n",
       "  </thead>\n",
       "  <tbody>\n",
       "    <tr>\n",
       "      <th>0</th>\n",
       "      <td>16 Dec 22, 13:07</td>\n",
       "      <td>@SyamFadil pantes ya gk ada yang ngerekrut ter...</td>\n",
       "      <td>CLEO</td>\n",
       "    </tr>\n",
       "    <tr>\n",
       "      <th>1</th>\n",
       "      <td>16 Dec 22, 11:54</td>\n",
       "      <td>@RadenRama sepertinya sih kenalan bandarnya $C...</td>\n",
       "      <td>CLEO</td>\n",
       "    </tr>\n",
       "    <tr>\n",
       "      <th>2</th>\n",
       "      <td>16 Dec 22, 11:01</td>\n",
       "      <td>$CLEO belum ada tanda pembalikan arah, masih t...</td>\n",
       "      <td>CLEO</td>\n",
       "    </tr>\n",
       "    <tr>\n",
       "      <th>3</th>\n",
       "      <td>16 Dec 22, 10:35</td>\n",
       "      <td>$CLEO cukai plastik mulai berlaku di 2023, apa...</td>\n",
       "      <td>CLEO</td>\n",
       "    </tr>\n",
       "    <tr>\n",
       "      <th>4</th>\n",
       "      <td>16 Dec 22, 09:47</td>\n",
       "      <td>@igpys tuh kan bener, $CLEO otw balik ke 450</td>\n",
       "      <td>CLEO</td>\n",
       "    </tr>\n",
       "    <tr>\n",
       "      <th>...</th>\n",
       "      <td>...</td>\n",
       "      <td>...</td>\n",
       "      <td>...</td>\n",
       "    </tr>\n",
       "    <tr>\n",
       "      <th>135</th>\n",
       "      <td>26 Sep 22, 06:31</td>\n",
       "      <td>Pick stocks or Pick businesses?\\n\\nSetiap oran...</td>\n",
       "      <td>BISI</td>\n",
       "    </tr>\n",
       "    <tr>\n",
       "      <th>136</th>\n",
       "      <td>25 Sep 22, 23:27</td>\n",
       "      <td>@RoelsMajor waduh, kalo dari skor jenis saham ...</td>\n",
       "      <td>BISI</td>\n",
       "    </tr>\n",
       "    <tr>\n",
       "      <th>137</th>\n",
       "      <td>22 Sep 22, 07:52</td>\n",
       "      <td>$BISI kata petani harga benih jagung dan pupuk...</td>\n",
       "      <td>BISI</td>\n",
       "    </tr>\n",
       "    <tr>\n",
       "      <th>138</th>\n",
       "      <td>21 Sep 22, 17:35</td>\n",
       "      <td>@rubi04 saya enggak tau juga.. Saran saya ga u...</td>\n",
       "      <td>BISI</td>\n",
       "    </tr>\n",
       "    <tr>\n",
       "      <th>139</th>\n",
       "      <td>20 Sep 22, 11:05</td>\n",
       "      <td>@PatrickP saya bingung makanya kok orang beli ...</td>\n",
       "      <td>BISI</td>\n",
       "    </tr>\n",
       "  </tbody>\n",
       "</table>\n",
       "<p>1980 rows × 3 columns</p>\n",
       "</div>"
      ],
      "text/plain": [
       "                 date                                            comment  \\\n",
       "0    16 Dec 22, 13:07  @SyamFadil pantes ya gk ada yang ngerekrut ter...   \n",
       "1    16 Dec 22, 11:54  @RadenRama sepertinya sih kenalan bandarnya $C...   \n",
       "2    16 Dec 22, 11:01  $CLEO belum ada tanda pembalikan arah, masih t...   \n",
       "3    16 Dec 22, 10:35  $CLEO cukai plastik mulai berlaku di 2023, apa...   \n",
       "4    16 Dec 22, 09:47       @igpys tuh kan bener, $CLEO otw balik ke 450   \n",
       "..                ...                                                ...   \n",
       "135  26 Sep 22, 06:31  Pick stocks or Pick businesses?\\n\\nSetiap oran...   \n",
       "136  25 Sep 22, 23:27  @RoelsMajor waduh, kalo dari skor jenis saham ...   \n",
       "137  22 Sep 22, 07:52  $BISI kata petani harga benih jagung dan pupuk...   \n",
       "138  21 Sep 22, 17:35  @rubi04 saya enggak tau juga.. Saran saya ga u...   \n",
       "139  20 Sep 22, 11:05  @PatrickP saya bingung makanya kok orang beli ...   \n",
       "\n",
       "    symbol  \n",
       "0     CLEO  \n",
       "1     CLEO  \n",
       "2     CLEO  \n",
       "3     CLEO  \n",
       "4     CLEO  \n",
       "..     ...  \n",
       "135   BISI  \n",
       "136   BISI  \n",
       "137   BISI  \n",
       "138   BISI  \n",
       "139   BISI  \n",
       "\n",
       "[1980 rows x 3 columns]"
      ]
     },
     "execution_count": 17,
     "metadata": {},
     "output_type": "execute_result"
    }
   ],
   "source": [
    "df.reset_index\n",
    "df"
   ]
  },
  {
   "cell_type": "code",
   "execution_count": 18,
   "metadata": {},
   "outputs": [],
   "source": [
    "df.to_csv(\"CLEO_DSNG_ADES_WMPP_TBLA_CPRO_SGRO_BISI.csv\", index=False)"
   ]
  }
 ],
 "metadata": {
  "kernelspec": {
   "display_name": "base",
   "language": "python",
   "name": "python3"
  },
  "language_info": {
   "codemirror_mode": {
    "name": "ipython",
    "version": 3
   },
   "file_extension": ".py",
   "mimetype": "text/x-python",
   "name": "python",
   "nbconvert_exporter": "python",
   "pygments_lexer": "ipython3",
   "version": "3.9.15 (main, Nov 24 2022, 14:39:17) [MSC v.1916 64 bit (AMD64)]"
  },
  "orig_nbformat": 4,
  "vscode": {
   "interpreter": {
    "hash": "506d36080a2bbc5570e5de853790e118d9731f133330a1c9209f1f627272d5a7"
   }
  }
 },
 "nbformat": 4,
 "nbformat_minor": 2
}
