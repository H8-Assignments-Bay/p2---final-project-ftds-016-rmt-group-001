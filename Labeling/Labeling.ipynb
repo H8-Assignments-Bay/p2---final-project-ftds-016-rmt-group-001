{
 "cells": [
  {
   "cell_type": "code",
   "execution_count": 1,
   "metadata": {},
   "outputs": [],
   "source": [
    "import pandas as pd"
   ]
  },
  {
   "cell_type": "code",
   "execution_count": 2,
   "metadata": {},
   "outputs": [],
   "source": [
    "data = pd.read_csv('CLEO_DSNG_ADES_WMPP_TBLA_CPRO_SGRO_BISI.csv')"
   ]
  },
  {
   "cell_type": "code",
   "execution_count": 3,
   "metadata": {},
   "outputs": [
    {
     "data": {
      "text/html": [
       "<div>\n",
       "<style scoped>\n",
       "    .dataframe tbody tr th:only-of-type {\n",
       "        vertical-align: middle;\n",
       "    }\n",
       "\n",
       "    .dataframe tbody tr th {\n",
       "        vertical-align: top;\n",
       "    }\n",
       "\n",
       "    .dataframe thead th {\n",
       "        text-align: right;\n",
       "    }\n",
       "</style>\n",
       "<table border=\"1\" class=\"dataframe\">\n",
       "  <thead>\n",
       "    <tr style=\"text-align: right;\">\n",
       "      <th></th>\n",
       "      <th>date</th>\n",
       "      <th>comment</th>\n",
       "      <th>symbol</th>\n",
       "    </tr>\n",
       "  </thead>\n",
       "  <tbody>\n",
       "    <tr>\n",
       "      <th>0</th>\n",
       "      <td>16 Dec 22, 13:07</td>\n",
       "      <td>@SyamFadil pantes ya gk ada yang ngerekrut ter...</td>\n",
       "      <td>CLEO</td>\n",
       "    </tr>\n",
       "    <tr>\n",
       "      <th>1</th>\n",
       "      <td>16 Dec 22, 11:54</td>\n",
       "      <td>@RadenRama sepertinya sih kenalan bandarnya $C...</td>\n",
       "      <td>CLEO</td>\n",
       "    </tr>\n",
       "    <tr>\n",
       "      <th>2</th>\n",
       "      <td>16 Dec 22, 11:01</td>\n",
       "      <td>$CLEO belum ada tanda pembalikan arah, masih t...</td>\n",
       "      <td>CLEO</td>\n",
       "    </tr>\n",
       "    <tr>\n",
       "      <th>3</th>\n",
       "      <td>16 Dec 22, 10:35</td>\n",
       "      <td>$CLEO cukai plastik mulai berlaku di 2023, apa...</td>\n",
       "      <td>CLEO</td>\n",
       "    </tr>\n",
       "    <tr>\n",
       "      <th>4</th>\n",
       "      <td>16 Dec 22, 09:47</td>\n",
       "      <td>@igpys tuh kan bener, $CLEO otw balik ke 450</td>\n",
       "      <td>CLEO</td>\n",
       "    </tr>\n",
       "    <tr>\n",
       "      <th>...</th>\n",
       "      <td>...</td>\n",
       "      <td>...</td>\n",
       "      <td>...</td>\n",
       "    </tr>\n",
       "    <tr>\n",
       "      <th>1995</th>\n",
       "      <td>26 Sep 22, 06:31</td>\n",
       "      <td>Pick stocks or Pick businesses?\\n\\nSetiap oran...</td>\n",
       "      <td>BISI</td>\n",
       "    </tr>\n",
       "    <tr>\n",
       "      <th>1996</th>\n",
       "      <td>25 Sep 22, 23:27</td>\n",
       "      <td>@RoelsMajor waduh, kalo dari skor jenis saham ...</td>\n",
       "      <td>BISI</td>\n",
       "    </tr>\n",
       "    <tr>\n",
       "      <th>1997</th>\n",
       "      <td>22 Sep 22, 07:52</td>\n",
       "      <td>$BISI kata petani harga benih jagung dan pupuk...</td>\n",
       "      <td>BISI</td>\n",
       "    </tr>\n",
       "    <tr>\n",
       "      <th>1998</th>\n",
       "      <td>21 Sep 22, 17:35</td>\n",
       "      <td>@rubi04 saya enggak tau juga.. Saran saya ga u...</td>\n",
       "      <td>BISI</td>\n",
       "    </tr>\n",
       "    <tr>\n",
       "      <th>1999</th>\n",
       "      <td>20 Sep 22, 11:05</td>\n",
       "      <td>@PatrickP saya bingung makanya kok orang beli ...</td>\n",
       "      <td>BISI</td>\n",
       "    </tr>\n",
       "  </tbody>\n",
       "</table>\n",
       "<p>2000 rows × 3 columns</p>\n",
       "</div>"
      ],
      "text/plain": [
       "                  date                                            comment  \\\n",
       "0     16 Dec 22, 13:07  @SyamFadil pantes ya gk ada yang ngerekrut ter...   \n",
       "1     16 Dec 22, 11:54  @RadenRama sepertinya sih kenalan bandarnya $C...   \n",
       "2     16 Dec 22, 11:01  $CLEO belum ada tanda pembalikan arah, masih t...   \n",
       "3     16 Dec 22, 10:35  $CLEO cukai plastik mulai berlaku di 2023, apa...   \n",
       "4     16 Dec 22, 09:47       @igpys tuh kan bener, $CLEO otw balik ke 450   \n",
       "...                ...                                                ...   \n",
       "1995  26 Sep 22, 06:31  Pick stocks or Pick businesses?\\n\\nSetiap oran...   \n",
       "1996  25 Sep 22, 23:27  @RoelsMajor waduh, kalo dari skor jenis saham ...   \n",
       "1997  22 Sep 22, 07:52  $BISI kata petani harga benih jagung dan pupuk...   \n",
       "1998  21 Sep 22, 17:35  @rubi04 saya enggak tau juga.. Saran saya ga u...   \n",
       "1999  20 Sep 22, 11:05  @PatrickP saya bingung makanya kok orang beli ...   \n",
       "\n",
       "     symbol  \n",
       "0      CLEO  \n",
       "1      CLEO  \n",
       "2      CLEO  \n",
       "3      CLEO  \n",
       "4      CLEO  \n",
       "...     ...  \n",
       "1995   BISI  \n",
       "1996   BISI  \n",
       "1997   BISI  \n",
       "1998   BISI  \n",
       "1999   BISI  \n",
       "\n",
       "[2000 rows x 3 columns]"
      ]
     },
     "execution_count": 3,
     "metadata": {},
     "output_type": "execute_result"
    }
   ],
   "source": [
    "data"
   ]
  },
  {
   "cell_type": "code",
   "execution_count": 31,
   "metadata": {},
   "outputs": [],
   "source": [
    "def get_comment(index):\n",
    "    print(data['symbol'][index])\n",
    "    print(data['comment'][index])\n",
    "\n",
    "def set_label(index : int, label_1 : int, label_2: int):\n",
    "    data['label_1'][index] = label_1\n",
    "    data['label_2'][index] = label_2"
   ]
  },
  {
   "cell_type": "code",
   "execution_count": 25,
   "metadata": {},
   "outputs": [],
   "source": [
    "data['label_1'] = ''\n",
    "data['label_2'] = ''"
   ]
  },
  {
   "attachments": {},
   "cell_type": "markdown",
   "metadata": {},
   "source": [
    " label 1 (0 Neutral/1 Negative/2 Positive)\n",
    " \n",
    " label 2 (0 Not Spam/1 Spam) "
   ]
  },
  {
   "cell_type": "code",
   "execution_count": 517,
   "metadata": {},
   "outputs": [
    {
     "name": "stdout",
     "output_type": "stream",
     "text": [
      "ADES\n",
      "🌟 [ $ADES REVIEW 16/12/2022] 🌟.\n",
      "\n",
      "ADES buy on support! rebound support trendline (garis biru). upside ke 7500 - 8000. tren bullish. Saham 7000-an, mahal cenderung pelan, less volatile.Cocok untuk daytade hingga swing.. mampir ke bio kami ya buat potensi saham yang akan jalan. Semangat tradingnya!\n",
      "\n",
      "[ 🌟 INFO SAHAM TERBAIK DI BIO! 🌟]\n",
      "\n",
      "Bagaimana dengan pendapat para stockbitor? yuk komen dibawah!\n",
      "\n",
      "Dianalisa kembali ya, bukan ajakan membeli, hanya opini.\n",
      "*Bukan ajakan *disclaimer on *DYOR\n",
      "\n",
      "hobi koreksi\n",
      "kena cobaan, resis di 9000.\n",
      "resis 5200, >5000 good marubozu\n",
      "kembali koreksi lagi\n",
      "\n",
      "[AKSES REKOM TERBAIK DI BIO!]\n"
     ]
    }
   ],
   "source": [
    "get_comment(740)"
   ]
  },
  {
   "cell_type": "code",
   "execution_count": 497,
   "metadata": {},
   "outputs": [],
   "source": [
    "set_label(560,2,0)"
   ]
  },
  {
   "cell_type": "code",
   "execution_count": 516,
   "metadata": {},
   "outputs": [
    {
     "data": {
      "text/plain": [
       "date                                        16 Dec 22, 10:32\n",
       "comment    🌟 [ $ADES REVIEW 16/12/2022] 🌟.\\n\\nADES buy on...\n",
       "symbol                                                  ADES\n",
       "label_1                                                     \n",
       "label_2                                                     \n",
       "Name: 740, dtype: object"
      ]
     },
     "execution_count": 516,
     "metadata": {},
     "output_type": "execute_result"
    }
   ],
   "source": [
    "data.iloc[740]"
   ]
  },
  {
   "cell_type": "code",
   "execution_count": 282,
   "metadata": {},
   "outputs": [
    {
     "data": {
      "text/html": [
       "<div>\n",
       "<style scoped>\n",
       "    .dataframe tbody tr th:only-of-type {\n",
       "        vertical-align: middle;\n",
       "    }\n",
       "\n",
       "    .dataframe tbody tr th {\n",
       "        vertical-align: top;\n",
       "    }\n",
       "\n",
       "    .dataframe thead th {\n",
       "        text-align: right;\n",
       "    }\n",
       "</style>\n",
       "<table border=\"1\" class=\"dataframe\">\n",
       "  <thead>\n",
       "    <tr style=\"text-align: right;\">\n",
       "      <th></th>\n",
       "      <th>date</th>\n",
       "      <th>comment</th>\n",
       "      <th>symbol</th>\n",
       "      <th>label_1</th>\n",
       "      <th>label_2</th>\n",
       "    </tr>\n",
       "  </thead>\n",
       "  <tbody>\n",
       "    <tr>\n",
       "      <th>0</th>\n",
       "      <td>16 Dec 22, 13:07</td>\n",
       "      <td>@SyamFadil pantes ya gk ada yang ngerekrut ter...</td>\n",
       "      <td>CLEO</td>\n",
       "      <td>1</td>\n",
       "      <td>1</td>\n",
       "    </tr>\n",
       "    <tr>\n",
       "      <th>1</th>\n",
       "      <td>16 Dec 22, 11:54</td>\n",
       "      <td>@RadenRama sepertinya sih kenalan bandarnya $C...</td>\n",
       "      <td>CLEO</td>\n",
       "      <td>1</td>\n",
       "      <td>0</td>\n",
       "    </tr>\n",
       "    <tr>\n",
       "      <th>2</th>\n",
       "      <td>16 Dec 22, 11:01</td>\n",
       "      <td>$CLEO belum ada tanda pembalikan arah, masih t...</td>\n",
       "      <td>CLEO</td>\n",
       "      <td>1</td>\n",
       "      <td>0</td>\n",
       "    </tr>\n",
       "    <tr>\n",
       "      <th>3</th>\n",
       "      <td>16 Dec 22, 10:35</td>\n",
       "      <td>$CLEO cukai plastik mulai berlaku di 2023, apa...</td>\n",
       "      <td>CLEO</td>\n",
       "      <td>0</td>\n",
       "      <td>0</td>\n",
       "    </tr>\n",
       "    <tr>\n",
       "      <th>4</th>\n",
       "      <td>16 Dec 22, 09:47</td>\n",
       "      <td>@igpys tuh kan bener, $CLEO otw balik ke 450</td>\n",
       "      <td>CLEO</td>\n",
       "      <td>1</td>\n",
       "      <td>0</td>\n",
       "    </tr>\n",
       "    <tr>\n",
       "      <th>...</th>\n",
       "      <td>...</td>\n",
       "      <td>...</td>\n",
       "      <td>...</td>\n",
       "      <td>...</td>\n",
       "      <td>...</td>\n",
       "    </tr>\n",
       "    <tr>\n",
       "      <th>1995</th>\n",
       "      <td>26 Sep 22, 06:31</td>\n",
       "      <td>Pick stocks or Pick businesses?\\n\\nSetiap oran...</td>\n",
       "      <td>BISI</td>\n",
       "      <td></td>\n",
       "      <td></td>\n",
       "    </tr>\n",
       "    <tr>\n",
       "      <th>1996</th>\n",
       "      <td>25 Sep 22, 23:27</td>\n",
       "      <td>@RoelsMajor waduh, kalo dari skor jenis saham ...</td>\n",
       "      <td>BISI</td>\n",
       "      <td></td>\n",
       "      <td></td>\n",
       "    </tr>\n",
       "    <tr>\n",
       "      <th>1997</th>\n",
       "      <td>22 Sep 22, 07:52</td>\n",
       "      <td>$BISI kata petani harga benih jagung dan pupuk...</td>\n",
       "      <td>BISI</td>\n",
       "      <td></td>\n",
       "      <td></td>\n",
       "    </tr>\n",
       "    <tr>\n",
       "      <th>1998</th>\n",
       "      <td>21 Sep 22, 17:35</td>\n",
       "      <td>@rubi04 saya enggak tau juga.. Saran saya ga u...</td>\n",
       "      <td>BISI</td>\n",
       "      <td></td>\n",
       "      <td></td>\n",
       "    </tr>\n",
       "    <tr>\n",
       "      <th>1999</th>\n",
       "      <td>20 Sep 22, 11:05</td>\n",
       "      <td>@PatrickP saya bingung makanya kok orang beli ...</td>\n",
       "      <td>BISI</td>\n",
       "      <td></td>\n",
       "      <td></td>\n",
       "    </tr>\n",
       "  </tbody>\n",
       "</table>\n",
       "<p>2000 rows × 5 columns</p>\n",
       "</div>"
      ],
      "text/plain": [
       "                  date                                            comment  \\\n",
       "0     16 Dec 22, 13:07  @SyamFadil pantes ya gk ada yang ngerekrut ter...   \n",
       "1     16 Dec 22, 11:54  @RadenRama sepertinya sih kenalan bandarnya $C...   \n",
       "2     16 Dec 22, 11:01  $CLEO belum ada tanda pembalikan arah, masih t...   \n",
       "3     16 Dec 22, 10:35  $CLEO cukai plastik mulai berlaku di 2023, apa...   \n",
       "4     16 Dec 22, 09:47       @igpys tuh kan bener, $CLEO otw balik ke 450   \n",
       "...                ...                                                ...   \n",
       "1995  26 Sep 22, 06:31  Pick stocks or Pick businesses?\\n\\nSetiap oran...   \n",
       "1996  25 Sep 22, 23:27  @RoelsMajor waduh, kalo dari skor jenis saham ...   \n",
       "1997  22 Sep 22, 07:52  $BISI kata petani harga benih jagung dan pupuk...   \n",
       "1998  21 Sep 22, 17:35  @rubi04 saya enggak tau juga.. Saran saya ga u...   \n",
       "1999  20 Sep 22, 11:05  @PatrickP saya bingung makanya kok orang beli ...   \n",
       "\n",
       "     symbol label_1 label_2  \n",
       "0      CLEO       1       1  \n",
       "1      CLEO       1       0  \n",
       "2      CLEO       1       0  \n",
       "3      CLEO       0       0  \n",
       "4      CLEO       1       0  \n",
       "...     ...     ...     ...  \n",
       "1995   BISI                  \n",
       "1996   BISI                  \n",
       "1997   BISI                  \n",
       "1998   BISI                  \n",
       "1999   BISI                  \n",
       "\n",
       "[2000 rows x 5 columns]"
      ]
     },
     "execution_count": 282,
     "metadata": {},
     "output_type": "execute_result"
    }
   ],
   "source": [
    "data"
   ]
  },
  {
   "cell_type": "code",
   "execution_count": 11,
   "metadata": {},
   "outputs": [
    {
     "data": {
      "text/html": [
       "<div>\n",
       "<style scoped>\n",
       "    .dataframe tbody tr th:only-of-type {\n",
       "        vertical-align: middle;\n",
       "    }\n",
       "\n",
       "    .dataframe tbody tr th {\n",
       "        vertical-align: top;\n",
       "    }\n",
       "\n",
       "    .dataframe thead th {\n",
       "        text-align: right;\n",
       "    }\n",
       "</style>\n",
       "<table border=\"1\" class=\"dataframe\">\n",
       "  <thead>\n",
       "    <tr style=\"text-align: right;\">\n",
       "      <th></th>\n",
       "      <th>date</th>\n",
       "      <th>comment</th>\n",
       "      <th>symbol</th>\n",
       "    </tr>\n",
       "  </thead>\n",
       "  <tbody>\n",
       "    <tr>\n",
       "      <th>0</th>\n",
       "      <td>16 Dec 22, 13:07</td>\n",
       "      <td>@SyamFadil pantes ya gk ada yang ngerekrut ter...</td>\n",
       "      <td>CLEO</td>\n",
       "    </tr>\n",
       "  </tbody>\n",
       "</table>\n",
       "</div>"
      ],
      "text/plain": [
       "               date                                            comment symbol\n",
       "0  16 Dec 22, 13:07  @SyamFadil pantes ya gk ada yang ngerekrut ter...   CLEO"
      ]
     },
     "execution_count": 11,
     "metadata": {},
     "output_type": "execute_result"
    }
   ],
   "source": [
    "data.iloc[[0]]"
   ]
  },
  {
   "cell_type": "code",
   "execution_count": 22,
   "metadata": {},
   "outputs": [
    {
     "name": "stdout",
     "output_type": "stream",
     "text": [
      "CLEO\n",
      "@RadenRama sepertinya sih kenalan bandarnya $CLEO🙃\n"
     ]
    },
    {
     "ename": "KeyError",
     "evalue": "'label_1'",
     "output_type": "error",
     "traceback": [
      "\u001b[1;31m---------------------------------------------------------------------------\u001b[0m",
      "\u001b[1;31mKeyError\u001b[0m                                  Traceback (most recent call last)",
      "File \u001b[1;32mc:\\Users\\Murijanto\\anaconda3\\lib\\site-packages\\pandas\\core\\indexes\\base.py:3629\u001b[0m, in \u001b[0;36mIndex.get_loc\u001b[1;34m(self, key, method, tolerance)\u001b[0m\n\u001b[0;32m   3628\u001b[0m \u001b[39mtry\u001b[39;00m:\n\u001b[1;32m-> 3629\u001b[0m     \u001b[39mreturn\u001b[39;00m \u001b[39mself\u001b[39;49m\u001b[39m.\u001b[39;49m_engine\u001b[39m.\u001b[39;49mget_loc(casted_key)\n\u001b[0;32m   3630\u001b[0m \u001b[39mexcept\u001b[39;00m \u001b[39mKeyError\u001b[39;00m \u001b[39mas\u001b[39;00m err:\n",
      "File \u001b[1;32mc:\\Users\\Murijanto\\anaconda3\\lib\\site-packages\\pandas\\_libs\\index.pyx:136\u001b[0m, in \u001b[0;36mpandas._libs.index.IndexEngine.get_loc\u001b[1;34m()\u001b[0m\n",
      "File \u001b[1;32mc:\\Users\\Murijanto\\anaconda3\\lib\\site-packages\\pandas\\_libs\\index.pyx:163\u001b[0m, in \u001b[0;36mpandas._libs.index.IndexEngine.get_loc\u001b[1;34m()\u001b[0m\n",
      "File \u001b[1;32mpandas\\_libs\\hashtable_class_helper.pxi:5198\u001b[0m, in \u001b[0;36mpandas._libs.hashtable.PyObjectHashTable.get_item\u001b[1;34m()\u001b[0m\n",
      "File \u001b[1;32mpandas\\_libs\\hashtable_class_helper.pxi:5206\u001b[0m, in \u001b[0;36mpandas._libs.hashtable.PyObjectHashTable.get_item\u001b[1;34m()\u001b[0m\n",
      "\u001b[1;31mKeyError\u001b[0m: 'label_1'",
      "\nThe above exception was the direct cause of the following exception:\n",
      "\u001b[1;31mKeyError\u001b[0m                                  Traceback (most recent call last)",
      "Cell \u001b[1;32mIn [22], line 2\u001b[0m\n\u001b[0;32m      1\u001b[0m get_comment(\u001b[39m1\u001b[39m)\n\u001b[1;32m----> 2\u001b[0m set_label(\u001b[39m0\u001b[39;49m,label_1\u001b[39m=\u001b[39;49m\u001b[39m0\u001b[39;49m,label_2\u001b[39m=\u001b[39;49m\u001b[39m0\u001b[39;49m)\n",
      "Cell \u001b[1;32mIn [21], line 6\u001b[0m, in \u001b[0;36mset_label\u001b[1;34m(index, label_1, label_2)\u001b[0m\n\u001b[0;32m      5\u001b[0m \u001b[39mdef\u001b[39;00m \u001b[39mset_label\u001b[39m(index : \u001b[39mint\u001b[39m, label_1 : \u001b[39mint\u001b[39m, label_2: \u001b[39mint\u001b[39m):\n\u001b[1;32m----> 6\u001b[0m     data[\u001b[39m'\u001b[39;49m\u001b[39mlabel_1\u001b[39;49m\u001b[39m'\u001b[39;49m][index] \u001b[39m=\u001b[39m \u001b[39m0\u001b[39m\n\u001b[0;32m      7\u001b[0m     data[\u001b[39m'\u001b[39m\u001b[39mlabel_2\u001b[39m\u001b[39m'\u001b[39m][index] \u001b[39m=\u001b[39m \u001b[39m2\u001b[39m\n",
      "File \u001b[1;32mc:\\Users\\Murijanto\\anaconda3\\lib\\site-packages\\pandas\\core\\frame.py:3505\u001b[0m, in \u001b[0;36mDataFrame.__getitem__\u001b[1;34m(self, key)\u001b[0m\n\u001b[0;32m   3503\u001b[0m \u001b[39mif\u001b[39;00m \u001b[39mself\u001b[39m\u001b[39m.\u001b[39mcolumns\u001b[39m.\u001b[39mnlevels \u001b[39m>\u001b[39m \u001b[39m1\u001b[39m:\n\u001b[0;32m   3504\u001b[0m     \u001b[39mreturn\u001b[39;00m \u001b[39mself\u001b[39m\u001b[39m.\u001b[39m_getitem_multilevel(key)\n\u001b[1;32m-> 3505\u001b[0m indexer \u001b[39m=\u001b[39m \u001b[39mself\u001b[39;49m\u001b[39m.\u001b[39;49mcolumns\u001b[39m.\u001b[39;49mget_loc(key)\n\u001b[0;32m   3506\u001b[0m \u001b[39mif\u001b[39;00m is_integer(indexer):\n\u001b[0;32m   3507\u001b[0m     indexer \u001b[39m=\u001b[39m [indexer]\n",
      "File \u001b[1;32mc:\\Users\\Murijanto\\anaconda3\\lib\\site-packages\\pandas\\core\\indexes\\base.py:3631\u001b[0m, in \u001b[0;36mIndex.get_loc\u001b[1;34m(self, key, method, tolerance)\u001b[0m\n\u001b[0;32m   3629\u001b[0m     \u001b[39mreturn\u001b[39;00m \u001b[39mself\u001b[39m\u001b[39m.\u001b[39m_engine\u001b[39m.\u001b[39mget_loc(casted_key)\n\u001b[0;32m   3630\u001b[0m \u001b[39mexcept\u001b[39;00m \u001b[39mKeyError\u001b[39;00m \u001b[39mas\u001b[39;00m err:\n\u001b[1;32m-> 3631\u001b[0m     \u001b[39mraise\u001b[39;00m \u001b[39mKeyError\u001b[39;00m(key) \u001b[39mfrom\u001b[39;00m \u001b[39merr\u001b[39;00m\n\u001b[0;32m   3632\u001b[0m \u001b[39mexcept\u001b[39;00m \u001b[39mTypeError\u001b[39;00m:\n\u001b[0;32m   3633\u001b[0m     \u001b[39m# If we have a listlike key, _check_indexing_error will raise\u001b[39;00m\n\u001b[0;32m   3634\u001b[0m     \u001b[39m#  InvalidIndexError. Otherwise we fall through and re-raise\u001b[39;00m\n\u001b[0;32m   3635\u001b[0m     \u001b[39m#  the TypeError.\u001b[39;00m\n\u001b[0;32m   3636\u001b[0m     \u001b[39mself\u001b[39m\u001b[39m.\u001b[39m_check_indexing_error(key)\n",
      "\u001b[1;31mKeyError\u001b[0m: 'label_1'"
     ]
    }
   ],
   "source": [
    "get_comment(1)\n",
    "set_label(0,label_1=0,label_2=0)"
   ]
  },
  {
   "cell_type": "code",
   "execution_count": 14,
   "metadata": {},
   "outputs": [
    {
     "ename": "KeyError",
     "evalue": "'label_1'",
     "output_type": "error",
     "traceback": [
      "\u001b[1;31m---------------------------------------------------------------------------\u001b[0m",
      "\u001b[1;31mKeyError\u001b[0m                                  Traceback (most recent call last)",
      "File \u001b[1;32mc:\\Users\\Murijanto\\anaconda3\\lib\\site-packages\\pandas\\core\\indexes\\base.py:3629\u001b[0m, in \u001b[0;36mIndex.get_loc\u001b[1;34m(self, key, method, tolerance)\u001b[0m\n\u001b[0;32m   3628\u001b[0m \u001b[39mtry\u001b[39;00m:\n\u001b[1;32m-> 3629\u001b[0m     \u001b[39mreturn\u001b[39;00m \u001b[39mself\u001b[39;49m\u001b[39m.\u001b[39;49m_engine\u001b[39m.\u001b[39;49mget_loc(casted_key)\n\u001b[0;32m   3630\u001b[0m \u001b[39mexcept\u001b[39;00m \u001b[39mKeyError\u001b[39;00m \u001b[39mas\u001b[39;00m err:\n",
      "File \u001b[1;32mc:\\Users\\Murijanto\\anaconda3\\lib\\site-packages\\pandas\\_libs\\index.pyx:136\u001b[0m, in \u001b[0;36mpandas._libs.index.IndexEngine.get_loc\u001b[1;34m()\u001b[0m\n",
      "File \u001b[1;32mc:\\Users\\Murijanto\\anaconda3\\lib\\site-packages\\pandas\\_libs\\index.pyx:163\u001b[0m, in \u001b[0;36mpandas._libs.index.IndexEngine.get_loc\u001b[1;34m()\u001b[0m\n",
      "File \u001b[1;32mpandas\\_libs\\hashtable_class_helper.pxi:5198\u001b[0m, in \u001b[0;36mpandas._libs.hashtable.PyObjectHashTable.get_item\u001b[1;34m()\u001b[0m\n",
      "File \u001b[1;32mpandas\\_libs\\hashtable_class_helper.pxi:5206\u001b[0m, in \u001b[0;36mpandas._libs.hashtable.PyObjectHashTable.get_item\u001b[1;34m()\u001b[0m\n",
      "\u001b[1;31mKeyError\u001b[0m: 'label_1'",
      "\nThe above exception was the direct cause of the following exception:\n",
      "\u001b[1;31mKeyError\u001b[0m                                  Traceback (most recent call last)",
      "Cell \u001b[1;32mIn [14], line 1\u001b[0m\n\u001b[1;32m----> 1\u001b[0m set_label(\u001b[39m0\u001b[39;49m,\u001b[39m1\u001b[39;49m,\u001b[39m1\u001b[39;49m)\n",
      "Cell \u001b[1;32mIn [4], line 6\u001b[0m, in \u001b[0;36mset_label\u001b[1;34m(index, label_1, label_2)\u001b[0m\n\u001b[0;32m      5\u001b[0m \u001b[39mdef\u001b[39;00m \u001b[39mset_label\u001b[39m(index : \u001b[39mint\u001b[39m, label_1 : \u001b[39mint\u001b[39m, label_2: \u001b[39mint\u001b[39m):\n\u001b[1;32m----> 6\u001b[0m     data[\u001b[39m'\u001b[39;49m\u001b[39mlabel_1\u001b[39;49m\u001b[39m'\u001b[39;49m][index] \u001b[39m=\u001b[39m label_1\n\u001b[0;32m      7\u001b[0m     data[\u001b[39m'\u001b[39m\u001b[39mlabel_2\u001b[39m\u001b[39m'\u001b[39m][index] \u001b[39m=\u001b[39m label_2\n",
      "File \u001b[1;32mc:\\Users\\Murijanto\\anaconda3\\lib\\site-packages\\pandas\\core\\frame.py:3505\u001b[0m, in \u001b[0;36mDataFrame.__getitem__\u001b[1;34m(self, key)\u001b[0m\n\u001b[0;32m   3503\u001b[0m \u001b[39mif\u001b[39;00m \u001b[39mself\u001b[39m\u001b[39m.\u001b[39mcolumns\u001b[39m.\u001b[39mnlevels \u001b[39m>\u001b[39m \u001b[39m1\u001b[39m:\n\u001b[0;32m   3504\u001b[0m     \u001b[39mreturn\u001b[39;00m \u001b[39mself\u001b[39m\u001b[39m.\u001b[39m_getitem_multilevel(key)\n\u001b[1;32m-> 3505\u001b[0m indexer \u001b[39m=\u001b[39m \u001b[39mself\u001b[39;49m\u001b[39m.\u001b[39;49mcolumns\u001b[39m.\u001b[39;49mget_loc(key)\n\u001b[0;32m   3506\u001b[0m \u001b[39mif\u001b[39;00m is_integer(indexer):\n\u001b[0;32m   3507\u001b[0m     indexer \u001b[39m=\u001b[39m [indexer]\n",
      "File \u001b[1;32mc:\\Users\\Murijanto\\anaconda3\\lib\\site-packages\\pandas\\core\\indexes\\base.py:3631\u001b[0m, in \u001b[0;36mIndex.get_loc\u001b[1;34m(self, key, method, tolerance)\u001b[0m\n\u001b[0;32m   3629\u001b[0m     \u001b[39mreturn\u001b[39;00m \u001b[39mself\u001b[39m\u001b[39m.\u001b[39m_engine\u001b[39m.\u001b[39mget_loc(casted_key)\n\u001b[0;32m   3630\u001b[0m \u001b[39mexcept\u001b[39;00m \u001b[39mKeyError\u001b[39;00m \u001b[39mas\u001b[39;00m err:\n\u001b[1;32m-> 3631\u001b[0m     \u001b[39mraise\u001b[39;00m \u001b[39mKeyError\u001b[39;00m(key) \u001b[39mfrom\u001b[39;00m \u001b[39merr\u001b[39;00m\n\u001b[0;32m   3632\u001b[0m \u001b[39mexcept\u001b[39;00m \u001b[39mTypeError\u001b[39;00m:\n\u001b[0;32m   3633\u001b[0m     \u001b[39m# If we have a listlike key, _check_indexing_error will raise\u001b[39;00m\n\u001b[0;32m   3634\u001b[0m     \u001b[39m#  InvalidIndexError. Otherwise we fall through and re-raise\u001b[39;00m\n\u001b[0;32m   3635\u001b[0m     \u001b[39m#  the TypeError.\u001b[39;00m\n\u001b[0;32m   3636\u001b[0m     \u001b[39mself\u001b[39m\u001b[39m.\u001b[39m_check_indexing_error(key)\n",
      "\u001b[1;31mKeyError\u001b[0m: 'label_1'"
     ]
    }
   ],
   "source": []
  }
 ],
 "metadata": {
  "kernelspec": {
   "display_name": "base",
   "language": "python",
   "name": "python3"
  },
  "language_info": {
   "codemirror_mode": {
    "name": "ipython",
    "version": 3
   },
   "file_extension": ".py",
   "mimetype": "text/x-python",
   "name": "python",
   "nbconvert_exporter": "python",
   "pygments_lexer": "ipython3",
   "version": "3.9.15"
  },
  "orig_nbformat": 4,
  "vscode": {
   "interpreter": {
    "hash": "506d36080a2bbc5570e5de853790e118d9731f133330a1c9209f1f627272d5a7"
   }
  }
 },
 "nbformat": 4,
 "nbformat_minor": 2
}
