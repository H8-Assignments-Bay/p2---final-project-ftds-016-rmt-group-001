{
 "cells": [
  {
   "cell_type": "code",
   "execution_count": 8,
   "metadata": {},
   "outputs": [
    {
     "name": "stderr",
     "output_type": "stream",
     "text": [
      "[nltk_data] Downloading package punkt to /Users/jason/nltk_data...\n",
      "[nltk_data]   Package punkt is already up-to-date!\n",
      "[nltk_data] Downloading package averaged_perceptron_tagger to\n",
      "[nltk_data]     /Users/jason/nltk_data...\n",
      "[nltk_data]   Package averaged_perceptron_tagger is already up-to-\n",
      "[nltk_data]       date!\n"
     ]
    },
    {
     "data": {
      "text/plain": [
       "label 2  result\n",
       "0        Reject    130\n",
       "1        Reject     27\n",
       "0        Accept     25\n",
       "dtype: int64"
      ]
     },
     "execution_count": 8,
     "metadata": {},
     "output_type": "execute_result"
    }
   ],
   "source": [
    "import nltk\n",
    "nltk.download('punkt')\n",
    "nltk.download('averaged_perceptron_tagger')\n",
    "import pandas as pd\n",
    "\n",
    "def categorize_comment(row, symbols):\n",
    "  comment = row['comment']\n",
    "\n",
    "  # Tokenisasi komentar menjadi kata-kata\n",
    "  words = nltk.word_tokenize(comment)\n",
    "\n",
    "  # Menggunakan Porter Stemmer untuk mengubah kata-kata menjadi bentuk dasar\n",
    "  stemmer = nltk.PorterStemmer()\n",
    "  stemmed_words = [stemmer.stem(word) for word in words]\n",
    "\n",
    "  # Menggunakan part-of-speech tagging untuk mengidentifikasi jenis kata\n",
    "  pos_tags = nltk.pos_tag(words)\n",
    "\n",
    "  # Cek apakah komentar merupakan pertanyaan saham\n",
    "  if 'apa' in stemmed_words or 'kenapa' in stemmed_words or 'bagaimana' in stemmed_words or 'gimana' in stemmed_words or 'kapan' in stemmed_words or 'dimana' in stemmed_words or 'siapa' in stemmed_words:\n",
    "    return \"Reject\"\n",
    "\n",
    "  # Cari subjek komentar\n",
    "  subject = None\n",
    "  for word, pos in pos_tags:\n",
    "    if pos == 'NN' or pos == 'NNP':\n",
    "      subject = word\n",
    "      break\n",
    "\n",
    "  # Jika tidak ada subjek komentar, maka ACCEPT\n",
    "  if subject is None:\n",
    "    return \"Accept\"\n",
    "\n",
    "  # Cari symbol pertama dari subjek komentar\n",
    "  for symbol in symbols:\n",
    "    if stemmer.stem(symbol) == stemmer.stem(subject):\n",
    "      return \"Accept\"\n",
    "\n",
    "  # Jika tidak ditemukan symbol yang cocok, maka REJECT\n",
    "  return \"Reject\"\n",
    "\n",
    "# Contoh penggunaan fungsi\n",
    "symbols = ['FISH', 'PSGO', 'JARR', 'DLTA', 'MGRO', 'ANJT', 'BWPT', 'KEJU', 'ICBP', 'CPIN']\n",
    "\n",
    "df = pd.read_csv('../ICBP_MLBI_labeled.csv')\n",
    "\n",
    "df['result'] = df.apply(lambda row: categorize_comment(row, symbols), axis=1)\n",
    "df[['label 2', 'result']].value_counts()"
   ]
  }
 ],
 "metadata": {
  "kernelspec": {
   "display_name": "Python 3",
   "language": "python",
   "name": "python3"
  },
  "language_info": {
   "codemirror_mode": {
    "name": "ipython",
    "version": 3
   },
   "file_extension": ".py",
   "mimetype": "text/x-python",
   "name": "python",
   "nbconvert_exporter": "python",
   "pygments_lexer": "ipython3",
   "version": "3.10.8"
  },
  "orig_nbformat": 4,
  "vscode": {
   "interpreter": {
    "hash": "aee8b7b246df8f9039afb4144a1f6fd8d2ca17a180786b69acc140d282b71a49"
   }
  }
 },
 "nbformat": 4,
 "nbformat_minor": 2
}
