{
 "cells": [
  {
   "attachments": {},
   "cell_type": "markdown",
   "metadata": {},
   "source": [
    "# Test"
   ]
  },
  {
   "cell_type": "code",
   "execution_count": 4,
   "metadata": {},
   "outputs": [
    {
     "data": {
      "text/plain": [
       "<Response [200]>"
      ]
     },
     "execution_count": 4,
     "metadata": {},
     "output_type": "execute_result"
    }
   ],
   "source": [
    "import requests\n",
    "page = requests.get(\"https://stockbit.com/#/symbol/ICBP\")\n",
    "page"
   ]
  },
  {
   "cell_type": "code",
   "execution_count": 5,
   "metadata": {},
   "outputs": [],
   "source": [
    "from selenium import webdriver\n",
    "from selenium.webdriver.chrome.service import Service as ChromeService\n",
    "from webdriver_manager.chrome import ChromeDriverManager\n",
    "driver = webdriver.Chrome(service=ChromeService(ChromeDriverManager().install()))"
   ]
  },
  {
   "cell_type": "code",
   "execution_count": 6,
   "metadata": {},
   "outputs": [],
   "source": [
    "# scroll test\n",
    "driver.execute_script(\"window.scrollBy(0,document.body.scrollHeight)\", \"\")"
   ]
  },
  {
   "cell_type": "code",
   "execution_count": 7,
   "metadata": {},
   "outputs": [
    {
     "ename": "NoSuchWindowException",
     "evalue": "Message: no such window: target window already closed\nfrom unknown error: web view not found\n  (Session info: chrome=108.0.5359.124)\nStacktrace:\n0   chromedriver                        0x0000000102cefb7c chromedriver + 4209532\n1   chromedriver                        0x0000000102c7b418 chromedriver + 3732504\n2   chromedriver                        0x000000010292e368 chromedriver + 271208\n3   chromedriver                        0x00000001029096fc chromedriver + 120572\n4   chromedriver                        0x000000010298e660 chromedriver + 665184\n5   chromedriver                        0x00000001029a0fbc chromedriver + 741308\n6   chromedriver                        0x000000010295c59c chromedriver + 460188\n7   chromedriver                        0x000000010295d644 chromedriver + 464452\n8   chromedriver                        0x0000000102cc130c chromedriver + 4018956\n9   chromedriver                        0x0000000102cc4fd8 chromedriver + 4034520\n10  chromedriver                        0x0000000102ccb11c chromedriver + 4059420\n11  chromedriver                        0x0000000102cc5bac chromedriver + 4037548\n12  chromedriver                        0x0000000102c9fbb0 chromedriver + 3881904\n13  chromedriver                        0x0000000102ce2120 chromedriver + 4153632\n14  chromedriver                        0x0000000102ce2274 chromedriver + 4153972\n15  chromedriver                        0x0000000102cf682c chromedriver + 4237356\n16  libsystem_pthread.dylib             0x0000000199ae026c _pthread_start + 148\n17  libsystem_pthread.dylib             0x0000000199adb08c thread_start + 8\n",
     "output_type": "error",
     "traceback": [
      "\u001b[0;31m---------------------------------------------------------------------------\u001b[0m",
      "\u001b[0;31mNoSuchWindowException\u001b[0m                     Traceback (most recent call last)",
      "Cell \u001b[0;32mIn [7], line 5\u001b[0m\n\u001b[1;32m      1\u001b[0m \u001b[39mfrom\u001b[39;00m \u001b[39mselenium\u001b[39;00m\u001b[39m.\u001b[39;00m\u001b[39mwebdriver\u001b[39;00m\u001b[39m.\u001b[39;00m\u001b[39mcommon\u001b[39;00m\u001b[39m.\u001b[39;00m\u001b[39mby\u001b[39;00m \u001b[39mimport\u001b[39;00m By\n\u001b[1;32m      3\u001b[0m driver\u001b[39m.\u001b[39mget(\u001b[39m\"\u001b[39m\u001b[39mhttps://stockbit.com/symbol/ICBP\u001b[39m\u001b[39m\"\u001b[39m)\n\u001b[0;32m----> 5\u001b[0m comment_elements \u001b[39m=\u001b[39m driver\u001b[39m.\u001b[39;49mfind_elements(by\u001b[39m=\u001b[39;49mBy\u001b[39m.\u001b[39;49mCLASS_NAME, value\u001b[39m=\u001b[39;49m\u001b[39m\"\u001b[39;49m\u001b[39mstream-text\u001b[39;49m\u001b[39m\"\u001b[39;49m)\n\u001b[1;32m      7\u001b[0m comments \u001b[39m=\u001b[39m \u001b[39mlist\u001b[39m()\n\u001b[1;32m      9\u001b[0m \u001b[39mfor\u001b[39;00m index, element \u001b[39min\u001b[39;00m \u001b[39menumerate\u001b[39m(comment_elements):\n",
      "File \u001b[0;32m/Library/Frameworks/Python.framework/Versions/3.10/lib/python3.10/site-packages/selenium/webdriver/remote/webdriver.py:889\u001b[0m, in \u001b[0;36mWebDriver.find_elements\u001b[0;34m(self, by, value)\u001b[0m\n\u001b[1;32m    885\u001b[0m     value \u001b[39m=\u001b[39m \u001b[39m'\u001b[39m\u001b[39m[name=\u001b[39m\u001b[39m\"\u001b[39m\u001b[39m%s\u001b[39;00m\u001b[39m\"\u001b[39m\u001b[39m]\u001b[39m\u001b[39m'\u001b[39m \u001b[39m%\u001b[39m value\n\u001b[1;32m    887\u001b[0m \u001b[39m# Return empty list if driver returns null\u001b[39;00m\n\u001b[1;32m    888\u001b[0m \u001b[39m# See https://github.com/SeleniumHQ/selenium/issues/4555\u001b[39;00m\n\u001b[0;32m--> 889\u001b[0m \u001b[39mreturn\u001b[39;00m \u001b[39mself\u001b[39;49m\u001b[39m.\u001b[39;49mexecute(Command\u001b[39m.\u001b[39;49mFIND_ELEMENTS, {\n\u001b[1;32m    890\u001b[0m     \u001b[39m'\u001b[39;49m\u001b[39musing\u001b[39;49m\u001b[39m'\u001b[39;49m: by,\n\u001b[1;32m    891\u001b[0m     \u001b[39m'\u001b[39;49m\u001b[39mvalue\u001b[39;49m\u001b[39m'\u001b[39;49m: value})[\u001b[39m'\u001b[39m\u001b[39mvalue\u001b[39m\u001b[39m'\u001b[39m] \u001b[39mor\u001b[39;00m []\n",
      "File \u001b[0;32m/Library/Frameworks/Python.framework/Versions/3.10/lib/python3.10/site-packages/selenium/webdriver/remote/webdriver.py:429\u001b[0m, in \u001b[0;36mWebDriver.execute\u001b[0;34m(self, driver_command, params)\u001b[0m\n\u001b[1;32m    427\u001b[0m response \u001b[39m=\u001b[39m \u001b[39mself\u001b[39m\u001b[39m.\u001b[39mcommand_executor\u001b[39m.\u001b[39mexecute(driver_command, params)\n\u001b[1;32m    428\u001b[0m \u001b[39mif\u001b[39;00m response:\n\u001b[0;32m--> 429\u001b[0m     \u001b[39mself\u001b[39;49m\u001b[39m.\u001b[39;49merror_handler\u001b[39m.\u001b[39;49mcheck_response(response)\n\u001b[1;32m    430\u001b[0m     response[\u001b[39m'\u001b[39m\u001b[39mvalue\u001b[39m\u001b[39m'\u001b[39m] \u001b[39m=\u001b[39m \u001b[39mself\u001b[39m\u001b[39m.\u001b[39m_unwrap_value(\n\u001b[1;32m    431\u001b[0m         response\u001b[39m.\u001b[39mget(\u001b[39m'\u001b[39m\u001b[39mvalue\u001b[39m\u001b[39m'\u001b[39m, \u001b[39mNone\u001b[39;00m))\n\u001b[1;32m    432\u001b[0m     \u001b[39mreturn\u001b[39;00m response\n",
      "File \u001b[0;32m/Library/Frameworks/Python.framework/Versions/3.10/lib/python3.10/site-packages/selenium/webdriver/remote/errorhandler.py:243\u001b[0m, in \u001b[0;36mErrorHandler.check_response\u001b[0;34m(self, response)\u001b[0m\n\u001b[1;32m    241\u001b[0m         alert_text \u001b[39m=\u001b[39m value[\u001b[39m'\u001b[39m\u001b[39malert\u001b[39m\u001b[39m'\u001b[39m]\u001b[39m.\u001b[39mget(\u001b[39m'\u001b[39m\u001b[39mtext\u001b[39m\u001b[39m'\u001b[39m)\n\u001b[1;32m    242\u001b[0m     \u001b[39mraise\u001b[39;00m exception_class(message, screen, stacktrace, alert_text)  \u001b[39m# type: ignore[call-arg]  # mypy is not smart enough here\u001b[39;00m\n\u001b[0;32m--> 243\u001b[0m \u001b[39mraise\u001b[39;00m exception_class(message, screen, stacktrace)\n",
      "\u001b[0;31mNoSuchWindowException\u001b[0m: Message: no such window: target window already closed\nfrom unknown error: web view not found\n  (Session info: chrome=108.0.5359.124)\nStacktrace:\n0   chromedriver                        0x0000000102cefb7c chromedriver + 4209532\n1   chromedriver                        0x0000000102c7b418 chromedriver + 3732504\n2   chromedriver                        0x000000010292e368 chromedriver + 271208\n3   chromedriver                        0x00000001029096fc chromedriver + 120572\n4   chromedriver                        0x000000010298e660 chromedriver + 665184\n5   chromedriver                        0x00000001029a0fbc chromedriver + 741308\n6   chromedriver                        0x000000010295c59c chromedriver + 460188\n7   chromedriver                        0x000000010295d644 chromedriver + 464452\n8   chromedriver                        0x0000000102cc130c chromedriver + 4018956\n9   chromedriver                        0x0000000102cc4fd8 chromedriver + 4034520\n10  chromedriver                        0x0000000102ccb11c chromedriver + 4059420\n11  chromedriver                        0x0000000102cc5bac chromedriver + 4037548\n12  chromedriver                        0x0000000102c9fbb0 chromedriver + 3881904\n13  chromedriver                        0x0000000102ce2120 chromedriver + 4153632\n14  chromedriver                        0x0000000102ce2274 chromedriver + 4153972\n15  chromedriver                        0x0000000102cf682c chromedriver + 4237356\n16  libsystem_pthread.dylib             0x0000000199ae026c _pthread_start + 148\n17  libsystem_pthread.dylib             0x0000000199adb08c thread_start + 8\n"
     ]
    }
   ],
   "source": [
    "from selenium.webdriver.common.by import By\n",
    "\n",
    "driver.get(\"https://stockbit.com/symbol/ICBP\")\n",
    "\n",
    "comment_elements = driver.find_elements(by=By.CLASS_NAME, value=\"stream-text\")\n",
    "\n",
    "comments = list()\n",
    "\n",
    "for index, element in enumerate(comment_elements):\n",
    "    print(index, element.text, \"\\n\")\n",
    "    comments.append(element.text)"
   ]
  },
  {
   "cell_type": "code",
   "execution_count": null,
   "metadata": {},
   "outputs": [],
   "source": [
    "date_elements = driver.find_elements(by=By.XPATH, value=\"//div[@class='stream-date']\")\n",
    "\n",
    "date = list()\n",
    "\n",
    "for index, element in enumerate(date_elements):\n",
    "    print(index, element.text, \"\\n\")\n",
    "    date.append(element.text)"
   ]
  },
  {
   "cell_type": "code",
   "execution_count": null,
   "metadata": {},
   "outputs": [],
   "source": [
    "for a, b in zip([1,2], [3,4]):\n",
    "    print(a,b)"
   ]
  },
  {
   "cell_type": "code",
   "execution_count": null,
   "metadata": {},
   "outputs": [],
   "source": [
    "from dateutil import parser\n",
    "parser.parse(\"1 Oct 22, 15:00\") >= parser.parse(\"1 Oct 22\")"
   ]
  },
  {
   "cell_type": "code",
   "execution_count": null,
   "metadata": {},
   "outputs": [],
   "source": [
    "parser.parse(\"4 Dec 22, 19:42 · Edited on 14 Dec 22, 21:29\"[:16])"
   ]
  },
  {
   "cell_type": "code",
   "execution_count": null,
   "metadata": {},
   "outputs": [],
   "source": [
    "date_elements = driver.find_elements(by=By.XPATH, value=\"//div[@class='stream-date']\")\n",
    "\n",
    "while True:\n",
    "    # Handle: ParserError: Unknown string format: 14 Dec 22, 19:42 · Edited on 14 Dec 22, 21:29\n",
    "    if parser.parse(date_elements[-2].text[:16]) >= parser.parse(\"1 Oct 22\"):\n",
    "        driver.execute_script(\"window.scrollBy(0,document.body.scrollHeight)\", \"\")\n",
    "        date_elements = driver.find_elements(by=By.XPATH, value=\"//div[@class='stream-date']\")\n",
    "    else:\n",
    "        break\n",
    "    "
   ]
  },
  {
   "cell_type": "code",
   "execution_count": null,
   "metadata": {},
   "outputs": [],
   "source": [
    "# No guarantee that Selenium will stop in 1 Oct 22.\n",
    "date_elements[-2].text"
   ]
  },
  {
   "cell_type": "code",
   "execution_count": null,
   "metadata": {},
   "outputs": [],
   "source": [
    "from random import randint\n",
    "\n",
    "randint(5,10)"
   ]
  },
  {
   "cell_type": "code",
   "execution_count": null,
   "metadata": {},
   "outputs": [],
   "source": [
    "symbols = [\"ICBP\", \"CPIN\", \"INDF\", \"MYOR\", \"CMRY\", \"GOOD\", \"MLBI\"]\n",
    "\n",
    "for symbol in symbols:\n",
    "    print(f\"https://stockbit.com/symbol/{symbol}\")"
   ]
  },
  {
   "cell_type": "code",
   "execution_count": null,
   "metadata": {},
   "outputs": [],
   "source": [
    "import pandas as pd\n",
    "\n",
    "df = pd.DataFrame()\n",
    "df['date'] = ['30 Sep 22, 09:22', '30 Sep 22, 09:23']\n",
    "df['comment'] = ['$ICBP', '$ICBP2']\n",
    "df['symbol'] = 'ICBP'\n",
    "\n",
    "df_c = pd.DataFrame()\n",
    "\n",
    "df_c['date'] = ['30 Sep 22, 09:22']\n",
    "df_c['comment'] = ['$ICBP']\n",
    "df_c['symbol'] = 'ICBP'\n",
    "\n",
    "pd.concat([df, df_c])"
   ]
  },
  {
   "cell_type": "code",
   "execution_count": null,
   "metadata": {},
   "outputs": [],
   "source": [
    "for index, (a, b) in enumerate(zip([1,2], [3,4])):\n",
    "    print(index, a, b)"
   ]
  },
  {
   "attachments": {},
   "cell_type": "markdown",
   "metadata": {},
   "source": [
    "# Scraping"
   ]
  },
  {
   "cell_type": "code",
   "execution_count": null,
   "metadata": {},
   "outputs": [],
   "source": [
    "symbols = [\"ICBP\", \"CPIN\", \"INDF\", \"MYOR\", \"CMRY\", \"GOOD\", \"MLBI\"]\n",
    "\n",
    "from time import sleep\n",
    "\n",
    "df = pd.DataFrame()\n",
    "\n",
    "for symbol in symbols:\n",
    "    driver.get(f\"https://stockbit.com/symbol/{symbol}\")\n",
    "    \n",
    "    while True:\n",
    "        date_elements = driver.find_elements(by=By.XPATH, value=\"//div[@class='stream-date']\")\n",
    "        \n",
    "        # Handle: IndexError: list index out of range\n",
    "        if len(date_elements) != 0:\n",
    "            break\n",
    "\n",
    "    while True:\n",
    "        # date_elements[-2] Handle: StaleElementReferenceException or ''\n",
    "        # .text[:16] Handle: ParserError: Unknown string format: 14 Dec 22, 19:42 · Edited on 14 Dec 22, 21:29\n",
    "        if parser.parse(date_elements[-2].text[:16]) >= parser.parse(\"1 Oct 22\"):\n",
    "            driver.execute_script(\"window.scrollBy(0,document.body.scrollHeight)\", \"\")\n",
    "            date_elements = driver.find_elements(by=By.XPATH, value=\"//div[@class='stream-date']\")\n",
    "        else:\n",
    "            break\n",
    "    \n",
    "    # value='stream-text-single' Handle: prevent Repost to be included in the comment_elements    \n",
    "    comment_elements = driver.find_elements(by=By.CLASS_NAME, value=\"stream-text-single\")\n",
    "    \n",
    "    dates = list()\n",
    "    comments = list()\n",
    "    \n",
    "    for index, (date_element, comment_element) in enumerate(zip(date_elements, comment_elements)):\n",
    "        # print(date_element.text, comment_element.text, \"\\n\")\n",
    "        \n",
    "        # Handle: StaleElementReferenceException or ''\n",
    "        if index == len(date_elements) - 1:\n",
    "            break\n",
    "        \n",
    "        dates.append(date_element.text)\n",
    "        comments.append(comment_element.text)\n",
    "        \n",
    "    print(f'symbol {symbol} '\n",
    "          f'date_elements {len(date_elements)} dates {len(dates)} '\n",
    "          f'comment_elements {len(comment_elements)} comments {len(comments)} ')\n",
    "    \n",
    "    df_c = pd.DataFrame()\n",
    "    df_c['date'] = dates\n",
    "    df_c['comment'] = comments\n",
    "    df_c['symbol'] = symbol\n",
    "    \n",
    "    df = pd.concat([df, df_c])\n",
    "    \n",
    "    sleep(randint(5,10))"
   ]
  },
  {
   "cell_type": "code",
   "execution_count": null,
   "metadata": {},
   "outputs": [],
   "source": [
    "# <div class=\"stream-text-single\">\n",
    "#   <a class=\"ext-link-indicator postid-9756129\" data-entity-id=\"9756129\" href=\"http://bit.ly/3bLj4Oc\">http://bit.ly/3bLj4Oc</a>\n",
    "# </div class=\"stream-text-single\">\n",
    "# the <a class..> won't be included.\n",
    "df.iloc[444]['comment']"
   ]
  },
  {
   "cell_type": "code",
   "execution_count": null,
   "metadata": {},
   "outputs": [],
   "source": [
    "df.to_csv(\"ICBP_MLBI.csv\", index=False)"
   ]
  },
  {
   "attachments": {},
   "cell_type": "markdown",
   "metadata": {},
   "source": [
    "# Test"
   ]
  },
  {
   "cell_type": "code",
   "execution_count": null,
   "metadata": {},
   "outputs": [],
   "source": [
    "import pandas as pd\n",
    "from dateutil import parser\n",
    "\n",
    "df = pd.read_csv(\"./ICBP_MLBI.csv\")\n",
    "\n",
    "# df['date'] = df['date'].apply(lambda row: parser.parse(row[:16]))\n",
    "df.head()"
   ]
  },
  {
   "cell_type": "code",
   "execution_count": null,
   "metadata": {},
   "outputs": [],
   "source": [
    "def get_comment(index):\n",
    "    print(df['symbol'][index])\n",
    "    print(df['comment'][index])"
   ]
  },
  {
   "cell_type": "code",
   "execution_count": null,
   "metadata": {},
   "outputs": [],
   "source": [
    "def set_label(index: int, label_1: int, label_2: int):\n",
    "    df.loc[index, 'label 1'] = label_1\n",
    "    df.loc[index, 'label 2'] = label_2"
   ]
  },
  {
   "cell_type": "code",
   "execution_count": null,
   "metadata": {},
   "outputs": [],
   "source": [
    "# get index after ICBP\n",
    "print(df['symbol'].ne('ICBP').idxmax())\n",
    "print(df['symbol'][460])"
   ]
  },
  {
   "cell_type": "code",
   "execution_count": null,
   "metadata": {},
   "outputs": [],
   "source": [
    "import numpy as np\n",
    "df['label 1'] = np.nan\n",
    "df['label 2'] = np.nan\n",
    "# index 0, sentiment neutral, type not spam\n",
    "set_label(0, 0, 0)\n",
    "# $ICBP\n",
    "set_label(1, 0, 0)\n",
    "# $GOTO main di 90 an aja ya kamu g usah kemana2, biar $ASII $TLKM $ADRO $ICBP dan bluechip yg lain bisa ngasih windress.\n",
    "set_label(2, 0, 0)\n",
    "# Info Singkat saham untuk 15 Desember 2022 (bukan rekomendasi jual-beli) :\n",
    "set_label(3, 0, 0)\n",
    "# @godbless @handusene sejak periode lockup open YU memang paling kenceng buang barang. Tapi hari ini YU gak manggung, CC jadi pemain utama.\n",
    "set_label(4, 1, 0)\n",
    "# $ULTJ fix tambah nyungsep liat chart kaya gini 🤯🤯\n",
    "set_label(5, 1, 0)\n",
    "# $HOKI yang merevolusi untuk menjadi $SRTG dikemudian hari, rasanya.\n",
    "set_label(6, 2, 0)\n",
    "# Risiko saham\n",
    "set_label(7, 1, 0)\n",
    "# Ko saya rada skeptis ya gaiss dengan kenaikan $GOTO hari ini. i mean, anjerr kalo beban yauda beban aja gt loo gausa ngesok naik segala terus besok2annya malah turun terus lagi..\n",
    "set_label(8, 1, 0)\n",
    "# $ICBP $INDF tes ombak ah...\n",
    "set_label(9, 1, 0)\n",
    "# Mirae Asset Sekuritas Indonesia Embun Pagi (13 Desember 2022)\n",
    "set_label(10, 0, 0)\n",
    "set_label(11, 2, 0)\n",
    "set_label(12, 2, 0)\n",
    "set_label(13, 2, 0)\n",
    "set_label(14, 0, 0)\n",
    "# IHSG Hari Ini Sulit Bangkit, Cek Saham BBRI, ICBP, hingga AKRA\n",
    "set_label(15, 1, 0)\n",
    "set_label(16, 2, 0)\n",
    "set_label(17, 2, 0)\n",
    "# Harga Kontainer Back To Normal\n",
    "set_label(18, 0, 0)\n",
    "# Join Zoom Meeting\n",
    "set_label(19, 0, 1)\n",
    "# Why KMDS ?\n",
    "set_label(20, 2, 0)\n",
    "set_label(21, 0, 0)\n",
    "# @JS999 gw juga mau nuntut $ICBP mie soto gw g ada trauma makan mie soto,sekarang lebih milih makan mie goreng rendang\n",
    "set_label(22, 0, 0)\n",
    "# @JS999 makan Indomie lah ; biar $ICBP naik ..:)\n",
    "set_label(23, 2, 0)\n",
    "# Iya itulah, bukan hanya di Indonesia Pak. hampir disetiap negara kalau boleh transportasi itu gratis.\n",
    "set_label(24, 0, 0)\n",
    "set_label(25, 0, 0)\n",
    "# Tertekan Akibat Harga Bahan Baku, Potensi Cuan Saham Indofood CBP (ICBP) Tetap Tinggi\n",
    "set_label(26, 2, 0)\n",
    "# Tertekan Akibat Harga Bahan Baku, Potensi Cuan Saham Indofood CBP (ICBP) Tetap Tinggi\n",
    "set_label(27, 0, 0)\n",
    "set_label(28, 0, 0)\n",
    "set_label(29, 0, 0)\n",
    "# $ICBP serius nanya parah suhu, udh lama ga lihat saham ini 3 bulanan bukan nya di 8 / 9rb.. sekarang koq naik ke 10rb ... ada apa gerangan ni , masih aman kah kalau masuk sekarang\n",
    "set_label(30, 0, 0)\n",
    "set_label(31, 0, 0)\n",
    "set_label(32, 0, 0)\n",
    "# ...\n",
    "set_label(33, 0, 0)\n",
    "set_label(34, 0, 0)\n",
    "# $BBYB sesi 2 ARB kayanya\n",
    "set_label(35, 1, 0)\n",
    "# $ULTJ emang overhype IHSG turun kok malah naek sendiri\n",
    "set_label(36, 1, 0)\n",
    "# Stockpick : $ICBP Trading Buy TP 10.675\n",
    "set_label(37, 2, 0)\n",
    "# Kumpulan Artikel Pengaruh Jumlah Kepemilikan Investor Ritel terhadap Pergerakan Harga Saham\n",
    "set_label(38, 0, 1)\n",
    "# Pada tanggal 6 Desember 2022, $ICBP ditutup di titik tertingginya per hari ini di angka 10350, naik 0 poin (0,00%) dari harga closing kemarin. Secara teknikal dalam timeframe daily, harga ditutup di atas trend line di angka 10093,856. Sinyal BUY muncul sejak 7 November 2022, dan sinyal SPEC. SELL sempat muncul pada tanggal 18 November 2022 dan 22 November 2022.\n",
    "set_label(39, 0, 0)\n",
    "# Industry yg akan bertahan di akhir 2022 & Stockpick Q1 2023 yg mungkin udah banyak berseliweran apakah mungkin beli sekarang langsung naik ?\n",
    "set_label(40, 0, 0)\n",
    "# Mandiri Sekuritas: IHSG Sideways, Empat Saham Layak Dikoleksi Hari ini\n",
    "set_label(41, 2, 0)\n",
    "# izin belajar tentang $BOSS di @stockbit\n",
    "#\n",
    "#\n",
    "#\n",
    "#\n",
    "# saya juga jualan produk indomie, kopi, gula dll. $ICBP $INDF $MYOR , boleh bapak/ibu berkenan beli dagangan saya. terima kasih\n",
    "set_label(42, 0, 1)\n",
    "set_label(43, 0, 0)\n",
    "# @BimaAdiWiryo @RudiAlexander @Gungun08 @Tamami29 untuk saham $$INDF dan $ICBP prospeknya ud gak menarik karena selain labanya juga lagi turun, suka ada aksi2 yang merugikan pemegang saham seperti akuisisi pinehill yang bikin arus cashflow ke investor minoritas ngadat2 karena bayar hutang.. buat rekomendasi saham or buat yang mau nanya-nanya saham silahkan di follow ya\n",
    "set_label(44, 1, 0)\n",
    "# Skydrugz Corner: Emiten Dengan Goodwill Terbesar di Bursa\n",
    "set_label(45, 1, 0)\n",
    "set_label(46, 2, 0)\n",
    "# @parsaulianpurba happy Cuan $ICBP\n",
    "set_label(47, 2, 0)\n",
    "# Analog switch off untuk jawa barat-tengah-timur sudah efektif awal desember ini.. another positive news buat emiten media kayak $SCMA ..\n",
    "set_label(48, 2, 0)\n",
    "set_label(49, 2, 0)\n",
    "set_label(50, 0, 0)\n",
    "set_label(51, 0, 0)\n",
    "set_label(52, 0, 0)\n",
    "set_label(53, 2, 0)\n",
    "# kayaknya bentar lg ngoceh $INDF ma $ICBP ini abis makan indomie\n",
    "set_label(54, 2, 0)\n",
    "set_label(55, 1, 0)\n",
    "# \" Jangan membeli saham karna anda suka produknya, tapi beli lah saham karna anda paham bisnisnya maupun paham karakter dari ownernya \"\n",
    "set_label(56, 0, 0)\n",
    "set_label(57, 2, 0)\n",
    "set_label(58, 0, 0)\n",
    "set_label(59, 0, 0)\n",
    "# The essay for tech companies and tech adoption\n",
    "set_label(60, 0, 1)\n",
    "set_label(61, 0, 0)\n",
    "set_label(62, 0, 0)\n",
    "# Jenis Keunggulan Kompetitif\n",
    "set_label(63, 0, 1)\n",
    "set_label(64, 0, 0)\n",
    "set_label(65, 0, 1)\n",
    "set_label(66, 0, 1)\n",
    "# Kendala modal dalam investasi\n",
    "set_label(67, 0, 1)\n",
    "set_label(68, 0, 0)\n",
    "# @Elite saya tahun depan ingin fokus ke consumer goods, seperti $INDF, $ICBP $MYOR. karena mendekati tahun pemilu, biasanya suka ada bagi2 sembako/barang makanan lain. Diharapkan dapat meningkatkan sales.\n",
    "set_label(69, 0, 0)\n",
    "set_label(70, 0, 0)\n",
    "set_label(71, 1, 0)\n",
    "set_label(72, 2, 0)\n",
    "set_label(73, 1, 0)\n",
    "set_label(74, 0, 1)\n",
    "set_label(75, 1, 0)\n",
    "set_label(76, 1, 0)\n",
    "set_label(77, 0, 0)\n",
    "set_label(78, 1, 0)\n",
    "set_label(79, 0, 0)\n",
    "set_label(80, 0, 1)\n",
    "set_label(81, 0, 0)\n",
    "set_label(82, 1, 0)\n",
    "set_label(83, 0, 0)\n",
    "# $INDF $ICBP, lumayaaan...\n",
    "# Revenue YOY Q3 naik 11%, QOQ naik 10,6%\n",
    "# \n",
    "# Tapi net profitnya YOY turun (6,7 T vs 8 T) ?\n",
    "# Iya karena kena beban keuangan sebesar 5,4 T dimana 3,1 T nya itu adalah RUGI NETO atas SELISIH NILAI TUKAR MATA UANG (lihat catatan kaki 31). Simplenya karena dollarnya sekarang ada di Rp. 15,727, kalau nanti dollar balik ke Rp 13,600 ya RUGI NETO 3,1 T ini semua hilang karena rugi kurs ini BELUM di REALIZED sampai jatuhnya tempo pembayaran obligasi INDF di 2031 dan 2051\n",
    "# \n",
    "# Kalau rugi kurs ini kita abaikan, artinya net profit INDF harusnya 9,8 T... Dimana artinya naik sekitar 20% dibandingkan tahun lalu.. Yaa not bad lah...\n",
    "set_label(84, 0, 0)\n",
    "set_label(85, 0, 1)\n",
    "set_label(86, 2, 0)\n",
    "set_label(87, 0, 0)\n",
    "set_label(88, 1, 0)\n",
    "set_label(89, 2, 0)\n",
    "set_label(90, 0, 0)\n",
    "set_label(91, 0, 0)\n",
    "set_label(92, 0, 1)\n",
    "set_label(93, 0, 0)\n",
    "set_label(94, 0, 1)\n",
    "set_label(95, 2, 0)\n",
    "set_label(96, 0, 1)\n",
    "set_label(97, 0, 0)\n",
    "set_label(98, 0, 0)\n",
    "set_label(99, 0, 0)\n",
    "# $ICBP selamat kepada top holding stockbit yang beli avg 10.000\n",
    "set_label(100, 0, 0)\n",
    "set_label(460, 2, 0)\n",
    "set_label(461, 1, 0)\n",
    "set_label(462, 0, 0)\n",
    "set_label(463, 0, 0)\n",
    "# NH Morning Brief – Dec. 14, 2022\n",
    "set_label(464, 0, 1)\n",
    "set_label(465, 0, 0)\n",
    "# $JPFA $CPIN $CPRO $WMUU\n",
    "# \n",
    "# Q4 biasanya revenue naik. Cocok di collect nih\n",
    "set_label(466, 2, 0)\n",
    "set_label(467, 0, 0)\n",
    "set_label(468, 0, 0)\n",
    "set_label(469, 2, 0)\n",
    "set_label(470, 0, 1)\n",
    "set_label(471, 0, 1)\n",
    "set_label(472, 0, 1)\n",
    "set_label(473, 1, 0)\n",
    "set_label(474, 2, 0)\n",
    "set_label(475, 1, 0)\n",
    "set_label(476, 0, 0)\n",
    "set_label(477, 0, 0)\n",
    "# Nov_Des 2022 \"seru\" yah gocekan gerak harga saham. Nggak mau kalah dg gocekan Richarlison Brasil pada WorldCup kali ini... 😂\n",
    "set_label(478, 0, 0)\n",
    "set_label(479, 1, 0)\n",
    "set_label(480, 0, 1)\n",
    "set_label(481, 2, 0)\n",
    "set_label(482, 1, 0)\n",
    "# Raja Hutang semua itu kecuali $CPIN\n",
    "set_label(483, 1, 0)\n",
    "set_label(484, 0, 0)\n",
    "# Skydrugz Corner: Emiten Pakan Ternak Undervalued?\n",
    "# \n",
    "# Di postingan sebelumnya kita sudah bahas saham LQ45 https://cutt.ly/l1XlWpG\n",
    "set_label(485, 0, 1)\n",
    "set_label(486, 2, 0)\n",
    "set_label(487, 2, 0)\n",
    "# ayam-ayam 🐤\n",
    "# \n",
    "# $JPFA kenapa lesu yah...\n",
    "# \n",
    "# $MAIN $CPIN\n",
    "# \n",
    "# memang semua sektor ada musimnya\n",
    "set_label(488, 1, 0)\n",
    "set_label(489, 0, 1)\n",
    "set_label(490, 1, 0)\n",
    "set_label(491, 1, 0)\n",
    "set_label(492, 0, 0)\n",
    "# $CPIN .. untuk ekspor bibit ayam sgt sulit, begitu ketat, byk uji laboratorium khusus nya mikrobiologi, dan saat ini cpin bs ekspor ke Singapura dan Timor Leste. emiten ini emang market leader nya di poultry, manajemen disini jd rujukan kompetitor nya, dan kebetulan saya pernah kerja disini. Oya liburan nataru bisa jd sentimen positif tuk poultry, selain inflasi yg akan melandai, harga komoditas yg mulai downtrend.\n",
    "set_label(493, 2, 0)\n",
    "set_label(494, 0, 0)\n",
    "set_label(495, 0, 0)\n",
    "set_label(496, 2, 0)\n",
    "set_label(497, 1, 0)\n",
    "# $CPIN break 5700 yuk\n",
    "set_label(498, 2, 0)\n",
    "set_label(499, 2, 0)\n",
    "set_label(500, 0, 0)\n",
    "set_label(501, 0, 0)\n",
    "set_label(502, 0, 0)\n",
    "# Have I ever told you\n",
    "# I want you to the bone?\n",
    "# Have I ever called you\n",
    "# When you are all alone?\n",
    "set_label(503, 0, 1)\n",
    "set_label(504, 0, 0)\n",
    "set_label(505, 0, 0)\n",
    "# $WMUU melihat $CPIN dan $JPFA yg Q3 nya jatoh mending wns dlu tunggu konfirmasi Q3\n",
    "set_label(506, 0, 0)\n",
    "set_label(507, 0, 1)\n",
    "set_label(508, 2, 0)\n",
    "set_label(509, 0, 0)\n",
    "# $WMUU jual emiten ini,\n",
    "\n",
    "# ganti ke yang waras,\n",
    "\n",
    "# $CPIN , $JPFA perusahaan bagus.\n",
    "set_label(510, 1, 0)\n",
    "set_label(511, 0, 0)\n",
    "set_label(512, 2, 0)\n",
    "set_label(513, 0, 0)\n",
    "set_label(514, 0, 0)\n",
    "set_label(515, 0, 0)\n",
    "set_label(516, 0, 0)\n",
    "set_label(517, 0, 0)\n",
    "set_label(518, 0, 1)\n",
    "set_label(519, 1, 0)\n",
    "set_label(520, 0, 1)\n",
    "set_label(521, 0, 1)\n",
    "set_label(522, 0, 0)\n",
    "set_label(523, 0, 0)\n",
    "set_label(524, 2, 0)\n",
    "set_label(525, 0, 0)\n",
    "set_label(526, 1, 0)\n",
    "set_label(527, 2, 0)\n",
    "set_label(528, 0, 0)\n",
    "set_label(529, 0, 1)\n",
    "set_label(530, 0, 0)\n",
    "set_label(531, 0, 0)\n",
    "set_label(532, 1, 0)\n",
    "set_label(533, 1, 0)\n",
    "set_label(534, 0, 0)\n",
    "set_label(535, 0, 0)\n",
    "set_label(536, 0, 0)\n",
    "set_label(537, 0, 0)\n",
    "set_label(538, 0, 0)\n",
    "set_label(539, 2, 0)\n",
    "set_label(540, 0, 0)"
   ]
  },
  {
   "cell_type": "code",
   "execution_count": null,
   "metadata": {},
   "outputs": [],
   "source": [
    "df_b = df.dropna().copy()\n",
    "df_b['label 1'] = df_b['label 1'].astype(int)\n",
    "df_b['label 2'] = df_b['label 2'].astype(int)"
   ]
  },
  {
   "cell_type": "code",
   "execution_count": null,
   "metadata": {},
   "outputs": [],
   "source": [
    "df_b.to_csv(\"ICBP_MLBI_labeled.csv\", index=False)"
   ]
  },
  {
   "attachments": {},
   "cell_type": "markdown",
   "metadata": {},
   "source": [
    "# Preprocessing"
   ]
  },
  {
   "cell_type": "code",
   "execution_count": 8,
   "metadata": {},
   "outputs": [
    {
     "data": {
      "text/html": [
       "<div>\n",
       "<style scoped>\n",
       "    .dataframe tbody tr th:only-of-type {\n",
       "        vertical-align: middle;\n",
       "    }\n",
       "\n",
       "    .dataframe tbody tr th {\n",
       "        vertical-align: top;\n",
       "    }\n",
       "\n",
       "    .dataframe thead th {\n",
       "        text-align: right;\n",
       "    }\n",
       "</style>\n",
       "<table border=\"1\" class=\"dataframe\">\n",
       "  <thead>\n",
       "    <tr style=\"text-align: right;\">\n",
       "      <th></th>\n",
       "      <th>date</th>\n",
       "      <th>comment</th>\n",
       "      <th>symbol</th>\n",
       "      <th>label 1</th>\n",
       "      <th>label 2</th>\n",
       "    </tr>\n",
       "  </thead>\n",
       "  <tbody>\n",
       "    <tr>\n",
       "      <th>0</th>\n",
       "      <td>15 Dec 22, 16:48</td>\n",
       "      <td>POLL\\nSusu paling enak apa gan? Vox Populi Vox...</td>\n",
       "      <td>ICBP</td>\n",
       "      <td>0</td>\n",
       "      <td>0</td>\n",
       "    </tr>\n",
       "    <tr>\n",
       "      <th>1</th>\n",
       "      <td>15 Dec 22, 15:00</td>\n",
       "      <td>$ICBP</td>\n",
       "      <td>ICBP</td>\n",
       "      <td>0</td>\n",
       "      <td>0</td>\n",
       "    </tr>\n",
       "    <tr>\n",
       "      <th>2</th>\n",
       "      <td>15 Dec 22, 10:25</td>\n",
       "      <td>$GOTO main di 90 an aja ya kamu g usah kemana2...</td>\n",
       "      <td>ICBP</td>\n",
       "      <td>0</td>\n",
       "      <td>0</td>\n",
       "    </tr>\n",
       "    <tr>\n",
       "      <th>3</th>\n",
       "      <td>14 Dec 22, 19:45</td>\n",
       "      <td>Info Singkat saham untuk 15 Desember 2022 (buk...</td>\n",
       "      <td>ICBP</td>\n",
       "      <td>0</td>\n",
       "      <td>0</td>\n",
       "    </tr>\n",
       "    <tr>\n",
       "      <th>4</th>\n",
       "      <td>14 Dec 22, 19:41</td>\n",
       "      <td>@godbless @handusene sejak periode lockup open...</td>\n",
       "      <td>ICBP</td>\n",
       "      <td>1</td>\n",
       "      <td>0</td>\n",
       "    </tr>\n",
       "  </tbody>\n",
       "</table>\n",
       "</div>"
      ],
      "text/plain": [
       "               date                                            comment symbol  \\\n",
       "0  15 Dec 22, 16:48  POLL\\nSusu paling enak apa gan? Vox Populi Vox...   ICBP   \n",
       "1  15 Dec 22, 15:00                                              $ICBP   ICBP   \n",
       "2  15 Dec 22, 10:25  $GOTO main di 90 an aja ya kamu g usah kemana2...   ICBP   \n",
       "3  14 Dec 22, 19:45  Info Singkat saham untuk 15 Desember 2022 (buk...   ICBP   \n",
       "4  14 Dec 22, 19:41  @godbless @handusene sejak periode lockup open...   ICBP   \n",
       "\n",
       "   label 1  label 2  \n",
       "0        0        0  \n",
       "1        0        0  \n",
       "2        0        0  \n",
       "3        0        0  \n",
       "4        1        0  "
      ]
     },
     "execution_count": 8,
     "metadata": {},
     "output_type": "execute_result"
    }
   ],
   "source": [
    "import pandas as pd\n",
    "df_c = pd.read_csv(\"ICBP_MLBI_labeled.csv\")\n",
    "df_c.head()"
   ]
  },
  {
   "attachments": {},
   "cell_type": "markdown",
   "metadata": {},
   "source": [
    "## Not Spam/Spam\n",
    "\n",
    "- drop tagged user's name with `@[\\w]+`\n",
    "- drop tagged stock symbol `\\$?[A-Z]{4}`\n",
    "- drop tagged hashtag symbol `#[\\w]+`\n",
    "- drop url with `((https|http):\\/\\/|www.)[\\w.\\/]+`"
   ]
  },
  {
   "cell_type": "code",
   "execution_count": 9,
   "metadata": {},
   "outputs": [
    {
     "data": {
      "text/plain": [
       "['Lagi sedih2 nya saham ayam2an bang $JPFA $CPIN $WMUU $MAIN 😌',\n",
       " '$INDF\\nSaya senang LK Indofood sudah keluar Q3. Saya perlu akui, hebat manajemen dalam arungi penjualan di 2022 ini. Saya sebagai pedagang Indomie, sih, tahun ini puji Tuhan, lancar. Orang masih ambil barang sama saya. Harga saya masih bisa lepas murah dibanding supermarket. Saya kagum dengan produknya, animo masyarakat masih suka mie nya.\\n\\n\\nsukses terus pak Salim. Pengen kerja di perusahaan bapak, tapi ditolak HRD bapak, yang masih muda dan single itu.\\n\\nsaya akhirnya dagang indomie aja, supply ke org yg butuh.',\n",
       " \"Kapan bisa FINANCIAL FREEDOM kayak Lo Kheng Hong?\\n\\nBapak LKH merupakan salah satu panutan saya dalam berinvestasi di pasar modal.\\nSaya juga percaya untuk menang dengan cara lebih 'cepat' dan cerdas, kita harus melihat sejarah seseorang atau suatu negara.\\n\\nSaya membeli buku Bpk Lukas Setia Atmaja berjudul Lo Kheng Hong. Dimana buku ini secara lengkap menjelaskan perjalanan investasi Bapak LKH dan juga cara beliau analisa perusahaan.\\n\\nLKH mulai investasi di tahun 1989.\\nSama seperti investor pemula, beragam gaya dicoba dulu, mulai dari trading iya, hingga berebut saham IPO juga iya. Udah mana antri panjang ,eh malah harus cutloss hehehe\\n\\nSampai akhirnya LKH mendengar kisah Warren Buffett dan mulai belajar value investing. Dimana ilmu tersebut ia praktikkan khususnya ketika krisis moneter di 1998, dimana ia membeli suatu saham sekitar 300 jutaan yang kemudian bertumbuh menjadi 1.5 milyar\\n\\n1.5 milyar inilah yang kemudian digunakan LKH untuk membeli . Saham yang 6 tahun kemudian mampu merubah seluruh hidup LKH dari yang pas menjadi Super Pass (Alias bisa kemana ajah kapan ajah) hehehe\\n\\nDalam buku ini, ada 1 halaman yang mencatat daftar saham yang dimiliki oleh LKH, dari tahun ke tahun, jumlah pembelian dan persentase keuntungan.\\n\\nSaya menemukan rata-rata pegangan saham pak LKH adalah 2 tahunan dengan persentase profit sekitar 200-800%. Sedangkan yang benar-benar bagger hingga ribuan persen itu didapat dengan lama investasi sekitar 6 tahun.\\n\\nAda sih yang dibawah 2 tahun, tetapi LKH pun mengakui, memang pas ajah momentumnya alias ada unsur keberuntungan (hoki)\\n\\nDari data ini, kebebasan finansial dari saham sangatlah mungkin asalkan kita mau bersabar dan belajar cara memilih saham yang baik dan benar.\\n\\nBukan berarti pula, jika dalam 6 tahun anda tidak financial freedom anda gagal yah. BUKAN! hehehe.. jangan membandingkan diri yah gaes.\\n\\nTapi yang paling penting diawal adalah membangun rasa percaya diri dalam pemilihan saham. Sama seperti LKH, pegang UNTR bisa hampir 6 tahun. Kalau anda mau gak pegang selama itu ketika lihat saham yang lain pada naik tinggi? Jangankan anda, saya ajah masih kesel, sampai suka ngerasa salah pilih.. hahahaha.\\n\\nDan itulah indahnya investasi. Ketika anda fokus untuk mengembangkan rasa percaya diri dan belajar memilih keputusan yang lebih baik, saya percaya kita semua akan memiliki kehidupan yang lebih baik dan lebih kaya , baik materi dan rohani .\\n\\nBagaimana menurut anda?\\n---\\nHello, saya Intan seorang istri yang bercita-cita menjadi full time investor\\nSaya berharap bisa bertemu dengan komunitas yang memiliki visi serupa agar bisa bertumbuh bersama.\\nLet's be friends\\n\\nCheers\\n---\",\n",
       " 'The essay for tech companies and tech adoption\\n\\nFenomena covid menjadi salah satu fenomena unik tidak hanya untuk bangsa ini tapi bagi seluruh dunia. Salah satu implikasi yang merubah lifestyle orang saat covid kemarin adalah rata rata semua tech related company mengalami kenaikan harga (belum tentu value) yang sangat dahsyat.\\n\\nhype akan tech companies yang akan menggatikan masa depan sepertinya membuat semua orang overoptimisme yang sangat berlebihan. Ditambah suku bunga yang rendah membuat cheap money yang membuat banyak tech startup dan tech companies di-inject “cheap money” tersebut dan mereka menghamburkan uang demi promosi gila-gilaan yang mengakibatkan cost yang jauh besar dibanding sales demi secuil brand awareness dan market share.\\n\\nDan memang benar adoption dari banyak tech companies seperti grab, gojek, tokopedia, seabank, bank arto dan banyak lainnya memang bisa mandapatkan user dan transactions yang besar saat covid lockdown era dimana semua orang memang tidak bisa kemana mana dan dipaksa melakukan semua serba digital.\\n\\n\\nFast forward ke momen dimana covid sudah menjadi endemi, suku bunga naik dan tidak ada cheap money untuk dispend sembarangan. Tech startup dituntut untuk lebih profitable sehingga banyak perusahaan tech yang men-downsize jumlah karyawan yang relatif masuk sebagai cost terbesar mereka. Namun bukan hanya ini problem yang dihadapi. Setelah saya riset ternyata fenomena super growth dari tech companies sudah tidak bisa sebesar dan secepat saat covid era.\\n\\nSetelah economy reopening setelah setahun atau dua tahun tutup, dan offline businesses terbuka, ternyata orang sadar, perpindahan ke masa depan ala-ala high tech dimana semua orang akan di rumah berbelanja, jalan jalan dengan metaverse belumlah terjadi secepat itu. malah setelah economy reopening, dengan sangat cepat industri offline dan retail malah cepat sekali recover dan bahkan sudah mencapaikan pencapaian lebih tinggi dari sebelum covid.\\n\\nDisitu saya tersadar, dunia full digital masih sangat amat jauh. Dunia riil masih banyak potensi dan pertumbuhan yang bisa dicapai. Jadi untuk yang bilang masa depan adalah semua digital, jawaban saya adalah yes but masa depan adalah sektor rill pula. Menurut saya perushaan yang mampu mengandalkan digital dan tech sebagai efisiensi dan tetap menumbuhkan sektor riil akan bertahan dan berperforma lebih baik.\\n\\nContoh:\\nyang berkespansi online saat covid era, pertumbuhan nya mencapai triple digit di tahun pertama dan double digit sampai sekarang, namun perusahaan tetap menambah cabang offline dan menambambahkan infrastruktur omnichannel dimana offline dan online bersinergi (pembelian online- pengambilan di toko, pengecekan online untuk stok toko, pengecekan stok di toko toko lain yang ready stock).\\n\\n, semua melakukan penjualan melalui kanal online market place direct dari mereka langsung, selain mendapatkan kanal penjualan baru, mereka pun bisa mendapatkan margin lebih tinggi karena mereka menjual direct ke customer. Marketing pun lebih banyak alokasi yang dilakukan untuk iklan di sosmed, promosi di sosmed, dan pula alokasi karyawan untuk sosmed. Namun tidak lupa juga mereka tetap melakukan offline bazar seperti saat jakarta fair atau car free day untuk tetap melakukan offline marketing.\\n\\nBank bank besar tentu tidak mau kalah dari bank digital, mereka berinvestasi semakin besar di budget online apps dan website mereka, namun tidak lupa mereka tetap membuka cabang atau paling tidak merelokasi cabang offline mereka.\\n\\nLalu apakah masa depan serba serbi online dan tech suram? Kalau saya bilang dalam jangka pendek iya karena akan ada rerating dan seleksi alam. Akan tetap ada pertumbuhan kedepannya pastinya tidak sekencang covid era namun tidak selambat pre covid era. Menurut swa online, Ekonomi digital indonesia Diprediksikan masih bisa bertumbuh double digit di CAGR 19% hingga 2030. Ini masihlah market yang sangat besar. Namun perusahaan dituntut untuk profitable dan tidak lagi bakar uang. Jadi potensi masih besar sekali. Bisa dibilang inilah turning point banyak tech companies untuk lebih profitble.\\n\\nkemarin saya datang ke pubex online . Ada yang bertanya situasi dimana banyak startup dan tech companies yang collapse kemarin bisa menjadi peluang untuk MTDL. Tenaga kerja yang lebih baik tersedia di market dan tentunya dengan gaji yang lebih fair dibanding tech boom saat covid era kemarin. Di situasi dimana tech companies banyak yang mengalami failure, MTDL sendiri yakin bisa mangambil market share yang ditinggalkan kompetitor yang melakukan slowdown. Selain itu dengan CAGR yang masih besar pertumbuhan nya, ruang bertumbuh tech companies di jangka panjang masih sangat amat besar dan luas.\\n\\nJadi bisa saya simpulkan sektor digital dan sektor real berjalan bersama sama. Toko offline tidak tergantikan bahkan di negara yang jauh lebih techinaly modern seperti china, japan, korea, amerika toko offline masih berekspansi membuka cabang diiringi dengan infrastruktur online yang menunjang toko offline mereka. Digital tidak akan menggantikan sektor real setidaknya dalam waktu dekat. Malah bisa saya simpulkan teknologi digital dan perusahaan perusahaannya akan dibutuhkan untuk men-support perusahaan perusahaan tradisional yang beroperasi di sektor real.\\n\\nTech companies pun masih sangat menarik dengan CAGR pertumbuhan yang besar walau tidak dalam jangka waktu pendek karena mereka sudah growth gila gilaan 2 tahun kebelakang maka biarkan banyak perusahaan tech rerating dulu dan saya akan lebih prefer perusahaan yang profitable, fair valued dan punya ruang bertumbuh yang besar.']"
      ]
     },
     "execution_count": 9,
     "metadata": {},
     "output_type": "execute_result"
    }
   ],
   "source": [
    "label_2 = df_c.groupby(by='label 2').sample(2, random_state=1)['comment'].tolist()\n",
    "label_2"
   ]
  },
  {
   "attachments": {},
   "cell_type": "markdown",
   "metadata": {},
   "source": [
    "## RegEx"
   ]
  },
  {
   "cell_type": "code",
   "execution_count": 10,
   "metadata": {},
   "outputs": [
    {
     "data": {
      "text/plain": [
       "['Lagi sedih2 nya saham ayam2an bang $JPFA $CPIN $WMUU $MAIN 😌',\n",
       " '$INDF\\nSaya senang LK Indofood sudah keluar Q3. Saya perlu akui, hebat manajemen dalam arungi penjualan di 2022 ini. Saya sebagai pedagang Indomie, sih, tahun ini puji Tuhan, lancar. Orang masih ambil barang sama saya. Harga saya masih bisa lepas murah dibanding supermarket. Saya kagum dengan produknya, animo masyarakat masih suka mie nya.\\n\\n\\nsukses terus pak Salim. Pengen kerja di perusahaan bapak, tapi ditolak HRD bapak, yang masih muda dan single itu.\\n\\nsaya akhirnya dagang indomie aja, supply ke org yg butuh.',\n",
       " \"Kapan bisa FINANCIAL FREEDOM kayak Lo Kheng Hong?\\n\\nBapak LKH merupakan salah satu panutan saya dalam berinvestasi di pasar modal.\\nSaya juga percaya untuk menang dengan cara lebih 'cepat' dan cerdas, kita harus melihat sejarah seseorang atau suatu negara.\\n\\nSaya membeli buku Bpk Lukas Setia Atmaja berjudul Lo Kheng Hong. Dimana buku ini secara lengkap menjelaskan perjalanan investasi Bapak LKH dan juga cara beliau analisa perusahaan.\\n\\nLKH mulai investasi di tahun 1989.\\nSama seperti investor pemula, beragam gaya dicoba dulu, mulai dari trading iya, hingga berebut saham IPO juga iya. Udah mana antri panjang ,eh malah harus cutloss hehehe\\n\\nSampai akhirnya LKH mendengar kisah Warren Buffett dan mulai belajar value investing. Dimana ilmu tersebut ia praktikkan khususnya ketika krisis moneter di 1998, dimana ia membeli suatu saham sekitar 300 jutaan yang kemudian bertumbuh menjadi 1.5 milyar\\n\\n1.5 milyar inilah yang kemudian digunakan LKH untuk membeli . Saham yang 6 tahun kemudian mampu merubah seluruh hidup LKH dari yang pas menjadi Super Pass (Alias bisa kemana ajah kapan ajah) hehehe\\n\\nDalam buku ini, ada 1 halaman yang mencatat daftar saham yang dimiliki oleh LKH, dari tahun ke tahun, jumlah pembelian dan persentase keuntungan.\\n\\nSaya menemukan rata-rata pegangan saham pak LKH adalah 2 tahunan dengan persentase profit sekitar 200-800%. Sedangkan yang benar-benar bagger hingga ribuan persen itu didapat dengan lama investasi sekitar 6 tahun.\\n\\nAda sih yang dibawah 2 tahun, tetapi LKH pun mengakui, memang pas ajah momentumnya alias ada unsur keberuntungan (hoki)\\n\\nDari data ini, kebebasan finansial dari saham sangatlah mungkin asalkan kita mau bersabar dan belajar cara memilih saham yang baik dan benar.\\n\\nBukan berarti pula, jika dalam 6 tahun anda tidak financial freedom anda gagal yah. BUKAN! hehehe.. jangan membandingkan diri yah gaes.\\n\\nTapi yang paling penting diawal adalah membangun rasa percaya diri dalam pemilihan saham. Sama seperti LKH, pegang UNTR bisa hampir 6 tahun. Kalau anda mau gak pegang selama itu ketika lihat saham yang lain pada naik tinggi? Jangankan anda, saya ajah masih kesel, sampai suka ngerasa salah pilih.. hahahaha.\\n\\nDan itulah indahnya investasi. Ketika anda fokus untuk mengembangkan rasa percaya diri dan belajar memilih keputusan yang lebih baik, saya percaya kita semua akan memiliki kehidupan yang lebih baik dan lebih kaya , baik materi dan rohani .\\n\\nBagaimana menurut anda?\\n---\\nHello, saya Intan seorang istri yang bercita-cita menjadi full time investor\\nSaya berharap bisa bertemu dengan komunitas yang memiliki visi serupa agar bisa bertumbuh bersama.\\nLet's be friends\\n\\nCheers\\n---\",\n",
       " 'The essay for tech companies and tech adoption\\n\\nFenomena covid menjadi salah satu fenomena unik tidak hanya untuk bangsa ini tapi bagi seluruh dunia. Salah satu implikasi yang merubah lifestyle orang saat covid kemarin adalah rata rata semua tech related company mengalami kenaikan harga (belum tentu value) yang sangat dahsyat.\\n\\nhype akan tech companies yang akan menggatikan masa depan sepertinya membuat semua orang overoptimisme yang sangat berlebihan. Ditambah suku bunga yang rendah membuat cheap money yang membuat banyak tech startup dan tech companies di-inject “cheap money” tersebut dan mereka menghamburkan uang demi promosi gila-gilaan yang mengakibatkan cost yang jauh besar dibanding sales demi secuil brand awareness dan market share.\\n\\nDan memang benar adoption dari banyak tech companies seperti grab, gojek, tokopedia, seabank, bank arto dan banyak lainnya memang bisa mandapatkan user dan transactions yang besar saat covid lockdown era dimana semua orang memang tidak bisa kemana mana dan dipaksa melakukan semua serba digital.\\n\\n\\nFast forward ke momen dimana covid sudah menjadi endemi, suku bunga naik dan tidak ada cheap money untuk dispend sembarangan. Tech startup dituntut untuk lebih profitable sehingga banyak perusahaan tech yang men-downsize jumlah karyawan yang relatif masuk sebagai cost terbesar mereka. Namun bukan hanya ini problem yang dihadapi. Setelah saya riset ternyata fenomena super growth dari tech companies sudah tidak bisa sebesar dan secepat saat covid era.\\n\\nSetelah economy reopening setelah setahun atau dua tahun tutup, dan offline businesses terbuka, ternyata orang sadar, perpindahan ke masa depan ala-ala high tech dimana semua orang akan di rumah berbelanja, jalan jalan dengan metaverse belumlah terjadi secepat itu. malah setelah economy reopening, dengan sangat cepat industri offline dan retail malah cepat sekali recover dan bahkan sudah mencapaikan pencapaian lebih tinggi dari sebelum covid.\\n\\nDisitu saya tersadar, dunia full digital masih sangat amat jauh. Dunia riil masih banyak potensi dan pertumbuhan yang bisa dicapai. Jadi untuk yang bilang masa depan adalah semua digital, jawaban saya adalah yes but masa depan adalah sektor rill pula. Menurut saya perushaan yang mampu mengandalkan digital dan tech sebagai efisiensi dan tetap menumbuhkan sektor riil akan bertahan dan berperforma lebih baik.\\n\\nContoh:\\nyang berkespansi online saat covid era, pertumbuhan nya mencapai triple digit di tahun pertama dan double digit sampai sekarang, namun perusahaan tetap menambah cabang offline dan menambambahkan infrastruktur omnichannel dimana offline dan online bersinergi (pembelian online- pengambilan di toko, pengecekan online untuk stok toko, pengecekan stok di toko toko lain yang ready stock).\\n\\n, semua melakukan penjualan melalui kanal online market place direct dari mereka langsung, selain mendapatkan kanal penjualan baru, mereka pun bisa mendapatkan margin lebih tinggi karena mereka menjual direct ke customer. Marketing pun lebih banyak alokasi yang dilakukan untuk iklan di sosmed, promosi di sosmed, dan pula alokasi karyawan untuk sosmed. Namun tidak lupa juga mereka tetap melakukan offline bazar seperti saat jakarta fair atau car free day untuk tetap melakukan offline marketing.\\n\\nBank bank besar tentu tidak mau kalah dari bank digital, mereka berinvestasi semakin besar di budget online apps dan website mereka, namun tidak lupa mereka tetap membuka cabang atau paling tidak merelokasi cabang offline mereka.\\n\\nLalu apakah masa depan serba serbi online dan tech suram? Kalau saya bilang dalam jangka pendek iya karena akan ada rerating dan seleksi alam. Akan tetap ada pertumbuhan kedepannya pastinya tidak sekencang covid era namun tidak selambat pre covid era. Menurut swa online, Ekonomi digital indonesia Diprediksikan masih bisa bertumbuh double digit di CAGR 19% hingga 2030. Ini masihlah market yang sangat besar. Namun perusahaan dituntut untuk profitable dan tidak lagi bakar uang. Jadi potensi masih besar sekali. Bisa dibilang inilah turning point banyak tech companies untuk lebih profitble.\\n\\nkemarin saya datang ke pubex online . Ada yang bertanya situasi dimana banyak startup dan tech companies yang collapse kemarin bisa menjadi peluang untuk MTDL. Tenaga kerja yang lebih baik tersedia di market dan tentunya dengan gaji yang lebih fair dibanding tech boom saat covid era kemarin. Di situasi dimana tech companies banyak yang mengalami failure, MTDL sendiri yakin bisa mangambil market share yang ditinggalkan kompetitor yang melakukan slowdown. Selain itu dengan CAGR yang masih besar pertumbuhan nya, ruang bertumbuh tech companies di jangka panjang masih sangat amat besar dan luas.\\n\\nJadi bisa saya simpulkan sektor digital dan sektor real berjalan bersama sama. Toko offline tidak tergantikan bahkan di negara yang jauh lebih techinaly modern seperti china, japan, korea, amerika toko offline masih berekspansi membuka cabang diiringi dengan infrastruktur online yang menunjang toko offline mereka. Digital tidak akan menggantikan sektor real setidaknya dalam waktu dekat. Malah bisa saya simpulkan teknologi digital dan perusahaan perusahaannya akan dibutuhkan untuk men-support perusahaan perusahaan tradisional yang beroperasi di sektor real.\\n\\nTech companies pun masih sangat menarik dengan CAGR pertumbuhan yang besar walau tidak dalam jangka waktu pendek karena mereka sudah growth gila gilaan 2 tahun kebelakang maka biarkan banyak perusahaan tech rerating dulu dan saya akan lebih prefer perusahaan yang profitable, fair valued dan punya ruang bertumbuh yang besar.']"
      ]
     },
     "execution_count": 10,
     "metadata": {},
     "output_type": "execute_result"
    }
   ],
   "source": [
    "import re\n",
    "\n",
    "[re.sub('@[\\w]+', '', item) for item in label_2]"
   ]
  },
  {
   "cell_type": "code",
   "execution_count": 11,
   "metadata": {},
   "outputs": [
    {
     "data": {
      "text/plain": [
       "['Lagi sedih2 nya saham ayam2an bang     😌',\n",
       " '\\nSaya senang LK Indofood sudah keluar Q3. Saya perlu akui, hebat manajemen dalam arungi penjualan di 2022 ini. Saya sebagai pedagang Indomie, sih, tahun ini puji Tuhan, lancar. Orang masih ambil barang sama saya. Harga saya masih bisa lepas murah dibanding supermarket. Saya kagum dengan produknya, animo masyarakat masih suka mie nya.\\n\\n\\nsukses terus pak Salim. Pengen kerja di perusahaan bapak, tapi ditolak HRD bapak, yang masih muda dan single itu.\\n\\nsaya akhirnya dagang indomie aja, supply ke org yg butuh.',\n",
       " \"Kapan bisa L DOM kayak Lo Kheng Hong?\\n\\nBapak LKH merupakan salah satu panutan saya dalam berinvestasi di pasar modal.\\nSaya juga percaya untuk menang dengan cara lebih 'cepat' dan cerdas, kita harus melihat sejarah seseorang atau suatu negara.\\n\\nSaya membeli buku Bpk Lukas Setia Atmaja berjudul Lo Kheng Hong. Dimana buku ini secara lengkap menjelaskan perjalanan investasi Bapak LKH dan juga cara beliau analisa perusahaan.\\n\\nLKH mulai investasi di tahun 1989.\\nSama seperti investor pemula, beragam gaya dicoba dulu, mulai dari trading iya, hingga berebut saham IPO juga iya. Udah mana antri panjang ,eh malah harus cutloss hehehe\\n\\nSampai akhirnya LKH mendengar kisah Warren Buffett dan mulai belajar value investing. Dimana ilmu tersebut ia praktikkan khususnya ketika krisis moneter di 1998, dimana ia membeli suatu saham sekitar 300 jutaan yang kemudian bertumbuh menjadi 1.5 milyar\\n\\n1.5 milyar inilah yang kemudian digunakan LKH untuk membeli . Saham yang 6 tahun kemudian mampu merubah seluruh hidup LKH dari yang pas menjadi Super Pass (Alias bisa kemana ajah kapan ajah) hehehe\\n\\nDalam buku ini, ada 1 halaman yang mencatat daftar saham yang dimiliki oleh LKH, dari tahun ke tahun, jumlah pembelian dan persentase keuntungan.\\n\\nSaya menemukan rata-rata pegangan saham pak LKH adalah 2 tahunan dengan persentase profit sekitar 200-800%. Sedangkan yang benar-benar bagger hingga ribuan persen itu didapat dengan lama investasi sekitar 6 tahun.\\n\\nAda sih yang dibawah 2 tahun, tetapi LKH pun mengakui, memang pas ajah momentumnya alias ada unsur keberuntungan (hoki)\\n\\nDari data ini, kebebasan finansial dari saham sangatlah mungkin asalkan kita mau bersabar dan belajar cara memilih saham yang baik dan benar.\\n\\nBukan berarti pula, jika dalam 6 tahun anda tidak financial freedom anda gagal yah. N! hehehe.. jangan membandingkan diri yah gaes.\\n\\nTapi yang paling penting diawal adalah membangun rasa percaya diri dalam pemilihan saham. Sama seperti LKH, pegang  bisa hampir 6 tahun. Kalau anda mau gak pegang selama itu ketika lihat saham yang lain pada naik tinggi? Jangankan anda, saya ajah masih kesel, sampai suka ngerasa salah pilih.. hahahaha.\\n\\nDan itulah indahnya investasi. Ketika anda fokus untuk mengembangkan rasa percaya diri dan belajar memilih keputusan yang lebih baik, saya percaya kita semua akan memiliki kehidupan yang lebih baik dan lebih kaya , baik materi dan rohani .\\n\\nBagaimana menurut anda?\\n---\\nHello, saya Intan seorang istri yang bercita-cita menjadi full time investor\\nSaya berharap bisa bertemu dengan komunitas yang memiliki visi serupa agar bisa bertumbuh bersama.\\nLet's be friends\\n\\nCheers\\n---\",\n",
       " 'The essay for tech companies and tech adoption\\n\\nFenomena covid menjadi salah satu fenomena unik tidak hanya untuk bangsa ini tapi bagi seluruh dunia. Salah satu implikasi yang merubah lifestyle orang saat covid kemarin adalah rata rata semua tech related company mengalami kenaikan harga (belum tentu value) yang sangat dahsyat.\\n\\nhype akan tech companies yang akan menggatikan masa depan sepertinya membuat semua orang overoptimisme yang sangat berlebihan. Ditambah suku bunga yang rendah membuat cheap money yang membuat banyak tech startup dan tech companies di-inject “cheap money” tersebut dan mereka menghamburkan uang demi promosi gila-gilaan yang mengakibatkan cost yang jauh besar dibanding sales demi secuil brand awareness dan market share.\\n\\nDan memang benar adoption dari banyak tech companies seperti grab, gojek, tokopedia, seabank, bank arto dan banyak lainnya memang bisa mandapatkan user dan transactions yang besar saat covid lockdown era dimana semua orang memang tidak bisa kemana mana dan dipaksa melakukan semua serba digital.\\n\\n\\nFast forward ke momen dimana covid sudah menjadi endemi, suku bunga naik dan tidak ada cheap money untuk dispend sembarangan. Tech startup dituntut untuk lebih profitable sehingga banyak perusahaan tech yang men-downsize jumlah karyawan yang relatif masuk sebagai cost terbesar mereka. Namun bukan hanya ini problem yang dihadapi. Setelah saya riset ternyata fenomena super growth dari tech companies sudah tidak bisa sebesar dan secepat saat covid era.\\n\\nSetelah economy reopening setelah setahun atau dua tahun tutup, dan offline businesses terbuka, ternyata orang sadar, perpindahan ke masa depan ala-ala high tech dimana semua orang akan di rumah berbelanja, jalan jalan dengan metaverse belumlah terjadi secepat itu. malah setelah economy reopening, dengan sangat cepat industri offline dan retail malah cepat sekali recover dan bahkan sudah mencapaikan pencapaian lebih tinggi dari sebelum covid.\\n\\nDisitu saya tersadar, dunia full digital masih sangat amat jauh. Dunia riil masih banyak potensi dan pertumbuhan yang bisa dicapai. Jadi untuk yang bilang masa depan adalah semua digital, jawaban saya adalah yes but masa depan adalah sektor rill pula. Menurut saya perushaan yang mampu mengandalkan digital dan tech sebagai efisiensi dan tetap menumbuhkan sektor riil akan bertahan dan berperforma lebih baik.\\n\\nContoh:\\nyang berkespansi online saat covid era, pertumbuhan nya mencapai triple digit di tahun pertama dan double digit sampai sekarang, namun perusahaan tetap menambah cabang offline dan menambambahkan infrastruktur omnichannel dimana offline dan online bersinergi (pembelian online- pengambilan di toko, pengecekan online untuk stok toko, pengecekan stok di toko toko lain yang ready stock).\\n\\n, semua melakukan penjualan melalui kanal online market place direct dari mereka langsung, selain mendapatkan kanal penjualan baru, mereka pun bisa mendapatkan margin lebih tinggi karena mereka menjual direct ke customer. Marketing pun lebih banyak alokasi yang dilakukan untuk iklan di sosmed, promosi di sosmed, dan pula alokasi karyawan untuk sosmed. Namun tidak lupa juga mereka tetap melakukan offline bazar seperti saat jakarta fair atau car free day untuk tetap melakukan offline marketing.\\n\\nBank bank besar tentu tidak mau kalah dari bank digital, mereka berinvestasi semakin besar di budget online apps dan website mereka, namun tidak lupa mereka tetap membuka cabang atau paling tidak merelokasi cabang offline mereka.\\n\\nLalu apakah masa depan serba serbi online dan tech suram? Kalau saya bilang dalam jangka pendek iya karena akan ada rerating dan seleksi alam. Akan tetap ada pertumbuhan kedepannya pastinya tidak sekencang covid era namun tidak selambat pre covid era. Menurut swa online, Ekonomi digital indonesia Diprediksikan masih bisa bertumbuh double digit di  19% hingga 2030. Ini masihlah market yang sangat besar. Namun perusahaan dituntut untuk profitable dan tidak lagi bakar uang. Jadi potensi masih besar sekali. Bisa dibilang inilah turning point banyak tech companies untuk lebih profitble.\\n\\nkemarin saya datang ke pubex online . Ada yang bertanya situasi dimana banyak startup dan tech companies yang collapse kemarin bisa menjadi peluang untuk . Tenaga kerja yang lebih baik tersedia di market dan tentunya dengan gaji yang lebih fair dibanding tech boom saat covid era kemarin. Di situasi dimana tech companies banyak yang mengalami failure,  sendiri yakin bisa mangambil market share yang ditinggalkan kompetitor yang melakukan slowdown. Selain itu dengan  yang masih besar pertumbuhan nya, ruang bertumbuh tech companies di jangka panjang masih sangat amat besar dan luas.\\n\\nJadi bisa saya simpulkan sektor digital dan sektor real berjalan bersama sama. Toko offline tidak tergantikan bahkan di negara yang jauh lebih techinaly modern seperti china, japan, korea, amerika toko offline masih berekspansi membuka cabang diiringi dengan infrastruktur online yang menunjang toko offline mereka. Digital tidak akan menggantikan sektor real setidaknya dalam waktu dekat. Malah bisa saya simpulkan teknologi digital dan perusahaan perusahaannya akan dibutuhkan untuk men-support perusahaan perusahaan tradisional yang beroperasi di sektor real.\\n\\nTech companies pun masih sangat menarik dengan  pertumbuhan yang besar walau tidak dalam jangka waktu pendek karena mereka sudah growth gila gilaan 2 tahun kebelakang maka biarkan banyak perusahaan tech rerating dulu dan saya akan lebih prefer perusahaan yang profitable, fair valued dan punya ruang bertumbuh yang besar.']"
      ]
     },
     "execution_count": 11,
     "metadata": {},
     "output_type": "execute_result"
    }
   ],
   "source": [
    "[re.sub('\\$?[A-Z]{4}', '', item) for item in label_2]"
   ]
  },
  {
   "cell_type": "code",
   "execution_count": 12,
   "metadata": {},
   "outputs": [
    {
     "data": {
      "text/plain": [
       "['Lagi sedih2 nya saham ayam2an bang $JPFA $CPIN $WMUU $MAIN 😌',\n",
       " '$INDF\\nSaya senang LK Indofood sudah keluar Q3. Saya perlu akui, hebat manajemen dalam arungi penjualan di 2022 ini. Saya sebagai pedagang Indomie, sih, tahun ini puji Tuhan, lancar. Orang masih ambil barang sama saya. Harga saya masih bisa lepas murah dibanding supermarket. Saya kagum dengan produknya, animo masyarakat masih suka mie nya.\\n\\n\\nsukses terus pak Salim. Pengen kerja di perusahaan bapak, tapi ditolak HRD bapak, yang masih muda dan single itu.\\n\\nsaya akhirnya dagang indomie aja, supply ke org yg butuh.',\n",
       " \"Kapan bisa FINANCIAL FREEDOM kayak Lo Kheng Hong?\\n\\nBapak LKH merupakan salah satu panutan saya dalam berinvestasi di pasar modal.\\nSaya juga percaya untuk menang dengan cara lebih 'cepat' dan cerdas, kita harus melihat sejarah seseorang atau suatu negara.\\n\\nSaya membeli buku Bpk Lukas Setia Atmaja berjudul Lo Kheng Hong. Dimana buku ini secara lengkap menjelaskan perjalanan investasi Bapak LKH dan juga cara beliau analisa perusahaan.\\n\\nLKH mulai investasi di tahun 1989.\\nSama seperti investor pemula, beragam gaya dicoba dulu, mulai dari trading iya, hingga berebut saham IPO juga iya. Udah mana antri panjang ,eh malah harus cutloss hehehe\\n\\nSampai akhirnya LKH mendengar kisah Warren Buffett dan mulai belajar value investing. Dimana ilmu tersebut ia praktikkan khususnya ketika krisis moneter di 1998, dimana ia membeli suatu saham sekitar 300 jutaan yang kemudian bertumbuh menjadi 1.5 milyar\\n\\n1.5 milyar inilah yang kemudian digunakan LKH untuk membeli . Saham yang 6 tahun kemudian mampu merubah seluruh hidup LKH dari yang pas menjadi Super Pass (Alias bisa kemana ajah kapan ajah) hehehe\\n\\nDalam buku ini, ada 1 halaman yang mencatat daftar saham yang dimiliki oleh LKH, dari tahun ke tahun, jumlah pembelian dan persentase keuntungan.\\n\\nSaya menemukan rata-rata pegangan saham pak LKH adalah 2 tahunan dengan persentase profit sekitar 200-800%. Sedangkan yang benar-benar bagger hingga ribuan persen itu didapat dengan lama investasi sekitar 6 tahun.\\n\\nAda sih yang dibawah 2 tahun, tetapi LKH pun mengakui, memang pas ajah momentumnya alias ada unsur keberuntungan (hoki)\\n\\nDari data ini, kebebasan finansial dari saham sangatlah mungkin asalkan kita mau bersabar dan belajar cara memilih saham yang baik dan benar.\\n\\nBukan berarti pula, jika dalam 6 tahun anda tidak financial freedom anda gagal yah. BUKAN! hehehe.. jangan membandingkan diri yah gaes.\\n\\nTapi yang paling penting diawal adalah membangun rasa percaya diri dalam pemilihan saham. Sama seperti LKH, pegang UNTR bisa hampir 6 tahun. Kalau anda mau gak pegang selama itu ketika lihat saham yang lain pada naik tinggi? Jangankan anda, saya ajah masih kesel, sampai suka ngerasa salah pilih.. hahahaha.\\n\\nDan itulah indahnya investasi. Ketika anda fokus untuk mengembangkan rasa percaya diri dan belajar memilih keputusan yang lebih baik, saya percaya kita semua akan memiliki kehidupan yang lebih baik dan lebih kaya , baik materi dan rohani .\\n\\nBagaimana menurut anda?\\n---\\nHello, saya Intan seorang istri yang bercita-cita menjadi full time investor\\nSaya berharap bisa bertemu dengan komunitas yang memiliki visi serupa agar bisa bertumbuh bersama.\\nLet's be friends\\n\\nCheers\\n---\",\n",
       " 'The essay for tech companies and tech adoption\\n\\nFenomena covid menjadi salah satu fenomena unik tidak hanya untuk bangsa ini tapi bagi seluruh dunia. Salah satu implikasi yang merubah lifestyle orang saat covid kemarin adalah rata rata semua tech related company mengalami kenaikan harga (belum tentu value) yang sangat dahsyat.\\n\\nhype akan tech companies yang akan menggatikan masa depan sepertinya membuat semua orang overoptimisme yang sangat berlebihan. Ditambah suku bunga yang rendah membuat cheap money yang membuat banyak tech startup dan tech companies di-inject “cheap money” tersebut dan mereka menghamburkan uang demi promosi gila-gilaan yang mengakibatkan cost yang jauh besar dibanding sales demi secuil brand awareness dan market share.\\n\\nDan memang benar adoption dari banyak tech companies seperti grab, gojek, tokopedia, seabank, bank arto dan banyak lainnya memang bisa mandapatkan user dan transactions yang besar saat covid lockdown era dimana semua orang memang tidak bisa kemana mana dan dipaksa melakukan semua serba digital.\\n\\n\\nFast forward ke momen dimana covid sudah menjadi endemi, suku bunga naik dan tidak ada cheap money untuk dispend sembarangan. Tech startup dituntut untuk lebih profitable sehingga banyak perusahaan tech yang men-downsize jumlah karyawan yang relatif masuk sebagai cost terbesar mereka. Namun bukan hanya ini problem yang dihadapi. Setelah saya riset ternyata fenomena super growth dari tech companies sudah tidak bisa sebesar dan secepat saat covid era.\\n\\nSetelah economy reopening setelah setahun atau dua tahun tutup, dan offline businesses terbuka, ternyata orang sadar, perpindahan ke masa depan ala-ala high tech dimana semua orang akan di rumah berbelanja, jalan jalan dengan metaverse belumlah terjadi secepat itu. malah setelah economy reopening, dengan sangat cepat industri offline dan retail malah cepat sekali recover dan bahkan sudah mencapaikan pencapaian lebih tinggi dari sebelum covid.\\n\\nDisitu saya tersadar, dunia full digital masih sangat amat jauh. Dunia riil masih banyak potensi dan pertumbuhan yang bisa dicapai. Jadi untuk yang bilang masa depan adalah semua digital, jawaban saya adalah yes but masa depan adalah sektor rill pula. Menurut saya perushaan yang mampu mengandalkan digital dan tech sebagai efisiensi dan tetap menumbuhkan sektor riil akan bertahan dan berperforma lebih baik.\\n\\nContoh:\\nyang berkespansi online saat covid era, pertumbuhan nya mencapai triple digit di tahun pertama dan double digit sampai sekarang, namun perusahaan tetap menambah cabang offline dan menambambahkan infrastruktur omnichannel dimana offline dan online bersinergi (pembelian online- pengambilan di toko, pengecekan online untuk stok toko, pengecekan stok di toko toko lain yang ready stock).\\n\\n, semua melakukan penjualan melalui kanal online market place direct dari mereka langsung, selain mendapatkan kanal penjualan baru, mereka pun bisa mendapatkan margin lebih tinggi karena mereka menjual direct ke customer. Marketing pun lebih banyak alokasi yang dilakukan untuk iklan di sosmed, promosi di sosmed, dan pula alokasi karyawan untuk sosmed. Namun tidak lupa juga mereka tetap melakukan offline bazar seperti saat jakarta fair atau car free day untuk tetap melakukan offline marketing.\\n\\nBank bank besar tentu tidak mau kalah dari bank digital, mereka berinvestasi semakin besar di budget online apps dan website mereka, namun tidak lupa mereka tetap membuka cabang atau paling tidak merelokasi cabang offline mereka.\\n\\nLalu apakah masa depan serba serbi online dan tech suram? Kalau saya bilang dalam jangka pendek iya karena akan ada rerating dan seleksi alam. Akan tetap ada pertumbuhan kedepannya pastinya tidak sekencang covid era namun tidak selambat pre covid era. Menurut swa online, Ekonomi digital indonesia Diprediksikan masih bisa bertumbuh double digit di CAGR 19% hingga 2030. Ini masihlah market yang sangat besar. Namun perusahaan dituntut untuk profitable dan tidak lagi bakar uang. Jadi potensi masih besar sekali. Bisa dibilang inilah turning point banyak tech companies untuk lebih profitble.\\n\\nkemarin saya datang ke pubex online . Ada yang bertanya situasi dimana banyak startup dan tech companies yang collapse kemarin bisa menjadi peluang untuk MTDL. Tenaga kerja yang lebih baik tersedia di market dan tentunya dengan gaji yang lebih fair dibanding tech boom saat covid era kemarin. Di situasi dimana tech companies banyak yang mengalami failure, MTDL sendiri yakin bisa mangambil market share yang ditinggalkan kompetitor yang melakukan slowdown. Selain itu dengan CAGR yang masih besar pertumbuhan nya, ruang bertumbuh tech companies di jangka panjang masih sangat amat besar dan luas.\\n\\nJadi bisa saya simpulkan sektor digital dan sektor real berjalan bersama sama. Toko offline tidak tergantikan bahkan di negara yang jauh lebih techinaly modern seperti china, japan, korea, amerika toko offline masih berekspansi membuka cabang diiringi dengan infrastruktur online yang menunjang toko offline mereka. Digital tidak akan menggantikan sektor real setidaknya dalam waktu dekat. Malah bisa saya simpulkan teknologi digital dan perusahaan perusahaannya akan dibutuhkan untuk men-support perusahaan perusahaan tradisional yang beroperasi di sektor real.\\n\\nTech companies pun masih sangat menarik dengan CAGR pertumbuhan yang besar walau tidak dalam jangka waktu pendek karena mereka sudah growth gila gilaan 2 tahun kebelakang maka biarkan banyak perusahaan tech rerating dulu dan saya akan lebih prefer perusahaan yang profitable, fair valued dan punya ruang bertumbuh yang besar.']"
      ]
     },
     "execution_count": 12,
     "metadata": {},
     "output_type": "execute_result"
    }
   ],
   "source": [
    "[re.sub('#[\\w]+', '', item) for item in label_2]"
   ]
  },
  {
   "cell_type": "code",
   "execution_count": 13,
   "metadata": {},
   "outputs": [
    {
     "data": {
      "text/plain": [
       "['Lagi sedih2 nya saham ayam2an bang $JPFA $CPIN $WMUU $MAIN 😌',\n",
       " '$INDF\\nSaya senang LK Indofood sudah keluar Q3. Saya perlu akui, hebat manajemen dalam arungi penjualan di 2022 ini. Saya sebagai pedagang Indomie, sih, tahun ini puji Tuhan, lancar. Orang masih ambil barang sama saya. Harga saya masih bisa lepas murah dibanding supermarket. Saya kagum dengan produknya, animo masyarakat masih suka mie nya.\\n\\n\\nsukses terus pak Salim. Pengen kerja di perusahaan bapak, tapi ditolak HRD bapak, yang masih muda dan single itu.\\n\\nsaya akhirnya dagang indomie aja, supply ke org yg butuh.',\n",
       " \"Kapan bisa FINANCIAL FREEDOM kayak Lo Kheng Hong?\\n\\nBapak LKH merupakan salah satu panutan saya dalam berinvestasi di pasar modal.\\nSaya juga percaya untuk menang dengan cara lebih 'cepat' dan cerdas, kita harus melihat sejarah seseorang atau suatu negara.\\n\\nSaya membeli buku Bpk Lukas Setia Atmaja berjudul Lo Kheng Hong. Dimana buku ini secara lengkap menjelaskan perjalanan investasi Bapak LKH dan juga cara beliau analisa perusahaan.\\n\\nLKH mulai investasi di tahun 1989.\\nSama seperti investor pemula, beragam gaya dicoba dulu, mulai dari trading iya, hingga berebut saham IPO juga iya. Udah mana antri panjang ,eh malah harus cutloss hehehe\\n\\nSampai akhirnya LKH mendengar kisah Warren Buffett dan mulai belajar value investing. Dimana ilmu tersebut ia praktikkan khususnya ketika krisis moneter di 1998, dimana ia membeli suatu saham sekitar 300 jutaan yang kemudian bertumbuh menjadi 1.5 milyar\\n\\n1.5 milyar inilah yang kemudian digunakan LKH untuk membeli . Saham yang 6 tahun kemudian mampu merubah seluruh hidup LKH dari yang pas menjadi Super Pass (Alias bisa kemana ajah kapan ajah) hehehe\\n\\nDalam buku ini, ada 1 halaman yang mencatat daftar saham yang dimiliki oleh LKH, dari tahun ke tahun, jumlah pembelian dan persentase keuntungan.\\n\\nSaya menemukan rata-rata pegangan saham pak LKH adalah 2 tahunan dengan persentase profit sekitar 200-800%. Sedangkan yang benar-benar bagger hingga ribuan persen itu didapat dengan lama investasi sekitar 6 tahun.\\n\\nAda sih yang dibawah 2 tahun, tetapi LKH pun mengakui, memang pas ajah momentumnya alias ada unsur keberuntungan (hoki)\\n\\nDari data ini, kebebasan finansial dari saham sangatlah mungkin asalkan kita mau bersabar dan belajar cara memilih saham yang baik dan benar.\\n\\nBukan berarti pula, jika dalam 6 tahun anda tidak financial freedom anda gagal yah. BUKAN! hehehe.. jangan membandingkan diri yah gaes.\\n\\nTapi yang paling penting diawal adalah membangun rasa percaya diri dalam pemilihan saham. Sama seperti LKH, pegang UNTR bisa hampir 6 tahun. Kalau anda mau gak pegang selama itu ketika lihat saham yang lain pada naik tinggi? Jangankan anda, saya ajah masih kesel, sampai suka ngerasa salah pilih.. hahahaha.\\n\\nDan itulah indahnya investasi. Ketika anda fokus untuk mengembangkan rasa percaya diri dan belajar memilih keputusan yang lebih baik, saya percaya kita semua akan memiliki kehidupan yang lebih baik dan lebih kaya , baik materi dan rohani .\\n\\nBagaimana menurut anda?\\n---\\nHello, saya Intan seorang istri yang bercita-cita menjadi full time investor\\nSaya berharap bisa bertemu dengan komunitas yang memiliki visi serupa agar bisa bertumbuh bersama.\\nLet's be friends\\n\\nCheers\\n---\",\n",
       " 'The essay for tech companies and tech adoption\\n\\nFenomena covid menjadi salah satu fenomena unik tidak hanya untuk bangsa ini tapi bagi seluruh dunia. Salah satu implikasi yang merubah lifestyle orang saat covid kemarin adalah rata rata semua tech related company mengalami kenaikan harga (belum tentu value) yang sangat dahsyat.\\n\\nhype akan tech companies yang akan menggatikan masa depan sepertinya membuat semua orang overoptimisme yang sangat berlebihan. Ditambah suku bunga yang rendah membuat cheap money yang membuat banyak tech startup dan tech companies di-inject “cheap money” tersebut dan mereka menghamburkan uang demi promosi gila-gilaan yang mengakibatkan cost yang jauh besar dibanding sales demi secuil brand awareness dan market share.\\n\\nDan memang benar adoption dari banyak tech companies seperti grab, gojek, tokopedia, seabank, bank arto dan banyak lainnya memang bisa mandapatkan user dan transactions yang besar saat covid lockdown era dimana semua orang memang tidak bisa kemana mana dan dipaksa melakukan semua serba digital.\\n\\n\\nFast forward ke momen dimana covid sudah menjadi endemi, suku bunga naik dan tidak ada cheap money untuk dispend sembarangan. Tech startup dituntut untuk lebih profitable sehingga banyak perusahaan tech yang men-downsize jumlah karyawan yang relatif masuk sebagai cost terbesar mereka. Namun bukan hanya ini problem yang dihadapi. Setelah saya riset ternyata fenomena super growth dari tech companies sudah tidak bisa sebesar dan secepat saat covid era.\\n\\nSetelah economy reopening setelah setahun atau dua tahun tutup, dan offline businesses terbuka, ternyata orang sadar, perpindahan ke masa depan ala-ala high tech dimana semua orang akan di rumah berbelanja, jalan jalan dengan metaverse belumlah terjadi secepat itu. malah setelah economy reopening, dengan sangat cepat industri offline dan retail malah cepat sekali recover dan bahkan sudah mencapaikan pencapaian lebih tinggi dari sebelum covid.\\n\\nDisitu saya tersadar, dunia full digital masih sangat amat jauh. Dunia riil masih banyak potensi dan pertumbuhan yang bisa dicapai. Jadi untuk yang bilang masa depan adalah semua digital, jawaban saya adalah yes but masa depan adalah sektor rill pula. Menurut saya perushaan yang mampu mengandalkan digital dan tech sebagai efisiensi dan tetap menumbuhkan sektor riil akan bertahan dan berperforma lebih baik.\\n\\nContoh:\\nyang berkespansi online saat covid era, pertumbuhan nya mencapai triple digit di tahun pertama dan double digit sampai sekarang, namun perusahaan tetap menambah cabang offline dan menambambahkan infrastruktur omnichannel dimana offline dan online bersinergi (pembelian online- pengambilan di toko, pengecekan online untuk stok toko, pengecekan stok di toko toko lain yang ready stock).\\n\\n, semua melakukan penjualan melalui kanal online market place direct dari mereka langsung, selain mendapatkan kanal penjualan baru, mereka pun bisa mendapatkan margin lebih tinggi karena mereka menjual direct ke customer. Marketing pun lebih banyak alokasi yang dilakukan untuk iklan di sosmed, promosi di sosmed, dan pula alokasi karyawan untuk sosmed. Namun tidak lupa juga mereka tetap melakukan offline bazar seperti saat jakarta fair atau car free day untuk tetap melakukan offline marketing.\\n\\nBank bank besar tentu tidak mau kalah dari bank digital, mereka berinvestasi semakin besar di budget online apps dan website mereka, namun tidak lupa mereka tetap membuka cabang atau paling tidak merelokasi cabang offline mereka.\\n\\nLalu apakah masa depan serba serbi online dan tech suram? Kalau saya bilang dalam jangka pendek iya karena akan ada rerating dan seleksi alam. Akan tetap ada pertumbuhan kedepannya pastinya tidak sekencang covid era namun tidak selambat pre covid era. Menurut swa online, Ekonomi digital indonesia Diprediksikan masih bisa bertumbuh double digit di CAGR 19% hingga 2030. Ini masihlah market yang sangat besar. Namun perusahaan dituntut untuk profitable dan tidak lagi bakar uang. Jadi potensi masih besar sekali. Bisa dibilang inilah turning point banyak tech companies untuk lebih profitble.\\n\\nkemarin saya datang ke pubex online . Ada yang bertanya situasi dimana banyak startup dan tech companies yang collapse kemarin bisa menjadi peluang untuk MTDL. Tenaga kerja yang lebih baik tersedia di market dan tentunya dengan gaji yang lebih fair dibanding tech boom saat covid era kemarin. Di situasi dimana tech companies banyak yang mengalami failure, MTDL sendiri yakin bisa mangambil market share yang ditinggalkan kompetitor yang melakukan slowdown. Selain itu dengan CAGR yang masih besar pertumbuhan nya, ruang bertumbuh tech companies di jangka panjang masih sangat amat besar dan luas.\\n\\nJadi bisa saya simpulkan sektor digital dan sektor real berjalan bersama sama. Toko offline tidak tergantikan bahkan di negara yang jauh lebih techinaly modern seperti china, japan, korea, amerika toko offline masih berekspansi membuka cabang diiringi dengan infrastruktur online yang menunjang toko offline mereka. Digital tidak akan menggantikan sektor real setidaknya dalam waktu dekat. Malah bisa saya simpulkan teknologi digital dan perusahaan perusahaannya akan dibutuhkan untuk men-support perusahaan perusahaan tradisional yang beroperasi di sektor real.\\n\\nTech companies pun masih sangat menarik dengan CAGR pertumbuhan yang besar walau tidak dalam jangka waktu pendek karena mereka sudah growth gila gilaan 2 tahun kebelakang maka biarkan banyak perusahaan tech rerating dulu dan saya akan lebih prefer perusahaan yang profitable, fair valued dan punya ruang bertumbuh yang besar.']"
      ]
     },
     "execution_count": 13,
     "metadata": {},
     "output_type": "execute_result"
    }
   ],
   "source": [
    "[re.sub('((https|http):\\/\\/|www.)[\\w.\\/]+', '', item) for item in label_2]"
   ]
  },
  {
   "cell_type": "code",
   "execution_count": 14,
   "metadata": {},
   "outputs": [
    {
     "name": "stderr",
     "output_type": "stream",
     "text": [
      "[nltk_data] Downloading package punkt to /Users/jason/nltk_data...\n",
      "[nltk_data]   Package punkt is already up-to-date!\n"
     ]
    },
    {
     "data": {
      "text/plain": [
       "True"
      ]
     },
     "execution_count": 14,
     "metadata": {},
     "output_type": "execute_result"
    }
   ],
   "source": [
    "from nltk.tokenize import word_tokenize\n",
    "import nltk\n",
    "nltk.download('punkt')"
   ]
  },
  {
   "cell_type": "code",
   "execution_count": 15,
   "metadata": {},
   "outputs": [
    {
     "name": "stdout",
     "output_type": "stream",
     "text": [
      "['Good', 'muffins', 'cost', '$', '3.88', 'in', 'New', 'York', '.', 'Please', 'buy', 'me', 'two', 'of', 'them', '.', 'Thanks', '.']\n"
     ]
    }
   ],
   "source": [
    "s = '''Good muffins cost $3.88\\nin New York.  Please buy me\n",
    "... two of them.\\n\\nThanks.'''\n",
    "print(word_tokenize(s))"
   ]
  },
  {
   "attachments": {},
   "cell_type": "markdown",
   "metadata": {},
   "source": [
    "## Preprocessor"
   ]
  },
  {
   "cell_type": "code",
   "execution_count": 16,
   "metadata": {},
   "outputs": [],
   "source": [
    "with open('./stopwords.txt', 'rt') as file_1:\n",
    "    stopwords = [item.rstrip() for item in list(file_1)]"
   ]
  },
  {
   "cell_type": "code",
   "execution_count": 17,
   "metadata": {},
   "outputs": [
    {
     "data": {
      "text/plain": [
       "['sedih nya saham ayam an bang',\n",
       " 'senang lk indofood keluar q akui hebat manajemen arungi penjualan pedagang indomie sih tahun puji tuhan lancar orang ambil barang harga lepas murah dibanding supermarket kagum produknya animo masyarakat suka mie nya sukses pak salim pengen kerja perusahaan bapak ditolak hrd bapak muda single dagang indomie aja supply org yg butuh',\n",
       " 'l dom kayak lo kheng hong bapak lkh satu panutan berinvestasi pasar modal percaya menang cara cepat cerdas melihat sejarah negara membeli buku bpk lukas setia atmaja berjudul lo kheng hong dimana buku lengkap menjelaskan perjalanan investasi bapak lkh cara beliau analisa perusahaan lkh investasi tahun investor pemula beragam gaya dicoba trading iya berebut saham ipo iya udah antri panjang eh cutloss hehehe lkh mendengar kisah warren buffett belajar value investing dimana ilmu praktikkan krisis moneter dimana membeli saham jutaan bertumbuh milyar milyar digunakan lkh membeli saham tahun merubah seluruh hidup lkh pas super pass alias kemana ajah ajah hehehe buku halaman mencatat daftar saham dimiliki lkh tahun tahun jumlah pembelian persentase keuntungan menemukan rata rata pegangan saham pak lkh tahunan persentase profit benar benar bagger ribuan persen didapat investasi tahun sih dibawah tahun lkh mengakui pas ajah momentumnya alias unsur keberuntungan hoki data kebebasan finansial saham asalkan bersabar belajar cara memilih saham benar bukan berarti tahun financial freedom gagal yah n hehehe membandingkan yah gaes penting diawal membangun rasa percaya pemilihan saham lkh pegang hampir tahun gak pegang lihat saham naik tinggi ajah kesel suka ngerasa pilih hahahaha indahnya investasi fokus mengembangkan rasa percaya belajar memilih keputusan percaya memiliki kehidupan kaya materi rohani hello intan istri bercita cita full time investor berharap bertemu komunitas memiliki visi bertumbuh let s be friends cheers',\n",
       " 'the essay for tech companies and tech adoption fenomena covid satu fenomena unik bangsa seluruh dunia satu implikasi merubah lifestyle orang covid kemarin rata rata tech related company mengalami kenaikan harga value dahsyat hype tech companies menggatikan masa membuat orang overoptimisme berlebihan ditambah suku bunga rendah membuat cheap money membuat tech startup tech companies inject cheap money menghamburkan uang promosi gila gilaan mengakibatkan cost jauh besar dibanding sales secuil brand awareness market share benar adoption tech companies grab gojek tokopedia seabank bank arto mandapatkan user transactions besar covid lockdown era dimana orang kemana dipaksa melakukan serba digital fast forward momen dimana covid endemi suku bunga naik cheap money dispend sembarangan tech startup dituntut profitable perusahaan tech men downsize jumlah karyawan relatif masuk cost terbesar bukan problem dihadapi riset fenomena super growth tech companies sebesar secepat covid era economy reopening setahun dua tahun tutup offline businesses terbuka orang sadar perpindahan masa ala ala high tech dimana orang rumah berbelanja jalan jalan metaverse secepat economy reopening cepat industri offline retail cepat recover mencapaikan pencapaian tinggi covid disitu tersadar dunia full digital jauh dunia riil potensi pertumbuhan dicapai bilang masa digital jawaban yes but masa sektor rill perushaan mengandalkan digital tech efisiensi menumbuhkan sektor riil bertahan berperforma contoh berkespansi online covid era pertumbuhan nya mencapai triple digit tahun pertama double digit perusahaan menambah cabang offline menambambahkan infrastruktur omnichannel dimana offline online bersinergi pembelian online pengambilan toko pengecekan online stok toko pengecekan stok toko toko ready stock melakukan penjualan kanal online market place direct mendapatkan kanal penjualan mendapatkan margin tinggi menjual direct customer marketing alokasi iklan sosmed promosi sosmed alokasi karyawan sosmed lupa melakukan offline bazar jakarta fair car free day melakukan offline marketing bank bank besar kalah bank digital berinvestasi besar budget online apps website lupa membuka cabang merelokasi cabang offline masa serba serbi online tech suram bilang jangka pendek iya rerating seleksi alam pertumbuhan kedepannya pastinya sekencang covid era selambat pre covid era swa online ekonomi digital indonesia diprediksikan bertumbuh double digit masihlah market besar perusahaan dituntut profitable bakar uang potensi besar dibilang turning point tech companies profitble kemarin datang pubex online bertanya situasi dimana startup tech companies collapse kemarin peluang tenaga kerja tersedia market gaji fair dibanding tech boom covid era kemarin situasi dimana tech companies mengalami failure yakin mangambil market share ditinggalkan kompetitor melakukan slowdown besar pertumbuhan nya ruang bertumbuh tech companies jangka panjang besar luas simpulkan sektor digital sektor real berjalan toko offline tergantikan negara jauh techinaly modern china japan korea amerika toko offline berekspansi membuka cabang diiringi infrastruktur online menunjang toko offline digital menggantikan sektor real simpulkan teknologi digital perusahaan perusahaannya dibutuhkan men support perusahaan perusahaan tradisional beroperasi sektor real tech companies menarik pertumbuhan besar jangka pendek growth gila gilaan tahun kebelakang biarkan perusahaan tech rerating prefer perusahaan profitable fair valued punya ruang bertumbuh besar']"
      ]
     },
     "execution_count": 17,
     "metadata": {},
     "output_type": "execute_result"
    }
   ],
   "source": [
    "def preprocessor(text: str):\n",
    "    # @KorneliusNelson \n",
    "    text = re.sub('@[\\w]+', ' ', text)\n",
    "    \n",
    "    # BMTR\n",
    "    # $MNCN\n",
    "    text = re.sub('\\$?[A-Z]{4}', ' ', text)\n",
    "    \n",
    "    # #investasi\n",
    "    text = re.sub('#[\\w]+', ' ', text)\n",
    "    \n",
    "    # https://cutt.ly/10dH3OY\n",
    "    text = re.sub('((https|http):\\/\\/|www.)[\\w.\\/]+', ' ', text)\n",
    "    \n",
    "    # \\n\n",
    "    text = re.sub('\\\\n', ' ', text)\n",
    "    \n",
    "    # not word character\n",
    "    text = re.sub('[^A-Za-z\\s]', ' ', text)\n",
    "    \n",
    "    text = text.lower()\n",
    "    \n",
    "    text = text.strip()\n",
    "    \n",
    "    tokens = word_tokenize(text)\n",
    "    \n",
    "    text = ' '.join([word for word in tokens if word not in stopwords])\n",
    "    \n",
    "    return text\n",
    "\n",
    "label_2_preprocessed = [preprocessor(item) for item in label_2]\n",
    "label_2_preprocessed"
   ]
  },
  {
   "attachments": {},
   "cell_type": "markdown",
   "metadata": {},
   "source": [
    "# Neutral/Negative/Positive"
   ]
  },
  {
   "cell_type": "code",
   "execution_count": 18,
   "metadata": {},
   "outputs": [
    {
     "data": {
      "text/plain": [
       "['Phintraco Sekuritas: Pasar Wait and See Risalah FOMC The Fed, Perhatikan ADRO Hingga CPIN\\nJAKARTA, Phintraco Sekuritas mengatakan pasar cenderung wait and see rilis risalah The Federal Open Market Committee (FOMC) The Fed. Ini akan mempengaruhi pergerakan IHSG sehingga diperkirakan cenderung terkoreksi ke kisaran 7.030-7.050 di Selasa (22/11/2022). IHSG hari ini diperkirakan akan bergera...',\n",
       " '$INTP\\n\\nB 9800-10000\\nSL 9325 (5%)\\nTP 11600 (18%)\\n\\nnfa dyor\\n\\ntag $BBNI $DOID $ICBP $MDKA',\n",
       " 'Tak Memuaskan, Laba Indofood CBP (ICBP) Tergerus 33 Persen Sisa Rp3,30 Triliun\\nEmitenNews.com—Emiten milik Grup Salim, PT Indofood CBP Sukses Makmur Tbk (ICBP) selama sembilan bulan pertama tahun 2022, mencatatkan kinerja kurang memuaskan. Hal ini berdasarkan penurunan laba bersih hingga 33,46 persen secara tahunan (YoY) menjadi Rp 3,30 triliun hingga kuartal III-2022, jauh ...',\n",
       " 'Untuk menghindari inflasi serta kenaikan harga sembako menjelang natal dan tahun baru, ada baiknya Menteri Perdagangan kerjasama dengan bandar-bandar IHSG yang hebat dalam markdown harga atau mengguyur suatu emiten hingga ARB supaya membantu menjaga kestabilan harga bahan pokok di pasar.\\n\\n$BISI $ICBP $CPIN $IHSG $PDPP',\n",
       " 'IHSG Diproyeksi Menguat, Cermati Saham CPIN, ELSA, INDF hingga INKP\\nhttps://bit.ly/147E996, JAKARTA— Indeks Harga Saham Gabungan (IHSG) diperkirakan mampu melanjutkan penguatan pada perdagangan Selasa (6/12/2022) setelah sebelumnya IHSG ditutup terkoreksi 0,5 persen ke posisi 6,987 pada perdagangan kemarin, Senin (5/12/2022).Tim analis MNC Sekuritas menyebutkan koreksi IHSG d...',\n",
       " '$ICBP sudah bangun dari tidur']"
      ]
     },
     "execution_count": 18,
     "metadata": {},
     "output_type": "execute_result"
    }
   ],
   "source": [
    "label_1 = df_c.groupby(by='label 1').sample(2, random_state=1)['comment'].tolist()\n",
    "label_1"
   ]
  },
  {
   "cell_type": "code",
   "execution_count": 19,
   "metadata": {},
   "outputs": [
    {
     "data": {
      "text/plain": [
       "['phintraco sekuritas pasar wait and see risalah the fed perhatikan rta phintraco sekuritas pasar cenderung wait and see rilis risalah the federal open market committee the fed mempengaruhi pergerakan diperkirakan cenderung terkoreksi kisaran selasa hari diperkirakan bergera',\n",
       " 'b sl tp nfa dyor tag',\n",
       " 'memuaskan laba indofood cbp tergerus persen sisa rp triliun emitennews com emiten milik grup salim pt indofood cbp sukses makmur tbk sembilan bulan pertama tahun mencatatkan kinerja kurang memuaskan berdasarkan penurunan laba bersih persen tahunan yoy rp triliun kuartal iii jauh',\n",
       " 'menghindari inflasi kenaikan harga sembako menjelang natal tahun baiknya menteri perdagangan kerjasama bandar bandar hebat markdown harga mengguyur emiten arb membantu menjaga kestabilan harga bahan pokok pasar',\n",
       " 'diproyeksi menguat cermati saham rta indeks harga saham gabungan diperkirakan melanjutkan penguatan perdagangan selasa ditutup terkoreksi persen posisi perdagangan kemarin senin tim analis mnc sekuritas menyebutkan koreksi d',\n",
       " 'bangun tidur']"
      ]
     },
     "execution_count": 19,
     "metadata": {},
     "output_type": "execute_result"
    }
   ],
   "source": [
    "label_1_preprocessed = [preprocessor(item) for item in label_1]\n",
    "label_1_preprocessed"
   ]
  },
  {
   "attachments": {},
   "cell_type": "markdown",
   "metadata": {},
   "source": [
    "# Lemmatizer"
   ]
  },
  {
   "cell_type": "code",
   "execution_count": 20,
   "metadata": {},
   "outputs": [
    {
     "data": {
      "text/plain": [
       "'dan'"
      ]
     },
     "execution_count": 20,
     "metadata": {},
     "output_type": "execute_result"
    }
   ],
   "source": [
    "with open('./slangwords.txt', 'rt') as file_1:\n",
    "    slangwords = {}\n",
    "    for line in file_1:\n",
    "        (key, val) = line.rstrip().split(\":\")\n",
    "        slangwords[key] = val\n",
    "slangwords.get('&', 'default')"
   ]
  },
  {
   "cell_type": "code",
   "execution_count": 21,
   "metadata": {},
   "outputs": [],
   "source": [
    "slangwords['disclimer'] = 'disclaimer'\n",
    "slangwords['nov'] = 'november'\n",
    "slangwords['eksport'] = 'ekspor'\n",
    "slangwords['lk'] = 'laporan keuangan'\n",
    "slangwords['q'] = 'aku'\n",
    "slangwords['bpk'] = 'bapak'\n",
    "slangwords['ajah'] = 'saja'\n",
    "\n",
    "stopwords_v2 = stopwords\n",
    "\n",
    "stopwords_v2.append('disclaimer')\n",
    "stopwords_v2.append('on')\n",
    "\n",
    "stopwords_v2.append('phintraco')\n",
    "stopwords_v2.append('sekuritas')\n",
    "\n",
    "stopwords_v2.append('pasar')\n",
    "\n",
    "stopwords_v2.append('open')\n",
    "stopwords_v2.append('market')\n",
    "\n",
    "stopwords_v2.append('ayam')\n",
    "\n",
    "stopwords_v2.append('saham')\n",
    "\n",
    "stopwords_v2.append('laporan keuangan')\n",
    "\n",
    "stopwords_v2.append('sih')\n",
    "stopwords_v2.append('an')\n",
    "stopwords_v2.append('nya')\n",
    "\n",
    "stopwords_v2.append('indomie')\n",
    "stopwords_v2.append('indofood')\n",
    "# stopwords_v2.append('salim')\n",
    "\n",
    "# stopwords_v2.append('lkh')\n",
    "# stopwords_v2.append('kheng')\n",
    "# stopwords_v2.append('hong')\n",
    "\n",
    "stopwords_v2.append('bapak')\n",
    "stopwords_v2.append('buku')\n",
    "\n",
    "stopwords_v2.append('ipo')\n",
    "\n",
    "stopwords_v2 = list(stopwords)\n",
    "\n",
    "# 2 words?\n",
    "# stopwords_v2['disc on'] = 'disclaimer on'\n",
    "# stopwords_v2['disclimer'] = 'disclaimer on'\n",
    "\n",
    "# stopwords_v2.append('disclaimer on')"
   ]
  },
  {
   "cell_type": "code",
   "execution_count": 22,
   "metadata": {},
   "outputs": [
    {
     "data": {
      "text/plain": [
       "False"
      ]
     },
     "execution_count": 22,
     "metadata": {},
     "output_type": "execute_result"
    }
   ],
   "source": [
    "'disclaimer' in ['disclaimer on']"
   ]
  },
  {
   "cell_type": "code",
   "execution_count": 25,
   "metadata": {},
   "outputs": [
    {
     "data": {
      "text/plain": [
       "'$INDF\\nSaya senang LK Indofood sudah keluar Q3. Saya perlu akui, hebat manajemen dalam arungi penjualan di 2022 ini. Saya sebagai pedagang Indomie, sih, tahun ini puji Tuhan, lancar. Orang masih ambil barang sama saya. Harga saya masih bisa lepas murah dibanding supermarket. Saya kagum dengan produknya, animo masyarakat masih suka mie nya.\\n\\n\\nsukses terus pak Salim. Pengen kerja di perusahaan bapak, tapi ditolak HRD bapak, yang masih muda dan single itu.\\n\\nsaya akhirnya dagang indomie aja, supply ke org yg butuh.'"
      ]
     },
     "execution_count": 25,
     "metadata": {},
     "output_type": "execute_result"
    }
   ],
   "source": [
    "label_2[1]"
   ]
  },
  {
   "cell_type": "code",
   "execution_count": 24,
   "metadata": {},
   "outputs": [
    {
     "data": {
      "text/plain": [
       "['Kapan bisa FINANCIAL FREEDOM kayak Lo Kheng Hong?', '  ']"
      ]
     },
     "execution_count": 24,
     "metadata": {},
     "output_type": "execute_result"
    }
   ],
   "source": [
    "[re.sub('\\$[A-Z]{4}| [A-Z]{4} ', ' ', text) for text in ['Kapan bisa FINANCIAL FREEDOM kayak Lo Kheng Hong?', '$INDF ']]"
   ]
  },
  {
   "cell_type": "code",
   "execution_count": 40,
   "metadata": {},
   "outputs": [
    {
     "data": {
      "text/plain": [
       "{1}"
      ]
     },
     "execution_count": 40,
     "metadata": {},
     "output_type": "execute_result"
    }
   ],
   "source": [
    "set({1})"
   ]
  },
  {
   "cell_type": "code",
   "execution_count": null,
   "metadata": {},
   "outputs": [
    {
     "data": {
      "text/plain": [
       "['sedih bang',\n",
       " 'senang keluar akui hebat manajemen arungi penjualan pedagang tahun puji tuhan lancar orang ambil barang harga lepas murah dibanding supermarket kagum produknya animo masyarakat suka mie sukses pak pengen kerja perusahaan ditolak hrd muda single dagang aja supply orang butuh',\n",
       " 'financial freedom kayak satu panutan berinvestasi modal percaya menang cara cepat cerdas melihat sejarah negara membeli lukas setia atmaja berjudul dimana lengkap menjelaskan perjalanan investasi cara beliau analisa perusahaan investasi tahun investor pemula beragam gaya dicoba trading iya berebut iya udah antri panjang eh cutloss hehehe mendengar kisah warren buffett belajar value investing dimana ilmu praktikkan krisis moneter dimana membeli jutaan bertumbuh milyar milyar digunakan membeli tahun merubah seluruh hidup pas super pass alias kemana hehehe halaman mencatat daftar dimiliki tahun tahun jumlah pembelian persentase keuntungan menemukan rata rata pegangan pak tahunan persentase profit benar benar bagger ribuan persen didapat investasi tahun dibawah tahun mengakui pas momentumnya alias unsur keberuntungan hoki data kebebasan finansial asalkan bersabar belajar cara memilih benar bukan berarti tahun financial freedom gagal yah bukan hehehe membandingkan yah gaes penting diawal membangun rasa percaya pemilihan pegang hampir tahun pegang lihat naik tinggi kesel suka ngerasa pilih hahahaha indahnya investasi fokus mengembangkan rasa percaya belajar memilih keputusan percaya memiliki kehidupan kaya materi rohani hello intan istri bercita cita full time investor berharap bertemu komunitas memiliki visi bertumbuh let s be friends cheers',\n",
       " 'the essay for tech companies and tech adoption fenomena covid satu fenomena unik bangsa seluruh dunia satu implikasi merubah lifestyle orang covid kemarin rata rata tech related company mengalami kenaikan harga value dahsyat hype tech companies menggatikan masa membuat orang overoptimisme berlebihan ditambah suku bunga rendah membuat cheap money membuat tech startup tech companies inject cheap money menghamburkan promosi gila gilaan mengakibatkan cost jauh besar dibanding sales secuil brand awareness share benar adoption tech companies grab gojek tokopedia seabank bank arto mandapatkan user transactions besar covid lockdown era dimana orang kemana dipaksa melakukan serba digital fast forward momen dimana covid endemi suku bunga naik cheap money dispend sembarangan tech startup dituntut profitable perusahaan tech men downsize jumlah karyawan relatif masuk cost terbesar bukan problem dihadapi riset fenomena super growth tech companies sebesar secepat covid era economy reopening setahun dua tahun tutup offline businesses terbuka orang sadar perpindahan masa ala ala high tech dimana orang rumah berbelanja jalan jalan metaverse secepat economy reopening cepat industri offline retail cepat recover mencapaikan pencapaian tinggi covid disitu tersadar dunia full digital jauh dunia riil potensi pertumbuhan dicapai bilang masa digital jawaban yes but masa sektor rill perushaan mengandalkan digital tech efisiensi menumbuhkan sektor riil bertahan berperforma contoh berkespansi online covid era pertumbuhan mencapai triple digit tahun pertama double digit perusahaan menambah cabang offline menambambahkan infrastruktur omnichannel dimana offline online bersinergi pembelian online pengambilan toko pengecekan online stok toko pengecekan stok toko toko ready stock melakukan penjualan kanal online place direct mendapatkan kanal penjualan mendapatkan margin tinggi menjual direct customer marketing alokasi iklan sosmed promosi sosmed alokasi karyawan sosmed lupa melakukan offline bazar jakarta fair car free day melakukan offline marketing bank bank besar kalah bank digital berinvestasi besar budget online apps website lupa membuka cabang merelokasi cabang offline masa serba serbi online tech suram bilang jangka pendek iya rerating seleksi alam pertumbuhan kedepannya pastinya sekencang covid era selambat pre covid era swa online ekonomi digital indonesia diprediksikan bertumbuh double digit masihlah besar perusahaan dituntut profitable bakar potensi besar dibilang turning point tech companies profitble kemarin datang pubex online bertanya situasi dimana startup tech companies collapse kemarin peluang mtdl tenaga kerja tersedia gaji fair dibanding tech boom covid era kemarin situasi dimana tech companies mengalami failure yakin mangambil share ditinggalkan kompetitor melakukan slowdown besar pertumbuhan ruang bertumbuh tech companies jangka panjang besar luas simpulkan sektor digital sektor real berjalan toko offline tergantikan negara jauh techinaly modern china japan korea amerika toko offline berekspansi membuka cabang diiringi infrastruktur online menunjang toko offline digital menggantikan sektor real simpulkan teknologi digital perusahaan perusahaannya dibutuhkan men support perusahaan perusahaan tradisional beroperasi sektor real tech companies menarik pertumbuhan besar jangka pendek growth gila gilaan tahun kebelakang biarkan perusahaan tech rerating prefer perusahaan profitable fair valued punya ruang bertumbuh besar']"
      ]
     },
     "execution_count": 342,
     "metadata": {},
     "output_type": "execute_result"
    }
   ],
   "source": [
    "def preprocessor_v2(text: str):\n",
    "    # @KorneliusNelson \n",
    "    text = re.sub('@[\\w]+', ' ', text)\n",
    "    \n",
    "    # BMTR\n",
    "    # $MNCN\n",
    "    text = re.sub('\\$[A-Z]{4}| [A-Z]{4} ', ' ', text)\n",
    "    \n",
    "    # # #investasi\n",
    "    text = re.sub('#[\\w]+', ' ', text)\n",
    "    \n",
    "    # # https://cutt.ly/10dH3OY\n",
    "    text = re.sub('((https|http):\\/\\/|www.)[\\w.\\/]+', ' ', text)\n",
    "    \n",
    "    # # \\n\n",
    "    text = re.sub('\\\\n', ' ', text)\n",
    "    \n",
    "    # # not word character\n",
    "    text = re.sub('[^A-Za-z\\s]', ' ', text)\n",
    "    \n",
    "    text = text.lower()\n",
    "    \n",
    "    text = text.strip()\n",
    "    \n",
    "    tokens = word_tokenize(text)\n",
    "    \n",
    "    tokens = [slangwords.get(word, word) for word in tokens]\n",
    "    \n",
    "    tokens = [word for word in tokens if word not in stopwords_v2]\n",
    "    \n",
    "    text = ' '.join(tokens)\n",
    "    \n",
    "    return text\n",
    "\n",
    "label_2_preprocessed_v2 = [preprocessor_v2(text) for text in label_2]\n",
    "label_2_preprocessed_v2"
   ]
  },
  {
   "cell_type": "code",
   "execution_count": null,
   "metadata": {},
   "outputs": [
    {
     "data": {
      "text/plain": [
       "['$JPFA akhir tahun 2021 tutup di 1720 posisi sekarang (14 nov 2022) 1370 koreksi 20%\\n\\n$CPIN akhir tahun 2021 tutup di 5950 posisi sekarang (14 nov 2022) 5800 koreksi 2.5%\\n\\n$MAIN akhir tahun 2021 tutup di 670 posisi sekarang (14 nov 2022) 550 koreksi 17.9%\\n\\n$JPFA masih ketinggalan dan layak di beli. apalagi dengan dibukanya eksport malaysia.\\n\\ndisc on.',\n",
       " '$CPIN Support berikutnya apabila tembus 5600 adalah 5525 dan 5425. Hindari dulu ini saham apabila tembus 5600 karena cenderung downtrend..',\n",
       " '$ICBP ZP ayo borong terus']"
      ]
     },
     "execution_count": 163,
     "metadata": {},
     "output_type": "execute_result"
    }
   ],
   "source": [
    "label_1"
   ]
  },
  {
   "cell_type": "code",
   "execution_count": null,
   "metadata": {},
   "outputs": [
    {
     "data": {
      "text/plain": [
       "['akhir tahun tutup posisi november koreksi akhir tahun tutup posisi november koreksi akhir tahun tutup posisi november koreksi ketinggalan layak beli dibukanya ekspor malaysia disc on',\n",
       " 'support berikutnya tembus hindari saham tembus cenderung downtrend',\n",
       " 'zp ayo borong']"
      ]
     },
     "execution_count": 164,
     "metadata": {},
     "output_type": "execute_result"
    }
   ],
   "source": [
    "label_1_preprocessed_v2 = [preprocessor_v2(text) for text in label_1]\n",
    "label_1_preprocessed_v2"
   ]
  },
  {
   "cell_type": "code",
   "execution_count": null,
   "metadata": {},
   "outputs": [],
   "source": [
    "with open('./slangwords_v2.txt', 'wt') as file_1:\n",
    "    for word in slangwords:\n",
    "        file_1.write(f'{word}:{slangwords.get(word)}\\n')"
   ]
  },
  {
   "cell_type": "code",
   "execution_count": null,
   "metadata": {},
   "outputs": [],
   "source": [
    "with open('./stopwords_v2.txt', 'wt') as file_1:\n",
    "    for word in stopwords_v2:\n",
    "        file_1.write(f'{word}\\n')"
   ]
  },
  {
   "attachments": {},
   "cell_type": "markdown",
   "metadata": {},
   "source": [
    "Input: symbol, comment.\n",
    "\n",
    "Misi dari Rules based adalah mencegah salah subjek.\n",
    "\n",
    "1. lagi ngomong GOTO, tapi dia tag $INDF. -> komentar ada di $INDF.\n",
    "\n",
    "**komentar ada di saham $INDF**\n",
    "1. ['GOTO adalah saham gorengan \\n $INDF'] dicocokin sama symbol -> ini dibuang\n",
    "\n",
    "```\n",
    "symbols = ['GOTO', 'INDF', 'ICBP']\n",
    "symbols.delete(symbol)\n",
    "\n",
    "# ini jangan dipakai, hanya pseudocode.\n",
    "for word in comment.split():\n",
    "  if word in symbols:\n",
    "    # REJECT JANGAN DIMASUKIN ke NLP Sentiment.\n",
    "\n",
    "['GOTO adalah saham gorengan'] -> ['GOTO', 'adalah', 'saham', 'gorengan']\n",
    "```\n",
    "\n",
    "2. ['$INDF adalah saham gorengan \\n $GOTO'] -> ini dilanjutin ke NLP Sentiment."
   ]
  }
 ],
 "metadata": {
  "kernelspec": {
   "display_name": "Python 3",
   "language": "python",
   "name": "python3"
  },
  "language_info": {
   "codemirror_mode": {
    "name": "ipython",
    "version": 3
   },
   "file_extension": ".py",
   "mimetype": "text/x-python",
   "name": "python",
   "nbconvert_exporter": "python",
   "pygments_lexer": "ipython3",
   "version": "3.10.8"
  },
  "orig_nbformat": 4,
  "vscode": {
   "interpreter": {
    "hash": "aee8b7b246df8f9039afb4144a1f6fd8d2ca17a180786b69acc140d282b71a49"
   }
  }
 },
 "nbformat": 4,
 "nbformat_minor": 2
}
