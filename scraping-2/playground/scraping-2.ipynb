{
 "cells": [
  {
   "attachments": {},
   "cell_type": "markdown",
   "metadata": {},
   "source": [
    "# Test"
   ]
  },
  {
   "cell_type": "code",
   "execution_count": 1,
   "metadata": {},
   "outputs": [
    {
     "data": {
      "text/plain": [
       "<Response [200]>"
      ]
     },
     "execution_count": 1,
     "metadata": {},
     "output_type": "execute_result"
    }
   ],
   "source": [
    "import requests\n",
    "page = requests.get(\"https://stockbit.com/#/symbol/ICBP\")\n",
    "page"
   ]
  },
  {
   "cell_type": "code",
   "execution_count": 28,
   "metadata": {},
   "outputs": [],
   "source": [
    "from selenium import webdriver\n",
    "from selenium.webdriver.chrome.service import Service as ChromeService\n",
    "from webdriver_manager.chrome import ChromeDriverManager\n",
    "driver = webdriver.Chrome(service=ChromeService(ChromeDriverManager().install()))"
   ]
  },
  {
   "cell_type": "code",
   "execution_count": null,
   "metadata": {},
   "outputs": [],
   "source": [
    "# scroll test\n",
    "driver.execute_script(\"window.scrollBy(0,document.body.scrollHeight)\", \"\")"
   ]
  },
  {
   "cell_type": "code",
   "execution_count": 8,
   "metadata": {},
   "outputs": [],
   "source": [
    "from selenium.webdriver.common.by import By\n",
    "\n",
    "driver.get(\"https://stockbit.com/symbol/ICBP\")\n",
    "\n",
    "comment_elements = driver.find_elements(by=By.CLASS_NAME, value=\"stream-text\")\n",
    "\n",
    "comments = list()\n",
    "\n",
    "for index, element in enumerate(comment_elements):\n",
    "    print(index, element.text, \"\\n\")\n",
    "    comments.append(element.text)"
   ]
  },
  {
   "cell_type": "code",
   "execution_count": 12,
   "metadata": {},
   "outputs": [
    {
     "name": "stdout",
     "output_type": "stream",
     "text": [
      "0 15 Dec 22, 16:48 \n",
      "\n",
      "1 15 Dec 22, 15:00 \n",
      "\n",
      "2 15 Dec 22, 10:25 \n",
      "\n",
      "3 14 Dec 22, 19:45 \n",
      "\n",
      "4 14 Dec 22, 19:41 \n",
      "\n",
      "5 14 Dec 22, 19:23 \n",
      "\n",
      "6 14 Dec 22, 04:54 \n",
      "\n",
      "7 13 Dec 22, 21:09 \n",
      "\n",
      "8 13 Dec 22, 14:44 \n",
      "\n",
      "9 13 Dec 22, 10:26 \n",
      "\n",
      "10 13 Dec 22, 08:42 \n",
      "\n",
      "11 12 Dec 22, 20:41 \n",
      "\n",
      "12 12 Dec 22, 18:37 \n",
      "\n",
      "13 12 Dec 22, 16:27 \n",
      "\n",
      "14 12 Dec 22, 08:56 \n",
      "\n",
      "15 12 Dec 22, 08:40 \n",
      "\n",
      "16 11 Dec 22, 08:38 \n",
      "\n",
      "17 11 Dec 22, 07:36 \n",
      "\n",
      "18 11 Dec 22, 05:24 \n",
      "\n",
      "19 10 Dec 22, 19:10 \n",
      "\n",
      "20  \n",
      "\n"
     ]
    }
   ],
   "source": [
    "date_elements = driver.find_elements(by=By.XPATH, value=\"//div[@class='stream-date']\")\n",
    "\n",
    "date = list()\n",
    "\n",
    "for index, element in enumerate(date_elements):\n",
    "    print(index, element.text, \"\\n\")\n",
    "    date.append(element.text)"
   ]
  },
  {
   "cell_type": "code",
   "execution_count": 13,
   "metadata": {},
   "outputs": [
    {
     "name": "stdout",
     "output_type": "stream",
     "text": [
      "1 3\n",
      "2 4\n"
     ]
    }
   ],
   "source": [
    "for a, b in zip([1,2], [3,4]):\n",
    "    print(a,b)"
   ]
  },
  {
   "cell_type": "code",
   "execution_count": 10,
   "metadata": {},
   "outputs": [
    {
     "data": {
      "text/plain": [
       "True"
      ]
     },
     "execution_count": 10,
     "metadata": {},
     "output_type": "execute_result"
    }
   ],
   "source": [
    "from dateutil import parser\n",
    "parser.parse(\"1 Oct 22, 15:00\") >= parser.parse(\"1 Oct 22\")"
   ]
  },
  {
   "cell_type": "code",
   "execution_count": 83,
   "metadata": {},
   "outputs": [
    {
     "data": {
      "text/plain": [
       "datetime.datetime(2022, 12, 4, 19, 42)"
      ]
     },
     "execution_count": 83,
     "metadata": {},
     "output_type": "execute_result"
    }
   ],
   "source": [
    "parser.parse(\"4 Dec 22, 19:42 · Edited on 14 Dec 22, 21:29\"[:16])"
   ]
  },
  {
   "cell_type": "code",
   "execution_count": 26,
   "metadata": {},
   "outputs": [],
   "source": [
    "date_elements = driver.find_elements(by=By.XPATH, value=\"//div[@class='stream-date']\")\n",
    "\n",
    "while True:\n",
    "    # Handle: ParserError: Unknown string format: 14 Dec 22, 19:42 · Edited on 14 Dec 22, 21:29\n",
    "    if parser.parse(date_elements[-2].text[:16]) >= parser.parse(\"1 Oct 22\"):\n",
    "        driver.execute_script(\"window.scrollBy(0,document.body.scrollHeight)\", \"\")\n",
    "        date_elements = driver.find_elements(by=By.XPATH, value=\"//div[@class='stream-date']\")\n",
    "    else:\n",
    "        break\n",
    "    "
   ]
  },
  {
   "cell_type": "code",
   "execution_count": 72,
   "metadata": {},
   "outputs": [
    {
     "data": {
      "text/plain": [
       "'30 Sep 22, 09:22'"
      ]
     },
     "execution_count": 72,
     "metadata": {},
     "output_type": "execute_result"
    }
   ],
   "source": [
    "# No guarantee that Selenium will stop in 1 Oct 22.\n",
    "date_elements[-2].text"
   ]
  },
  {
   "cell_type": "code",
   "execution_count": 5,
   "metadata": {},
   "outputs": [
    {
     "data": {
      "text/plain": [
       "5"
      ]
     },
     "execution_count": 5,
     "metadata": {},
     "output_type": "execute_result"
    }
   ],
   "source": [
    "from random import randint\n",
    "\n",
    "randint(5,10)"
   ]
  },
  {
   "cell_type": "code",
   "execution_count": 24,
   "metadata": {},
   "outputs": [
    {
     "name": "stdout",
     "output_type": "stream",
     "text": [
      "https://stockbit.com/symbol/ICBP\n",
      "https://stockbit.com/symbol/CPIN\n",
      "https://stockbit.com/symbol/INDF\n",
      "https://stockbit.com/symbol/MYOR\n",
      "https://stockbit.com/symbol/CMRY\n",
      "https://stockbit.com/symbol/GOOD\n",
      "https://stockbit.com/symbol/MLBI\n"
     ]
    }
   ],
   "source": [
    "symbols = [\"ICBP\", \"CPIN\", \"INDF\", \"MYOR\", \"CMRY\", \"GOOD\", \"MLBI\"]\n",
    "\n",
    "for symbol in symbols:\n",
    "    print(f\"https://stockbit.com/symbol/{symbol}\")"
   ]
  },
  {
   "cell_type": "code",
   "execution_count": 6,
   "metadata": {},
   "outputs": [
    {
     "data": {
      "text/html": [
       "<div>\n",
       "<style scoped>\n",
       "    .dataframe tbody tr th:only-of-type {\n",
       "        vertical-align: middle;\n",
       "    }\n",
       "\n",
       "    .dataframe tbody tr th {\n",
       "        vertical-align: top;\n",
       "    }\n",
       "\n",
       "    .dataframe thead th {\n",
       "        text-align: right;\n",
       "    }\n",
       "</style>\n",
       "<table border=\"1\" class=\"dataframe\">\n",
       "  <thead>\n",
       "    <tr style=\"text-align: right;\">\n",
       "      <th></th>\n",
       "      <th>date</th>\n",
       "      <th>comment</th>\n",
       "      <th>symbol</th>\n",
       "    </tr>\n",
       "  </thead>\n",
       "  <tbody>\n",
       "    <tr>\n",
       "      <th>0</th>\n",
       "      <td>30 Sep 22, 09:22</td>\n",
       "      <td>$ICBP</td>\n",
       "      <td>ICBP</td>\n",
       "    </tr>\n",
       "    <tr>\n",
       "      <th>1</th>\n",
       "      <td>30 Sep 22, 09:23</td>\n",
       "      <td>$ICBP2</td>\n",
       "      <td>ICBP</td>\n",
       "    </tr>\n",
       "    <tr>\n",
       "      <th>0</th>\n",
       "      <td>30 Sep 22, 09:22</td>\n",
       "      <td>$ICBP</td>\n",
       "      <td>ICBP</td>\n",
       "    </tr>\n",
       "  </tbody>\n",
       "</table>\n",
       "</div>"
      ],
      "text/plain": [
       "               date comment symbol\n",
       "0  30 Sep 22, 09:22   $ICBP   ICBP\n",
       "1  30 Sep 22, 09:23  $ICBP2   ICBP\n",
       "0  30 Sep 22, 09:22   $ICBP   ICBP"
      ]
     },
     "execution_count": 6,
     "metadata": {},
     "output_type": "execute_result"
    }
   ],
   "source": [
    "import pandas as pd\n",
    "\n",
    "df = pd.DataFrame()\n",
    "df['date'] = ['30 Sep 22, 09:22', '30 Sep 22, 09:23']\n",
    "df['comment'] = ['$ICBP', '$ICBP2']\n",
    "df['symbol'] = 'ICBP'\n",
    "\n",
    "df_c = pd.DataFrame()\n",
    "\n",
    "df_c['date'] = ['30 Sep 22, 09:22']\n",
    "df_c['comment'] = ['$ICBP']\n",
    "df_c['symbol'] = 'ICBP'\n",
    "\n",
    "pd.concat([df, df_c])"
   ]
  },
  {
   "cell_type": "code",
   "execution_count": 46,
   "metadata": {},
   "outputs": [
    {
     "name": "stdout",
     "output_type": "stream",
     "text": [
      "0 1 3\n",
      "1 2 4\n"
     ]
    }
   ],
   "source": [
    "for index, (a, b) in enumerate(zip([1,2], [3,4])):\n",
    "    print(index, a, b)"
   ]
  },
  {
   "attachments": {},
   "cell_type": "markdown",
   "metadata": {},
   "source": [
    "# Scraping"
   ]
  },
  {
   "cell_type": "code",
   "execution_count": 29,
   "metadata": {},
   "outputs": [
    {
     "name": "stdout",
     "output_type": "stream",
     "text": [
      "symbol ICBP date_elements 461 dates 460 comment_elements 461 comments 460 \n",
      "symbol CPIN date_elements 201 dates 200 comment_elements 201 comments 200 \n",
      "symbol INDF date_elements 401 dates 400 comment_elements 401 comments 400 \n",
      "symbol MYOR date_elements 360 dates 359 comment_elements 380 comments 359 \n",
      "symbol CMRY date_elements 120 dates 119 comment_elements 120 comments 119 \n",
      "symbol GOOD date_elements 81 dates 80 comment_elements 81 comments 80 \n",
      "symbol MLBI date_elements 101 dates 100 comment_elements 101 comments 100 \n"
     ]
    }
   ],
   "source": [
    "symbols = [\"ICBP\", \"CPIN\", \"INDF\", \"MYOR\", \"CMRY\", \"GOOD\", \"MLBI\"]\n",
    "\n",
    "from time import sleep\n",
    "\n",
    "df = pd.DataFrame()\n",
    "\n",
    "for symbol in symbols:\n",
    "    driver.get(f\"https://stockbit.com/symbol/{symbol}\")\n",
    "    \n",
    "    # Handdle: IndexError: list index out of range\n",
    "    while True:\n",
    "        date_elements = driver.find_elements(by=By.XPATH, value=\"//div[@class='stream-date']\")\n",
    "        \n",
    "        # Handle: IndexError: list index out of range\n",
    "        if len(date_elements) != 0:\n",
    "            break\n",
    "\n",
    "    while True:\n",
    "        # date_elements[-2] Handle: StaleElementReferenceException or ''\n",
    "        # .text[:16] Handle: ParserError: Unknown string format: 14 Dec 22, 19:42 · Edited on 14 Dec 22, 21:29\n",
    "        if parser.parse(date_elements[-2].text[:16]) >= parser.parse(\"1 Oct 22\"):\n",
    "            driver.execute_script(\"window.scrollBy(0,document.body.scrollHeight)\", \"\")\n",
    "            date_elements = driver.find_elements(by=By.XPATH, value=\"//div[@class='stream-date']\")\n",
    "        else:\n",
    "            break\n",
    "    \n",
    "    # value='stream-text-single' Handle: prevent Repost to be included in the comment_elements    \n",
    "    comment_elements = driver.find_elements(by=By.CLASS_NAME, value=\"stream-text-single\")\n",
    "    \n",
    "    dates = list()\n",
    "    comments = list()\n",
    "    \n",
    "    for index, (date_element, comment_element) in enumerate(zip(date_elements, comment_elements)):\n",
    "        # print(date_element.text, comment_element.text, \"\\n\")\n",
    "        \n",
    "        # Handle: StaleElementReferenceException or ''\n",
    "        if index == len(date_elements) - 1:\n",
    "            break\n",
    "        \n",
    "        dates.append(date_element.text)\n",
    "        comments.append(comment_element.text)\n",
    "        \n",
    "    print(f'symbol {symbol} '\n",
    "          f'date_elements {len(date_elements)} dates {len(dates)} '\n",
    "          f'comment_elements {len(comment_elements)} comments {len(comments)} ')\n",
    "    \n",
    "    df_c = pd.DataFrame()\n",
    "    df_c['date'] = dates\n",
    "    df_c['comment'] = comments\n",
    "    df_c['symbol'] = symbol\n",
    "    \n",
    "    df = pd.concat([df, df_c])\n",
    "    \n",
    "    sleep(randint(5,10))"
   ]
  },
  {
   "cell_type": "code",
   "execution_count": 42,
   "metadata": {},
   "outputs": [
    {
     "data": {
      "text/plain": [
       "'Lower Your Expectations\\n\\nKata - kata di atas saya kutip dari Charlie Munger.\\n\\nCharlie Munger itu kawan akrab Warren Buffett. Dia yang memperkenalkan konsep quality Investing ke Buffett. Sebelum akrab dengan Munger, Buffett adalah Grahamian sejati. Beli perusahaan di bawah tangible equities, jual ketika sudah capai fair price. Cari perusahaan yang sudah anjlok berat di bawah book value lalu jual ketika market apresiasi. Bahkan perusahaan yang tinggal 1 jumat pun bisa dibeli yang penting perusahaan itu masih punya nilai ketika dilikuidasi. Istilahnya cigarbutt atau investasi puntung rokok. Investor seperti pencari puntung rokok yang masih ada sisa dan masih nyala. Isap sekali dua kali, lalu buang.\\n\\nSejak kenal Munger dan baca bukunya Phil Fischer Common Stocks and Uncommon Profit, paradigma Buffett berubah.\\n\\nMunger dan Phil Fischer mengajarkan Buffett untuk investasi di perusahaan yang berkualitas dan punya potensi bertahan hingga 20-30 tahun ke depan. Dari pada capek - capek jadi pemulung saham cigarbutt. Lebih baik keep hold saham yang berkualitas. Buffett mengubah style dari Grahamian ke Fischerian karena dana kelolaan nya juga bertambah. Makin besar dana kelolaan maka makin sulit bergerak bebas pindah - pindah saham. Jadi Buffett memilih untuk simpan duitnya di safe haven, yakni Perusahaan yang konsisten cetak laba dan di proyeksi akan terus cetak laba hingga kiamat nanti.\\n\\nMunger gabung di Berkshire di 1978. Dan di 1988, Buffett beli Coca Cola dan keep hold sampai sekarang. Ketika itu Buffett beli Coca Cola di PER 15. Bisa baca kisahnya di buku Glen Arnold\\n\\nDi buku The Deals of Warren Buffett Vol. 2 disebutkan bahwa selama 50 tahun Buffett itu minum Pepsi.\\n\\nBahkan anak Buffett sendiri memanggil Buffett itu sebagai Pepsi Warren saking cintanya sama Pepsi. Tapi kemudian Buffett ketemu Don Keogh, tetangga depan rumah Buffett yang merupakan sales kopi. Waktu itu Buffett bilang ke Don Keogh bahwa dia akan buka jasa kelola dana dengan dana minimal 10.000 dollar.\\n\\nTapi Don Keogh tidak percaya sama Buffett karena waktu itu Buffett itu masih muda dan hanya jualan seminar saham di kampus - kampus. Ya, kalian tidak salah dengar, dulu Buffett jualan seminar saham ke kampus - kampus. Apalagi waktu itu Buffett sempat kerja jadi broker saham di perusahaan ayahnya. Jadi dia biasa berikan seminar saham berbayar ke klien nya.\\n\\nDon Keogh pun bilang ke Buffett, saya tidak punya duit 10.000 dollar, namun saya bisa pinjam duit itu dari bapak saya. Tapi apakah mungkin saya memberikan duit 10.000 dollar ke orang yang tidak pernah kelihatan bangun pagi dan kerja kantoran? Mungkin Don Keogh berpikir ini Buffett sedang ngepet. Tapi begitu lah full time investor. Kelihatan tidak kerja terus.\\n\\nAkhirnya Buffett gagal dapat duit dari Keogh setelah mendapatkan penjelasan seperti itu. Padahal kalau Don Keogh waktu itu simpan duit di Buffett, 10.000 dollar sekarang nilainya mungkin sudah jadi 100 juta dollar.\\n\\nLalu gimana ceritanya Keogh bisa merayu Buffett sehingga minum Coca Cola?\\nDi tahun 1964 perusahaan kopi Keogh dibeli oleh Coca Cola. Karena rajin, dia pun diangkat jadi CEO Coca Cola. Di 1981, dia baca majalah bahwa Buffett cinta Pepsi. Dia pun kirim surat ke Buffett, mantan tetangganya, bahwa dia akan kirim sampel Coca Cola, Cherry Coke, yang Disebutnya sebagai nectar of God. Buffett mencobanya, Buffett suka. Diapun konsultasi dengan Munger. Mereka pun sepakat mau beli saham Coca Cola.\\n\\nDi 1986, Buffett mengumumkan bahwa dia sudah berpindah dari Pepsiman menjadi Coca Cola Man.\\n\\nDan ketika market crash di 1987, akhirnya Buffett mulai cicil beli saham Coca cola sejak 1988 hingga 1994 and the rest is history. Kisah Lengkapnya bisa baca bukunya Glen Arnold\\n\\nDari tahun 1988 hingga sekarang, Buffett belum pernah sekalipun menjual saham Coca Cola. Semua dividen dari Coca Cola yang menjadi cashflow Buffett untuk akuisisi perusahaan lain seperti Apple, Visa hingga BYD.\\n\\nApakah di Indonesia ada perusahaan seperti Coca Cola?\\n\\nDisclaimer:'"
      ]
     },
     "execution_count": 42,
     "metadata": {},
     "output_type": "execute_result"
    }
   ],
   "source": [
    "# <div class=\"stream-text-single\">\n",
    "#   <a class=\"ext-link-indicator postid-9756129\" data-entity-id=\"9756129\" href=\"http://bit.ly/3bLj4Oc\">http://bit.ly/3bLj4Oc</a>\n",
    "# </div class=\"stream-text-single\">\n",
    "# the <a class..> won't be included.\n",
    "df.iloc[444]['comment']"
   ]
  },
  {
   "cell_type": "code",
   "execution_count": 44,
   "metadata": {},
   "outputs": [],
   "source": [
    "df.to_csv(\"ICBP_MLBI.csv\", index=False)"
   ]
  },
  {
   "attachments": {},
   "cell_type": "markdown",
   "metadata": {},
   "source": [
    "# Test"
   ]
  },
  {
   "cell_type": "code",
   "execution_count": 11,
   "metadata": {},
   "outputs": [
    {
     "data": {
      "text/html": [
       "<div>\n",
       "<style scoped>\n",
       "    .dataframe tbody tr th:only-of-type {\n",
       "        vertical-align: middle;\n",
       "    }\n",
       "\n",
       "    .dataframe tbody tr th {\n",
       "        vertical-align: top;\n",
       "    }\n",
       "\n",
       "    .dataframe thead th {\n",
       "        text-align: right;\n",
       "    }\n",
       "</style>\n",
       "<table border=\"1\" class=\"dataframe\">\n",
       "  <thead>\n",
       "    <tr style=\"text-align: right;\">\n",
       "      <th></th>\n",
       "      <th>date</th>\n",
       "      <th>comment</th>\n",
       "      <th>symbol</th>\n",
       "    </tr>\n",
       "  </thead>\n",
       "  <tbody>\n",
       "    <tr>\n",
       "      <th>0</th>\n",
       "      <td>15 Dec 22, 16:48</td>\n",
       "      <td>POLL\\nSusu paling enak apa gan? Vox Populi Vox...</td>\n",
       "      <td>ICBP</td>\n",
       "    </tr>\n",
       "    <tr>\n",
       "      <th>1</th>\n",
       "      <td>15 Dec 22, 15:00</td>\n",
       "      <td>$ICBP</td>\n",
       "      <td>ICBP</td>\n",
       "    </tr>\n",
       "    <tr>\n",
       "      <th>2</th>\n",
       "      <td>15 Dec 22, 10:25</td>\n",
       "      <td>$GOTO main di 90 an aja ya kamu g usah kemana2...</td>\n",
       "      <td>ICBP</td>\n",
       "    </tr>\n",
       "    <tr>\n",
       "      <th>3</th>\n",
       "      <td>14 Dec 22, 19:45</td>\n",
       "      <td>Info Singkat saham untuk 15 Desember 2022 (buk...</td>\n",
       "      <td>ICBP</td>\n",
       "    </tr>\n",
       "    <tr>\n",
       "      <th>4</th>\n",
       "      <td>14 Dec 22, 19:41</td>\n",
       "      <td>@godbless @handusene sejak periode lockup open...</td>\n",
       "      <td>ICBP</td>\n",
       "    </tr>\n",
       "  </tbody>\n",
       "</table>\n",
       "</div>"
      ],
      "text/plain": [
       "               date                                            comment symbol\n",
       "0  15 Dec 22, 16:48  POLL\\nSusu paling enak apa gan? Vox Populi Vox...   ICBP\n",
       "1  15 Dec 22, 15:00                                              $ICBP   ICBP\n",
       "2  15 Dec 22, 10:25  $GOTO main di 90 an aja ya kamu g usah kemana2...   ICBP\n",
       "3  14 Dec 22, 19:45  Info Singkat saham untuk 15 Desember 2022 (buk...   ICBP\n",
       "4  14 Dec 22, 19:41  @godbless @handusene sejak periode lockup open...   ICBP"
      ]
     },
     "execution_count": 11,
     "metadata": {},
     "output_type": "execute_result"
    }
   ],
   "source": [
    "import pandas as pd\n",
    "from dateutil import parser\n",
    "\n",
    "df = pd.read_csv(\"./ICBP_MLBI.csv\")\n",
    "\n",
    "# df['date'] = df['date'].apply(lambda row: parser.parse(row[:16]))\n",
    "df.head()"
   ]
  },
  {
   "cell_type": "code",
   "execution_count": 51,
   "metadata": {},
   "outputs": [],
   "source": [
    "def get_comment(index):\n",
    "    print(df['symbol'][index])\n",
    "    print(df['comment'][index])"
   ]
  },
  {
   "cell_type": "code",
   "execution_count": 44,
   "metadata": {},
   "outputs": [],
   "source": [
    "def set_label(index: int, label_1: int, label_2: int):\n",
    "    df['label 1'][index] = label_1\n",
    "    df['label 2'][index] = label_2"
   ]
  },
  {
   "cell_type": "code",
   "execution_count": 204,
   "metadata": {},
   "outputs": [
    {
     "name": "stdout",
     "output_type": "stream",
     "text": [
      "460\n",
      "CPIN\n"
     ]
    }
   ],
   "source": [
    "# get index after ICBP\n",
    "print(df['symbol'].ne('ICBP').idxmax())\n",
    "print(df['symbol'][460])"
   ]
  },
  {
   "cell_type": "code",
   "execution_count": 316,
   "metadata": {},
   "outputs": [],
   "source": [
    "df['label 1'] = ''\n",
    "df['label 2'] = ''\n",
    "# index 0, sentiment neutral, type not spam\n",
    "set_label(0, 0, 0)\n",
    "# $ICBP\n",
    "set_label(1, 0, 0)\n",
    "# $GOTO main di 90 an aja ya kamu g usah kemana2, biar $ASII $TLKM $ADRO $ICBP dan bluechip yg lain bisa ngasih windress.\n",
    "set_label(2, 0, 0)\n",
    "# Info Singkat saham untuk 15 Desember 2022 (bukan rekomendasi jual-beli) :\n",
    "set_label(3, 0, 0)\n",
    "# @godbless @handusene sejak periode lockup open YU memang paling kenceng buang barang. Tapi hari ini YU gak manggung, CC jadi pemain utama.\n",
    "set_label(4, 1, 0)\n",
    "# $ULTJ fix tambah nyungsep liat chart kaya gini 🤯🤯\n",
    "set_label(5, 1, 0)\n",
    "# $HOKI yang merevolusi untuk menjadi $SRTG dikemudian hari, rasanya.\n",
    "set_label(6, 2, 0)\n",
    "# Risiko saham\n",
    "set_label(7, 1, 0)\n",
    "# Ko saya rada skeptis ya gaiss dengan kenaikan $GOTO hari ini. i mean, anjerr kalo beban yauda beban aja gt loo gausa ngesok naik segala terus besok2annya malah turun terus lagi..\n",
    "set_label(8, 1, 0)\n",
    "# $ICBP $INDF tes ombak ah...\n",
    "set_label(9, 1, 0)\n",
    "# Mirae Asset Sekuritas Indonesia Embun Pagi (13 Desember 2022)\n",
    "set_label(10, 0, 0)\n",
    "set_label(11, 2, 0)\n",
    "set_label(12, 2, 0)\n",
    "set_label(13, 2, 0)\n",
    "set_label(14, 0, 0)\n",
    "# IHSG Hari Ini Sulit Bangkit, Cek Saham BBRI, ICBP, hingga AKRA\n",
    "set_label(15, 1, 0)\n",
    "set_label(16, 2, 0)\n",
    "set_label(17, 2, 0)\n",
    "# Harga Kontainer Back To Normal\n",
    "set_label(18, 0, 0)\n",
    "# Join Zoom Meeting\n",
    "set_label(19, 0, 1)\n",
    "# Why KMDS ?\n",
    "set_label(20, 2, 0)\n",
    "set_label(21, 0, 0)\n",
    "# @JS999 gw juga mau nuntut $ICBP mie soto gw g ada trauma makan mie soto,sekarang lebih milih makan mie goreng rendang\n",
    "set_label(22, 0, 0)\n",
    "# @JS999 makan Indomie lah ; biar $ICBP naik ..:)\n",
    "set_label(23, 2, 0)\n",
    "# Iya itulah, bukan hanya di Indonesia Pak. hampir disetiap negara kalau boleh transportasi itu gratis.\n",
    "set_label(24, 0, 0)\n",
    "set_label(25, 0, 0)\n",
    "# Tertekan Akibat Harga Bahan Baku, Potensi Cuan Saham Indofood CBP (ICBP) Tetap Tinggi\n",
    "set_label(26, 2, 0)\n",
    "# Tertekan Akibat Harga Bahan Baku, Potensi Cuan Saham Indofood CBP (ICBP) Tetap Tinggi\n",
    "set_label(27, 0, 0)\n",
    "set_label(28, 0, 0)\n",
    "set_label(29, 0, 0)\n",
    "# $ICBP serius nanya parah suhu, udh lama ga lihat saham ini 3 bulanan bukan nya di 8 / 9rb.. sekarang koq naik ke 10rb ... ada apa gerangan ni , masih aman kah kalau masuk sekarang\n",
    "set_label(30, 0, 0)\n",
    "set_label(31, 0, 0)\n",
    "set_label(32, 0, 0)\n",
    "# ...\n",
    "set_label(33, 0, 0)\n",
    "set_label(34, 0, 0)\n",
    "# $BBYB sesi 2 ARB kayanya\n",
    "set_label(35, 1, 0)\n",
    "# $ULTJ emang overhype IHSG turun kok malah naek sendiri\n",
    "set_label(36, 1, 0)\n",
    "# Stockpick : $ICBP Trading Buy TP 10.675\n",
    "set_label(37, 2, 0)\n",
    "# Kumpulan Artikel Pengaruh Jumlah Kepemilikan Investor Ritel terhadap Pergerakan Harga Saham\n",
    "set_label(38, 0, 1)\n",
    "# Pada tanggal 6 Desember 2022, $ICBP ditutup di titik tertingginya per hari ini di angka 10350, naik 0 poin (0,00%) dari harga closing kemarin. Secara teknikal dalam timeframe daily, harga ditutup di atas trend line di angka 10093,856. Sinyal BUY muncul sejak 7 November 2022, dan sinyal SPEC. SELL sempat muncul pada tanggal 18 November 2022 dan 22 November 2022.\n",
    "set_label(39, 0, 0)\n",
    "# Industry yg akan bertahan di akhir 2022 & Stockpick Q1 2023 yg mungkin udah banyak berseliweran apakah mungkin beli sekarang langsung naik ?\n",
    "set_label(40, 1, 0)\n",
    "# Mandiri Sekuritas: IHSG Sideways, Empat Saham Layak Dikoleksi Hari ini\n",
    "set_label(41, 1, 0)\n",
    "# izin belajar tentang $BOSS di @stockbit\n",
    "#\n",
    "#\n",
    "#\n",
    "#\n",
    "# saya juga jualan produk indomie, kopi, gula dll. $ICBP $INDF $MYOR , boleh bapak/ibu berkenan beli dagangan saya. terima kasih\n",
    "set_label(42, 0, 2)\n",
    "set_label(43, 0, 0)\n",
    "# @BimaAdiWiryo @RudiAlexander @Gungun08 @Tamami29 untuk saham $$INDF dan $ICBP prospeknya ud gak menarik karena selain labanya juga lagi turun, suka ada aksi2 yang merugikan pemegang saham seperti akuisisi pinehill yang bikin arus cashflow ke investor minoritas ngadat2 karena bayar hutang.. buat rekomendasi saham or buat yang mau nanya-nanya saham silahkan di follow ya\n",
    "set_label(44, 1, 0)\n",
    "# Skydrugz Corner: Emiten Dengan Goodwill Terbesar di Bursa\n",
    "set_label(45, 1, 0)\n",
    "set_label(46, 2, 0)\n",
    "# @parsaulianpurba happy Cuan $ICBP\n",
    "set_label(47, 2, 0)\n",
    "# Analog switch off untuk jawa barat-tengah-timur sudah efektif awal desember ini.. another positive news buat emiten media kayak $SCMA ..\n",
    "set_label(48, 2, 0)\n",
    "set_label(49, 2, 0)\n",
    "set_label(50, 0, 0)\n",
    "set_label(51, 0, 0)\n",
    "set_label(52, 0, 0)\n",
    "set_label(53, 2, 0)\n",
    "# kayaknya bentar lg ngoceh $INDF ma $ICBP ini abis makan indomie\n",
    "set_label(54, 2, 0)\n",
    "set_label(55, 1, 0)\n",
    "# \" Jangan membeli saham karna anda suka produknya, tapi beli lah saham karna anda paham bisnisnya maupun paham karakter dari ownernya \"\n",
    "set_label(56, 0, 0)\n",
    "set_label(57, 2, 0)\n",
    "set_label(58, 0, 0)\n",
    "set_label(59, 0, 0)\n",
    "# The essay for tech companies and tech adoption\n",
    "set_label(60, 0, 1)\n",
    "set_label(61, 0, 0)\n",
    "set_label(62, 0, 0)\n",
    "# Jenis Keunggulan Kompetitif\n",
    "set_label(63, 0, 1)\n",
    "set_label(64, 0, 0)\n",
    "set_label(65, 0, 1)\n",
    "set_label(66, 0, 1)\n",
    "# Kendala modal dalam investasi\n",
    "set_label(67, 0, 1)\n",
    "set_label(68, 0, 0)\n",
    "# @Elite saya tahun depan ingin fokus ke consumer goods, seperti $INDF, $ICBP $MYOR. karena mendekati tahun pemilu, biasanya suka ada bagi2 sembako/barang makanan lain. Diharapkan dapat meningkatkan sales.\n",
    "set_label(69, 0, 0)\n",
    "set_label(70, 0, 0)\n",
    "set_label(71, 1, 0)\n",
    "set_label(72, 2, 0)\n",
    "set_label(73, 1, 0)\n",
    "set_label(74, 0, 1)\n",
    "set_label(75, 1, 0)\n",
    "set_label(76, 1, 0)\n",
    "set_label(77, 0, 0)\n",
    "set_label(78, 1, 0)\n",
    "set_label(79, 0, 0)\n",
    "set_label(80, 0, 1)\n",
    "set_label(81, 0, 0)\n",
    "set_label(82, 1, 0)\n",
    "set_label(83, 0, 0)\n",
    "# $INDF $ICBP, lumayaaan...\n",
    "# Revenue YOY Q3 naik 11%, QOQ naik 10,6%\n",
    "# \n",
    "# Tapi net profitnya YOY turun (6,7 T vs 8 T) ?\n",
    "# Iya karena kena beban keuangan sebesar 5,4 T dimana 3,1 T nya itu adalah RUGI NETO atas SELISIH NILAI TUKAR MATA UANG (lihat catatan kaki 31). Simplenya karena dollarnya sekarang ada di Rp. 15,727, kalau nanti dollar balik ke Rp 13,600 ya RUGI NETO 3,1 T ini semua hilang karena rugi kurs ini BELUM di REALIZED sampai jatuhnya tempo pembayaran obligasi INDF di 2031 dan 2051\n",
    "# \n",
    "# Kalau rugi kurs ini kita abaikan, artinya net profit INDF harusnya 9,8 T... Dimana artinya naik sekitar 20% dibandingkan tahun lalu.. Yaa not bad lah...\n",
    "set_label(84, 0, 0)\n",
    "set_label(85, 0, 2)\n",
    "set_label(86, 2, 0)\n",
    "set_label(87, 0, 0)\n",
    "set_label(88, 1, 0)\n",
    "set_label(89, 2, 0)\n",
    "set_label(90, 0, 0)\n",
    "set_label(91, 0, 0)\n",
    "set_label(92, 0, 2)\n",
    "set_label(93, 0, 0)\n",
    "set_label(94, 0, 2)\n",
    "set_label(95, 2, 0)\n",
    "set_label(96, 0, 2)\n",
    "set_label(97, 0, 0)\n",
    "set_label(98, 0, 0)\n",
    "set_label(99, 0, 0)\n",
    "# $ICBP selamat kepada top holding stockbit yang beli avg 10.000\n",
    "set_label(100, 0, 0)\n",
    "set_label(460, 2, 0)\n",
    "set_label(461, 1, 0)\n",
    "set_label(462, 0, 0)\n",
    "set_label(463, 0, 0)\n",
    "# NH Morning Brief – Dec. 14, 2022\n",
    "set_label(464, 0, 1)\n",
    "set_label(465, 0, 0)\n",
    "# $JPFA $CPIN $CPRO $WMUU\n",
    "# \n",
    "# Q4 biasanya revenue naik. Cocok di collect nih\n",
    "set_label(466, 2, 0)\n",
    "set_label(467, 0, 1)\n",
    "set_label(468, 0, 0)\n",
    "set_label(469, 2, 0)\n",
    "set_label(470, 0, 2)\n",
    "set_label(471, 0, 2)\n",
    "set_label(472, 0, 2)\n",
    "set_label(473, 1, 0)\n",
    "set_label(474, 2, 0)\n",
    "set_label(475, 1, 0)\n",
    "set_label(476, 0, 0)\n",
    "set_label(477, 0, 0)\n",
    "# Nov_Des 2022 \"seru\" yah gocekan gerak harga saham. Nggak mau kalah dg gocekan Richarlison Brasil pada WorldCup kali ini... 😂\n",
    "set_label(478, 0, 0)\n",
    "set_label(479, 1, 0)\n",
    "set_label(480, 0, 1)\n",
    "set_label(481, 2, 0)\n",
    "set_label(482, 1, 0)\n",
    "# Raja Hutang semua itu kecuali $CPIN\n",
    "set_label(483, 1, 0)\n",
    "set_label(484, 0, 0)\n",
    "# Skydrugz Corner: Emiten Pakan Ternak Undervalued?\n",
    "# \n",
    "# Di postingan sebelumnya kita sudah bahas saham LQ45 https://cutt.ly/l1XlWpG\n",
    "set_label(485, 0, 1)\n",
    "set_label(486, 2, 0)\n",
    "set_label(487, 2, 0)\n",
    "# ayam-ayam 🐤\n",
    "# \n",
    "# $JPFA kenapa lesu yah...\n",
    "# \n",
    "# $MAIN $CPIN\n",
    "# \n",
    "# memang semua sektor ada musimnya\n",
    "set_label(488, 1, 0)\n",
    "set_label(489, 0, 1)\n",
    "set_label(490, 1, 0)\n",
    "set_label(491, 1, 0)\n",
    "set_label(492, 0, 0)\n",
    "# $CPIN .. untuk ekspor bibit ayam sgt sulit, begitu ketat, byk uji laboratorium khusus nya mikrobiologi, dan saat ini cpin bs ekspor ke Singapura dan Timor Leste. emiten ini emang market leader nya di poultry, manajemen disini jd rujukan kompetitor nya, dan kebetulan saya pernah kerja disini. Oya liburan nataru bisa jd sentimen positif tuk poultry, selain inflasi yg akan melandai, harga komoditas yg mulai downtrend.\n",
    "set_label(493, 2, 0)\n",
    "set_label(494, 0, 0)\n",
    "set_label(495, 0, 0)\n",
    "set_label(496, 2, 0)\n",
    "set_label(497, 1, 0)\n",
    "# $CPIN break 5700 yuk\n",
    "set_label(498, 2, 0)\n",
    "set_label(499, 2, 0)\n",
    "set_label(500, 0, 0)\n",
    "set_label(501, 0, 0)\n",
    "set_label(502, 0, 0)\n",
    "# Have I ever told you\n",
    "# I want you to the bone?\n",
    "# Have I ever called you\n",
    "# When you are all alone?\n",
    "set_label(503, 0, 1)\n",
    "set_label(504, 0, 0)\n",
    "set_label(505, 0, 0)\n",
    "# $WMUU melihat $CPIN dan $JPFA yg Q3 nya jatoh mending wns dlu tunggu konfirmasi Q3\n",
    "set_label(506, 0, 0)\n",
    "set_label(507, 0, 1)\n",
    "set_label(508, 2, 0)\n",
    "set_label(509, 0, 0)\n",
    "# $WMUU jual emiten ini,\n",
    "\n",
    "# ganti ke yang waras,\n",
    "\n",
    "# $CPIN , $JPFA perusahaan bagus.\n",
    "set_label(510, 1, 0)\n",
    "set_label(511, 0, 0)\n",
    "set_label(512, 2, 0)\n",
    "set_label(513, 0, 0)\n",
    "set_label(514, 0, 0)\n",
    "set_label(515, 0, 0)\n",
    "set_label(516, 0, 0)\n",
    "set_label(517, 0, 0)\n",
    "set_label(518, 0, 1)\n",
    "set_label(519, 1, 0)\n",
    "set_label(520, 0, 1)\n",
    "set_label(521, 0, 1)\n",
    "set_label(522, 0, 0)\n",
    "set_label(523, 0, 0)\n",
    "set_label(524, 0, 0)\n",
    "set_label(525, 0, 0)\n",
    "set_label(526, 1, 0)\n",
    "set_label(527, 2, 0)\n",
    "set_label(528, 0, 0)\n",
    "set_label(529, 0, 2)\n",
    "set_label(530, 0, 0)\n",
    "set_label(531, 0, 0)\n",
    "set_label(532, 1, 0)\n",
    "set_label(533, 1, 0)\n",
    "set_label(534, 0, 0)\n",
    "set_label(535, 0, 0)\n",
    "set_label(536, 0, 0)\n",
    "set_label(537, 0, 0)\n",
    "set_label(538, 0, 0)\n",
    "set_label(539, 2, 0)\n",
    "set_label(540, 0, 0)"
   ]
  },
  {
   "cell_type": "code",
   "execution_count": 317,
   "metadata": {},
   "outputs": [],
   "source": [
    "df.to_csv(\"ICBP_MLBI_labeled.csv\", index=False)"
   ]
  }
 ],
 "metadata": {
  "kernelspec": {
   "display_name": "Python 3",
   "language": "python",
   "name": "python3"
  },
  "language_info": {
   "codemirror_mode": {
    "name": "ipython",
    "version": 3
   },
   "file_extension": ".py",
   "mimetype": "text/x-python",
   "name": "python",
   "nbconvert_exporter": "python",
   "pygments_lexer": "ipython3",
   "version": "3.10.8"
  },
  "orig_nbformat": 4,
  "vscode": {
   "interpreter": {
    "hash": "aee8b7b246df8f9039afb4144a1f6fd8d2ca17a180786b69acc140d282b71a49"
   }
  }
 },
 "nbformat": 4,
 "nbformat_minor": 2
}
