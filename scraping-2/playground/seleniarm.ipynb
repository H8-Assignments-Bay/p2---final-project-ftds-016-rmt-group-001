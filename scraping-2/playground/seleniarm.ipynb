{
 "cells": [
  {
   "attachments": {},
   "cell_type": "markdown",
   "metadata": {},
   "source": [
    "Double check, do you use arm64 or amd64?\n",
    "\n",
    "seleniarm is for arm64. selenium is for intel or amd64."
   ]
  },
  {
   "cell_type": "code",
   "execution_count": 4,
   "metadata": {},
   "outputs": [],
   "source": [
    "from selenium import webdriver\n",
    "from selenium.webdriver.chrome.service import Service as ChromeService\n",
    "from webdriver_manager.chrome import ChromeDriverManager\n",
    "from selenium.webdriver.common.by import By\n",
    "\n",
    "# chrome_options = webdriver.ChromeOptions()\n",
    "# chrome_options.add_argument(\"--disable-gpu\")\n",
    "# chrome_options.add_argument(\"--disable-extensions\")\n",
    "# chrome_options.add_argument(\"--disable-infobars\")\n",
    "# chrome_options.add_argument(\"--start-maximized\")\n",
    "# chrome_options.add_argument(\"--disable-notifications\")\n",
    "# chrome_options.add_argument('--headless')\n",
    "# chrome_options.add_argument('--no-sandbox')\n",
    "# chrome_options.add_argument('--disable-dev-shm-usage')\n",
    "\n",
    "# driver = webdriver.Remote(\n",
    "#     command_executor='http://127.0.0.1:4444/wd/hub',\n",
    "#     options=chrome_options\n",
    "# )\n",
    "driver = webdriver.Chrome(service=ChromeService(ChromeDriverManager().install()))"
   ]
  },
  {
   "cell_type": "code",
   "execution_count": 5,
   "metadata": {},
   "outputs": [
    {
     "data": {
      "text/plain": [
       "'Stockbit - Investasi Saham Bersama Komunitas Saham Terbesar di Indonesia'"
      ]
     },
     "execution_count": 5,
     "metadata": {},
     "output_type": "execute_result"
    }
   ],
   "source": [
    "driver.get(\"https://google.com\")\n",
    "driver.get(\"https://stockbit.com\")\n",
    "driver.title"
   ]
  },
  {
   "cell_type": "code",
   "execution_count": 9,
   "metadata": {},
   "outputs": [],
   "source": [
    "for item in driver.find_elements(by=By.CLASS_NAME, value=\"stream-username\"):\n",
    "    print(item.text)"
   ]
  },
  {
   "cell_type": "code",
   "execution_count": 20,
   "metadata": {},
   "outputs": [],
   "source": [
    "def scrape(symbol: str):\n",
    "    driver.get(f'https://stockbit.com/symbol/{symbol}')\n",
    "    \n",
    "    while True:\n",
    "        date_elements = driver.find_elements(by=By.XPATH, value=\"//a[@color='#B5B5B5']\")\n",
    "        \n",
    "        # Handle: IndexError: list index out of range\n",
    "        if len(date_elements) != 0:\n",
    "            break\n",
    "        \n",
    "    comment_elements = driver.find_elements(by=By.XPATH, value=\"//p[@padding='0px']\")\n",
    "    \n",
    "    dates = [date_element.text for date_element in date_elements]\n",
    "    comments = [comment_element.text for comment_element in comment_elements]\n",
    "    \n",
    "    # print(f'{symbol} dates {len(dates)} comments {len(comments)}')\n",
    "    # print(dates[-1], comments[-1])\n",
    "    \n",
    "    return dates, comments"
   ]
  },
  {
   "cell_type": "code",
   "execution_count": 21,
   "metadata": {},
   "outputs": [
    {
     "data": {
      "text/plain": [
       "(['16 Dec 22, 19:21 Edited on 16 Dec 22, 19:22',\n",
       "  '16 Dec 22, 19:07',\n",
       "  '16 Dec 22, 14:25',\n",
       "  '16 Dec 22, 11:31',\n",
       "  '15 Dec 22, 16:48',\n",
       "  '15 Dec 22, 15:00',\n",
       "  '15 Dec 22, 10:25',\n",
       "  '14 Dec 22, 19:45',\n",
       "  '14 Dec 22, 19:41',\n",
       "  '14 Dec 22, 19:23',\n",
       "  '14 Dec 22, 04:54',\n",
       "  '13 Dec 22, 21:09',\n",
       "  '13 Dec 22, 14:44',\n",
       "  '13 Dec 22, 10:26',\n",
       "  '13 Dec 22, 08:42',\n",
       "  '12 Dec 22, 20:41',\n",
       "  '12 Dec 22, 18:37',\n",
       "  '12 Dec 22, 16:27',\n",
       "  '12 Dec 22, 08:56',\n",
       "  '12 Dec 22, 08:40',\n",
       "  '11 Dec 22, 08:38',\n",
       "  '11 Dec 22, 07:36',\n",
       "  '11 Dec 22, 05:24',\n",
       "  '10 Dec 22, 19:10',\n",
       "  '9 Dec 22, 17:47 Edited on 9 Dec 22, 17:52',\n",
       "  '9 Dec 22, 16:40',\n",
       "  '9 Dec 22, 15:06',\n",
       "  '9 Dec 22, 14:57',\n",
       "  '9 Dec 22, 09:59',\n",
       "  '9 Dec 22, 08:56'],\n",
       " ['$SRIL shaam pertama saya.\\n.\\n$ANTM sudah pernah untung 300+% dari harga 800 ke harga 3000. masuk lagi di harga 2300an dan terus Average Down.\\n.\\n$ICBP Saya sisakan 1 lot sebagai kenangan, saya sudah untung puluhan juta disini.\\n.\\nAmunisi icbp saya siapkan untuk Average down $MNCN. Baru mau masuk $ANTM sudah terbang.\\nsemoga saja terus turun biar saya bisa beli lebih banyak.\\n\\nSemua tergantung tujuan dari awal.\\n\\nSemoga semuanya cuan di pasar modal ya..',\n",
       "  'MODAL 100 JUTA !!! BEGINI CARA SAYA MENYUSUN PORTFOLIO !!!\\n\\nDi bulan Desember tahun 2022 ini, kita disuguhkan penurunan market secara bertubi-tubi sejak tanggal 1 Desember sampai tanggal 12 Desember kemarin😔\\n\\nKita gatau ke depan ini IHSG akan pulih kembali atau tidak bahkan kita juga gatau window dressing di tahun ini terjadi atau tidak. Saya yakin kita semua juga gatau🤔\\n\\nTapi menariknya, bagi kita yang baru mulai menyusun portfolio ini adalah start yang TEPAT karena saham-saham lagi di bawah. Di video kali ini saya akan membagikan tips bagaimana cara menyusun portfolio dari nol👨\\u200d💻\\n\\nMau tau caranya? Silahkan tonton video terbaru kami sampai selesai, klik linknya di bawah👇',\n",
       "  '$ICBP tumbuh 125 saat IHSG menguat hari ini, masa depan sungguh ada dan harapan tidak akan hilang 💪',\n",
       "  'yess jadi flashback pembahasan kompetitor $ICBP, lemonilo sedap etc mulai banyak ketika harganya terpuruk sewaktu di 7000an, di harga skrg gaada yg bahas samsek, menguji conviction emg, saya suka',\n",
       "  'Susu paling enak apa gan? Vox Populi Vox Dei $ULTJ $ICBP $CMRY $DMND $MYOR',\n",
       "  '$ICBP',\n",
       "  '$GOTO main di 90 an aja ya kamu g usah kemana2, biar $ASII $TLKM $ADRO $ICBP dan bluechip yg lain bisa ngasih windress.',\n",
       "  'Info Singkat saham untuk 15 Desember 2022 (bukan rekomendasi jual-beli) :\\n\\n$MDKA : rangenya pendek yakni Rp 4.300,- (support) s/d Rp 4.490,- (resistance). Posisi bandar masi didalam senilai Rp 143,51 milliar di harga Rp 4.210 selama seminggu terakhir. Untuk MDKA perhatikan area Rp 4.490 jika ini berhasil ditembus maka potensi melanjutkan kenaikan.\\n\\n$BMRI : Rangenya masi sama yakni Rp 9.750,- (support) s/d Rp 10.325,- (resistance) Posisi bandar masi keluar sebesar Rp 343,51 milliar selama seminggu terakhir. BMRI area krusialnya ada di Rp 9.750, jika support ini ditembus berpotensi koreksi lanjutan ke Rp 9,375.\\n\\n: Rangenya Rp 7.700,- (support ) s/d Rp 8.050,- (resistance). Posisi bandar masi keluar Rp 28,4 milyar selama seminggu terakhir. Untuk TKIM masid dalam fase technical rebound dengan target Rp 8.050.\\n\\nIngin mendapatkan informasi lengkap saham , , SCMA dan ikut polling saham-saham yang ingin dibahas setiap harinya ? yuk gabung ke grub seirine, link grub ada di profile seirine investama ya.\\n\\nHarus diingat:\\n1. Jangan trading dengan brutal mentang-mentang melihat bandar ada didalam, gunakan money management yang baik.\\n\\n2. ini hanyalah info singkat dan bukan rekomendasi jual-beli.\\n\\nDISCLAIMER ON\\n\\n\"Semoga informasi ini berguna bagi teman-teman sekalian, support terus kami dengan \"LIKE\" dan \"FOLLOW\" akun stockbit.',\n",
       "  '@godbless @handusene sejak periode lockup open YU memang paling kenceng buang barang. Tapi hari ini YU gak manggung, CC jadi pemain utama.\\n\\n@godbless Apa sudah bisa short sell di bursa? 🤔\\n\\n@AdrianGiri belum tertarik dengan perusahaan yang saya saja kurang paham, juga sedang down trend walaupun pbv <1.\\n\\nSemoga tidak banyak yang fomo $GOTO kemarin naik tinggi hari ini di banting lagi 😢 🚩\\n-------',\n",
       "  '$ULTJ fix tambah nyungsep liat chart kaya gini 🤯🤯\\n\\n$CMRY $MYOR $ICBP $UNVR',\n",
       "  '$HOKI yang merevolusi untuk menjadi $SRTG dikemudian hari, rasanya.\\n\\nTag : $INDF $ICBP $MYOR',\n",
       "  'Risiko saham\\nAda 4 jenis risiko ketika berinvestasi di bursa saham, yakni\\n\\n1. Capital Loss,\\nPenurunan harga saham yang bisa disebabkan karena penurunan kinerja perusahaan, atau memang keadaan market yang tidak kondusif\\n\\n2. Suspensi\\nyakni penghentian sementara aktivitas perdagangan suatu saham oleh Bursa Efek Indonesia. Jika kamu memiliki saham yang masuk daftar suspensi, kamu hanya bisa menunggu hingga bursa efek mengijinkan kembali saham untuk diperdagangkan.Saham yang terkena suspensi  dikarenakan pergerakan harga saham yang tidak wajar bahasa kerennya Unusual Market Activity atau UMA.  Seperti ARA atau ARB terus menerus. Walau demikian, bukan berarti saham yang masuk daftar UMA akan disuspensi. Jika akhirnya pergerakan saham kembali normal maka saham tersebut masih bisa  diperdagangkan\\n\\nSuspensi saham juga dapat terjadi karena kewajiban yang tidak dipenuhi oleh emiten. Contohnya melewatkan deadline laporan keuangan, belum membayar denda keterlambatan, atau adanya tindakan korporasi yang tidak diberitahukan ke Bursa , dst. Tujuan suspensi agar aktivitas perdagangan saham dapat berlangsung dengan teratur, wajar dan efisien .Investor dan emiten tidak bisa mengetahui kapan suspensi akan dibuka karena sepenuhnya ada kendali di Bursa Efek Indonesia. Bisa harian hingga bulanan.\\nUntuk mengetahui saham yang disuspensi, bisa cek ke . Pilih menu berita, kemudian pilih suspensi.\\n\\n3. Likuidasi\\nDimana emiten kurang memiliki dana segar untuk memenuhi kewajiban pembayaran hutang kepada kreditor. Aset mereka bisa saja banyak, namun sulit untuk diubah ke kas karena tidak ada pihak yang bersedia membeli aset perusahaan tersebut.\\nApabila suatu perusahaan sedang mengalami masalah likuidasi, maka investor hanya bisa menunggu hingga keadaan membaik. Karena emiten tersebut harus mengutamakan pembayaran hutang kepada para kreditor terlebih dahulu. Sisa dana baru diserahkan kepada pemegang saham\\n\\n4. DELISTING\\nyakni penghapusan emiten dari Bursa Efek . Proses delisting ini dibagi menjadi dua yakni delisting sukarela (Voluntary delisting) dan terpaksa (Force Delisting)\\nDelisting sukarela, maka emiten mengajukan kepada BEI untuk keluar dari bursa efek. Para pemegang saham akan menerima haknya karena ada kewajiban emiten untuk menyerap saham di publik pada harga yang wajar\\nDelisting terpaksa terjadi ketika emiten gagal memenuhi kewajiban yang diminta oleh bursa hingga sering mendapat peringatan. Jika sudah diputuskan oleh bursa, maka emiten wajib membeli kembali seluruh saham dari pemegang saham\\nNamun, apabila emiten  memiliki masalah likuidasi yang berujung gagal bayar hingga dinyatakan bangkrut, maka posisi pemegang saham akan cukup sulit.\\nPasalnya, emiten tersebut wajib menjual seluruh aset untuk membayar hutang kepada kreditor terlebih dahulu. Baru jika ada sisa dana akan diserahkan kepada pemegang saham .\\n\\n---',\n",
       "  'Ko saya rada skeptis ya gaiss dengan kenaikan $GOTO hari ini. i mean, anjerr kalo beban yauda beban aja gt loo gausa ngesok naik segala terus besok2annya malah turun terus lagi..\\n\\nMending sekalian ae ya parkir di gocap biar saham lain g terpengaruh dgn dampak penurunan GOTO yg membuat IHSG cenderung turun jg dan bikin positive vibes dari Window Dressing & January Effect tahun ini berpotensi rusak wkwkw\\n\\n*just my innocent opinion guys as a newbie, sorry kalo ada bahasa yg gaenak. Gada maksud apa2 🙏\\n\\nRandom Tag',\n",
       "  '$ICBP $INDF tes ombak ah...',\n",
       "  'Mirae Asset Sekuritas Indonesia Embun Pagi (13 Desember 2022)\\nResearch Team\\n\\nMarket comment by Handiman Soetoyo\\n$IHSG ditutup naik 0.3% pada hari Senin, didorong oleh sektor konsumer, energi, dan keuangan seperti $ICBP, $PTBA, ADRO, BBCA dan BBRI. Investor asing menjual bersih IDR1.5tr, terutama di BMRI, BBCA, dan TLKM.\\n\\nBursa AS ditutup naik diatas 1% pada hari Senin dimana investor menunggu data inflasi dan pertemuan Fed minggu ini. AS akan mengumumkan angka inflasi untuk November malam ini di mana konsensus diperkirakan akan menurun menjadi 7,3%, dari 7,7% di bulan Oktober. The Fed akan mengumumkan kebijakan moneter mereka pada hari Rabu (konsensus: +50bps hingga 4,50%), diikuti oleh serangkaian pengumuman serupa pada hari Kamis dari Bank of England (konsensus: +50bps hingga 3,50%), European Central Bank (konsensus: +50bps hingga 2,50%), dan Swiss National Bank (konsensus: +50bps hingga 1,00%). Harga minyak mentah naik 3,5% menjadi USD73,5/barel di tengah ketatnya pasokan karena penutupan pipa Keystone Kanada-AS.\\n\\nMeskipun ada rencana ekstensifikasi cukai untuk plastik dan minuman manis pada tahun 2023, pemerintah Indonesia masih ragu untuk menerapkan kebijakan tersebut karena adanya kekhawatiran ketidakpastian ekonomi global, inflasi yang tinggi, dan daya beli yang lemah. Dengan demikian, hal tersebut mungkin dapat menjadi katalis positif bagi sektor terkait. Sementara itu, PTBA telah mengindikasikan komitmennya untuk membagikan dividen kepada para pemegang sahamnya, meski masih belum jelas apakah akan ada dividen interim. Sebagai catatan, sebagian besar saham batu bara telah mengumumkan dividen interim karena kinerja yang kuat tahun ini, dengan ADRO dan GEMS diperkirakan akan segera mengumumkan dividen interim.\\n\\nMarket Indicator\\nJCI: 6,734.45 (+0.29%)\\nEIDO: 22.76 (+1.25%)\\nDJIA: 34,005.04 (+1.58%)\\nFTSE100: 7,445.97 (-0.41%)\\nUSD/IDR: 15,628 (+0.29%)\\n10yr GB yield: 6.95 (+1bps)\\nOil Price: 73.17 (+3.03%)\\nForeign net purchase: -IDR1,547.9bn\\n\\nForeign net purchase on single stocks (HOTS screen #0141)\\nTOP BUY: ADRO, INKP, MEDC, HRUM, PTBA\\nTOP SELL: BMRI, BBCA, TLKM, ASII, BBRI\\n\\nMost actively traded stocks (HOTS screen #0102)\\nBBCA, BMRI, TLKM, BBRI, BSBK',\n",
       "  'Indeks Harga Saham Gabungan (IHSG) diperkirakan bakal bergerak menguat terbatas pada perdagangan besok, Selasa (13/12/2022).Pada Senin (12/12/2022), IHSG ditutup pada posisi 6.734,45 atau menguat 0,29 persen. IHSG bergerak pada rentang 6.641--6.734 sepanjang perdagangan hari ini.Tercatat, 316 saham...',\n",
       "  '$ICBP merangkak 250 seiring penguatan IHSG hari ini, masa depan sungguh ada dan harapan tidak akan hilang 💪',\n",
       "  '$ICBP sudah bangun dari tidur',\n",
       "  'Indopremier Sekuritas12 Desember 2022IHSG (6.660 – 6.770) : Indeks diprediksi akan bergerak melemah. Target pelemahan indeks pada level 6.660 kemudian 6.605 dengan resist di level 6.770 kemudian 6.825.BBCA (Buy): Target kenaikan harga pada level 8.675 kemudian 8.775 dengan support di level 8.475 c...',\n",
       "  'Indeks Harga Saham Gabungan (IHSG) berpeluang mengalami penurunan pada perdagangan Senin (12/12). Namun, sejumlah saham mendapatkan rekomendasi beli lantaran berpotensi mencetak cuan. Head of Technical Analyst Research BNI Sekuritas Andri Zakarias Siregar mengatakan, IHSG masih dalam trend bearish...',\n",
       "  '@nofaketoys selesai bangun plant canggih 1, mereka bangun plant canggih 2, wak. gitu terus karena perusahaan (atau orang) yang ga berkembang ya ketinggalan. saya yakin R&D $ICBP juga ga tidur doang setelah buat resep indomie goreng, soto, kari & kaldu ayam makanya kita punya rasa rendang, cakalang, ayam pop & indomie keriting 😉😋',\n",
       "  '$IHSG biasa pasar rebound setelah FOMC Meeting tunggu aja tgl 14 desember semoga optimisme pasar kembali.\\n$BBCA $BOSS $ICBP $ERAA',\n",
       "  'Harga Kontainer Back To Normal\\n\\nIndeks kontainer Shanghai mulai menunjukkan bahwa biaya pengiriman kontainer mulai mendekati level normal.\\n\\nDi 6 Juli 2022 yang lalu saya sempat bertanya-tanya kapan siklus kontainer ini akan kembali normal ke kisaran harga 2000-3000 dollar/TEU. Mahalnya kontainer menyiksa banyak orang.\\nhttps://cutt.ly/u0oEjj2\\n\\nTernyata beberapa bulan kemudian, malah sudah turun <1500 dollar/TEU.\\n\\nPantas saja Maersk enggan menambah armada baru ketika puncak harga kontainer kemarin. Itu karena manajemen merasa bahwa siklus kontainer mahal ini tidak akan bertahan lama.\\n\\n\\nYang diuntungkan dari penurunan harga kontainer adalah perusahaan manufaktur dan konsumer seperti .\\n\\nTurunnya harga kontainer bisa menurunkan beban pengiriman dan logistik mereka. Bisa cek di LK mereka berapa biaya pengiriman di tiap kuartal.\\n\\n\\n\\nDisclaimer:',\n",
       "  'Topic: Stronghold Fund KMDS Research Discussion\\nTime: Dec 10, 2022 08:00 PM Jakarta\\n\\nJoin Zoom Meeting\\n\\nMeeting ID: 407 756 8397\\nPasscode: stronghold\\n\\n$KMDS $INDF $ICBP $MEDC $PTBA',\n",
       "  '$KMDS $IHSG $ICBP $UNVR $ADRO\\n\\nBesok saya akan adakan zoom meeting perihal KMDS\\n\\nWhy KMDS ?\\n\\n1. Sektor F&B secara outlook pertumbuhanya luar biasa beberapa tahun ini\\n2. Valuasi KMDS sangat menarik dengan business prospectnya\\n3. Hubungan KMDS dan BOBA\\n4. Simple Business\\n5. Small Cap !!!!\\n\\nBagi mereka yang mau join bisa klik zoom link besok hari sabtu jam 8 malam\\n\\nTopic: Stronghold Fund KMDS Research Discussion\\nTime: Dec 10, 2022 08:00 PM Jakarta\\n\\nJoin Zoom Meeting\\n\\n\\n\\nMeeting ID: 407 756 8397\\nPasscode: stronghold',\n",
       "  '',\n",
       "  '@JS999 gw juga mau nuntut $ICBP mie soto gw g ada trauma makan mie soto,sekarang lebih milih makan mie goreng rendang',\n",
       "  '@JS999 makan Indomie lah ; biar $ICBP naik ..:)',\n",
       "  'Iya itulah, bukan hanya di Indonesia Pak. hampir disetiap negara kalau boleh transportasi itu gratis. kalau indomie di naikin belum tentu ada yg demo, coba itu biaya aplikasi dinaikin jadi 3000 aja sekarang. segera dipanggil management ke gedung DPR pak. $GOTO $ICBP',\n",
       "  'iya om, ini balik lagi ke mood publik dan kepentingan masing2 orang mau belanja dimana.\\nhanya saja *saya tdk setuju* bila $ACES dipojokan/dibandingkan ttg HARGA terhadap yg bukan levelnya atau tujuannya.\\nseperti purchasing apakah mungkin belanja interior ditempat $ACES ? (BISA saja, tp ya itu balik ke kepentingan masing2).\\nkalau om bandingkan dengan Mitra**10 , maka apakah om/tante beli INDOMIE GORENG $ICBP di pasar tradisional atau malah belanja di alfamart $AMRT ?\\nSiapa coba yang tidak belanja di $AMRT, padahal tahu kalo barang2nya tergolong cukup mahal? coba kalo belanja di alfa Midi, alfa express mungkin lebih premium lagi.\\nMAHAL barang2 di alfamart (tp ya ada murahnya juga, diskon lagi spt yg dilakuin $ACES), tapi tetap survive dan tetap ada yg belanja.\\nsemua balik lagi ke STRATEGI MANAJEMEN terhadap SALES.'])"
      ]
     },
     "execution_count": 21,
     "metadata": {},
     "output_type": "execute_result"
    }
   ],
   "source": [
    "scrape('ICBP')"
   ]
  },
  {
   "cell_type": "code",
   "execution_count": 26,
   "metadata": {},
   "outputs": [],
   "source": [
    "driver.quit()"
   ]
  }
 ],
 "metadata": {
  "kernelspec": {
   "display_name": "Python 3",
   "language": "python",
   "name": "python3"
  },
  "language_info": {
   "codemirror_mode": {
    "name": "ipython",
    "version": 3
   },
   "file_extension": ".py",
   "mimetype": "text/x-python",
   "name": "python",
   "nbconvert_exporter": "python",
   "pygments_lexer": "ipython3",
   "version": "3.10.8"
  },
  "orig_nbformat": 4,
  "vscode": {
   "interpreter": {
    "hash": "aee8b7b246df8f9039afb4144a1f6fd8d2ca17a180786b69acc140d282b71a49"
   }
  }
 },
 "nbformat": 4,
 "nbformat_minor": 2
}
