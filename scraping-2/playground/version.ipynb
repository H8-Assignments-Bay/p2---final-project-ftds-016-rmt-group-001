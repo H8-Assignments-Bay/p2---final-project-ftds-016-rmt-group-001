{
 "cells": [
  {
   "cell_type": "code",
   "execution_count": 2,
   "metadata": {},
   "outputs": [
    {
     "name": "stdout",
     "output_type": "stream",
     "text": [
      "flask 2.2.2 pandas 1.5.1 selenium 4.5.0 webdriver-manager 3.8.4 gunicorn 20.1.0 gevent 22.10.2\n"
     ]
    }
   ],
   "source": [
    "import flask\n",
    "import pandas\n",
    "import selenium\n",
    "import webdriver_manager\n",
    "import gunicorn\n",
    "import gevent\n",
    "\n",
    "print(f'flask {flask.__version__}', \n",
    "f'pandas {pandas.__version__}', \n",
    "f'selenium {selenium.__version__}',\n",
    "f'webdriver-manager {webdriver_manager.__version__}',\n",
    "f'gunicorn {gunicorn.__version__}')"
   ]
  },
  {
   "cell_type": "code",
   "execution_count": 9,
   "metadata": {},
   "outputs": [
    {
     "name": "stdout",
     "output_type": "stream",
     "text": [
      "hello\n"
     ]
    }
   ],
   "source": [
    "a = \"a\"\n",
    "try:\n",
    "    int(a)\n",
    "except (ValueError, TypeError):\n",
    "    print(\"hello\")"
   ]
  },
  {
   "cell_type": "code",
   "execution_count": 30,
   "metadata": {},
   "outputs": [
    {
     "data": {
      "text/plain": [
       "label 1\n",
       "0    1\n",
       "1    2\n",
       "2    3\n",
       "dtype: int64"
      ]
     },
     "execution_count": 30,
     "metadata": {},
     "output_type": "execute_result"
    }
   ],
   "source": [
    "import pandas as pd\n",
    "\n",
    "df = pd.DataFrame({'date': ['ab','ab','ab','de','ef','gh'],\n",
    "                   'comment': ['a','a','c','d','e','f'], 'label 1': [0,1,2,1,2,2]})\n",
    "\n",
    "len(df[df['label 1'] == 0]), len(df[df['label 1'] == 1])\n",
    "\n",
    "df.groupby('label 1').size()"
   ]
  },
  {
   "cell_type": "code",
   "execution_count": 31,
   "metadata": {},
   "outputs": [
    {
     "data": {
      "text/plain": [
       "True"
      ]
     },
     "execution_count": 31,
     "metadata": {},
     "output_type": "execute_result"
    }
   ],
   "source": [
    "True == 1"
   ]
  },
  {
   "cell_type": "code",
   "execution_count": 36,
   "metadata": {},
   "outputs": [
    {
     "data": {
      "text/plain": [
       "array([0, 2, 0, 0, 0, 2, 2, 2, 0, 0, 0, 2, 1, 2, 1, 2, 0, 0, 0, 0, 2, 2,\n",
       "       2, 2, 2, 0, 2, 0, 2, 1])"
      ]
     },
     "execution_count": 36,
     "metadata": {},
     "output_type": "execute_result"
    }
   ],
   "source": [
    "import numpy as np\n",
    "\n",
    "np.random.randint(0,3,30)"
   ]
  },
  {
   "cell_type": "code",
   "execution_count": 38,
   "metadata": {},
   "outputs": [
    {
     "data": {
      "text/plain": [
       "[2, 3]"
      ]
     },
     "execution_count": 38,
     "metadata": {},
     "output_type": "execute_result"
    }
   ],
   "source": [
    "[0,1,2,3][2:4]"
   ]
  },
  {
   "cell_type": "code",
   "execution_count": 55,
   "metadata": {},
   "outputs": [
    {
     "data": {
      "text/html": [
       "<div>\n",
       "<style scoped>\n",
       "    .dataframe tbody tr th:only-of-type {\n",
       "        vertical-align: middle;\n",
       "    }\n",
       "\n",
       "    .dataframe tbody tr th {\n",
       "        vertical-align: top;\n",
       "    }\n",
       "\n",
       "    .dataframe thead th {\n",
       "        text-align: right;\n",
       "    }\n",
       "</style>\n",
       "<table border=\"1\" class=\"dataframe\">\n",
       "  <thead>\n",
       "    <tr style=\"text-align: right;\">\n",
       "      <th></th>\n",
       "      <th>comment</th>\n",
       "      <th>label 2</th>\n",
       "      <th>label 1</th>\n",
       "    </tr>\n",
       "  </thead>\n",
       "  <tbody>\n",
       "    <tr>\n",
       "      <th>0</th>\n",
       "      <td>ab</td>\n",
       "      <td>0</td>\n",
       "      <td>0.0</td>\n",
       "    </tr>\n",
       "    <tr>\n",
       "      <th>1</th>\n",
       "      <td>bc</td>\n",
       "      <td>1</td>\n",
       "      <td>NaN</td>\n",
       "    </tr>\n",
       "    <tr>\n",
       "      <th>2</th>\n",
       "      <td>cd</td>\n",
       "      <td>0</td>\n",
       "      <td>1.0</td>\n",
       "    </tr>\n",
       "  </tbody>\n",
       "</table>\n",
       "</div>"
      ],
      "text/plain": [
       "  comment  label 2  label 1\n",
       "0      ab        0      0.0\n",
       "1      bc        1      NaN\n",
       "2      cd        0      1.0"
      ]
     },
     "execution_count": 55,
     "metadata": {},
     "output_type": "execute_result"
    }
   ],
   "source": [
    "df = pd.DataFrame({'comment': ['ab','bc','cd'], 'label 2': [0,1,0]})\n",
    "df.loc[df['label 2'] == 0, 'label 1'] = [0,1]\n",
    "df"
   ]
  },
  {
   "cell_type": "code",
   "execution_count": 49,
   "metadata": {},
   "outputs": [
    {
     "data": {
      "text/plain": [
       "30"
      ]
     },
     "execution_count": 49,
     "metadata": {},
     "output_type": "execute_result"
    }
   ],
   "source": [
    "len([\n",
    "        {\n",
    "            \"date\": \"19 Dec 22, 14:41\",\n",
    "            \"comment\": \"CNBC 14 Dec 2022\\n\\nRANDOM tag: $GOTO $MYOR $ADRO $ICBP\",\n",
    "            \"label 1\": np.nan\n",
    "        },\n",
    "        {\n",
    "            \"date\": \"19 Dec 22, 07:37\",\n",
    "            \"comment\": \"$ICBP $INDF\\ndi resisten!\\ndoain aja dua-duanya breakout!\\nnext target $ICBP 10700\\n$INDF 7150\\n\\ndisclaimer on\",\n",
    "            \"label 1\": 2.0\n",
    "        },\n",
    "        {\n",
    "            \"date\": \"16 Dec 22, 19:21 · Edited on 16 Dec 22, 19:22\",\n",
    "            \"comment\": \"$SRIL shaam pertama saya.\\n.\\n$ANTM sudah pernah untung 300+% dari harga 800 ke harga 3000. masuk lagi di harga 2300an dan terus Average Down.\\n.\\n$ICBP Saya sisakan 1 lot sebagai kenangan, saya sudah untung puluhan juta disini.\\n.\\nAmunisi icbp saya siapkan untuk Average down $MNCN. Baru mau masuk $ANTM sudah terbang.\\nsemoga saja terus turun biar saya bisa beli lebih banyak.\\n\\nSemua tergantung tujuan dari awal.\\n\\nSemoga semuanya cuan di pasar modal ya..\",\n",
    "            \"label 1\": np.nan\n",
    "        },\n",
    "        {\n",
    "            \"date\": \"16 Dec 22, 19:07\",\n",
    "            \"comment\": \"MODAL 100 JUTA !!! BEGINI CARA SAYA MENYUSUN PORTFOLIO !!!\\n\\nDi bulan Desember tahun 2022 ini, kita disuguhkan penurunan market secara bertubi-tubi sejak tanggal 1 Desember sampai tanggal 12 Desember kemarin😔\\n\\nKita gatau ke depan ini IHSG akan pulih kembali atau tidak bahkan kita juga gatau window dressing di tahun ini terjadi atau tidak. Saya yakin kita semua juga gatau🤔\\n\\nTapi menariknya, bagi kita yang baru mulai menyusun portfolio ini adalah start yang TEPAT karena saham-saham lagi di bawah. Di video kali ini saya akan membagikan tips bagaimana cara menyusun portfolio dari nol👨‍💻\\n\\nMau tau caranya? Silahkan tonton video terbaru kami sampai selesai, klik linknya di bawah👇\",\n",
    "            \"label 1\": np.nan\n",
    "        },\n",
    "        {\n",
    "            \"date\": \"16 Dec 22, 14:25\",\n",
    "            \"comment\": \"$ICBP tumbuh 125 saat IHSG menguat hari ini, masa depan sungguh ada dan harapan tidak akan hilang 💪\",\n",
    "            \"label 1\": np.nan\n",
    "        },\n",
    "        {\n",
    "            \"date\": \"16 Dec 22, 11:31\",\n",
    "            \"comment\": \"yess jadi flashback pembahasan kompetitor $ICBP, lemonilo sedap etc mulai banyak ketika harganya terpuruk sewaktu di 7000an, di harga skrg gaada yg bahas samsek, menguji conviction emg, saya suka\",\n",
    "            \"label 1\": np.nan\n",
    "        },\n",
    "        {\n",
    "            \"date\": \"15 Dec 22, 16:48\",\n",
    "            \"comment\": \"POLL\\nSusu paling enak apa gan? Vox Populi Vox Dei $ULTJ $ICBP $CMRY $DMND $MYOR\",\n",
    "            \"label 1\": np.nan\n",
    "        },\n",
    "        {\n",
    "            \"date\": \"15 Dec 22, 15:00\",\n",
    "            \"comment\": \"$ICBP\",\n",
    "            \"label 1\": np.nan\n",
    "        },\n",
    "        {\n",
    "            \"date\": \"15 Dec 22, 10:25\",\n",
    "            \"comment\": \"$GOTO main di 90 an aja ya kamu g usah kemana2, biar $ASII $TLKM $ADRO $ICBP dan bluechip yg lain bisa ngasih windress.\",\n",
    "            \"label 1\": np.nan\n",
    "        },\n",
    "        {\n",
    "            \"date\": \"14 Dec 22, 19:45\",\n",
    "            \"comment\": \"Info Singkat saham untuk 15 Desember 2022 (bukan rekomendasi jual-beli) :\\n\\n$MDKA : rangenya pendek yakni Rp 4.300,- (support) s/d Rp 4.490,- (resistance). Posisi bandar masi didalam senilai Rp 143,51 milliar di harga Rp 4.210 selama seminggu terakhir. Untuk MDKA perhatikan area Rp 4.490 jika ini berhasil ditembus maka potensi melanjutkan kenaikan.\\n\\n$BMRI : Rangenya masi sama yakni Rp 9.750,- (support) s/d Rp 10.325,- (resistance) Posisi bandar masi keluar sebesar Rp 343,51 milliar selama seminggu terakhir. BMRI area krusialnya ada di Rp 9.750, jika support ini ditembus berpotensi koreksi lanjutan ke Rp 9,375.\\n\\n: Rangenya Rp 7.700,- (support ) s/d Rp 8.050,- (resistance). Posisi bandar masi keluar Rp 28,4 milyar selama seminggu terakhir. Untuk TKIM masid dalam fase technical rebound dengan target Rp 8.050.\\n\\nIngin mendapatkan informasi lengkap saham , , SCMA dan ikut polling saham-saham yang ingin dibahas setiap harinya ? yuk gabung ke grub seirine, link grub ada di profile seirine investama ya.\\n\\nHarus diingat:\\n1. Jangan trading dengan brutal mentang-mentang melihat bandar ada didalam, gunakan money management yang baik.\\n\\n2. ini hanyalah info singkat dan bukan rekomendasi jual-beli.\\n\\nDISCLAIMER ON\\n\\n\\\"Semoga informasi ini berguna bagi teman-teman sekalian, support terus kami dengan \\\"LIKE\\\" dan \\\"FOLLOW\\\" akun stockbit.\",\n",
    "            \"label 1\": np.nan\n",
    "        },\n",
    "        {\n",
    "            \"date\": \"14 Dec 22, 19:41\",\n",
    "            \"comment\": \"@godbless @handusene sejak periode lockup open YU memang paling kenceng buang barang. Tapi hari ini YU gak manggung, CC jadi pemain utama.\\n\\n@godbless Apa sudah bisa short sell di bursa? 🤔\\n\\n@AdrianGiri belum tertarik dengan perusahaan yang saya saja kurang paham, juga sedang down trend walaupun pbv <1.\\n\\nSemoga tidak banyak yang fomo $GOTO kemarin naik tinggi hari ini di banting lagi 😢 🚩\\n-------\",\n",
    "            \"label 1\": np.nan\n",
    "        },\n",
    "        {\n",
    "            \"date\": \"14 Dec 22, 19:23\",\n",
    "            \"comment\": \"$ULTJ fix tambah nyungsep liat chart kaya gini 🤯🤯\\n\\n$CMRY $MYOR $ICBP $UNVR\",\n",
    "            \"label 1\": np.nan\n",
    "        },\n",
    "        {\n",
    "            \"date\": \"14 Dec 22, 04:54\",\n",
    "            \"comment\": \"$HOKI yang merevolusi untuk menjadi $SRTG dikemudian hari, rasanya.\\n\\nTag : $INDF $ICBP $MYOR\",\n",
    "            \"label 1\": 1.0\n",
    "        },\n",
    "        {\n",
    "            \"date\": \"13 Dec 22, 21:09\",\n",
    "            \"comment\": \"Risiko saham\\nAda 4 jenis risiko ketika berinvestasi di bursa saham, yakni\\n\\n1. Capital Loss,\\nPenurunan harga saham yang bisa disebabkan karena penurunan kinerja perusahaan, atau memang keadaan market yang tidak kondusif\\n\\n2. Suspensi\\nyakni penghentian sementara aktivitas perdagangan suatu saham oleh Bursa Efek Indonesia. Jika kamu memiliki saham yang masuk daftar suspensi, kamu hanya bisa menunggu hingga bursa efek mengijinkan kembali saham untuk diperdagangkan.Saham yang terkena suspensi  dikarenakan pergerakan harga saham yang tidak wajar bahasa kerennya Unusual Market Activity atau UMA.  Seperti ARA atau ARB terus menerus. Walau demikian, bukan berarti saham yang masuk daftar UMA akan disuspensi. Jika akhirnya pergerakan saham kembali normal maka saham tersebut masih bisa  diperdagangkan\\n\\nSuspensi saham juga dapat terjadi karena kewajiban yang tidak dipenuhi oleh emiten. Contohnya melewatkan deadline laporan keuangan, belum membayar denda keterlambatan, atau adanya tindakan korporasi yang tidak diberitahukan ke Bursa , dst. Tujuan suspensi agar aktivitas perdagangan saham dapat berlangsung dengan teratur, wajar dan efisien .Investor dan emiten tidak bisa mengetahui kapan suspensi akan dibuka karena sepenuhnya ada kendali di Bursa Efek Indonesia. Bisa harian hingga bulanan.\\nUntuk mengetahui saham yang disuspensi, bisa cek ke . Pilih menu berita, kemudian pilih suspensi.\\n\\n3. Likuidasi\\nDimana emiten kurang memiliki dana segar untuk memenuhi kewajiban pembayaran hutang kepada kreditor. Aset mereka bisa saja banyak, namun sulit untuk diubah ke kas karena tidak ada pihak yang bersedia membeli aset perusahaan tersebut.\\nApabila suatu perusahaan sedang mengalami masalah likuidasi, maka investor hanya bisa menunggu hingga keadaan membaik. Karena emiten tersebut harus mengutamakan pembayaran hutang kepada para kreditor terlebih dahulu. Sisa dana baru diserahkan kepada pemegang saham\\n\\n4. DELISTING\\nyakni penghapusan emiten dari Bursa Efek . Proses delisting ini dibagi menjadi dua yakni delisting sukarela (Voluntary delisting) dan terpaksa (Force Delisting)\\nDelisting sukarela, maka emiten mengajukan kepada BEI untuk keluar dari bursa efek. Para pemegang saham akan menerima haknya karena ada kewajiban emiten untuk menyerap saham di publik pada harga yang wajar\\nDelisting terpaksa terjadi ketika emiten gagal memenuhi kewajiban yang diminta oleh bursa hingga sering mendapat peringatan. Jika sudah diputuskan oleh bursa, maka emiten wajib membeli kembali seluruh saham dari pemegang saham\\nNamun, apabila emiten  memiliki masalah likuidasi yang berujung gagal bayar hingga dinyatakan bangkrut, maka posisi pemegang saham akan cukup sulit.\\nPasalnya, emiten tersebut wajib menjual seluruh aset untuk membayar hutang kepada kreditor terlebih dahulu. Baru jika ada sisa dana akan diserahkan kepada pemegang saham .\\n\\n---\",\n",
    "            \"label 1\": np.nan\n",
    "        },\n",
    "        {\n",
    "            \"date\": \"13 Dec 22, 14:44\",\n",
    "            \"comment\": \"Ko saya rada skeptis ya gaiss dengan kenaikan $GOTO hari ini. i mean, anjerr kalo beban yauda beban aja gt loo gausa ngesok naik segala terus besok2annya malah turun terus lagi..\\n\\nMending sekalian ae ya parkir di gocap biar saham lain g terpengaruh dgn dampak penurunan GOTO yg membuat IHSG cenderung turun jg dan bikin positive vibes dari Window Dressing & January Effect tahun ini berpotensi rusak wkwkw\\n\\n*just my innocent opinion guys as a newbie, sorry kalo ada bahasa yg gaenak. Gada maksud apa2 🙏\\n\\nRandom Tag\",\n",
    "            \"label 1\": np.nan\n",
    "        },\n",
    "        {\n",
    "            \"date\": \"13 Dec 22, 10:26\",\n",
    "            \"comment\": \"$ICBP $INDF tes ombak ah...\",\n",
    "            \"label 1\": 1.0\n",
    "        },\n",
    "        {\n",
    "            \"date\": \"13 Dec 22, 08:42\",\n",
    "            \"comment\": \"Mirae Asset Sekuritas Indonesia Embun Pagi (13 Desember 2022)\\nResearch Team\\n\\nMarket comment by Handiman Soetoyo\\n$IHSG ditutup naik 0.3% pada hari Senin, didorong oleh sektor konsumer, energi, dan keuangan seperti $ICBP, $PTBA, ADRO, BBCA dan BBRI. Investor asing menjual bersih IDR1.5tr, terutama di BMRI, BBCA, dan TLKM.\\n\\nBursa AS ditutup naik diatas 1% pada hari Senin dimana investor menunggu data inflasi dan pertemuan Fed minggu ini. AS akan mengumumkan angka inflasi untuk November malam ini di mana konsensus diperkirakan akan menurun menjadi 7,3%, dari 7,7% di bulan Oktober. The Fed akan mengumumkan kebijakan moneter mereka pada hari Rabu (konsensus: +50bps hingga 4,50%), diikuti oleh serangkaian pengumuman serupa pada hari Kamis dari Bank of England (konsensus: +50bps hingga 3,50%), European Central Bank (konsensus: +50bps hingga 2,50%), dan Swiss National Bank (konsensus: +50bps hingga 1,00%). Harga minyak mentah naik 3,5% menjadi USD73,5/barel di tengah ketatnya pasokan karena penutupan pipa Keystone Kanada-AS.\\n\\nMeskipun ada rencana ekstensifikasi cukai untuk plastik dan minuman manis pada tahun 2023, pemerintah Indonesia masih ragu untuk menerapkan kebijakan tersebut karena adanya kekhawatiran ketidakpastian ekonomi global, inflasi yang tinggi, dan daya beli yang lemah. Dengan demikian, hal tersebut mungkin dapat menjadi katalis positif bagi sektor terkait. Sementara itu, PTBA telah mengindikasikan komitmennya untuk membagikan dividen kepada para pemegang sahamnya, meski masih belum jelas apakah akan ada dividen interim. Sebagai catatan, sebagian besar saham batu bara telah mengumumkan dividen interim karena kinerja yang kuat tahun ini, dengan ADRO dan GEMS diperkirakan akan segera mengumumkan dividen interim.\\n\\nMarket Indicator\\nJCI: 6,734.45 (+0.29%)\\nEIDO: 22.76 (+1.25%)\\nDJIA: 34,005.04 (+1.58%)\\nFTSE100: 7,445.97 (-0.41%)\\nUSD/IDR: 15,628 (+0.29%)\\n10yr GB yield: 6.95 (+1bps)\\nOil Price: 73.17 (+3.03%)\\nForeign net purchase: -IDR1,547.9bn\\n\\nForeign net purchase on single stocks (HOTS screen #0141)\\nTOP BUY: ADRO, INKP, MEDC, HRUM, PTBA\\nTOP SELL: BMRI, BBCA, TLKM, ASII, BBRI\\n\\nMost actively traded stocks (HOTS screen #0102)\\nBBCA, BMRI, TLKM, BBRI, BSBK\",\n",
    "            \"label 1\": np.nan\n",
    "        },\n",
    "        {\n",
    "            \"date\": \"12 Dec 22, 20:41\",\n",
    "            \"comment\": \"IHSG Besok Lanjut Naik, Rekomendasi Saham BBCA, TLKM hingga ICBP\\nIndeks Harga Saham Gabungan (IHSG) diperkirakan bakal bergerak menguat terbatas pada perdagangan besok, Selasa (13/12/2022).Pada Senin (12/12/2022), IHSG ditutup pada posisi 6.734,45 atau menguat 0,29 persen. IHSG bergerak pada rentang 6.641--6.734 sepanjang perdagangan hari ini.Tercatat, 316 saham...\",\n",
    "            \"label 1\": np.nan\n",
    "        },\n",
    "        {\n",
    "            \"date\": \"12 Dec 22, 18:37\",\n",
    "            \"comment\": \"$ICBP merangkak 250 seiring penguatan IHSG hari ini, masa depan sungguh ada dan harapan tidak akan hilang 💪\",\n",
    "            \"label 1\": 0.0\n",
    "        },\n",
    "        {\n",
    "            \"date\": \"12 Dec 22, 16:27\",\n",
    "            \"comment\": \"$ICBP sudah bangun dari tidur\",\n",
    "            \"label 1\": np.nan\n",
    "        },\n",
    "        {\n",
    "            \"date\": \"12 Dec 22, 08:56\",\n",
    "            \"comment\": \"Rekomendasi Saham BBCA, BBRI, ICBP dan MAPI oleh Indopremier Sekuritas | 12 Desember 2022\\nIndopremier Sekuritas12 Desember 2022IHSG (6.660 – 6.770) : Indeks diprediksi akan bergerak melemah. Target pelemahan indeks pada level 6.660 kemudian 6.605 dengan resist di level 6.770 kemudian 6.825.BBCA (Buy): Target kenaikan harga pada level 8.675 kemudian 8.775 dengan support di level 8.475 c...\",\n",
    "            \"label 1\": 0.0\n",
    "        },\n",
    "        {\n",
    "            \"date\": \"12 Dec 22, 08:40\",\n",
    "            \"comment\": \"IHSG Hari Ini Sulit Bangkit, Cek Saham BBRI, ICBP, hingga AKRA\\nIndeks Harga Saham Gabungan (IHSG) berpeluang mengalami penurunan pada perdagangan Senin (12/12). Namun, sejumlah saham mendapatkan rekomendasi beli lantaran berpotensi mencetak cuan. Head of Technical Analyst Research BNI Sekuritas Andri Zakarias Siregar mengatakan, IHSG masih dalam trend bearish...\",\n",
    "            \"label 1\": 0.0\n",
    "        },\n",
    "        {\n",
    "            \"date\": \"11 Dec 22, 08:38\",\n",
    "            \"comment\": \"@nofaketoys selesai bangun plant canggih 1, mereka bangun plant canggih 2, wak. gitu terus karena perusahaan (atau orang) yang ga berkembang ya ketinggalan. saya yakin R&D $ICBP juga ga tidur doang setelah buat resep indomie goreng, soto, kari & kaldu ayam makanya kita punya rasa rendang, cakalang, ayam pop & indomie keriting 😉😋\",\n",
    "            \"label 1\": np.nan\n",
    "        },\n",
    "        {\n",
    "            \"date\": \"11 Dec 22, 07:36\",\n",
    "            \"comment\": \"$IHSG biasa pasar rebound setelah FOMC Meeting tunggu aja tgl 14 desember semoga optimisme pasar kembali.\\n$BBCA $BOSS $ICBP $ERAA\",\n",
    "            \"label 1\": 2.0\n",
    "        },\n",
    "        {\n",
    "            \"date\": \"11 Dec 22, 05:24\",\n",
    "            \"comment\": \"Harga Kontainer Back To Normal\\n\\nIndeks kontainer Shanghai mulai menunjukkan bahwa biaya pengiriman kontainer mulai mendekati level normal.\\n\\nDi 6 Juli 2022 yang lalu saya sempat bertanya-tanya kapan siklus kontainer ini akan kembali normal ke kisaran harga 2000-3000 dollar/TEU. Mahalnya kontainer menyiksa banyak orang.\\nhttps://cutt.ly/u0oEjj2\\n\\nTernyata beberapa bulan kemudian, malah sudah turun <1500 dollar/TEU.\\n\\nPantas saja Maersk enggan menambah armada baru ketika puncak harga kontainer kemarin. Itu karena manajemen merasa bahwa siklus kontainer mahal ini tidak akan bertahan lama.\\n\\n\\nYang diuntungkan dari penurunan harga kontainer adalah perusahaan manufaktur dan konsumer seperti .\\n\\nTurunnya harga kontainer bisa menurunkan beban pengiriman dan logistik mereka. Bisa cek di LK mereka berapa biaya pengiriman di tiap kuartal.\\n\\n\\n\\nDisclaimer:\",\n",
    "            \"label 1\": np.nan\n",
    "        },\n",
    "        {\n",
    "            \"date\": \"10 Dec 22, 19:10\",\n",
    "            \"comment\": \"Topic: Stronghold Fund KMDS Research Discussion\\nTime: Dec 10, 2022 08:00 PM Jakarta\\n\\nJoin Zoom Meeting\\n\\nMeeting ID: 407 756 8397\\nPasscode: stronghold\\n\\n$KMDS $INDF $ICBP $MEDC $PTBA\",\n",
    "            \"label 1\": np.nan\n",
    "        },\n",
    "        {\n",
    "            \"date\": \"9 Dec 22, 17:47 · Edited on 9 Dec 22, 17:52\",\n",
    "            \"comment\": \"$KMDS $IHSG $ICBP $UNVR $ADRO\\n\\nBesok saya akan adakan zoom meeting perihal KMDS\\n\\nWhy KMDS ?\\n\\n1. Sektor F&B secara outlook pertumbuhanya luar biasa beberapa tahun ini\\n2. Valuasi KMDS sangat menarik dengan business prospectnya\\n3. Hubungan KMDS dan BOBA\\n4. Simple Business\\n5. Small Cap !!!!\\n\\nBagi mereka yang mau join bisa klik zoom link besok hari sabtu jam 8 malam\\n\\nTopic: Stronghold Fund KMDS Research Discussion\\nTime: Dec 10, 2022 08:00 PM Jakarta\\n\\nJoin Zoom Meeting\\n\\n\\n\\nMeeting ID: 407 756 8397\\nPasscode: stronghold\",\n",
    "            \"label 1\": np.nan\n",
    "        },\n",
    "        {\n",
    "            \"date\": \"9 Dec 22, 16:40\",\n",
    "            \"comment\": \"Laporan Bulanan Registrasi Pemegang Efek [ICBP]\",\n",
    "            \"label 1\": np.nan\n",
    "        },\n",
    "        {\n",
    "            \"date\": \"9 Dec 22, 15:06\",\n",
    "            \"comment\": \"@JS999 gw juga mau nuntut $ICBP mie soto gw g ada trauma makan mie soto,sekarang lebih milih makan mie goreng rendang\",\n",
    "            \"label 1\": np.nan\n",
    "        },\n",
    "        {\n",
    "            \"date\": \"9 Dec 22, 14:57\",\n",
    "            \"comment\": \"@JS999 makan Indomie lah ; biar $ICBP naik ..:)\",\n",
    "            \"label 1\": np.nan\n",
    "        }\n",
    "    ])"
   ]
  }
 ],
 "metadata": {
  "kernelspec": {
   "display_name": "Python 3",
   "language": "python",
   "name": "python3"
  },
  "language_info": {
   "codemirror_mode": {
    "name": "ipython",
    "version": 3
   },
   "file_extension": ".py",
   "mimetype": "text/x-python",
   "name": "python",
   "nbconvert_exporter": "python",
   "pygments_lexer": "ipython3",
   "version": "3.10.8"
  },
  "orig_nbformat": 4,
  "vscode": {
   "interpreter": {
    "hash": "aee8b7b246df8f9039afb4144a1f6fd8d2ca17a180786b69acc140d282b71a49"
   }
  }
 },
 "nbformat": 4,
 "nbformat_minor": 2
}
