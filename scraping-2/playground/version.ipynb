{
 "cells": [
  {
   "cell_type": "code",
   "execution_count": 2,
   "metadata": {},
   "outputs": [
    {
     "name": "stdout",
     "output_type": "stream",
     "text": [
      "flask 2.2.2 pandas 1.5.1 selenium 4.5.0 webdriver-manager 3.8.4 gunicorn 20.1.0 gevent 22.10.2\n"
     ]
    }
   ],
   "source": [
    "import flask\n",
    "import pandas\n",
    "import selenium\n",
    "import webdriver_manager\n",
    "import gunicorn\n",
    "import gevent\n",
    "\n",
    "print(f'flask {flask.__version__}', \n",
    "f'pandas {pandas.__version__}', \n",
    "f'selenium {selenium.__version__}',\n",
    "f'webdriver-manager {webdriver_manager.__version__}',\n",
    "f'gunicorn {gunicorn.__version__}')"
   ]
  }
 ],
 "metadata": {
  "kernelspec": {
   "display_name": "Python 3",
   "language": "python",
   "name": "python3"
  },
  "language_info": {
   "codemirror_mode": {
    "name": "ipython",
    "version": 3
   },
   "file_extension": ".py",
   "mimetype": "text/x-python",
   "name": "python",
   "nbconvert_exporter": "python",
   "pygments_lexer": "ipython3",
   "version": "3.10.8"
  },
  "orig_nbformat": 4,
  "vscode": {
   "interpreter": {
    "hash": "aee8b7b246df8f9039afb4144a1f6fd8d2ca17a180786b69acc140d282b71a49"
   }
  }
 },
 "nbformat": 4,
 "nbformat_minor": 2
}
