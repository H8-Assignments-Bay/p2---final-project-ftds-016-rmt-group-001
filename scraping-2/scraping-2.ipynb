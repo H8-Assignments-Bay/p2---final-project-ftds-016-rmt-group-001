{
 "cells": [
  {
   "attachments": {},
   "cell_type": "markdown",
   "metadata": {},
   "source": [
    "# Test"
   ]
  },
  {
   "cell_type": "code",
   "execution_count": 1,
   "metadata": {},
   "outputs": [
    {
     "data": {
      "text/plain": [
       "<Response [200]>"
      ]
     },
     "execution_count": 1,
     "metadata": {},
     "output_type": "execute_result"
    }
   ],
   "source": [
    "import requests\n",
    "page = requests.get(\"https://stockbit.com/#/symbol/ICBP\")\n",
    "page"
   ]
  },
  {
   "cell_type": "code",
   "execution_count": 28,
   "metadata": {},
   "outputs": [],
   "source": [
    "from selenium import webdriver\n",
    "from selenium.webdriver.chrome.service import Service as ChromeService\n",
    "from webdriver_manager.chrome import ChromeDriverManager\n",
    "driver = webdriver.Chrome(service=ChromeService(ChromeDriverManager().install()))"
   ]
  },
  {
   "cell_type": "code",
   "execution_count": null,
   "metadata": {},
   "outputs": [],
   "source": [
    "# scroll test\n",
    "driver.execute_script(\"window.scrollBy(0,document.body.scrollHeight)\", \"\")"
   ]
  },
  {
   "cell_type": "code",
   "execution_count": 8,
   "metadata": {},
   "outputs": [],
   "source": [
    "from selenium.webdriver.common.by import By\n",
    "\n",
    "driver.get(\"https://stockbit.com/symbol/ICBP\")\n",
    "\n",
    "comment_elements = driver.find_elements(by=By.CLASS_NAME, value=\"stream-text\")\n",
    "\n",
    "comments = list()\n",
    "\n",
    "for index, element in enumerate(comment_elements):\n",
    "    print(index, element.text, \"\\n\")\n",
    "    comments.append(element.text)"
   ]
  },
  {
   "cell_type": "code",
   "execution_count": 12,
   "metadata": {},
   "outputs": [
    {
     "name": "stdout",
     "output_type": "stream",
     "text": [
      "0 15 Dec 22, 16:48 \n",
      "\n",
      "1 15 Dec 22, 15:00 \n",
      "\n",
      "2 15 Dec 22, 10:25 \n",
      "\n",
      "3 14 Dec 22, 19:45 \n",
      "\n",
      "4 14 Dec 22, 19:41 \n",
      "\n",
      "5 14 Dec 22, 19:23 \n",
      "\n",
      "6 14 Dec 22, 04:54 \n",
      "\n",
      "7 13 Dec 22, 21:09 \n",
      "\n",
      "8 13 Dec 22, 14:44 \n",
      "\n",
      "9 13 Dec 22, 10:26 \n",
      "\n",
      "10 13 Dec 22, 08:42 \n",
      "\n",
      "11 12 Dec 22, 20:41 \n",
      "\n",
      "12 12 Dec 22, 18:37 \n",
      "\n",
      "13 12 Dec 22, 16:27 \n",
      "\n",
      "14 12 Dec 22, 08:56 \n",
      "\n",
      "15 12 Dec 22, 08:40 \n",
      "\n",
      "16 11 Dec 22, 08:38 \n",
      "\n",
      "17 11 Dec 22, 07:36 \n",
      "\n",
      "18 11 Dec 22, 05:24 \n",
      "\n",
      "19 10 Dec 22, 19:10 \n",
      "\n",
      "20  \n",
      "\n"
     ]
    }
   ],
   "source": [
    "date_elements = driver.find_elements(by=By.XPATH, value=\"//div[@class='stream-date']\")\n",
    "\n",
    "date = list()\n",
    "\n",
    "for index, element in enumerate(date_elements):\n",
    "    print(index, element.text, \"\\n\")\n",
    "    date.append(element.text)"
   ]
  },
  {
   "cell_type": "code",
   "execution_count": 13,
   "metadata": {},
   "outputs": [
    {
     "name": "stdout",
     "output_type": "stream",
     "text": [
      "1 3\n",
      "2 4\n"
     ]
    }
   ],
   "source": [
    "for a, b in zip([1,2], [3,4]):\n",
    "    print(a,b)"
   ]
  },
  {
   "cell_type": "code",
   "execution_count": 10,
   "metadata": {},
   "outputs": [
    {
     "data": {
      "text/plain": [
       "True"
      ]
     },
     "execution_count": 10,
     "metadata": {},
     "output_type": "execute_result"
    }
   ],
   "source": [
    "from dateutil import parser\n",
    "parser.parse(\"1 Oct 22, 15:00\") >= parser.parse(\"1 Oct 22\")"
   ]
  },
  {
   "cell_type": "code",
   "execution_count": 83,
   "metadata": {},
   "outputs": [
    {
     "data": {
      "text/plain": [
       "datetime.datetime(2022, 12, 4, 19, 42)"
      ]
     },
     "execution_count": 83,
     "metadata": {},
     "output_type": "execute_result"
    }
   ],
   "source": [
    "parser.parse(\"4 Dec 22, 19:42 · Edited on 14 Dec 22, 21:29\"[:16])"
   ]
  },
  {
   "cell_type": "code",
   "execution_count": 26,
   "metadata": {},
   "outputs": [],
   "source": [
    "date_elements = driver.find_elements(by=By.XPATH, value=\"//div[@class='stream-date']\")\n",
    "\n",
    "while True:\n",
    "    # Handle: ParserError: Unknown string format: 14 Dec 22, 19:42 · Edited on 14 Dec 22, 21:29\n",
    "    if parser.parse(date_elements[-2].text[:16]) >= parser.parse(\"1 Oct 22\"):\n",
    "        driver.execute_script(\"window.scrollBy(0,document.body.scrollHeight)\", \"\")\n",
    "        date_elements = driver.find_elements(by=By.XPATH, value=\"//div[@class='stream-date']\")\n",
    "    else:\n",
    "        break\n",
    "    "
   ]
  },
  {
   "cell_type": "code",
   "execution_count": 72,
   "metadata": {},
   "outputs": [
    {
     "data": {
      "text/plain": [
       "'30 Sep 22, 09:22'"
      ]
     },
     "execution_count": 72,
     "metadata": {},
     "output_type": "execute_result"
    }
   ],
   "source": [
    "# No guarantee that Selenium will stop in 1 Oct 22.\n",
    "date_elements[-2].text"
   ]
  },
  {
   "cell_type": "code",
   "execution_count": 5,
   "metadata": {},
   "outputs": [
    {
     "data": {
      "text/plain": [
       "5"
      ]
     },
     "execution_count": 5,
     "metadata": {},
     "output_type": "execute_result"
    }
   ],
   "source": [
    "from random import randint\n",
    "\n",
    "randint(5,10)"
   ]
  },
  {
   "cell_type": "code",
   "execution_count": 24,
   "metadata": {},
   "outputs": [
    {
     "name": "stdout",
     "output_type": "stream",
     "text": [
      "https://stockbit.com/symbol/ICBP\n",
      "https://stockbit.com/symbol/CPIN\n",
      "https://stockbit.com/symbol/INDF\n",
      "https://stockbit.com/symbol/MYOR\n",
      "https://stockbit.com/symbol/CMRY\n",
      "https://stockbit.com/symbol/GOOD\n",
      "https://stockbit.com/symbol/MLBI\n"
     ]
    }
   ],
   "source": [
    "symbols = [\"ICBP\", \"CPIN\", \"INDF\", \"MYOR\", \"CMRY\", \"GOOD\", \"MLBI\"]\n",
    "\n",
    "for symbol in symbols:\n",
    "    print(f\"https://stockbit.com/symbol/{symbol}\")"
   ]
  },
  {
   "cell_type": "code",
   "execution_count": 6,
   "metadata": {},
   "outputs": [
    {
     "data": {
      "text/html": [
       "<div>\n",
       "<style scoped>\n",
       "    .dataframe tbody tr th:only-of-type {\n",
       "        vertical-align: middle;\n",
       "    }\n",
       "\n",
       "    .dataframe tbody tr th {\n",
       "        vertical-align: top;\n",
       "    }\n",
       "\n",
       "    .dataframe thead th {\n",
       "        text-align: right;\n",
       "    }\n",
       "</style>\n",
       "<table border=\"1\" class=\"dataframe\">\n",
       "  <thead>\n",
       "    <tr style=\"text-align: right;\">\n",
       "      <th></th>\n",
       "      <th>date</th>\n",
       "      <th>comment</th>\n",
       "      <th>symbol</th>\n",
       "    </tr>\n",
       "  </thead>\n",
       "  <tbody>\n",
       "    <tr>\n",
       "      <th>0</th>\n",
       "      <td>30 Sep 22, 09:22</td>\n",
       "      <td>$ICBP</td>\n",
       "      <td>ICBP</td>\n",
       "    </tr>\n",
       "    <tr>\n",
       "      <th>1</th>\n",
       "      <td>30 Sep 22, 09:23</td>\n",
       "      <td>$ICBP2</td>\n",
       "      <td>ICBP</td>\n",
       "    </tr>\n",
       "    <tr>\n",
       "      <th>0</th>\n",
       "      <td>30 Sep 22, 09:22</td>\n",
       "      <td>$ICBP</td>\n",
       "      <td>ICBP</td>\n",
       "    </tr>\n",
       "  </tbody>\n",
       "</table>\n",
       "</div>"
      ],
      "text/plain": [
       "               date comment symbol\n",
       "0  30 Sep 22, 09:22   $ICBP   ICBP\n",
       "1  30 Sep 22, 09:23  $ICBP2   ICBP\n",
       "0  30 Sep 22, 09:22   $ICBP   ICBP"
      ]
     },
     "execution_count": 6,
     "metadata": {},
     "output_type": "execute_result"
    }
   ],
   "source": [
    "import pandas as pd\n",
    "\n",
    "df = pd.DataFrame()\n",
    "df['date'] = ['30 Sep 22, 09:22', '30 Sep 22, 09:23']\n",
    "df['comment'] = ['$ICBP', '$ICBP2']\n",
    "df['symbol'] = 'ICBP'\n",
    "\n",
    "df_c = pd.DataFrame()\n",
    "\n",
    "df_c['date'] = ['30 Sep 22, 09:22']\n",
    "df_c['comment'] = ['$ICBP']\n",
    "df_c['symbol'] = 'ICBP'\n",
    "\n",
    "pd.concat([df, df_c])"
   ]
  },
  {
   "cell_type": "code",
   "execution_count": 46,
   "metadata": {},
   "outputs": [
    {
     "name": "stdout",
     "output_type": "stream",
     "text": [
      "0 1 3\n",
      "1 2 4\n"
     ]
    }
   ],
   "source": [
    "for index, (a, b) in enumerate(zip([1,2], [3,4])):\n",
    "    print(index, a, b)"
   ]
  },
  {
   "attachments": {},
   "cell_type": "markdown",
   "metadata": {},
   "source": [
    "# Scraping"
   ]
  },
  {
   "cell_type": "code",
   "execution_count": 29,
   "metadata": {},
   "outputs": [
    {
     "name": "stdout",
     "output_type": "stream",
     "text": [
      "symbol ICBP date_elements 461 dates 460 comment_elements 461 comments 460 \n",
      "symbol CPIN date_elements 201 dates 200 comment_elements 201 comments 200 \n",
      "symbol INDF date_elements 401 dates 400 comment_elements 401 comments 400 \n",
      "symbol MYOR date_elements 360 dates 359 comment_elements 380 comments 359 \n",
      "symbol CMRY date_elements 120 dates 119 comment_elements 120 comments 119 \n",
      "symbol GOOD date_elements 81 dates 80 comment_elements 81 comments 80 \n",
      "symbol MLBI date_elements 101 dates 100 comment_elements 101 comments 100 \n"
     ]
    }
   ],
   "source": [
    "symbols = [\"ICBP\", \"CPIN\", \"INDF\", \"MYOR\", \"CMRY\", \"GOOD\", \"MLBI\"]\n",
    "\n",
    "from time import sleep\n",
    "\n",
    "df = pd.DataFrame()\n",
    "\n",
    "for symbol in symbols:\n",
    "    driver.get(f\"https://stockbit.com/symbol/{symbol}\")\n",
    "    \n",
    "    # Handdle: IndexError: list index out of range\n",
    "    while True:\n",
    "        date_elements = driver.find_elements(by=By.XPATH, value=\"//div[@class='stream-date']\")\n",
    "        \n",
    "        # Handle: IndexError: list index out of range\n",
    "        if len(date_elements) != 0:\n",
    "            break\n",
    "\n",
    "    while True:\n",
    "        # date_elements[-2] Handle: StaleElementReferenceException or ''\n",
    "        # .text[:16] Handle: ParserError: Unknown string format: 14 Dec 22, 19:42 · Edited on 14 Dec 22, 21:29\n",
    "        if parser.parse(date_elements[-2].text[:16]) >= parser.parse(\"1 Oct 22\"):\n",
    "            driver.execute_script(\"window.scrollBy(0,document.body.scrollHeight)\", \"\")\n",
    "            date_elements = driver.find_elements(by=By.XPATH, value=\"//div[@class='stream-date']\")\n",
    "        else:\n",
    "            break\n",
    "    \n",
    "    # value='stream-text-single' Handle: prevent Repost to be included in the comment_elements    \n",
    "    comment_elements = driver.find_elements(by=By.CLASS_NAME, value=\"stream-text-single\")\n",
    "    \n",
    "    dates = list()\n",
    "    comments = list()\n",
    "    \n",
    "    for index, (date_element, comment_element) in enumerate(zip(date_elements, comment_elements)):\n",
    "        # print(date_element.text, comment_element.text, \"\\n\")\n",
    "        \n",
    "        # Handle: StaleElementReferenceException or ''\n",
    "        if index == len(date_elements) - 1:\n",
    "            break\n",
    "        \n",
    "        dates.append(date_element.text)\n",
    "        comments.append(comment_element.text)\n",
    "        \n",
    "    print(f'symbol {symbol} '\n",
    "          f'date_elements {len(date_elements)} dates {len(dates)} '\n",
    "          f'comment_elements {len(comment_elements)} comments {len(comments)} ')\n",
    "    \n",
    "    df_c = pd.DataFrame()\n",
    "    df_c['date'] = dates\n",
    "    df_c['comment'] = comments\n",
    "    df_c['symbol'] = symbol\n",
    "    \n",
    "    df = pd.concat([df, df_c])\n",
    "    \n",
    "    sleep(randint(5,10))"
   ]
  },
  {
   "cell_type": "code",
   "execution_count": 42,
   "metadata": {},
   "outputs": [
    {
     "data": {
      "text/plain": [
       "'Lower Your Expectations\\n\\nKata - kata di atas saya kutip dari Charlie Munger.\\n\\nCharlie Munger itu kawan akrab Warren Buffett. Dia yang memperkenalkan konsep quality Investing ke Buffett. Sebelum akrab dengan Munger, Buffett adalah Grahamian sejati. Beli perusahaan di bawah tangible equities, jual ketika sudah capai fair price. Cari perusahaan yang sudah anjlok berat di bawah book value lalu jual ketika market apresiasi. Bahkan perusahaan yang tinggal 1 jumat pun bisa dibeli yang penting perusahaan itu masih punya nilai ketika dilikuidasi. Istilahnya cigarbutt atau investasi puntung rokok. Investor seperti pencari puntung rokok yang masih ada sisa dan masih nyala. Isap sekali dua kali, lalu buang.\\n\\nSejak kenal Munger dan baca bukunya Phil Fischer Common Stocks and Uncommon Profit, paradigma Buffett berubah.\\n\\nMunger dan Phil Fischer mengajarkan Buffett untuk investasi di perusahaan yang berkualitas dan punya potensi bertahan hingga 20-30 tahun ke depan. Dari pada capek - capek jadi pemulung saham cigarbutt. Lebih baik keep hold saham yang berkualitas. Buffett mengubah style dari Grahamian ke Fischerian karena dana kelolaan nya juga bertambah. Makin besar dana kelolaan maka makin sulit bergerak bebas pindah - pindah saham. Jadi Buffett memilih untuk simpan duitnya di safe haven, yakni Perusahaan yang konsisten cetak laba dan di proyeksi akan terus cetak laba hingga kiamat nanti.\\n\\nMunger gabung di Berkshire di 1978. Dan di 1988, Buffett beli Coca Cola dan keep hold sampai sekarang. Ketika itu Buffett beli Coca Cola di PER 15. Bisa baca kisahnya di buku Glen Arnold\\n\\nDi buku The Deals of Warren Buffett Vol. 2 disebutkan bahwa selama 50 tahun Buffett itu minum Pepsi.\\n\\nBahkan anak Buffett sendiri memanggil Buffett itu sebagai Pepsi Warren saking cintanya sama Pepsi. Tapi kemudian Buffett ketemu Don Keogh, tetangga depan rumah Buffett yang merupakan sales kopi. Waktu itu Buffett bilang ke Don Keogh bahwa dia akan buka jasa kelola dana dengan dana minimal 10.000 dollar.\\n\\nTapi Don Keogh tidak percaya sama Buffett karena waktu itu Buffett itu masih muda dan hanya jualan seminar saham di kampus - kampus. Ya, kalian tidak salah dengar, dulu Buffett jualan seminar saham ke kampus - kampus. Apalagi waktu itu Buffett sempat kerja jadi broker saham di perusahaan ayahnya. Jadi dia biasa berikan seminar saham berbayar ke klien nya.\\n\\nDon Keogh pun bilang ke Buffett, saya tidak punya duit 10.000 dollar, namun saya bisa pinjam duit itu dari bapak saya. Tapi apakah mungkin saya memberikan duit 10.000 dollar ke orang yang tidak pernah kelihatan bangun pagi dan kerja kantoran? Mungkin Don Keogh berpikir ini Buffett sedang ngepet. Tapi begitu lah full time investor. Kelihatan tidak kerja terus.\\n\\nAkhirnya Buffett gagal dapat duit dari Keogh setelah mendapatkan penjelasan seperti itu. Padahal kalau Don Keogh waktu itu simpan duit di Buffett, 10.000 dollar sekarang nilainya mungkin sudah jadi 100 juta dollar.\\n\\nLalu gimana ceritanya Keogh bisa merayu Buffett sehingga minum Coca Cola?\\nDi tahun 1964 perusahaan kopi Keogh dibeli oleh Coca Cola. Karena rajin, dia pun diangkat jadi CEO Coca Cola. Di 1981, dia baca majalah bahwa Buffett cinta Pepsi. Dia pun kirim surat ke Buffett, mantan tetangganya, bahwa dia akan kirim sampel Coca Cola, Cherry Coke, yang Disebutnya sebagai nectar of God. Buffett mencobanya, Buffett suka. Diapun konsultasi dengan Munger. Mereka pun sepakat mau beli saham Coca Cola.\\n\\nDi 1986, Buffett mengumumkan bahwa dia sudah berpindah dari Pepsiman menjadi Coca Cola Man.\\n\\nDan ketika market crash di 1987, akhirnya Buffett mulai cicil beli saham Coca cola sejak 1988 hingga 1994 and the rest is history. Kisah Lengkapnya bisa baca bukunya Glen Arnold\\n\\nDari tahun 1988 hingga sekarang, Buffett belum pernah sekalipun menjual saham Coca Cola. Semua dividen dari Coca Cola yang menjadi cashflow Buffett untuk akuisisi perusahaan lain seperti Apple, Visa hingga BYD.\\n\\nApakah di Indonesia ada perusahaan seperti Coca Cola?\\n\\nDisclaimer:'"
      ]
     },
     "execution_count": 42,
     "metadata": {},
     "output_type": "execute_result"
    }
   ],
   "source": [
    "# <div class=\"stream-text-single\">\n",
    "#   <a class=\"ext-link-indicator postid-9756129\" data-entity-id=\"9756129\" href=\"http://bit.ly/3bLj4Oc\">http://bit.ly/3bLj4Oc</a>\n",
    "# </div class=\"stream-text-single\">\n",
    "# the <a class..> won't be included.\n",
    "df.iloc[444]['comment']"
   ]
  },
  {
   "cell_type": "code",
   "execution_count": 44,
   "metadata": {},
   "outputs": [],
   "source": [
    "df.to_csv(\"ICBP_MLBI.csv\", index=False)"
   ]
  }
 ],
 "metadata": {
  "kernelspec": {
   "display_name": "Python 3",
   "language": "python",
   "name": "python3"
  },
  "language_info": {
   "codemirror_mode": {
    "name": "ipython",
    "version": 3
   },
   "file_extension": ".py",
   "mimetype": "text/x-python",
   "name": "python",
   "nbconvert_exporter": "python",
   "pygments_lexer": "ipython3",
   "version": "3.10.8"
  },
  "orig_nbformat": 4,
  "vscode": {
   "interpreter": {
    "hash": "aee8b7b246df8f9039afb4144a1f6fd8d2ca17a180786b69acc140d282b71a49"
   }
  }
 },
 "nbformat": 4,
 "nbformat_minor": 2
}
