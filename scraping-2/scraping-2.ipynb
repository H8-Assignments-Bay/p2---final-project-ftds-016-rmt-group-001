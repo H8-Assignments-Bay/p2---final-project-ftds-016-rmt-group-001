{
 "cells": [
  {
   "attachments": {},
   "cell_type": "markdown",
   "metadata": {},
   "source": [
    "# Test"
   ]
  },
  {
   "cell_type": "code",
   "execution_count": 1,
   "metadata": {},
   "outputs": [
    {
     "data": {
      "text/plain": [
       "<Response [200]>"
      ]
     },
     "execution_count": 1,
     "metadata": {},
     "output_type": "execute_result"
    }
   ],
   "source": [
    "import requests\n",
    "page = requests.get(\"https://stockbit.com/#/symbol/ICBP\")\n",
    "page"
   ]
  },
  {
   "cell_type": "code",
   "execution_count": 2,
   "metadata": {},
   "outputs": [],
   "source": [
    "from selenium import webdriver\n",
    "from selenium.webdriver.chrome.service import Service as ChromeService\n",
    "from webdriver_manager.chrome import ChromeDriverManager\n",
    "driver = webdriver.Chrome(service=ChromeService(ChromeDriverManager().install()))"
   ]
  },
  {
   "cell_type": "code",
   "execution_count": null,
   "metadata": {},
   "outputs": [],
   "source": [
    "# scroll test\n",
    "driver.execute_script(\"window.scrollBy(0,document.body.scrollHeight)\", \"\")"
   ]
  },
  {
   "cell_type": "code",
   "execution_count": 11,
   "metadata": {},
   "outputs": [
    {
     "name": "stdout",
     "output_type": "stream",
     "text": [
      "0 POLL\n",
      "Susu paling enak apa gan? Vox Populi Vox Dei $ULTJ $ICBP $CMRY $DMND $MYOR \n",
      "\n",
      "1 $ICBP \n",
      "\n",
      "2 $GOTO main di 90 an aja ya kamu g usah kemana2, biar $ASII $TLKM $ADRO $ICBP dan bluechip yg lain bisa ngasih windress. \n",
      "\n",
      "3 Info Singkat saham untuk 15 Desember 2022 (bukan rekomendasi jual-beli) :\n",
      "\n",
      "$MDKA : rangenya pendek yakni Rp 4.300,- (support) s/d Rp 4.490,- (resistance). Posisi bandar masi didalam senilai Rp 143,51 milliar di harga Rp 4.210 selama seminggu terakhir. Untuk MDKA perhatikan area Rp 4.490 jika ini berhasil ditembus maka potensi melanjutkan kenaikan.\n",
      "\n",
      "$BMRI : Rangenya masi sama yakni Rp 9.750,- (support) s/d Rp 10.325,- (resistance) Posisi bandar masi keluar sebesar Rp 343,51 milliar selama seminggu terakhir. BMRI area krusialnya ada di Rp 9.750, jika support ini ditembus berpotensi koreksi lanjutan ke Rp 9,375.\n",
      "\n",
      ": Rangenya Rp 7.700,- (support ) s/d Rp 8.050,- (resistance). Posisi bandar masi keluar Rp 28,4 milyar selama seminggu terakhir. Untuk TKIM masid dalam fase technical rebound dengan target Rp 8.050.\n",
      "\n",
      "Ingin mendapatkan informasi lengkap saham , , SCMA dan ikut polling saham-saham yang ingin dibahas setiap harinya ? yuk gabung ke grub seirine, link grub ada di profile seirine investama ya.\n",
      "\n",
      "Harus diingat:\n",
      "1. Jangan trading dengan brutal mentang-mentang melihat bandar ada didalam, gunakan money management yang baik.\n",
      "\n",
      "2. ini hanyalah info singkat dan bukan rekomendasi jual-beli.\n",
      "\n",
      "DISCLAIMER ON\n",
      "\n",
      "\"Semoga informasi ini berguna bagi teman-teman sekalian, support terus kami dengan \"LIKE\" dan \"FOLLOW\" akun stockbit. \n",
      "\n",
      "4 @godbless @handusene sejak periode lockup open YU memang paling kenceng buang barang. Tapi hari ini YU gak manggung, CC jadi pemain utama.\n",
      "\n",
      "@godbless Apa sudah bisa short sell di bursa? 🤔\n",
      "\n",
      "@AdrianGiri belum tertarik dengan perusahaan yang saya saja kurang paham, juga sedang down trend walaupun pbv <1.\n",
      "\n",
      "Semoga tidak banyak yang fomo $GOTO kemarin naik tinggi hari ini di banting lagi 😢 🚩\n",
      "------- \n",
      "\n",
      "5 $ULTJ fix tambah nyungsep liat chart kaya gini 🤯🤯\n",
      "\n",
      "$CMRY $MYOR $ICBP $UNVR \n",
      "\n",
      "6 $HOKI yang merevolusi untuk menjadi $SRTG dikemudian hari, rasanya.\n",
      "\n",
      "Tag : $INDF $ICBP $MYOR \n",
      "\n",
      "7 Risiko saham\n",
      "Ada 4 jenis risiko ketika berinvestasi di bursa saham, yakni\n",
      "\n",
      "1. Capital Loss,\n",
      "Penurunan harga saham yang bisa disebabkan karena penurunan kinerja perusahaan, atau memang keadaan market yang tidak kondusif\n",
      "\n",
      "2. Suspensi\n",
      "yakni penghentian sementara aktivitas perdagangan suatu saham oleh Bursa Efek Indonesia. Jika kamu memiliki saham yang masuk daftar suspensi, kamu hanya bisa menunggu hingga bursa efek mengijinkan kembali saham untuk diperdagangkan.Saham yang terkena suspensi  dikarenakan pergerakan harga saham yang tidak wajar bahasa kerennya Unusual Market Activity atau UMA.  Seperti ARA atau ARB terus menerus. Walau demikian, bukan berarti saham yang masuk daftar UMA akan disuspensi. Jika akhirnya pergerakan saham kembali normal maka saham tersebut masih bisa  diperdagangkan\n",
      "\n",
      "Suspensi saham juga dapat terjadi karena kewajiban yang tidak dipenuhi oleh emiten. Contohnya melewatkan deadline laporan keuangan, belum membayar denda keterlambatan, atau adanya tindakan korporasi yang tidak diberitahukan ke Bursa , dst. Tujuan suspensi agar aktivitas perdagangan saham dapat berlangsung dengan teratur, wajar dan efisien .Investor dan emiten tidak bisa mengetahui kapan suspensi akan dibuka karena sepenuhnya ada kendali di Bursa Efek Indonesia. Bisa harian hingga bulanan.\n",
      "Untuk mengetahui saham yang disuspensi, bisa cek ke . Pilih menu berita, kemudian pilih suspensi.\n",
      "\n",
      "3. Likuidasi\n",
      "Dimana emiten kurang memiliki dana segar untuk memenuhi kewajiban pembayaran hutang kepada kreditor. Aset mereka bisa saja banyak, namun sulit untuk diubah ke kas karena tidak ada pihak yang bersedia membeli aset perusahaan tersebut.\n",
      "Apabila suatu perusahaan sedang mengalami masalah likuidasi, maka investor hanya bisa menunggu hingga keadaan membaik. Karena emiten tersebut harus mengutamakan pembayaran hutang kepada para kreditor terlebih dahulu. Sisa dana baru diserahkan kepada pemegang saham\n",
      "\n",
      "4. DELISTING\n",
      "yakni penghapusan emiten dari Bursa Efek . Proses delisting ini dibagi menjadi dua yakni delisting sukarela (Voluntary delisting) dan terpaksa (Force Delisting)\n",
      "Delisting sukarela, maka emiten mengajukan kepada BEI untuk keluar dari bursa efek. Para pemegang saham akan menerima haknya karena ada kewajiban emiten untuk menyerap saham di publik pada harga yang wajar\n",
      "Delisting terpaksa terjadi ketika emiten gagal memenuhi kewajiban yang diminta oleh bursa hingga sering mendapat peringatan. Jika sudah diputuskan oleh bursa, maka emiten wajib membeli kembali seluruh saham dari pemegang saham\n",
      "Namun, apabila emiten  memiliki masalah likuidasi yang berujung gagal bayar hingga dinyatakan bangkrut, maka posisi pemegang saham akan cukup sulit.\n",
      "Pasalnya, emiten tersebut wajib menjual seluruh aset untuk membayar hutang kepada kreditor terlebih dahulu. Baru jika ada sisa dana akan diserahkan kepada pemegang saham .\n",
      "\n",
      "--- \n",
      "\n",
      "8 Ko saya rada skeptis ya gaiss dengan kenaikan $GOTO hari ini. i mean, anjerr kalo beban yauda beban aja gt loo gausa ngesok naik segala terus besok2annya malah turun terus lagi..\n",
      "\n",
      "Mending sekalian ae ya parkir di gocap biar saham lain g terpengaruh dgn dampak penurunan GOTO yg membuat IHSG cenderung turun jg dan bikin positive vibes dari Window Dressing & January Effect tahun ini berpotensi rusak wkwkw\n",
      "\n",
      "*just my innocent opinion guys as a newbie, sorry kalo ada bahasa yg gaenak. Gada maksud apa2 🙏\n",
      "\n",
      "Random Tag \n",
      "\n",
      "9 $ICBP $INDF tes ombak ah... \n",
      "\n",
      "10 Mirae Asset Sekuritas Indonesia Embun Pagi (13 Desember 2022)\n",
      "Research Team\n",
      "\n",
      "Market comment by Handiman Soetoyo\n",
      "$IHSG ditutup naik 0.3% pada hari Senin, didorong oleh sektor konsumer, energi, dan keuangan seperti $ICBP, $PTBA, ADRO, BBCA dan BBRI. Investor asing menjual bersih IDR1.5tr, terutama di BMRI, BBCA, dan TLKM.\n",
      "\n",
      "Bursa AS ditutup naik diatas 1% pada hari Senin dimana investor menunggu data inflasi dan pertemuan Fed minggu ini. AS akan mengumumkan angka inflasi untuk November malam ini di mana konsensus diperkirakan akan menurun menjadi 7,3%, dari 7,7% di bulan Oktober. The Fed akan mengumumkan kebijakan moneter mereka pada hari Rabu (konsensus: +50bps hingga 4,50%), diikuti oleh serangkaian pengumuman serupa pada hari Kamis dari Bank of England (konsensus: +50bps hingga 3,50%), European Central Bank (konsensus: +50bps hingga 2,50%), dan Swiss National Bank (konsensus: +50bps hingga 1,00%). Harga minyak mentah naik 3,5% menjadi USD73,5/barel di tengah ketatnya pasokan karena penutupan pipa Keystone Kanada-AS.\n",
      "\n",
      "Meskipun ada rencana ekstensifikasi cukai untuk plastik dan minuman manis pada tahun 2023, pemerintah Indonesia masih ragu untuk menerapkan kebijakan tersebut karena adanya kekhawatiran ketidakpastian ekonomi global, inflasi yang tinggi, dan daya beli yang lemah. Dengan demikian, hal tersebut mungkin dapat menjadi katalis positif bagi sektor terkait. Sementara itu, PTBA telah mengindikasikan komitmennya untuk membagikan dividen kepada para pemegang sahamnya, meski masih belum jelas apakah akan ada dividen interim. Sebagai catatan, sebagian besar saham batu bara telah mengumumkan dividen interim karena kinerja yang kuat tahun ini, dengan ADRO dan GEMS diperkirakan akan segera mengumumkan dividen interim.\n",
      "\n",
      "Market Indicator\n",
      "JCI: 6,734.45 (+0.29%)\n",
      "EIDO: 22.76 (+1.25%)\n",
      "DJIA: 34,005.04 (+1.58%)\n",
      "FTSE100: 7,445.97 (-0.41%)\n",
      "USD/IDR: 15,628 (+0.29%)\n",
      "10yr GB yield: 6.95 (+1bps)\n",
      "Oil Price: 73.17 (+3.03%)\n",
      "Foreign net purchase: -IDR1,547.9bn\n",
      "\n",
      "Foreign net purchase on single stocks (HOTS screen #0141)\n",
      "TOP BUY: ADRO, INKP, MEDC, HRUM, PTBA\n",
      "TOP SELL: BMRI, BBCA, TLKM, ASII, BBRI\n",
      "\n",
      "Most actively traded stocks (HOTS screen #0102)\n",
      "BBCA, BMRI, TLKM, BBRI, BSBK \n",
      "\n",
      "11 IHSG Besok Lanjut Naik, Rekomendasi Saham BBCA, TLKM hingga ICBP\n",
      "Indeks Harga Saham Gabungan (IHSG) diperkirakan bakal bergerak menguat terbatas pada perdagangan besok, Selasa (13/12/2022).Pada Senin (12/12/2022), IHSG ditutup pada posisi 6.734,45 atau menguat 0,29 persen. IHSG bergerak pada rentang 6.641--6.734 sepanjang perdagangan hari ini.Tercatat, 316 saham... \n",
      "\n",
      "12 $ICBP merangkak 250 seiring penguatan IHSG hari ini, masa depan sungguh ada dan harapan tidak akan hilang 💪 \n",
      "\n",
      "13 $ICBP sudah bangun dari tidur \n",
      "\n",
      "14 Rekomendasi Saham BBCA, BBRI, ICBP dan MAPI oleh Indopremier Sekuritas | 12 Desember 2022\n",
      "Indopremier Sekuritas12 Desember 2022IHSG (6.660 – 6.770) : Indeks diprediksi akan bergerak melemah. Target pelemahan indeks pada level 6.660 kemudian 6.605 dengan resist di level 6.770 kemudian 6.825.BBCA (Buy): Target kenaikan harga pada level 8.675 kemudian 8.775 dengan support di level 8.475 c... \n",
      "\n",
      "15 IHSG Hari Ini Sulit Bangkit, Cek Saham BBRI, ICBP, hingga AKRA\n",
      "Indeks Harga Saham Gabungan (IHSG) berpeluang mengalami penurunan pada perdagangan Senin (12/12). Namun, sejumlah saham mendapatkan rekomendasi beli lantaran berpotensi mencetak cuan. Head of Technical Analyst Research BNI Sekuritas Andri Zakarias Siregar mengatakan, IHSG masih dalam trend bearish... \n",
      "\n",
      "16 @nofaketoys selesai bangun plant canggih 1, mereka bangun plant canggih 2, wak. gitu terus karena perusahaan (atau orang) yang ga berkembang ya ketinggalan. saya yakin R&D $ICBP juga ga tidur doang setelah buat resep indomie goreng, soto, kari & kaldu ayam makanya kita punya rasa rendang, cakalang, ayam pop & indomie keriting 😉😋 \n",
      "\n",
      "17 $IHSG biasa pasar rebound setelah FOMC Meeting tunggu aja tgl 14 desember semoga optimisme pasar kembali.\n",
      "$BBCA $BOSS $ICBP $ERAA \n",
      "\n",
      "18 Harga Kontainer Back To Normal\n",
      "\n",
      "Indeks kontainer Shanghai mulai menunjukkan bahwa biaya pengiriman kontainer mulai mendekati level normal.\n",
      "\n",
      "Di 6 Juli 2022 yang lalu saya sempat bertanya-tanya kapan siklus kontainer ini akan kembali normal ke kisaran harga 2000-3000 dollar/TEU. Mahalnya kontainer menyiksa banyak orang.\n",
      "https://cutt.ly/u0oEjj2\n",
      "\n",
      "Ternyata beberapa bulan kemudian, malah sudah turun <1500 dollar/TEU.\n",
      "\n",
      "Pantas saja Maersk enggan menambah armada baru ketika puncak harga kontainer kemarin. Itu karena manajemen merasa bahwa siklus kontainer mahal ini tidak akan bertahan lama.\n",
      "\n",
      "\n",
      "Yang diuntungkan dari penurunan harga kontainer adalah perusahaan manufaktur dan konsumer seperti .\n",
      "\n",
      "Turunnya harga kontainer bisa menurunkan beban pengiriman dan logistik mereka. Bisa cek di LK mereka berapa biaya pengiriman di tiap kuartal.\n",
      "\n",
      "\n",
      "\n",
      "Disclaimer: \n",
      "\n",
      "19 Topic: Stronghold Fund KMDS Research Discussion\n",
      "Time: Dec 10, 2022 08:00 PM Jakarta\n",
      "\n",
      "Join Zoom Meeting\n",
      "\n",
      "Meeting ID: 407 756 8397\n",
      "Passcode: stronghold\n",
      "\n",
      "$KMDS $INDF $ICBP $MEDC $PTBA \n",
      "\n",
      "20  \n",
      "\n"
     ]
    }
   ],
   "source": [
    "from selenium.webdriver.common.by import By\n",
    "\n",
    "driver.get(\"https://stockbit.com/symbol/ICBP\")\n",
    "\n",
    "comment_elements = driver.find_elements(by=By.CLASS_NAME, value=\"stream-text\")\n",
    "\n",
    "comments = list()\n",
    "\n",
    "for index, element in enumerate(comment_elements):\n",
    "    print(index, element.text, \"\\n\")\n",
    "    comments.append(element.text)"
   ]
  },
  {
   "cell_type": "code",
   "execution_count": 12,
   "metadata": {},
   "outputs": [
    {
     "name": "stdout",
     "output_type": "stream",
     "text": [
      "0 15 Dec 22, 16:48 \n",
      "\n",
      "1 15 Dec 22, 15:00 \n",
      "\n",
      "2 15 Dec 22, 10:25 \n",
      "\n",
      "3 14 Dec 22, 19:45 \n",
      "\n",
      "4 14 Dec 22, 19:41 \n",
      "\n",
      "5 14 Dec 22, 19:23 \n",
      "\n",
      "6 14 Dec 22, 04:54 \n",
      "\n",
      "7 13 Dec 22, 21:09 \n",
      "\n",
      "8 13 Dec 22, 14:44 \n",
      "\n",
      "9 13 Dec 22, 10:26 \n",
      "\n",
      "10 13 Dec 22, 08:42 \n",
      "\n",
      "11 12 Dec 22, 20:41 \n",
      "\n",
      "12 12 Dec 22, 18:37 \n",
      "\n",
      "13 12 Dec 22, 16:27 \n",
      "\n",
      "14 12 Dec 22, 08:56 \n",
      "\n",
      "15 12 Dec 22, 08:40 \n",
      "\n",
      "16 11 Dec 22, 08:38 \n",
      "\n",
      "17 11 Dec 22, 07:36 \n",
      "\n",
      "18 11 Dec 22, 05:24 \n",
      "\n",
      "19 10 Dec 22, 19:10 \n",
      "\n",
      "20  \n",
      "\n"
     ]
    }
   ],
   "source": [
    "date_elements = driver.find_elements(by=By.XPATH, value=\"//div[@class='stream-date']\")\n",
    "\n",
    "date = list()\n",
    "\n",
    "for index, element in enumerate(date_elements):\n",
    "    print(index, element.text, \"\\n\")\n",
    "    date.append(element.text)"
   ]
  },
  {
   "cell_type": "code",
   "execution_count": 13,
   "metadata": {},
   "outputs": [
    {
     "name": "stdout",
     "output_type": "stream",
     "text": [
      "1 3\n",
      "2 4\n"
     ]
    }
   ],
   "source": [
    "for a, b in zip([1,2], [3,4]):\n",
    "    print(a,b)"
   ]
  },
  {
   "cell_type": "code",
   "execution_count": 84,
   "metadata": {},
   "outputs": [
    {
     "data": {
      "text/plain": [
       "True"
      ]
     },
     "execution_count": 84,
     "metadata": {},
     "output_type": "execute_result"
    }
   ],
   "source": [
    "from dateutil import parser\n",
    "parser.parse(\"1 Oct 22, 15:00\") >= parser.parse(\"1 Oct 22\")"
   ]
  },
  {
   "cell_type": "code",
   "execution_count": 83,
   "metadata": {},
   "outputs": [
    {
     "data": {
      "text/plain": [
       "datetime.datetime(2022, 12, 4, 19, 42)"
      ]
     },
     "execution_count": 83,
     "metadata": {},
     "output_type": "execute_result"
    }
   ],
   "source": [
    "parser.parse(\"4 Dec 22, 19:42 · Edited on 14 Dec 22, 21:29\"[:16])"
   ]
  },
  {
   "cell_type": "code",
   "execution_count": 26,
   "metadata": {},
   "outputs": [],
   "source": [
    "date_elements = driver.find_elements(by=By.XPATH, value=\"//div[@class='stream-date']\")\n",
    "\n",
    "while True:\n",
    "    # Handle: ParserError: Unknown string format: 14 Dec 22, 19:42 · Edited on 14 Dec 22, 21:29\n",
    "    if parser.parse(date_elements[-2].text[:16]) >= parser.parse(\"1 Oct 22\"):\n",
    "        driver.execute_script(\"window.scrollBy(0,document.body.scrollHeight)\", \"\")\n",
    "        date_elements = driver.find_elements(by=By.XPATH, value=\"//div[@class='stream-date']\")\n",
    "    else:\n",
    "        break\n",
    "    "
   ]
  },
  {
   "cell_type": "code",
   "execution_count": 72,
   "metadata": {},
   "outputs": [
    {
     "data": {
      "text/plain": [
       "'30 Sep 22, 09:22'"
      ]
     },
     "execution_count": 72,
     "metadata": {},
     "output_type": "execute_result"
    }
   ],
   "source": [
    "# No guarantee that Selenium will stop in 1 Oct 22.\n",
    "date_elements[-2].text"
   ]
  },
  {
   "cell_type": "code",
   "execution_count": 21,
   "metadata": {},
   "outputs": [
    {
     "data": {
      "text/plain": [
       "7"
      ]
     },
     "execution_count": 21,
     "metadata": {},
     "output_type": "execute_result"
    }
   ],
   "source": [
    "from random import randint\n",
    "\n",
    "randint(5,10)"
   ]
  },
  {
   "cell_type": "code",
   "execution_count": 24,
   "metadata": {},
   "outputs": [
    {
     "name": "stdout",
     "output_type": "stream",
     "text": [
      "https://stockbit.com/symbol/ICBP\n",
      "https://stockbit.com/symbol/CPIN\n",
      "https://stockbit.com/symbol/INDF\n",
      "https://stockbit.com/symbol/MYOR\n",
      "https://stockbit.com/symbol/CMRY\n",
      "https://stockbit.com/symbol/GOOD\n",
      "https://stockbit.com/symbol/MLBI\n"
     ]
    }
   ],
   "source": [
    "symbols = [\"ICBP\", \"CPIN\", \"INDF\", \"MYOR\", \"CMRY\", \"GOOD\", \"MLBI\"]\n",
    "\n",
    "for symbol in symbols:\n",
    "    print(f\"https://stockbit.com/symbol/{symbol}\")"
   ]
  },
  {
   "cell_type": "code",
   "execution_count": 57,
   "metadata": {},
   "outputs": [
    {
     "data": {
      "text/html": [
       "<div>\n",
       "<style scoped>\n",
       "    .dataframe tbody tr th:only-of-type {\n",
       "        vertical-align: middle;\n",
       "    }\n",
       "\n",
       "    .dataframe tbody tr th {\n",
       "        vertical-align: top;\n",
       "    }\n",
       "\n",
       "    .dataframe thead th {\n",
       "        text-align: right;\n",
       "    }\n",
       "</style>\n",
       "<table border=\"1\" class=\"dataframe\">\n",
       "  <thead>\n",
       "    <tr style=\"text-align: right;\">\n",
       "      <th></th>\n",
       "      <th>date</th>\n",
       "      <th>comment</th>\n",
       "      <th>symbol</th>\n",
       "    </tr>\n",
       "  </thead>\n",
       "  <tbody>\n",
       "    <tr>\n",
       "      <th>0</th>\n",
       "      <td>30 Sep 22, 09:22</td>\n",
       "      <td>$ICBP</td>\n",
       "      <td>ICBP</td>\n",
       "    </tr>\n",
       "    <tr>\n",
       "      <th>1</th>\n",
       "      <td>30 Sep 22, 09:23</td>\n",
       "      <td>$ICBP2</td>\n",
       "      <td>ICBP</td>\n",
       "    </tr>\n",
       "    <tr>\n",
       "      <th>0</th>\n",
       "      <td>30 Sep 22, 09:22</td>\n",
       "      <td>$ICBP</td>\n",
       "      <td>ICBP</td>\n",
       "    </tr>\n",
       "  </tbody>\n",
       "</table>\n",
       "</div>"
      ],
      "text/plain": [
       "               date comment symbol\n",
       "0  30 Sep 22, 09:22   $ICBP   ICBP\n",
       "1  30 Sep 22, 09:23  $ICBP2   ICBP\n",
       "0  30 Sep 22, 09:22   $ICBP   ICBP"
      ]
     },
     "execution_count": 57,
     "metadata": {},
     "output_type": "execute_result"
    }
   ],
   "source": [
    "import pandas as pd\n",
    "\n",
    "df = pd.DataFrame()\n",
    "df['date'] = ['30 Sep 22, 09:22', '30 Sep 22, 09:23']\n",
    "df['comment'] = ['$ICBP', '$ICBP2']\n",
    "df['symbol'] = 'ICBP'\n",
    "\n",
    "df_c = pd.DataFrame()\n",
    "\n",
    "df_c['date'] = ['30 Sep 22, 09:22']\n",
    "df_c['comment'] = ['$ICBP']\n",
    "df_c['symbol'] = 'ICBP'\n",
    "\n",
    "pd.concat([df, df_c])"
   ]
  },
  {
   "cell_type": "code",
   "execution_count": 46,
   "metadata": {},
   "outputs": [
    {
     "name": "stdout",
     "output_type": "stream",
     "text": [
      "0 1 3\n",
      "1 2 4\n"
     ]
    }
   ],
   "source": [
    "for index, (a, b) in enumerate(zip([1,2], [3,4])):\n",
    "    print(index, a, b)"
   ]
  },
  {
   "attachments": {},
   "cell_type": "markdown",
   "metadata": {},
   "source": [
    "# Scraping"
   ]
  },
  {
   "cell_type": "code",
   "execution_count": 76,
   "metadata": {},
   "outputs": [
    {
     "name": "stdout",
     "output_type": "stream",
     "text": [
      "symbol ICBPdate_elements 461 dates 460comment_elements 461 comments 460\n",
      "symbol CPINdate_elements 201 dates 200comment_elements 202 comments 200\n",
      "symbol INDFdate_elements 381 dates 380comment_elements 381 comments 380\n",
      "symbol MYORdate_elements 360 dates 359comment_elements 381 comments 359\n",
      "symbol CMRYdate_elements 120 dates 119comment_elements 120 comments 119\n",
      "symbol GOODdate_elements 81 dates 80comment_elements 81 comments 80\n",
      "symbol MLBIdate_elements 101 dates 100comment_elements 102 comments 100\n"
     ]
    }
   ],
   "source": [
    "symbols = [\"ICBP\", \"CPIN\", \"INDF\", \"MYOR\", \"CMRY\", \"GOOD\", \"MLBI\"]\n",
    "\n",
    "from time import sleep\n",
    "\n",
    "df = pd.DataFrame()\n",
    "\n",
    "for symbol in symbols:\n",
    "    driver.get(f\"https://stockbit.com/symbol/{symbol}\")\n",
    "    \n",
    "    # Handdle: IndexError: list index out of range\n",
    "    sleep(1)\n",
    "    date_elements = driver.find_elements(by=By.XPATH, value=\"//div[@class='stream-date']\")\n",
    "    \n",
    "    while True:\n",
    "        # date_elements[-2] Handle: StaleElementReferenceException or ''\n",
    "        # .text[:16] Handle: ParserError: Unknown string format: 14 Dec 22, 19:42 · Edited on 14 Dec 22, 21:29\n",
    "        if parser.parse(date_elements[-2].text[:16]) >= parser.parse(\"1 Oct 22\"):\n",
    "            driver.execute_script(\"window.scrollBy(0,document.body.scrollHeight)\", \"\")\n",
    "            date_elements = driver.find_elements(by=By.XPATH, value=\"//div[@class='stream-date']\")\n",
    "        else:\n",
    "            break\n",
    "        \n",
    "    comment_elements = driver.find_elements(by=By.CLASS_NAME, value=\"stream-text\")\n",
    "    \n",
    "    dates = list()\n",
    "    comments = list()\n",
    "    \n",
    "    for index, (date_element, comment_element) in enumerate(zip(date_elements, comment_elements)):\n",
    "        # print(date_element.text, comment_element.text, \"\\n\")\n",
    "        \n",
    "        # Handle: StaleElementReferenceException or ''\n",
    "        if index == len(date_elements) - 1:\n",
    "            break\n",
    "        \n",
    "        dates.append(date_element.text)\n",
    "        comments.append(comment_element.text)\n",
    "        \n",
    "    print(f'symbol {symbol} '\n",
    "          f'date_elements {len(date_elements)} dates {len(dates)} '\n",
    "          f'comment_elements {len(comment_elements)} comments {len(comments)} ')\n",
    "    \n",
    "    df_c = pd.DataFrame()\n",
    "    df_c['date'] = dates\n",
    "    df_c['comment'] = comments\n",
    "    df_c['symbol'] = symbol\n",
    "    \n",
    "    df = pd.concat([df, df_c])\n",
    "    \n",
    "    sleep(randint(5,10))"
   ]
  },
  {
   "cell_type": "code",
   "execution_count": 79,
   "metadata": {},
   "outputs": [
    {
     "data": {
      "text/html": [
       "<div>\n",
       "<style scoped>\n",
       "    .dataframe tbody tr th:only-of-type {\n",
       "        vertical-align: middle;\n",
       "    }\n",
       "\n",
       "    .dataframe tbody tr th {\n",
       "        vertical-align: top;\n",
       "    }\n",
       "\n",
       "    .dataframe thead th {\n",
       "        text-align: right;\n",
       "    }\n",
       "</style>\n",
       "<table border=\"1\" class=\"dataframe\">\n",
       "  <thead>\n",
       "    <tr style=\"text-align: right;\">\n",
       "      <th></th>\n",
       "      <th>date</th>\n",
       "      <th>comment</th>\n",
       "      <th>symbol</th>\n",
       "    </tr>\n",
       "  </thead>\n",
       "  <tbody>\n",
       "    <tr>\n",
       "      <th>0</th>\n",
       "      <td>15 Dec 22, 16:48</td>\n",
       "      <td>POLL\\nSusu paling enak apa gan? Vox Populi Vox...</td>\n",
       "      <td>ICBP</td>\n",
       "    </tr>\n",
       "    <tr>\n",
       "      <th>1</th>\n",
       "      <td>15 Dec 22, 15:00</td>\n",
       "      <td>$ICBP</td>\n",
       "      <td>ICBP</td>\n",
       "    </tr>\n",
       "    <tr>\n",
       "      <th>2</th>\n",
       "      <td>15 Dec 22, 10:25</td>\n",
       "      <td>$GOTO main di 90 an aja ya kamu g usah kemana2...</td>\n",
       "      <td>ICBP</td>\n",
       "    </tr>\n",
       "    <tr>\n",
       "      <th>3</th>\n",
       "      <td>14 Dec 22, 19:45</td>\n",
       "      <td>Info Singkat saham untuk 15 Desember 2022 (buk...</td>\n",
       "      <td>ICBP</td>\n",
       "    </tr>\n",
       "    <tr>\n",
       "      <th>4</th>\n",
       "      <td>14 Dec 22, 19:41</td>\n",
       "      <td>@godbless @handusene sejak periode lockup open...</td>\n",
       "      <td>ICBP</td>\n",
       "    </tr>\n",
       "    <tr>\n",
       "      <th>...</th>\n",
       "      <td>...</td>\n",
       "      <td>...</td>\n",
       "      <td>...</td>\n",
       "    </tr>\n",
       "    <tr>\n",
       "      <th>95</th>\n",
       "      <td>4 Oct 22, 11:20</td>\n",
       "      <td>$MLBI juga pernah membagikan lbh Dari &gt;100 per...</td>\n",
       "      <td>MLBI</td>\n",
       "    </tr>\n",
       "    <tr>\n",
       "      <th>96</th>\n",
       "      <td>3 Oct 22, 16:44</td>\n",
       "      <td>$INDR $SMDR $MLBI adalah saham masa depan saya</td>\n",
       "      <td>MLBI</td>\n",
       "    </tr>\n",
       "    <tr>\n",
       "      <th>97</th>\n",
       "      <td>3 Oct 22, 12:47</td>\n",
       "      <td>NARASI DAN IMAJINASI\\n\\nSelalu ada narasi besa...</td>\n",
       "      <td>MLBI</td>\n",
       "    </tr>\n",
       "    <tr>\n",
       "      <th>98</th>\n",
       "      <td>30 Sep 22, 14:44</td>\n",
       "      <td>@idProperti jadi saham apa yang bakal keciprat...</td>\n",
       "      <td>MLBI</td>\n",
       "    </tr>\n",
       "    <tr>\n",
       "      <th>99</th>\n",
       "      <td>30 Sep 22, 09:22</td>\n",
       "      <td>@galihper0517 investor kakap itu belinya saham...</td>\n",
       "      <td>MLBI</td>\n",
       "    </tr>\n",
       "  </tbody>\n",
       "</table>\n",
       "<p>1698 rows × 3 columns</p>\n",
       "</div>"
      ],
      "text/plain": [
       "                date                                            comment symbol\n",
       "0   15 Dec 22, 16:48  POLL\\nSusu paling enak apa gan? Vox Populi Vox...   ICBP\n",
       "1   15 Dec 22, 15:00                                              $ICBP   ICBP\n",
       "2   15 Dec 22, 10:25  $GOTO main di 90 an aja ya kamu g usah kemana2...   ICBP\n",
       "3   14 Dec 22, 19:45  Info Singkat saham untuk 15 Desember 2022 (buk...   ICBP\n",
       "4   14 Dec 22, 19:41  @godbless @handusene sejak periode lockup open...   ICBP\n",
       "..               ...                                                ...    ...\n",
       "95   4 Oct 22, 11:20  $MLBI juga pernah membagikan lbh Dari >100 per...   MLBI\n",
       "96   3 Oct 22, 16:44     $INDR $SMDR $MLBI adalah saham masa depan saya   MLBI\n",
       "97   3 Oct 22, 12:47  NARASI DAN IMAJINASI\\n\\nSelalu ada narasi besa...   MLBI\n",
       "98  30 Sep 22, 14:44  @idProperti jadi saham apa yang bakal keciprat...   MLBI\n",
       "99  30 Sep 22, 09:22  @galihper0517 investor kakap itu belinya saham...   MLBI\n",
       "\n",
       "[1698 rows x 3 columns]"
      ]
     },
     "execution_count": 79,
     "metadata": {},
     "output_type": "execute_result"
    }
   ],
   "source": [
    "df"
   ]
  },
  {
   "cell_type": "code",
   "execution_count": 78,
   "metadata": {},
   "outputs": [],
   "source": [
    "df.to_csv(\"ICBP_MLBI.csv\")"
   ]
  }
 ],
 "metadata": {
  "kernelspec": {
   "display_name": "Python 3",
   "language": "python",
   "name": "python3"
  },
  "language_info": {
   "codemirror_mode": {
    "name": "ipython",
    "version": 3
   },
   "file_extension": ".py",
   "mimetype": "text/x-python",
   "name": "python",
   "nbconvert_exporter": "python",
   "pygments_lexer": "ipython3",
   "version": "3.10.8"
  },
  "orig_nbformat": 4,
  "vscode": {
   "interpreter": {
    "hash": "aee8b7b246df8f9039afb4144a1f6fd8d2ca17a180786b69acc140d282b71a49"
   }
  }
 },
 "nbformat": 4,
 "nbformat_minor": 2
}
