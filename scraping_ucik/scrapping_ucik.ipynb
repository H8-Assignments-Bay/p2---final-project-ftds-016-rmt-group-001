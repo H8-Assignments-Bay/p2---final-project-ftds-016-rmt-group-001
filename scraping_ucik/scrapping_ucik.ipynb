{
 "cells": [
  {
   "cell_type": "code",
   "execution_count": 4,
   "metadata": {},
   "outputs": [],
   "source": [
    "import pandas as pd\n",
    "from random import randint"
   ]
  },
  {
   "cell_type": "code",
   "execution_count": 12,
   "metadata": {},
   "outputs": [
    {
     "name": "stderr",
     "output_type": "stream",
     "text": [
      "/var/folders/37/zw9ym1bn7f31rcp5g2cvjr8m0000gn/T/ipykernel_3109/3871533204.py:3: DeprecationWarning: executable_path has been deprecated, please pass in a Service object\n",
      "  driver = webdriver.Chrome(ChromeDriverManager().install())\n"
     ]
    }
   ],
   "source": [
    "from selenium import webdriver\n",
    "from webdriver_manager.chrome import ChromeDriverManager\n",
    "driver = webdriver.Chrome(ChromeDriverManager().install())"
   ]
  },
  {
   "cell_type": "code",
   "execution_count": 13,
   "metadata": {},
   "outputs": [
    {
     "name": "stdout",
     "output_type": "stream",
     "text": [
      "symbol STAA date_elements 641 dates 640 comment_elements 641 comments 640 \n",
      "symbol STTP date_elements 41 dates 40 comment_elements 41 comments 40 \n",
      "symbol ROTI date_elements 80 dates 79 comment_elements 80 comments 79 \n",
      "symbol LSIP date_elements 361 dates 360 comment_elements 361 comments 360 \n",
      "symbol TLDN date_elements 41 dates 40 comment_elements 41 comments 40 \n",
      "symbol SIMP date_elements 141 dates 140 comment_elements 141 comments 140 \n",
      "symbol PALM date_elements 121 dates 120 comment_elements 121 comments 120 \n"
     ]
    }
   ],
   "source": [
    "from selenium.webdriver.common.by import By\n",
    "from dateutil import parser\n",
    "\n",
    "symbols = ['STAA', 'STTP', 'ROTI', 'LSIP', 'TLDN', 'SIMP', 'PALM']\n",
    "\n",
    "from time import sleep\n",
    "\n",
    "df = pd.DataFrame()\n",
    "\n",
    "for symbol in symbols:\n",
    "    driver.get(f\"https://stockbit.com/symbol/{symbol}\")\n",
    "    \n",
    "    # Handdle: IndexError: list index out of range\n",
    "    while True:\n",
    "        date_elements = driver.find_elements(by=By.XPATH, value=\"//div[@class='stream-date']\")\n",
    "        \n",
    "        # Handle: IndexError: list index out of range\n",
    "        if len(date_elements) != 0:\n",
    "            break\n",
    "\n",
    "    while True:\n",
    "        # date_elements[-2] Handle: StaleElementReferenceException or ''\n",
    "        # .text[:16] Handle: ParserError: Unknown string format: 14 Dec 22, 19:42 · Edited on 14 Dec 22, 21:29\n",
    "        if parser.parse(date_elements[-2].text[:16]) >= parser.parse(\"1 Oct 22\"):\n",
    "            driver.execute_script(\"window.scrollBy(0,document.body.scrollHeight)\", \"\")\n",
    "            date_elements = driver.find_elements(by=By.XPATH, value=\"//div[@class='stream-date']\")\n",
    "        else:\n",
    "            break\n",
    "    \n",
    "    # value='stream-text-single' Handle: prevent Repost to be included in the comment_elements    \n",
    "    comment_elements = driver.find_elements(by=By.CLASS_NAME, value=\"stream-text-single\")\n",
    "    \n",
    "    dates = list()\n",
    "    comments = list()\n",
    "    \n",
    "    for index, (date_element, comment_element) in enumerate(zip(date_elements, comment_elements)):\n",
    "        # print(date_element.text, comment_element.text, \"\\n\")\n",
    "        \n",
    "        # Handle: StaleElementReferenceException or ''\n",
    "        if index == len(date_elements) - 1:\n",
    "            break\n",
    "        \n",
    "        dates.append(date_element.text)\n",
    "        comments.append(comment_element.text)\n",
    "        \n",
    "    print(f'symbol {symbol} '\n",
    "          f'date_elements {len(date_elements)} dates {len(dates)} '\n",
    "          f'comment_elements {len(comment_elements)} comments {len(comments)} ')\n",
    "    \n",
    "    df_c = pd.DataFrame()\n",
    "    df_c['date'] = dates\n",
    "    df_c['comment'] = comments\n",
    "    df_c['symbol'] = symbol\n",
    "    \n",
    "    df = pd.concat([df, df_c])\n",
    "    \n",
    "    sleep(randint(5,10))"
   ]
  },
  {
   "cell_type": "code",
   "execution_count": 15,
   "metadata": {},
   "outputs": [
    {
     "data": {
      "text/html": [
       "<div>\n",
       "<style scoped>\n",
       "    .dataframe tbody tr th:only-of-type {\n",
       "        vertical-align: middle;\n",
       "    }\n",
       "\n",
       "    .dataframe tbody tr th {\n",
       "        vertical-align: top;\n",
       "    }\n",
       "\n",
       "    .dataframe thead th {\n",
       "        text-align: right;\n",
       "    }\n",
       "</style>\n",
       "<table border=\"1\" class=\"dataframe\">\n",
       "  <thead>\n",
       "    <tr style=\"text-align: right;\">\n",
       "      <th></th>\n",
       "      <th>date</th>\n",
       "      <th>comment</th>\n",
       "      <th>symbol</th>\n",
       "    </tr>\n",
       "  </thead>\n",
       "  <tbody>\n",
       "    <tr>\n",
       "      <th>0</th>\n",
       "      <td>16 Dec 22, 13:19</td>\n",
       "      <td>$STAA selama masih ada potensi positif di haka...</td>\n",
       "      <td>STAA</td>\n",
       "    </tr>\n",
       "    <tr>\n",
       "      <th>1</th>\n",
       "      <td>16 Dec 22, 11:21</td>\n",
       "      <td>$LSIP $BWPT $SSMS $STAA B35 apa kabar $BOSS ?g...</td>\n",
       "      <td>STAA</td>\n",
       "    </tr>\n",
       "    <tr>\n",
       "      <th>2</th>\n",
       "      <td>16 Dec 22, 08:38</td>\n",
       "      <td>Harga kontrak Crude Palm Oil (CPO) di Bursa Ma...</td>\n",
       "      <td>STAA</td>\n",
       "    </tr>\n",
       "    <tr>\n",
       "      <th>3</th>\n",
       "      <td>15 Dec 22, 08:17</td>\n",
       "      <td>$STAA membuka peluang membentuk tren naik sete...</td>\n",
       "      <td>STAA</td>\n",
       "    </tr>\n",
       "    <tr>\n",
       "      <th>4</th>\n",
       "      <td>14 Dec 22, 22:53</td>\n",
       "      <td>JAKARTA, https://cutt.ly/H0xp1zp - Harga kontr...</td>\n",
       "      <td>STAA</td>\n",
       "    </tr>\n",
       "    <tr>\n",
       "      <th>...</th>\n",
       "      <td>...</td>\n",
       "      <td>...</td>\n",
       "      <td>...</td>\n",
       "    </tr>\n",
       "    <tr>\n",
       "      <th>115</th>\n",
       "      <td>28 Sep 22, 06:33 · Edited on 28 Sep 22, 07:52</td>\n",
       "      <td>🎖 Pantauan Saham🎖\\n28-09-22\\n\\n✅ $DOID\\n✅ $OPM...</td>\n",
       "      <td>PALM</td>\n",
       "    </tr>\n",
       "    <tr>\n",
       "      <th>116</th>\n",
       "      <td>27 Sep 22, 12:07 · Edited on 3 Oct 22, 17:36</td>\n",
       "      <td>$GZCO aja😁😁😁\\n$ELSA\\n$MEDC\\n$AKRA\\n$PALM</td>\n",
       "      <td>PALM</td>\n",
       "    </tr>\n",
       "    <tr>\n",
       "      <th>117</th>\n",
       "      <td>27 Sep 22, 11:00 · Edited on 27 Sep 22, 11:53</td>\n",
       "      <td>$GZCO\\n$ELSA\\n$MEDC\\n$PALM\\n$AKRA\\n\\n\\nKemarin...</td>\n",
       "      <td>PALM</td>\n",
       "    </tr>\n",
       "    <tr>\n",
       "      <th>118</th>\n",
       "      <td>26 Sep 22, 07:45</td>\n",
       "      <td>$PALM</td>\n",
       "      <td>PALM</td>\n",
       "    </tr>\n",
       "    <tr>\n",
       "      <th>119</th>\n",
       "      <td>23 Sep 22, 19:03</td>\n",
       "      <td>@charlescharles $PALM $MPMX saratoga grup maya...</td>\n",
       "      <td>PALM</td>\n",
       "    </tr>\n",
       "  </tbody>\n",
       "</table>\n",
       "<p>1419 rows × 3 columns</p>\n",
       "</div>"
      ],
      "text/plain": [
       "                                              date  \\\n",
       "0                                 16 Dec 22, 13:19   \n",
       "1                                 16 Dec 22, 11:21   \n",
       "2                                 16 Dec 22, 08:38   \n",
       "3                                 15 Dec 22, 08:17   \n",
       "4                                 14 Dec 22, 22:53   \n",
       "..                                             ...   \n",
       "115  28 Sep 22, 06:33 · Edited on 28 Sep 22, 07:52   \n",
       "116   27 Sep 22, 12:07 · Edited on 3 Oct 22, 17:36   \n",
       "117  27 Sep 22, 11:00 · Edited on 27 Sep 22, 11:53   \n",
       "118                               26 Sep 22, 07:45   \n",
       "119                               23 Sep 22, 19:03   \n",
       "\n",
       "                                               comment symbol  \n",
       "0    $STAA selama masih ada potensi positif di haka...   STAA  \n",
       "1    $LSIP $BWPT $SSMS $STAA B35 apa kabar $BOSS ?g...   STAA  \n",
       "2    Harga kontrak Crude Palm Oil (CPO) di Bursa Ma...   STAA  \n",
       "3    $STAA membuka peluang membentuk tren naik sete...   STAA  \n",
       "4    JAKARTA, https://cutt.ly/H0xp1zp - Harga kontr...   STAA  \n",
       "..                                                 ...    ...  \n",
       "115  🎖 Pantauan Saham🎖\\n28-09-22\\n\\n✅ $DOID\\n✅ $OPM...   PALM  \n",
       "116           $GZCO aja😁😁😁\\n$ELSA\\n$MEDC\\n$AKRA\\n$PALM   PALM  \n",
       "117  $GZCO\\n$ELSA\\n$MEDC\\n$PALM\\n$AKRA\\n\\n\\nKemarin...   PALM  \n",
       "118                                              $PALM   PALM  \n",
       "119  @charlescharles $PALM $MPMX saratoga grup maya...   PALM  \n",
       "\n",
       "[1419 rows x 3 columns]"
      ]
     },
     "execution_count": 15,
     "metadata": {},
     "output_type": "execute_result"
    }
   ],
   "source": [
    "df"
   ]
  },
  {
   "cell_type": "code",
   "execution_count": 14,
   "metadata": {},
   "outputs": [],
   "source": [
    "df.to_csv(\"STAA_PALM.csv\", index=False)"
   ]
  }
 ],
 "metadata": {
  "kernelspec": {
   "display_name": "Python 3.9.6 64-bit",
   "language": "python",
   "name": "python3"
  },
  "language_info": {
   "codemirror_mode": {
    "name": "ipython",
    "version": 3
   },
   "file_extension": ".py",
   "mimetype": "text/x-python",
   "name": "python",
   "nbconvert_exporter": "python",
   "pygments_lexer": "ipython3",
   "version": "3.9.6"
  },
  "orig_nbformat": 4,
  "vscode": {
   "interpreter": {
    "hash": "31f2aee4e71d21fbe5cf8b01ff0e069b9275f58929596ceb00d14d90e3e16cd6"
   }
  }
 },
 "nbformat": 4,
 "nbformat_minor": 2
}
