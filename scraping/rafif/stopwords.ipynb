{
 "cells": [
  {
   "cell_type": "code",
   "execution_count": 1,
   "metadata": {},
   "outputs": [],
   "source": [
    "import pandas as pd\n",
    "import json"
   ]
  },
  {
   "cell_type": "code",
   "execution_count": 2,
   "metadata": {},
   "outputs": [],
   "source": [
    "data = pd.read_csv('labeling_shortir.csv')"
   ]
  },
  {
   "cell_type": "code",
   "execution_count": 3,
   "metadata": {},
   "outputs": [],
   "source": [
    "with open('./stopwords.txt', 'rt') as file_1:\n",
    "    stopword = [item.rstrip() for item in list(file_1)]"
   ]
  },
  {
   "cell_type": "code",
   "execution_count": 4,
   "metadata": {},
   "outputs": [
    {
     "name": "stdout",
     "output_type": "stream",
     "text": [
      "['atau', 'ada', 'adalah', 'adanya', 'agar', 'akan', 'aku', 'anda', 'antara', 'apa', 'apabila', 'apakah', 'apalagi', 'atas', 'adapun', 'agaknya', 'akan', 'akankah', 'akhirnya', 'akulah', 'amat', 'amatlah', 'andalah', 'antar', 'antaranya', 'ataukah', 'ataupun', 'bagaimana', 'bagi', 'bahkan', 'bahwa', 'baik', 'banyak', 'baru', 'beberapa', 'belum', 'berapa', 'berbagai', 'bersama', 'bila', 'bisa', 'bagai', 'bagaikan', 'bagaimanakah', 'bagaimanapun', 'bahwasanya', 'beginikah', 'beginilah', 'begitu', 'begini', 'begitukah', 'begitulah', 'begitupun', 'belumlah', 'berapakah', 'berapalah', 'berapapun', 'bermacam', 'betulkah', 'biasa', 'biasanya', 'bilakah', 'bisakah', 'bolehlah', 'bolehkah', 'buat', 'bukannya', 'bukankah', 'bukanlah', 'contohnya', 'cukup', 'cuma', 'dan', 'dapat', 'dari', 'daripada', 'demikian', 'demikianlah', 'dengan', 'di', 'dia', 'dilakukan', 'dalam', 'dahulu', 'dekat', 'demi', 'depan', 'dialah', 'diantaranya', 'diantara', 'dikarenakan', 'dini', 'diri', 'dirinya', 'dulu', 'entah', 'entahlah', 'hal', 'hanya', 'harus', 'hingga', 'hanyalah', 'haruslah', 'harusnya', 'hendak', 'hendaklah', 'hendaknya', 'ia', 'ini', 'itu', 'ialah', 'itulah', 'ibarat', 'ingin', 'inginkah', 'inginkan', 'inikah', 'inilah', 'itukah', 'jadi', 'juga', 'jika', 'jikalau', 'jangan', 'janganlah', 'jangankan', 'justru', 'kalau', 'kita', 'kali', 'kami', 'kamu', 'kapan', 'karena', 'kata', 'katanya', 'kau', 'ke', 'kembali', 'kemudian', 'kepada', 'ketika', 'kini', 'kala', 'kalaulah', 'kalaupun', 'kalian', 'kamilah', 'kamulah', 'kapankah', 'kapanpun', 'karenanya', 'kecil', 'kenapa', 'kepadanya', 'khususnya', 'kinilah', 'kiranya', 'kitalah', 'kok', 'lagi', 'lama', 'lain', 'lainnya', 'lalu', 'langsung', 'lebih', 'luar', 'lainnya', 'lamanya', 'maka', 'malah', 'mana', 'masih', 'maupun', 'melalui', 'memang', 'mengapa', 'mengatakan', 'mengenai', 'menjadi', 'menurut', 'menyatakan', 'mereka', 'merupakan', 'meski', 'meskipun', 'misalnya', 'mulai', 'macam', 'makanya', 'makin', 'malahan', 'mampu', 'mampukah', 'manakala', 'manalagi', 'masihkah', 'masing', 'mau', 'melainkan', 'merekalah', 'mungkin', 'mungkinlah', 'namun', 'nah', 'nanti', 'nantinya', 'nyaris', 'oleh', 'olehnya', 'pada', 'padahal', 'paling', 'papar', 'paparnya', 'para', 'per', 'perlu', 'pernah', 'pula', 'pun', 'padanya', 'pantas', 'pasti', 'pastilah', 'percuma', 'rupanya', 'saat', 'saja', 'salah', 'saling', 'sama', 'sampai', 'sangat', 'saya', 'seandainya', 'sebab', 'sebagai', 'sebelum', 'sebuah', 'secara', 'sedang', 'sedangkan', 'sehingga', 'sejak', 'sejumlah', 'sekarang', 'sekitar', 'selain', 'selama', 'sementara', 'semua', 'sendiri', 'seorang', 'seperti', 'serta', 'seseorang', 'sesuatu', 'setelah', 'setiap', 'suatu', 'sudah', 'saatnya', 'sajalah', 'sambil', 'sana', 'sangatlah', 'sayalah', 'sebabnya', 'sebagaimana', 'sebagainya', 'sebaliknya', 'sebanyak', 'sebegini', 'sebegitu', 'sebelumnya', 'sebenarnya', 'seberapa', 'sebetulnya', 'sebisanya', 'sedemikian', 'sedikit', 'sedikitnya', 'segala', 'segalanya', 'segera', 'seharusnya', 'sejenak', 'sekali', 'sekalian', 'sekaligus', 'sekalipun', 'seketika', 'sekiranya', 'sekitarnya', 'sela', 'selagi', 'selaku', 'selalu', 'selamanya', 'seluruhnya', 'semacam', 'semakin', 'semasih', 'semaunya', 'sempat', 'semuanya', 'semula', 'sendirinya', 'seolah', 'sepanjang', 'sepantasnya', 'sepantasnyalah', 'sepertinya', 'sering', 'seringnya', 'serupa', 'sesaat', 'sesama', 'sesegera', 'sesekali', 'seseorang', 'sesuatunya', 'sesudah', 'sesudahnya', 'setelah', 'seterusnya', 'setidaknya', 'sewaktu', 'siapa', 'siapakah', 'siapapun', 'sini', 'sinilah', 'sudahkah', 'sudahlah', 'supaya', 'tak', 'tidak', 'tandas', 'tandasnya', 'tanpa', 'tapi', 'telah', 'tempat', 'tentang', 'terhadap', 'terjadi', 'termasuk', 'ternyata', 'tersebut', 'terus', 'tetap', 'tetapi', 'tadi', 'tadinya', 'tentu', 'tentulah', 'tentunya', 'terdiri', 'terhadapnya', 'terlalu', 'terlebih', 'tersebutlah', 'tertentu', 'tiap', 'tidakkah', 'tidaklah', 'ujar', 'ujarnya', 'untuk', 'walaupun', 'yaitu', 'yakni', 'yang', 'ya', 'waduh', 'wah', 'wahai', 'walau', 'wakil', 'waktu', 'waktunya', 'wanita', 'warga', 'warta', 'wib', 'wilayah', 'rt']\n"
     ]
    }
   ],
   "source": [
    "print(stopword)"
   ]
  }
 ],
 "metadata": {
  "kernelspec": {
   "display_name": "base",
   "language": "python",
   "name": "python3"
  },
  "language_info": {
   "codemirror_mode": {
    "name": "ipython",
    "version": 3
   },
   "file_extension": ".py",
   "mimetype": "text/x-python",
   "name": "python",
   "nbconvert_exporter": "python",
   "pygments_lexer": "ipython3",
   "version": "3.9.15 (main, Nov 24 2022, 14:39:17) [MSC v.1916 64 bit (AMD64)]"
  },
  "orig_nbformat": 4,
  "vscode": {
   "interpreter": {
    "hash": "506d36080a2bbc5570e5de853790e118d9731f133330a1c9209f1f627272d5a7"
   }
  }
 },
 "nbformat": 4,
 "nbformat_minor": 2
}
