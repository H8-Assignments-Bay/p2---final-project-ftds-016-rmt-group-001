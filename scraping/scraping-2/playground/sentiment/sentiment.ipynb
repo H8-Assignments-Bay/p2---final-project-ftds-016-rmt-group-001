{
 "cells": [
  {
   "cell_type": "code",
   "execution_count": 8,
   "metadata": {},
   "outputs": [],
   "source": [
    "import joblib\n",
    "import pandas as pd\n",
    "import re\n",
    "from nltk.tokenize import word_tokenize"
   ]
  },
  {
   "cell_type": "code",
   "execution_count": 4,
   "metadata": {},
   "outputs": [],
   "source": [
    "def __load_slangwords_stopwords():\n",
    "    global __slangwords, __stopwords, __vectorizer, __model\n",
    "    \n",
    "    with open('./slangwords_sentiment.txt', 'rt') as file_1:\n",
    "        __slangwords = {}\n",
    "        for line in file_1:\n",
    "            (key, val) = line.rstrip().split(\":\")\n",
    "            __slangwords[key] = val\n",
    "\n",
    "    with open('./stopwords_sentiment.txt') as file_2:\n",
    "        __stopwords = [item.rstrip() for item in list(file_2)]\n",
    "        \n",
    "    with open('./vectorizer_sentiment.pkl', 'rb') as file_3:\n",
    "        __vectorizer = joblib.load(file_3)\n",
    "        \n",
    "    with open('./model_sentiment.pkl', 'rb') as file_4:\n",
    "        __model = joblib.load(file_4)\n",
    "\n",
    "__load_slangwords_stopwords()"
   ]
  },
  {
   "cell_type": "code",
   "execution_count": 9,
   "metadata": {},
   "outputs": [],
   "source": [
    "def __preprocess(comment: str):\n",
    "\n",
    "  # Menghilangkan nama saham\n",
    "  comment = re.sub(\"$[A-Z]{4}| [A-Z]{4} \", \" \", comment)\n",
    "\n",
    "  # Mengubah text ke Lowercase agar semua data seragam\n",
    "  comment = comment.lower()\n",
    "\n",
    "  # Menghilangkan @/Mention karena pada berita palsu ada mention akun twitter\n",
    "  comment = re.sub(\"@[A-Za-z0-9]+\", \" \", comment)\n",
    "\n",
    "  # Menghilangkan #/Hashtag untuk mengantisipasi karena berita palsu mengambil dari twitter\n",
    "  comment = re.sub(\"#[A-Za-z0-9_]+\", \" \", comment)\n",
    "\n",
    "  # Menghilangkan \\n untuk antisipasi\n",
    "  comment = re.sub(r\"\\n\", \" \", comment)\n",
    "\n",
    "  # Menghilangkan Whitespace untuk antisipasi\n",
    "  comment = comment.strip()\n",
    "\n",
    "  # Menghilangkan Link dikarenakan berita palsu terdapat link ke artikel lain\n",
    "  comment = re.sub(r\"http\\S+\", \" \", comment)\n",
    "  comment = re.sub(r\"www.\\S+\", \" \", comment)\n",
    "\n",
    "  # Menghilangkan yang Bukan Huruf seperti Emoji, Simbol Matematika (seperti μ), dst untuk antisipasi\n",
    "  comment = re.sub(\"[^A-Za-z\\s']\", \" \", comment)\n",
    "\n",
    "  # Melakukan Tokenisasi\n",
    "  tokens = word_tokenize(comment)\n",
    "\n",
    "  # Menghilangkan Stopwords\n",
    "  comment = ' '.join([word for word in tokens if word not in __stopwords])\n",
    "\n",
    "  # Melakukan lemmatizing\n",
    "  comment = \" \".join(__slangwords.get(word, word) for word in comment.split())\n",
    "\n",
    "  return comment\n",
    "\n",
    "def __transform(comments_preprocessed: pd.Series):\n",
    "    return __vectorizer.transform(comments_preprocessed)\n",
    "\n",
    "def predict_sentiment(comments: pd.DataFrame):\n",
    "    comments_preprocessed = comments['comment'].apply(lambda comment: __preprocess(comment))\n",
    "    comments_vectorized = __transform(comments_preprocessed)\n",
    "    \n",
    "    y_pred = __model.predict(comments_vectorized)\n",
    "    \n",
    "    return [int(item) for item in y_pred]"
   ]
  },
  {
   "cell_type": "code",
   "execution_count": 10,
   "metadata": {},
   "outputs": [
    {
     "data": {
      "text/plain": [
       "[1]"
      ]
     },
     "execution_count": 10,
     "metadata": {},
     "output_type": "execute_result"
    }
   ],
   "source": [
    "# Expected: negative, Actual: negative\n",
    "predict_sentiment(pd.DataFrame({'comment': [\"otw 50 butuh proses, sabar $WMUU $WMPP\"]}))"
   ]
  }
 ],
 "metadata": {
  "kernelspec": {
   "display_name": "Python 3",
   "language": "python",
   "name": "python3"
  },
  "language_info": {
   "codemirror_mode": {
    "name": "ipython",
    "version": 3
   },
   "file_extension": ".py",
   "mimetype": "text/x-python",
   "name": "python",
   "nbconvert_exporter": "python",
   "pygments_lexer": "ipython3",
   "version": "3.10.8 (v3.10.8:aaaf517424, Oct 11 2022, 10:14:40) [Clang 13.0.0 (clang-1300.0.29.30)]"
  },
  "orig_nbformat": 4,
  "vscode": {
   "interpreter": {
    "hash": "aee8b7b246df8f9039afb4144a1f6fd8d2ca17a180786b69acc140d282b71a49"
   }
  }
 },
 "nbformat": 4,
 "nbformat_minor": 2
}
