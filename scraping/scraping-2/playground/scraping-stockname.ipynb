{
 "cells": [
  {
   "cell_type": "code",
   "execution_count": 1,
   "metadata": {},
   "outputs": [],
   "source": [
    "from selenium import webdriver\n",
    "from selenium.webdriver.chrome.service import Service as ChromeService\n",
    "from webdriver_manager.chrome import ChromeDriverManager\n",
    "from selenium.webdriver.common.by import By\n",
    "from configparser import ConfigParser"
   ]
  },
  {
   "cell_type": "code",
   "execution_count": 111,
   "metadata": {},
   "outputs": [],
   "source": [
    "driver = webdriver.Chrome(\n",
    "    service=ChromeService(ChromeDriverManager().install()),\n",
    ")"
   ]
  },
  {
   "cell_type": "code",
   "execution_count": 112,
   "metadata": {},
   "outputs": [],
   "source": [
    "secret = ConfigParser()\n",
    "secret.read('./secret.ini')\n",
    "\n",
    "email = secret['DEFAULT']['email']\n",
    "password = secret['DEFAULT']['password']\n",
    "\n",
    "driver.get('https://stockbit.com/login')\n",
    "driver.find_element(by=By.XPATH, value=\"//input[@id='username']\").send_keys(email)\n",
    "driver.find_element(by=By.XPATH, value=\"//input[@id='password']\").send_keys(password)\n",
    "driver.find_element(by=By.XPATH, value=\"//button[@id='email-login-button']\").click()"
   ]
  },
  {
   "cell_type": "code",
   "execution_count": 70,
   "metadata": {},
   "outputs": [
    {
     "name": "stdout",
     "output_type": "stream",
     "text": [
      "Indofood CBP Sukses Makmur Tbk.\n"
     ]
    },
    {
     "data": {
      "text/plain": [
       "'ICBP'"
      ]
     },
     "execution_count": 70,
     "metadata": {},
     "output_type": "execute_result"
    }
   ],
   "source": [
    "from selenium.webdriver.common.keys import Keys\n",
    "search = driver.find_element(by=By.XPATH, value=\"//input[@placeholder='Search for brand, symbol or username..']\")\n",
    "search.send_keys(\"ICBP\")\n",
    "print(driver.find_element(by=By.XPATH, value=\"//div[@class='option stock']\").text.split('\\n')[1])\n",
    "for _ in range(4):\n",
    "    search.send_keys(Keys.BACKSPACE)\n",
    "\n",
    "search.get_attribute('value')"
   ]
  },
  {
   "cell_type": "code",
   "execution_count": 121,
   "metadata": {},
   "outputs": [
    {
     "name": "stdout",
     "output_type": "stream",
     "text": [
      "Indofood CBP Sukses Makmur Tbk.\n",
      "Charoen Pokphand Indonesia Tbk\n",
      "Indofood Sukses Makmur Tbk.\n",
      "Mayora Indah Tbk\n",
      "Cisarua Mountain Dairy Tbk.\n",
      "Garudafood Putra Putri Jaya Tbk.\n",
      "Multi Bintang Indonesia Tbk.\n",
      "Pratama Abadi Nusa Industri Tbk.\n",
      "Japfa Comfeed Indonesia Tbk.\n",
      "Astra Agro Lestari Tbk.\n",
      "Ultra Jaya Milk Industry & Trading Company Tbk.\n",
      "PT FAP Agri Tbk\n",
      "Sinar Mas Agro Resources and Technology Tbk\n",
      "Sawit Sumbermas Sarana Tbk.\n",
      "Sumber Tani Agung Resources Tbk.\n",
      "Siantar Top Tbk.\n",
      "Nippon Indosari Corpindo Tbk.\n",
      "PP London Sumatra Indonesia Tbk.\n",
      "Teladan Prima Agro Tbk.\n",
      "Salim Ivomas Pratama Tbk.\n",
      "Provident Agro Tbk.\n",
      "Sariguna Primatirta Tbk\n",
      "Dharma Satya Nusantara Tbk.\n",
      "Akasha Wira International Tbk.\n",
      "Widodo Makmur Perkasa Tbk.\n",
      "Tunas Baru Lampung Tbk.\n",
      "Central Proteina Prima Tbk\n",
      "Sampoerna Agro Tbk.\n",
      "BISI International Tbk.\n",
      "FKS Multi Agro Tbk.\n",
      "Palma Serasih Tbk.\n",
      "Jhonlin Agro Raya Tbk.\n",
      "Delta Djakarta Tbk\n",
      "Mahkota Group Tbk.\n",
      "Austindo Nusantara Jaya Tbk.\n",
      "Eagle High Plantations Tbk.\n",
      "Mulia Boga Raya Tbk.\n",
      "Cerestar Indonesia Tbk.\n",
      "Campina Ice Cream Industry Tbk.\n",
      "Widodo Makmur Unggas Tbk\n",
      "Malindo Feedmill Tbk.\n",
      "Wilmar Cahaya Indonesia Tbk.\n",
      "Cisadane Sawit Raya Tbk\n",
      "FKS Food Sejahtera Tbk.\n",
      "Buyung Poetra Sembada Tbk\n"
     ]
    },
    {
     "data": {
      "text/plain": [
       "{'ICBP': 'Indofood CBP Sukses Makmur Tbk.',\n",
       " 'CPIN': 'Charoen Pokphand Indonesia Tbk',\n",
       " 'INDF': 'Indofood Sukses Makmur Tbk.',\n",
       " 'MYOR': 'Mayora Indah Tbk',\n",
       " 'CMRY': 'Cisarua Mountain Dairy Tbk.',\n",
       " 'GOOD': 'Garudafood Putra Putri Jaya Tbk.',\n",
       " 'MLBI': 'Multi Bintang Indonesia Tbk.',\n",
       " 'PANI': 'Pratama Abadi Nusa Industri Tbk.',\n",
       " 'JPFA': 'Japfa Comfeed Indonesia Tbk.',\n",
       " 'AALI': 'Astra Agro Lestari Tbk.',\n",
       " 'ULTJ': 'Ultra Jaya Milk Industry & Trading Company Tbk.',\n",
       " 'FAPA': 'PT FAP Agri Tbk',\n",
       " 'SMAR': 'Sinar Mas Agro Resources and Technology Tbk',\n",
       " 'SSMS': 'Sawit Sumbermas Sarana Tbk.',\n",
       " 'STAA': 'Sumber Tani Agung Resources Tbk.',\n",
       " 'STTP': 'Siantar Top Tbk.',\n",
       " 'ROTI': 'Nippon Indosari Corpindo Tbk.',\n",
       " 'LSIP': 'PP London Sumatra Indonesia Tbk.',\n",
       " 'TLDN': 'Teladan Prima Agro Tbk.',\n",
       " 'SIMP': 'Salim Ivomas Pratama Tbk.',\n",
       " 'PALM': 'Provident Agro Tbk.',\n",
       " 'CLEO': 'Sariguna Primatirta Tbk',\n",
       " 'DSNG': 'Dharma Satya Nusantara Tbk.',\n",
       " 'ADES': 'Akasha Wira International Tbk.',\n",
       " 'WMPP': 'Widodo Makmur Perkasa Tbk.',\n",
       " 'TBLA': 'Tunas Baru Lampung Tbk.',\n",
       " 'CPRO': 'Central Proteina Prima Tbk',\n",
       " 'SGRO': 'Sampoerna Agro Tbk.',\n",
       " 'BISI': 'BISI International Tbk.',\n",
       " 'FISH': 'FKS Multi Agro Tbk.',\n",
       " 'PSGO': 'Palma Serasih Tbk.',\n",
       " 'JARR': 'Jhonlin Agro Raya Tbk.',\n",
       " 'DLTA': 'Delta Djakarta Tbk',\n",
       " 'MGRO': 'Mahkota Group Tbk.',\n",
       " 'ANJT': 'Austindo Nusantara Jaya Tbk.',\n",
       " 'BWPT': 'Eagle High Plantations Tbk.',\n",
       " 'KEJU': 'Mulia Boga Raya Tbk.',\n",
       " 'TRGU': 'Cerestar Indonesia Tbk.',\n",
       " 'CAMP': 'Campina Ice Cream Industry Tbk.',\n",
       " 'WMUU': 'Widodo Makmur Unggas Tbk',\n",
       " 'MAIN': 'Malindo Feedmill Tbk.',\n",
       " 'CEKA': 'Wilmar Cahaya Indonesia Tbk.',\n",
       " 'CSRA': 'Cisadane Sawit Raya Tbk',\n",
       " 'AISA': 'FKS Food Sejahtera Tbk.',\n",
       " 'HOKI': 'Buyung Poetra Sembada Tbk'}"
      ]
     },
     "execution_count": 121,
     "metadata": {},
     "output_type": "execute_result"
    }
   ],
   "source": [
    "from time import sleep\n",
    "symbols = [\n",
    "    'ICBP', 'CPIN', 'INDF', 'MYOR', 'CMRY', 'GOOD', 'MLBI',\n",
    "    'PANI', 'JPFA', 'AALI', 'ULTJ', 'FAPA', 'SMAR', 'SSMS',\n",
    "    'STAA', 'STTP', 'ROTI', 'LSIP', 'TLDN', 'SIMP', 'PALM',\n",
    "    'CLEO', 'DSNG', 'ADES', 'WMPP', 'TBLA', 'CPRO', 'SGRO', 'BISI',\n",
    "    'FISH', 'PSGO', 'JARR', 'DLTA', 'MGRO', 'ANJT', 'BWPT', 'KEJU', \n",
    "    'TRGU', 'CAMP', 'WMUU', 'MAIN', 'CEKA', 'CSRA', 'AISA', 'HOKI'   \n",
    "]\n",
    "\n",
    "search = driver.find_element(by=By.XPATH, value=\"//input[@placeholder='Search for brand, symbol or username..']\")\n",
    "\n",
    "dict = {}\n",
    "\n",
    "for symbol in symbols:\n",
    "    search.send_keys(symbol)\n",
    "    sleep(3)\n",
    "    dict[symbol] = driver.find_element(by=By.XPATH, value=\"//div[@class='option stock']\").text.split('\\n')[1]\n",
    "    print(dict[symbol])\n",
    "    for _ in range(10):\n",
    "        search.send_keys(Keys.BACKSPACE)\n",
    "\n",
    "dict"
   ]
  },
  {
   "cell_type": "code",
   "execution_count": 134,
   "metadata": {},
   "outputs": [
    {
     "data": {
      "text/plain": [
       "{'ICBP': 'Indofood CBP Sukses Makmur Tbk.',\n",
       " 'CPIN': 'Charoen Pokphand Indonesia Tbk',\n",
       " 'INDF': 'Indofood Sukses Makmur Tbk.',\n",
       " 'MLBI': 'Multi Bintang Indonesia Tbk.',\n",
       " 'PANI': 'Pratama Abadi Nusa Industri Tbk.',\n",
       " 'AALI': 'Astra Agro Lestari Tbk.',\n",
       " 'ROTI': 'Nippon Indosari Corpindo Tbk.',\n",
       " 'LSIP': 'PP London Sumatra Indonesia Tbk.',\n",
       " 'SIMP': 'Salim Ivomas Pratama Tbk.',\n",
       " 'BISI': 'BISI International Tbk.',\n",
       " 'FISH': 'FKS Multi Agro Tbk.',\n",
       " 'MAIN': 'Malindo Feedmill Tbk.',\n",
       " 'AISA': 'FKS Food Sejahtera Tbk.',\n",
       " 'HOKI': 'Buyung Poetra Sembada Tbk'}"
      ]
     },
     "execution_count": 134,
     "metadata": {},
     "output_type": "execute_result"
    }
   ],
   "source": [
    "def get_stock_name(symbol: str):\n",
    "    return {k:v for k, v in dict.items() if 'I' in k}\n",
    "\n",
    "get_stock_name('I')"
   ]
  }
 ],
 "metadata": {
  "kernelspec": {
   "display_name": "Python 3",
   "language": "python",
   "name": "python3"
  },
  "language_info": {
   "codemirror_mode": {
    "name": "ipython",
    "version": 3
   },
   "file_extension": ".py",
   "mimetype": "text/x-python",
   "name": "python",
   "nbconvert_exporter": "python",
   "pygments_lexer": "ipython3",
   "version": "3.10.8"
  },
  "orig_nbformat": 4,
  "vscode": {
   "interpreter": {
    "hash": "aee8b7b246df8f9039afb4144a1f6fd8d2ca17a180786b69acc140d282b71a49"
   }
  }
 },
 "nbformat": 4,
 "nbformat_minor": 2
}
