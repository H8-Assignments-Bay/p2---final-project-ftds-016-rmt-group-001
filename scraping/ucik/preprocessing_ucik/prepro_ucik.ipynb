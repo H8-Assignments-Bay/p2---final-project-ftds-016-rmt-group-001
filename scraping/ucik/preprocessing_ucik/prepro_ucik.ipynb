{
 "cells": [
  {
   "cell_type": "code",
   "execution_count": 4,
   "metadata": {},
   "outputs": [],
   "source": [
    "import pandas as pd\n",
    "import json"
   ]
  },
  {
   "cell_type": "code",
   "execution_count": 5,
   "metadata": {},
   "outputs": [],
   "source": [
    "data1 = pd.read_csv('STAA_label.csv')\n",
    "data2 = pd.read_csv('STTP_label.csv')"
   ]
  },
  {
   "cell_type": "code",
   "execution_count": 6,
   "metadata": {},
   "outputs": [
    {
     "name": "stderr",
     "output_type": "stream",
     "text": [
      "/var/folders/37/zw9ym1bn7f31rcp5g2cvjr8m0000gn/T/ipykernel_1090/3431945548.py:1: FutureWarning: The frame.append method is deprecated and will be removed from pandas in a future version. Use pandas.concat instead.\n",
      "  data= data1.append(data2, ignore_index= True)\n"
     ]
    }
   ],
   "source": [
    "data= data1.append(data2, ignore_index= True)"
   ]
  },
  {
   "cell_type": "code",
   "execution_count": 7,
   "metadata": {},
   "outputs": [
    {
     "data": {
      "text/html": [
       "<div>\n",
       "<style scoped>\n",
       "    .dataframe tbody tr th:only-of-type {\n",
       "        vertical-align: middle;\n",
       "    }\n",
       "\n",
       "    .dataframe tbody tr th {\n",
       "        vertical-align: top;\n",
       "    }\n",
       "\n",
       "    .dataframe thead th {\n",
       "        text-align: right;\n",
       "    }\n",
       "</style>\n",
       "<table border=\"1\" class=\"dataframe\">\n",
       "  <thead>\n",
       "    <tr style=\"text-align: right;\">\n",
       "      <th></th>\n",
       "      <th>date</th>\n",
       "      <th>comment</th>\n",
       "      <th>symbol</th>\n",
       "      <th>label_1</th>\n",
       "      <th>label_2</th>\n",
       "    </tr>\n",
       "  </thead>\n",
       "  <tbody>\n",
       "    <tr>\n",
       "      <th>0</th>\n",
       "      <td>16 Dec 22, 13:19</td>\n",
       "      <td>$STAA selama masih ada potensi positif di haka...</td>\n",
       "      <td>STAA</td>\n",
       "      <td>2</td>\n",
       "      <td>0</td>\n",
       "    </tr>\n",
       "    <tr>\n",
       "      <th>1</th>\n",
       "      <td>16 Dec 22, 11:21</td>\n",
       "      <td>$LSIP $BWPT $SSMS $STAA B35 apa kabar $BOSS ?g...</td>\n",
       "      <td>STAA</td>\n",
       "      <td>0</td>\n",
       "      <td>1</td>\n",
       "    </tr>\n",
       "    <tr>\n",
       "      <th>2</th>\n",
       "      <td>16 Dec 22, 08:38</td>\n",
       "      <td>Harga kontrak Crude Palm Oil (CPO) di Bursa Ma...</td>\n",
       "      <td>STAA</td>\n",
       "      <td>1</td>\n",
       "      <td>0</td>\n",
       "    </tr>\n",
       "    <tr>\n",
       "      <th>3</th>\n",
       "      <td>15 Dec 22, 08:17</td>\n",
       "      <td>$STAA membuka peluang membentuk tren naik sete...</td>\n",
       "      <td>STAA</td>\n",
       "      <td>2</td>\n",
       "      <td>0</td>\n",
       "    </tr>\n",
       "    <tr>\n",
       "      <th>4</th>\n",
       "      <td>14 Dec 22, 22:53</td>\n",
       "      <td>JAKARTA, https://cutt.ly/H0xp1zp - Harga kontr...</td>\n",
       "      <td>STAA</td>\n",
       "      <td>2</td>\n",
       "      <td>0</td>\n",
       "    </tr>\n",
       "    <tr>\n",
       "      <th>...</th>\n",
       "      <td>...</td>\n",
       "      <td>...</td>\n",
       "      <td>...</td>\n",
       "      <td>...</td>\n",
       "      <td>...</td>\n",
       "    </tr>\n",
       "    <tr>\n",
       "      <th>151</th>\n",
       "      <td>7 Oct 22, 09:42</td>\n",
       "      <td>$STTP\\nini saham private atau terbuka ya?\\nper...</td>\n",
       "      <td>STTP</td>\n",
       "      <td>0</td>\n",
       "      <td>0</td>\n",
       "    </tr>\n",
       "    <tr>\n",
       "      <th>152</th>\n",
       "      <td>2 Oct 22, 09:17 · Edited on 2 Oct 22, 16:19</td>\n",
       "      <td>MY HIDDEN GEM FINALLY REVEALED part 2\\n\\nOke, ...</td>\n",
       "      <td>STTP</td>\n",
       "      <td>0</td>\n",
       "      <td>0</td>\n",
       "    </tr>\n",
       "    <tr>\n",
       "      <th>153</th>\n",
       "      <td>2 Oct 22, 08:51</td>\n",
       "      <td>Cara dapat deviden bagger\\n\\n$MYOR $AISA $ADES...</td>\n",
       "      <td>STTP</td>\n",
       "      <td>0</td>\n",
       "      <td>1</td>\n",
       "    </tr>\n",
       "    <tr>\n",
       "      <th>154</th>\n",
       "      <td>30 Sep 22, 10:29</td>\n",
       "      <td>$STTP pabrik deket rumah</td>\n",
       "      <td>STTP</td>\n",
       "      <td>0</td>\n",
       "      <td>1</td>\n",
       "    </tr>\n",
       "    <tr>\n",
       "      <th>155</th>\n",
       "      <td>30 Sep 22, 10:23</td>\n",
       "      <td>$STTP emiten radak gak niat gini tiap open mar...</td>\n",
       "      <td>STTP</td>\n",
       "      <td>1</td>\n",
       "      <td>0</td>\n",
       "    </tr>\n",
       "  </tbody>\n",
       "</table>\n",
       "<p>156 rows × 5 columns</p>\n",
       "</div>"
      ],
      "text/plain": [
       "                                            date  \\\n",
       "0                               16 Dec 22, 13:19   \n",
       "1                               16 Dec 22, 11:21   \n",
       "2                               16 Dec 22, 08:38   \n",
       "3                               15 Dec 22, 08:17   \n",
       "4                               14 Dec 22, 22:53   \n",
       "..                                           ...   \n",
       "151                              7 Oct 22, 09:42   \n",
       "152  2 Oct 22, 09:17 · Edited on 2 Oct 22, 16:19   \n",
       "153                              2 Oct 22, 08:51   \n",
       "154                             30 Sep 22, 10:29   \n",
       "155                             30 Sep 22, 10:23   \n",
       "\n",
       "                                               comment symbol  label_1  \\\n",
       "0    $STAA selama masih ada potensi positif di haka...   STAA        2   \n",
       "1    $LSIP $BWPT $SSMS $STAA B35 apa kabar $BOSS ?g...   STAA        0   \n",
       "2    Harga kontrak Crude Palm Oil (CPO) di Bursa Ma...   STAA        1   \n",
       "3    $STAA membuka peluang membentuk tren naik sete...   STAA        2   \n",
       "4    JAKARTA, https://cutt.ly/H0xp1zp - Harga kontr...   STAA        2   \n",
       "..                                                 ...    ...      ...   \n",
       "151  $STTP\\nini saham private atau terbuka ya?\\nper...   STTP        0   \n",
       "152  MY HIDDEN GEM FINALLY REVEALED part 2\\n\\nOke, ...   STTP        0   \n",
       "153  Cara dapat deviden bagger\\n\\n$MYOR $AISA $ADES...   STTP        0   \n",
       "154                           $STTP pabrik deket rumah   STTP        0   \n",
       "155  $STTP emiten radak gak niat gini tiap open mar...   STTP        1   \n",
       "\n",
       "     label_2  \n",
       "0          0  \n",
       "1          1  \n",
       "2          0  \n",
       "3          0  \n",
       "4          0  \n",
       "..       ...  \n",
       "151        0  \n",
       "152        0  \n",
       "153        1  \n",
       "154        1  \n",
       "155        0  \n",
       "\n",
       "[156 rows x 5 columns]"
      ]
     },
     "execution_count": 7,
     "metadata": {},
     "output_type": "execute_result"
    }
   ],
   "source": [
    "data"
   ]
  },
  {
   "cell_type": "code",
   "execution_count": 28,
   "metadata": {},
   "outputs": [],
   "source": [
    "with open('./stopword.txt', 'rt') as file_1:\n",
    "    stopword = [item.rstrip() for item in list(file_1)]"
   ]
  },
  {
   "cell_type": "code",
   "execution_count": 29,
   "metadata": {},
   "outputs": [
    {
     "name": "stdout",
     "output_type": "stream",
     "text": [
      "['atau', 'ada', 'adalah', 'adanya', 'agar', 'akan', 'aku', 'anda', 'antara', 'apa', 'apabila', 'apakah', 'apalagi', 'atas', 'adapun', 'agaknya', 'akan', 'akankah', 'akhirnya', 'akulah', 'amat', 'amatlah', 'andalah', 'antar', 'antaranya', 'ataukah', 'ataupun', 'bagaimana', 'bagi', 'bahkan', 'bahwa', 'baik', 'banyak', 'baru', 'beberapa', 'belum', 'berapa', 'berbagai', 'bersama', 'bila', 'bisa', 'bagai', 'bagaikan', 'bagaimanakah', 'bagaimanapun', 'bahwasanya', 'beginikah', 'beginilah', 'begitu', 'begini', 'begitukah', 'begitulah', 'begitupun', 'belumlah', 'berapakah', 'berapalah', 'berapapun', 'bermacam', 'betulkah', 'biasa', 'biasanya', 'bilakah', 'bisakah', 'bolehlah', 'bolehkah', 'buat', 'bukannya', 'bukankah', 'bukanlah', 'contohnya', 'cukup', 'cuma', 'dan', 'dapat', 'dari', 'daripada', 'demikian', 'demikianlah', 'dengan', 'di', 'dia', 'dilakukan', 'dalam', 'dahulu', 'dekat', 'demi', 'depan', 'dialah', 'diantaranya', 'diantara', 'dikarenakan', 'dini', 'diri', 'dirinya', 'dulu', 'entah', 'entahlah', 'hal', 'hanya', 'harus', 'hingga', 'hanyalah', 'haruslah', 'harusnya', 'hendak', 'hendaklah', 'hendaknya', 'ia', 'ini', 'itu', 'ialah', 'itulah', 'ibarat', 'ingin', 'inginkah', 'inginkan', 'inikah', 'inilah', 'itukah', 'jadi', 'juga', 'jika', 'jikalau', 'jangan', 'janganlah', 'jangankan', 'justru', 'kalau', 'kita', 'kali', 'kami', 'kamu', 'kapan', 'karena', 'kata', 'katanya', 'kau', 'ke', 'kembali', 'kemudian', 'kepada', 'ketika', 'kini', 'kala', 'kalaulah', 'kalaupun', 'kalian', 'kamilah', 'kamulah', 'kapankah', 'kapanpun', 'karenanya', 'kecil', 'kenapa', 'kepadanya', 'khususnya', 'kinilah', 'kiranya', 'kitalah', 'kok', 'lagi', 'lama', 'lain', 'lainnya', 'lalu', 'langsung', 'lebih', 'luar', 'lainnya', 'lamanya', 'maka', 'malah', 'mana', 'masih', 'maupun', 'melalui', 'memang', 'mengapa', 'mengatakan', 'mengenai', 'menjadi', 'menurut', 'menyatakan', 'mereka', 'merupakan', 'meski', 'meskipun', 'misalnya', 'mulai', 'macam', 'makanya', 'makin', 'malahan', 'mampu', 'mampukah', 'manakala', 'manalagi', 'masihkah', 'masing', 'mau', 'melainkan', 'merekalah', 'mungkin', 'mungkinlah', 'namun', 'nah', 'nanti', 'nantinya', 'nyaris', 'oleh', 'olehnya', 'pada', 'padahal', 'paling', 'papar', 'paparnya', 'para', 'per', 'perlu', 'pernah', 'pula', 'pun', 'padanya', 'pantas', 'pasti', 'pastilah', 'percuma', 'rupanya', 'saat', 'saja', 'salah', 'saling', 'sama', 'sampai', 'sangat', 'saya', 'seandainya', 'sebab', 'sebagai', 'sebelum', 'sebuah', 'secara', 'sedang', 'sedangkan', 'sehingga', 'sejak', 'sejumlah', 'sekarang', 'sekitar', 'selain', 'selama', 'sementara', 'semua', 'sendiri', 'seorang', 'seperti', 'serta', 'seseorang', 'sesuatu', 'setelah', 'setiap', 'suatu', 'sudah', 'saatnya', 'sajalah', 'sambil', 'sana', 'sangatlah', 'sayalah', 'sebabnya', 'sebagaimana', 'sebagainya', 'sebaliknya', 'sebanyak', 'sebegini', 'sebegitu', 'sebelumnya', 'sebenarnya', 'seberapa', 'sebetulnya', 'sebisanya', 'sedemikian', 'sedikit', 'sedikitnya', 'segala', 'segalanya', 'segera', 'seharusnya', 'sejenak', 'sekali', 'sekalian', 'sekaligus', 'sekalipun', 'seketika', 'sekiranya', 'sekitarnya', 'sela', 'selagi', 'selaku', 'selalu', 'selamanya', 'seluruhnya', 'semacam', 'semakin', 'semasih', 'semaunya', 'sempat', 'semuanya', 'semula', 'sendirinya', 'seolah', 'sepanjang', 'sepantasnya', 'sepantasnyalah', 'sepertinya', 'sering', 'seringnya', 'serupa', 'sesaat', 'sesama', 'sesegera', 'sesekali', 'seseorang', 'sesuatunya', 'sesudah', 'sesudahnya', 'setelah', 'seterusnya', 'setidaknya', 'sewaktu', 'siapa', 'siapakah', 'siapapun', 'sini', 'sinilah', 'sudahkah', 'sudahlah', 'supaya', 'tak', 'tidak', 'tandas', 'tandasnya', 'tanpa', 'tapi', 'telah', 'tempat', 'tentang', 'terhadap', 'terjadi', 'termasuk', 'ternyata', 'tersebut', 'terus', 'tetap', 'tetapi', 'tadi', 'tadinya', 'tentu', 'tentulah', 'tentunya', 'terdiri', 'terhadapnya', 'terlalu', 'terlebih', 'tersebutlah', 'tertentu', 'tiap', 'tidakkah', 'tidaklah', 'ujar', 'ujarnya', 'untuk', 'walaupun', 'yaitu', 'yakni', 'yang', 'ya', 'waduh', 'wah', 'wahai', 'walau', 'wakil', 'waktu', 'waktunya', 'wanita', 'warga', 'warta', 'wib', 'wilayah', 'rt']\n"
     ]
    }
   ],
   "source": [
    "print(stopword)"
   ]
  },
  {
   "cell_type": "code",
   "execution_count": 30,
   "metadata": {},
   "outputs": [],
   "source": [
    "new_stop = ['belum', 'ari', 'rms', 'cxz', 'broksum', 'koma', 'eps', 'an', 'vtny', 'ipo']\n",
    "for i in new_stop:\n",
    "    stopword.append(i)"
   ]
  },
  {
   "cell_type": "code",
   "execution_count": 32,
   "metadata": {},
   "outputs": [],
   "source": [
    "with open('./stopword_v2.txt', 'wt') as file_1:\n",
    "    for word in stopword: file_1.write(f'{word}\\n')\n"
   ]
  }
 ],
 "metadata": {
  "kernelspec": {
   "display_name": "Python 3",
   "language": "python",
   "name": "python3"
  },
  "language_info": {
   "codemirror_mode": {
    "name": "ipython",
    "version": 3
   },
   "file_extension": ".py",
   "mimetype": "text/x-python",
   "name": "python",
   "nbconvert_exporter": "python",
   "pygments_lexer": "ipython3",
   "version": "3.9.6"
  },
  "orig_nbformat": 4,
  "vscode": {
   "interpreter": {
    "hash": "31f2aee4e71d21fbe5cf8b01ff0e069b9275f58929596ceb00d14d90e3e16cd6"
   }
  }
 },
 "nbformat": 4,
 "nbformat_minor": 2
}
